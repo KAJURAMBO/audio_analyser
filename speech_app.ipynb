{
 "cells": [
  {
   "cell_type": "code",
   "execution_count": 7,
   "id": "8e984051-9bdf-4bfe-8014-5182ca98019d",
   "metadata": {
    "tags": []
   },
   "outputs": [
    {
     "data": {
      "application/javascript": [
       "(function(root) {\n",
       "  function now() {\n",
       "    return new Date();\n",
       "  }\n",
       "\n",
       "  var force = true;\n",
       "\n",
       "  if (typeof root._bokeh_onload_callbacks === \"undefined\" || force === true) {\n",
       "    root._bokeh_onload_callbacks = [];\n",
       "    root._bokeh_is_loading = undefined;\n",
       "  }\n",
       "\n",
       "  if (typeof (root._bokeh_timeout) === \"undefined\" || force === true) {\n",
       "    root._bokeh_timeout = Date.now() + 5000;\n",
       "    root._bokeh_failed_load = false;\n",
       "  }\n",
       "\n",
       "  function run_callbacks() {\n",
       "    try {\n",
       "      root._bokeh_onload_callbacks.forEach(function(callback) {\n",
       "        if (callback != null)\n",
       "          callback();\n",
       "      });\n",
       "    } finally {\n",
       "      delete root._bokeh_onload_callbacks\n",
       "    }\n",
       "    console.debug(\"Bokeh: all callbacks have finished\");\n",
       "  }\n",
       "\n",
       "  function load_libs(css_urls, js_urls, js_modules, callback) {\n",
       "    if (css_urls == null) css_urls = [];\n",
       "    if (js_urls == null) js_urls = [];\n",
       "    if (js_modules == null) js_modules = [];\n",
       "\n",
       "    root._bokeh_onload_callbacks.push(callback);\n",
       "    if (root._bokeh_is_loading > 0) {\n",
       "      console.debug(\"Bokeh: BokehJS is being loaded, scheduling callback at\", now());\n",
       "      return null;\n",
       "    }\n",
       "    if (js_urls.length === 0 && js_modules.length === 0) {\n",
       "      run_callbacks();\n",
       "      return null;\n",
       "    }\n",
       "    console.debug(\"Bokeh: BokehJS not loaded, scheduling load and callback at\", now());\n",
       "\n",
       "    function on_load() {\n",
       "      root._bokeh_is_loading--;\n",
       "      if (root._bokeh_is_loading === 0) {\n",
       "        console.debug(\"Bokeh: all BokehJS libraries/stylesheets loaded\");\n",
       "        run_callbacks()\n",
       "      }\n",
       "    }\n",
       "\n",
       "    function on_error() {\n",
       "      console.error(\"failed to load \" + url);\n",
       "    }\n",
       "\n",
       "    for (var i = 0; i < css_urls.length; i++) {\n",
       "      var url = css_urls[i];\n",
       "      const element = document.createElement(\"link\");\n",
       "      element.onload = on_load;\n",
       "      element.onerror = on_error;\n",
       "      element.rel = \"stylesheet\";\n",
       "      element.type = \"text/css\";\n",
       "      element.href = url;\n",
       "      console.debug(\"Bokeh: injecting link tag for BokehJS stylesheet: \", url);\n",
       "      document.body.appendChild(element);\n",
       "    }\n",
       "\n",
       "    var skip = [];\n",
       "    if (window.requirejs) {\n",
       "      window.requirejs.config({'packages': {}, 'paths': {'gridstack': 'https://cdn.jsdelivr.net/npm/gridstack@4.2.5/dist/gridstack-h5', 'notyf': 'https://cdn.jsdelivr.net/npm/notyf@3/notyf.min'}, 'shim': {'gridstack': {'exports': 'GridStack'}}});\n",
       "      require([\"gridstack\"], function(GridStack) {\n",
       "\twindow.GridStack = GridStack\n",
       "\ton_load()\n",
       "      })\n",
       "      require([\"notyf\"], function() {\n",
       "\ton_load()\n",
       "      })\n",
       "      root._bokeh_is_loading = css_urls.length + 2;\n",
       "    } else {\n",
       "      root._bokeh_is_loading = css_urls.length + js_urls.length + js_modules.length;\n",
       "    }    if (((window['GridStack'] !== undefined) && (!(window['GridStack'] instanceof HTMLElement))) || window.requirejs) {\n",
       "      var urls = ['https://cdn.jsdelivr.net/npm/gridstack@4.2.5/dist/gridstack-h5.js'];\n",
       "      for (var i = 0; i < urls.length; i++) {\n",
       "        skip.push(urls[i])\n",
       "      }\n",
       "    }    if (((window['Notyf'] !== undefined) && (!(window['Notyf'] instanceof HTMLElement))) || window.requirejs) {\n",
       "      var urls = ['https://cdn.jsdelivr.net/npm/notyf@3/notyf.min.js'];\n",
       "      for (var i = 0; i < urls.length; i++) {\n",
       "        skip.push(urls[i])\n",
       "      }\n",
       "    }    for (var i = 0; i < js_urls.length; i++) {\n",
       "      var url = js_urls[i];\n",
       "      if (skip.indexOf(url) >= 0) {\n",
       "\tif (!window.requirejs) {\n",
       "\t  on_load();\n",
       "\t}\n",
       "\tcontinue;\n",
       "      }\n",
       "      var element = document.createElement('script');\n",
       "      element.onload = on_load;\n",
       "      element.onerror = on_error;\n",
       "      element.async = false;\n",
       "      element.src = url;\n",
       "      console.debug(\"Bokeh: injecting script tag for BokehJS library: \", url);\n",
       "      document.head.appendChild(element);\n",
       "    }\n",
       "    for (var i = 0; i < js_modules.length; i++) {\n",
       "      var url = js_modules[i];\n",
       "      if (skip.indexOf(url) >= 0) {\n",
       "\tif (!window.requirejs) {\n",
       "\t  on_load();\n",
       "\t}\n",
       "\tcontinue;\n",
       "      }\n",
       "      var element = document.createElement('script');\n",
       "      element.onload = on_load;\n",
       "      element.onerror = on_error;\n",
       "      element.async = false;\n",
       "      element.src = url;\n",
       "      element.type = \"module\";\n",
       "      console.debug(\"Bokeh: injecting script tag for BokehJS library: \", url);\n",
       "      document.head.appendChild(element);\n",
       "    }\n",
       "    if (!js_urls.length && !js_modules.length) {\n",
       "      on_load()\n",
       "    }\n",
       "  };\n",
       "\n",
       "  function inject_raw_css(css) {\n",
       "    const element = document.createElement(\"style\");\n",
       "    element.appendChild(document.createTextNode(css));\n",
       "    document.body.appendChild(element);\n",
       "  }\n",
       "\n",
       "  var js_urls = [\"https://cdn.bokeh.org/bokeh/release/bokeh-2.4.3.min.js\", \"https://cdn.bokeh.org/bokeh/release/bokeh-gl-2.4.3.min.js\", \"https://cdn.bokeh.org/bokeh/release/bokeh-widgets-2.4.3.min.js\", \"https://cdn.bokeh.org/bokeh/release/bokeh-tables-2.4.3.min.js\", \"https://cdn.bokeh.org/bokeh/release/bokeh-mathjax-2.4.3.min.js\", \"https://cdn.jsdelivr.net/npm/notyf@3/notyf.min.js\", \"https://unpkg.com/@holoviz/panel@0.13.1/dist/panel.min.js\"];\n",
       "  var js_modules = [];\n",
       "  var css_urls = [\"https://cdn.jsdelivr.net/npm/notyf@3/notyf.min.css\", \"https://cdnjs.cloudflare.com/ajax/libs/font-awesome/5.15.1/css/all.min.css\", \"https://unpkg.com/@holoviz/panel@0.13.1/dist/css/debugger.css\", \"https://unpkg.com/@holoviz/panel@0.13.1/dist/css/alerts.css\", \"https://unpkg.com/@holoviz/panel@0.13.1/dist/css/card.css\", \"https://unpkg.com/@holoviz/panel@0.13.1/dist/css/widgets.css\", \"https://unpkg.com/@holoviz/panel@0.13.1/dist/css/markdown.css\", \"https://unpkg.com/@holoviz/panel@0.13.1/dist/css/json.css\", \"https://unpkg.com/@holoviz/panel@0.13.1/dist/css/loading.css\", \"https://unpkg.com/@holoviz/panel@0.13.1/dist/css/dataframe.css\"];\n",
       "  var inline_js = [    function(Bokeh) {\n",
       "      inject_raw_css(\"\\n    .bk.pn-loading.arcs:before {\\n      background-image: url(\\\"data:image/svg+xml;base64,PHN2ZyB4bWxucz0iaHR0cDovL3d3dy53My5vcmcvMjAwMC9zdmciIHhtbG5zOnhsaW5rPSJodHRwOi8vd3d3LnczLm9yZy8xOTk5L3hsaW5rIiBzdHlsZT0ibWFyZ2luOiBhdXRvOyBiYWNrZ3JvdW5kOiBub25lOyBkaXNwbGF5OiBibG9jazsgc2hhcGUtcmVuZGVyaW5nOiBhdXRvOyIgdmlld0JveD0iMCAwIDEwMCAxMDAiIHByZXNlcnZlQXNwZWN0UmF0aW89InhNaWRZTWlkIj4gIDxjaXJjbGUgY3g9IjUwIiBjeT0iNTAiIHI9IjMyIiBzdHJva2Utd2lkdGg9IjgiIHN0cm9rZT0iI2MzYzNjMyIgc3Ryb2tlLWRhc2hhcnJheT0iNTAuMjY1NDgyNDU3NDM2NjkgNTAuMjY1NDgyNDU3NDM2NjkiIGZpbGw9Im5vbmUiIHN0cm9rZS1saW5lY2FwPSJyb3VuZCI+ICAgIDxhbmltYXRlVHJhbnNmb3JtIGF0dHJpYnV0ZU5hbWU9InRyYW5zZm9ybSIgdHlwZT0icm90YXRlIiByZXBlYXRDb3VudD0iaW5kZWZpbml0ZSIgZHVyPSIxcyIga2V5VGltZXM9IjA7MSIgdmFsdWVzPSIwIDUwIDUwOzM2MCA1MCA1MCI+PC9hbmltYXRlVHJhbnNmb3JtPiAgPC9jaXJjbGU+PC9zdmc+\\\");\\n      background-size: auto calc(min(50%, 400px));\\n    }\\n    \");\n",
       "    },    function(Bokeh) {\n",
       "      Bokeh.set_log_level(\"info\");\n",
       "    },\n",
       "function(Bokeh) {} // ensure no trailing comma for IE\n",
       "  ];\n",
       "\n",
       "  function run_inline_js() {\n",
       "    if ((root.Bokeh !== undefined) || (force === true)) {\n",
       "      for (var i = 0; i < inline_js.length; i++) {\n",
       "        inline_js[i].call(root, root.Bokeh);\n",
       "      }} else if (Date.now() < root._bokeh_timeout) {\n",
       "      setTimeout(run_inline_js, 100);\n",
       "    } else if (!root._bokeh_failed_load) {\n",
       "      console.log(\"Bokeh: BokehJS failed to load within specified timeout.\");\n",
       "      root._bokeh_failed_load = true;\n",
       "    }\n",
       "  }\n",
       "\n",
       "  if (root._bokeh_is_loading === 0) {\n",
       "    console.debug(\"Bokeh: BokehJS loaded, going straight to plotting\");\n",
       "    run_inline_js();\n",
       "  } else {\n",
       "    load_libs(css_urls, js_urls, js_modules, function() {\n",
       "      console.debug(\"Bokeh: BokehJS plotting callback run at\", now());\n",
       "      run_inline_js();\n",
       "    });\n",
       "  }\n",
       "}(window));"
      ],
      "application/vnd.holoviews_load.v0+json": "(function(root) {\n  function now() {\n    return new Date();\n  }\n\n  var force = true;\n\n  if (typeof root._bokeh_onload_callbacks === \"undefined\" || force === true) {\n    root._bokeh_onload_callbacks = [];\n    root._bokeh_is_loading = undefined;\n  }\n\n  if (typeof (root._bokeh_timeout) === \"undefined\" || force === true) {\n    root._bokeh_timeout = Date.now() + 5000;\n    root._bokeh_failed_load = false;\n  }\n\n  function run_callbacks() {\n    try {\n      root._bokeh_onload_callbacks.forEach(function(callback) {\n        if (callback != null)\n          callback();\n      });\n    } finally {\n      delete root._bokeh_onload_callbacks\n    }\n    console.debug(\"Bokeh: all callbacks have finished\");\n  }\n\n  function load_libs(css_urls, js_urls, js_modules, callback) {\n    if (css_urls == null) css_urls = [];\n    if (js_urls == null) js_urls = [];\n    if (js_modules == null) js_modules = [];\n\n    root._bokeh_onload_callbacks.push(callback);\n    if (root._bokeh_is_loading > 0) {\n      console.debug(\"Bokeh: BokehJS is being loaded, scheduling callback at\", now());\n      return null;\n    }\n    if (js_urls.length === 0 && js_modules.length === 0) {\n      run_callbacks();\n      return null;\n    }\n    console.debug(\"Bokeh: BokehJS not loaded, scheduling load and callback at\", now());\n\n    function on_load() {\n      root._bokeh_is_loading--;\n      if (root._bokeh_is_loading === 0) {\n        console.debug(\"Bokeh: all BokehJS libraries/stylesheets loaded\");\n        run_callbacks()\n      }\n    }\n\n    function on_error() {\n      console.error(\"failed to load \" + url);\n    }\n\n    for (var i = 0; i < css_urls.length; i++) {\n      var url = css_urls[i];\n      const element = document.createElement(\"link\");\n      element.onload = on_load;\n      element.onerror = on_error;\n      element.rel = \"stylesheet\";\n      element.type = \"text/css\";\n      element.href = url;\n      console.debug(\"Bokeh: injecting link tag for BokehJS stylesheet: \", url);\n      document.body.appendChild(element);\n    }\n\n    var skip = [];\n    if (window.requirejs) {\n      window.requirejs.config({'packages': {}, 'paths': {'gridstack': 'https://cdn.jsdelivr.net/npm/gridstack@4.2.5/dist/gridstack-h5', 'notyf': 'https://cdn.jsdelivr.net/npm/notyf@3/notyf.min'}, 'shim': {'gridstack': {'exports': 'GridStack'}}});\n      require([\"gridstack\"], function(GridStack) {\n\twindow.GridStack = GridStack\n\ton_load()\n      })\n      require([\"notyf\"], function() {\n\ton_load()\n      })\n      root._bokeh_is_loading = css_urls.length + 2;\n    } else {\n      root._bokeh_is_loading = css_urls.length + js_urls.length + js_modules.length;\n    }    if (((window['GridStack'] !== undefined) && (!(window['GridStack'] instanceof HTMLElement))) || window.requirejs) {\n      var urls = ['https://cdn.jsdelivr.net/npm/gridstack@4.2.5/dist/gridstack-h5.js'];\n      for (var i = 0; i < urls.length; i++) {\n        skip.push(urls[i])\n      }\n    }    if (((window['Notyf'] !== undefined) && (!(window['Notyf'] instanceof HTMLElement))) || window.requirejs) {\n      var urls = ['https://cdn.jsdelivr.net/npm/notyf@3/notyf.min.js'];\n      for (var i = 0; i < urls.length; i++) {\n        skip.push(urls[i])\n      }\n    }    for (var i = 0; i < js_urls.length; i++) {\n      var url = js_urls[i];\n      if (skip.indexOf(url) >= 0) {\n\tif (!window.requirejs) {\n\t  on_load();\n\t}\n\tcontinue;\n      }\n      var element = document.createElement('script');\n      element.onload = on_load;\n      element.onerror = on_error;\n      element.async = false;\n      element.src = url;\n      console.debug(\"Bokeh: injecting script tag for BokehJS library: \", url);\n      document.head.appendChild(element);\n    }\n    for (var i = 0; i < js_modules.length; i++) {\n      var url = js_modules[i];\n      if (skip.indexOf(url) >= 0) {\n\tif (!window.requirejs) {\n\t  on_load();\n\t}\n\tcontinue;\n      }\n      var element = document.createElement('script');\n      element.onload = on_load;\n      element.onerror = on_error;\n      element.async = false;\n      element.src = url;\n      element.type = \"module\";\n      console.debug(\"Bokeh: injecting script tag for BokehJS library: \", url);\n      document.head.appendChild(element);\n    }\n    if (!js_urls.length && !js_modules.length) {\n      on_load()\n    }\n  };\n\n  function inject_raw_css(css) {\n    const element = document.createElement(\"style\");\n    element.appendChild(document.createTextNode(css));\n    document.body.appendChild(element);\n  }\n\n  var js_urls = [\"https://cdn.bokeh.org/bokeh/release/bokeh-2.4.3.min.js\", \"https://cdn.bokeh.org/bokeh/release/bokeh-gl-2.4.3.min.js\", \"https://cdn.bokeh.org/bokeh/release/bokeh-widgets-2.4.3.min.js\", \"https://cdn.bokeh.org/bokeh/release/bokeh-tables-2.4.3.min.js\", \"https://cdn.bokeh.org/bokeh/release/bokeh-mathjax-2.4.3.min.js\", \"https://cdn.jsdelivr.net/npm/notyf@3/notyf.min.js\", \"https://unpkg.com/@holoviz/panel@0.13.1/dist/panel.min.js\"];\n  var js_modules = [];\n  var css_urls = [\"https://cdn.jsdelivr.net/npm/notyf@3/notyf.min.css\", \"https://cdnjs.cloudflare.com/ajax/libs/font-awesome/5.15.1/css/all.min.css\", \"https://unpkg.com/@holoviz/panel@0.13.1/dist/css/debugger.css\", \"https://unpkg.com/@holoviz/panel@0.13.1/dist/css/alerts.css\", \"https://unpkg.com/@holoviz/panel@0.13.1/dist/css/card.css\", \"https://unpkg.com/@holoviz/panel@0.13.1/dist/css/widgets.css\", \"https://unpkg.com/@holoviz/panel@0.13.1/dist/css/markdown.css\", \"https://unpkg.com/@holoviz/panel@0.13.1/dist/css/json.css\", \"https://unpkg.com/@holoviz/panel@0.13.1/dist/css/loading.css\", \"https://unpkg.com/@holoviz/panel@0.13.1/dist/css/dataframe.css\"];\n  var inline_js = [    function(Bokeh) {\n      inject_raw_css(\"\\n    .bk.pn-loading.arcs:before {\\n      background-image: url(\\\"data:image/svg+xml;base64,PHN2ZyB4bWxucz0iaHR0cDovL3d3dy53My5vcmcvMjAwMC9zdmciIHhtbG5zOnhsaW5rPSJodHRwOi8vd3d3LnczLm9yZy8xOTk5L3hsaW5rIiBzdHlsZT0ibWFyZ2luOiBhdXRvOyBiYWNrZ3JvdW5kOiBub25lOyBkaXNwbGF5OiBibG9jazsgc2hhcGUtcmVuZGVyaW5nOiBhdXRvOyIgdmlld0JveD0iMCAwIDEwMCAxMDAiIHByZXNlcnZlQXNwZWN0UmF0aW89InhNaWRZTWlkIj4gIDxjaXJjbGUgY3g9IjUwIiBjeT0iNTAiIHI9IjMyIiBzdHJva2Utd2lkdGg9IjgiIHN0cm9rZT0iI2MzYzNjMyIgc3Ryb2tlLWRhc2hhcnJheT0iNTAuMjY1NDgyNDU3NDM2NjkgNTAuMjY1NDgyNDU3NDM2NjkiIGZpbGw9Im5vbmUiIHN0cm9rZS1saW5lY2FwPSJyb3VuZCI+ICAgIDxhbmltYXRlVHJhbnNmb3JtIGF0dHJpYnV0ZU5hbWU9InRyYW5zZm9ybSIgdHlwZT0icm90YXRlIiByZXBlYXRDb3VudD0iaW5kZWZpbml0ZSIgZHVyPSIxcyIga2V5VGltZXM9IjA7MSIgdmFsdWVzPSIwIDUwIDUwOzM2MCA1MCA1MCI+PC9hbmltYXRlVHJhbnNmb3JtPiAgPC9jaXJjbGU+PC9zdmc+\\\");\\n      background-size: auto calc(min(50%, 400px));\\n    }\\n    \");\n    },    function(Bokeh) {\n      Bokeh.set_log_level(\"info\");\n    },\nfunction(Bokeh) {} // ensure no trailing comma for IE\n  ];\n\n  function run_inline_js() {\n    if ((root.Bokeh !== undefined) || (force === true)) {\n      for (var i = 0; i < inline_js.length; i++) {\n        inline_js[i].call(root, root.Bokeh);\n      }} else if (Date.now() < root._bokeh_timeout) {\n      setTimeout(run_inline_js, 100);\n    } else if (!root._bokeh_failed_load) {\n      console.log(\"Bokeh: BokehJS failed to load within specified timeout.\");\n      root._bokeh_failed_load = true;\n    }\n  }\n\n  if (root._bokeh_is_loading === 0) {\n    console.debug(\"Bokeh: BokehJS loaded, going straight to plotting\");\n    run_inline_js();\n  } else {\n    load_libs(css_urls, js_urls, js_modules, function() {\n      console.debug(\"Bokeh: BokehJS plotting callback run at\", now());\n      run_inline_js();\n    });\n  }\n}(window));"
     },
     "metadata": {},
     "output_type": "display_data"
    },
    {
     "data": {
      "application/javascript": [
       "\n",
       "if ((window.PyViz === undefined) || (window.PyViz instanceof HTMLElement)) {\n",
       "  window.PyViz = {comms: {}, comm_status:{}, kernels:{}, receivers: {}, plot_index: []}\n",
       "}\n",
       "\n",
       "\n",
       "    function JupyterCommManager() {\n",
       "    }\n",
       "\n",
       "    JupyterCommManager.prototype.register_target = function(plot_id, comm_id, msg_handler) {\n",
       "      if (window.comm_manager || ((window.Jupyter !== undefined) && (Jupyter.notebook.kernel != null))) {\n",
       "        var comm_manager = window.comm_manager || Jupyter.notebook.kernel.comm_manager;\n",
       "        comm_manager.register_target(comm_id, function(comm) {\n",
       "          comm.on_msg(msg_handler);\n",
       "        });\n",
       "      } else if ((plot_id in window.PyViz.kernels) && (window.PyViz.kernels[plot_id])) {\n",
       "        window.PyViz.kernels[plot_id].registerCommTarget(comm_id, function(comm) {\n",
       "          comm.onMsg = msg_handler;\n",
       "        });\n",
       "      } else if (typeof google != 'undefined' && google.colab.kernel != null) {\n",
       "        google.colab.kernel.comms.registerTarget(comm_id, (comm) => {\n",
       "          var messages = comm.messages[Symbol.asyncIterator]();\n",
       "          function processIteratorResult(result) {\n",
       "            var message = result.value;\n",
       "            console.log(message)\n",
       "            var content = {data: message.data, comm_id};\n",
       "            var buffers = []\n",
       "            for (var buffer of message.buffers || []) {\n",
       "              buffers.push(new DataView(buffer))\n",
       "            }\n",
       "            var metadata = message.metadata || {};\n",
       "            var msg = {content, buffers, metadata}\n",
       "            msg_handler(msg);\n",
       "            return messages.next().then(processIteratorResult);\n",
       "          }\n",
       "          return messages.next().then(processIteratorResult);\n",
       "        })\n",
       "      }\n",
       "    }\n",
       "\n",
       "    JupyterCommManager.prototype.get_client_comm = function(plot_id, comm_id, msg_handler) {\n",
       "      if (comm_id in window.PyViz.comms) {\n",
       "        return window.PyViz.comms[comm_id];\n",
       "      } else if (window.comm_manager || ((window.Jupyter !== undefined) && (Jupyter.notebook.kernel != null))) {\n",
       "        var comm_manager = window.comm_manager || Jupyter.notebook.kernel.comm_manager;\n",
       "        var comm = comm_manager.new_comm(comm_id, {}, {}, {}, comm_id);\n",
       "        if (msg_handler) {\n",
       "          comm.on_msg(msg_handler);\n",
       "        }\n",
       "      } else if ((plot_id in window.PyViz.kernels) && (window.PyViz.kernels[plot_id])) {\n",
       "        var comm = window.PyViz.kernels[plot_id].connectToComm(comm_id);\n",
       "        comm.open();\n",
       "        if (msg_handler) {\n",
       "          comm.onMsg = msg_handler;\n",
       "        }\n",
       "      } else if (typeof google != 'undefined' && google.colab.kernel != null) {\n",
       "        var comm_promise = google.colab.kernel.comms.open(comm_id)\n",
       "        comm_promise.then((comm) => {\n",
       "          window.PyViz.comms[comm_id] = comm;\n",
       "          if (msg_handler) {\n",
       "            var messages = comm.messages[Symbol.asyncIterator]();\n",
       "            function processIteratorResult(result) {\n",
       "              var message = result.value;\n",
       "              var content = {data: message.data};\n",
       "              var metadata = message.metadata || {comm_id};\n",
       "              var msg = {content, metadata}\n",
       "              msg_handler(msg);\n",
       "              return messages.next().then(processIteratorResult);\n",
       "            }\n",
       "            return messages.next().then(processIteratorResult);\n",
       "          }\n",
       "        }) \n",
       "        var sendClosure = (data, metadata, buffers, disposeOnDone) => {\n",
       "          return comm_promise.then((comm) => {\n",
       "            comm.send(data, metadata, buffers, disposeOnDone);\n",
       "          });\n",
       "        };\n",
       "        var comm = {\n",
       "          send: sendClosure\n",
       "        };\n",
       "      }\n",
       "      window.PyViz.comms[comm_id] = comm;\n",
       "      return comm;\n",
       "    }\n",
       "    window.PyViz.comm_manager = new JupyterCommManager();\n",
       "    \n",
       "\n",
       "\n",
       "var JS_MIME_TYPE = 'application/javascript';\n",
       "var HTML_MIME_TYPE = 'text/html';\n",
       "var EXEC_MIME_TYPE = 'application/vnd.holoviews_exec.v0+json';\n",
       "var CLASS_NAME = 'output';\n",
       "\n",
       "/**\n",
       " * Render data to the DOM node\n",
       " */\n",
       "function render(props, node) {\n",
       "  var div = document.createElement(\"div\");\n",
       "  var script = document.createElement(\"script\");\n",
       "  node.appendChild(div);\n",
       "  node.appendChild(script);\n",
       "}\n",
       "\n",
       "/**\n",
       " * Handle when a new output is added\n",
       " */\n",
       "function handle_add_output(event, handle) {\n",
       "  var output_area = handle.output_area;\n",
       "  var output = handle.output;\n",
       "  if ((output.data == undefined) || (!output.data.hasOwnProperty(EXEC_MIME_TYPE))) {\n",
       "    return\n",
       "  }\n",
       "  var id = output.metadata[EXEC_MIME_TYPE][\"id\"];\n",
       "  var toinsert = output_area.element.find(\".\" + CLASS_NAME.split(' ')[0]);\n",
       "  if (id !== undefined) {\n",
       "    var nchildren = toinsert.length;\n",
       "    var html_node = toinsert[nchildren-1].children[0];\n",
       "    html_node.innerHTML = output.data[HTML_MIME_TYPE];\n",
       "    var scripts = [];\n",
       "    var nodelist = html_node.querySelectorAll(\"script\");\n",
       "    for (var i in nodelist) {\n",
       "      if (nodelist.hasOwnProperty(i)) {\n",
       "        scripts.push(nodelist[i])\n",
       "      }\n",
       "    }\n",
       "\n",
       "    scripts.forEach( function (oldScript) {\n",
       "      var newScript = document.createElement(\"script\");\n",
       "      var attrs = [];\n",
       "      var nodemap = oldScript.attributes;\n",
       "      for (var j in nodemap) {\n",
       "        if (nodemap.hasOwnProperty(j)) {\n",
       "          attrs.push(nodemap[j])\n",
       "        }\n",
       "      }\n",
       "      attrs.forEach(function(attr) { newScript.setAttribute(attr.name, attr.value) });\n",
       "      newScript.appendChild(document.createTextNode(oldScript.innerHTML));\n",
       "      oldScript.parentNode.replaceChild(newScript, oldScript);\n",
       "    });\n",
       "    if (JS_MIME_TYPE in output.data) {\n",
       "      toinsert[nchildren-1].children[1].textContent = output.data[JS_MIME_TYPE];\n",
       "    }\n",
       "    output_area._hv_plot_id = id;\n",
       "    if ((window.Bokeh !== undefined) && (id in Bokeh.index)) {\n",
       "      window.PyViz.plot_index[id] = Bokeh.index[id];\n",
       "    } else {\n",
       "      window.PyViz.plot_index[id] = null;\n",
       "    }\n",
       "  } else if (output.metadata[EXEC_MIME_TYPE][\"server_id\"] !== undefined) {\n",
       "    var bk_div = document.createElement(\"div\");\n",
       "    bk_div.innerHTML = output.data[HTML_MIME_TYPE];\n",
       "    var script_attrs = bk_div.children[0].attributes;\n",
       "    for (var i = 0; i < script_attrs.length; i++) {\n",
       "      toinsert[toinsert.length - 1].childNodes[1].setAttribute(script_attrs[i].name, script_attrs[i].value);\n",
       "    }\n",
       "    // store reference to server id on output_area\n",
       "    output_area._bokeh_server_id = output.metadata[EXEC_MIME_TYPE][\"server_id\"];\n",
       "  }\n",
       "}\n",
       "\n",
       "/**\n",
       " * Handle when an output is cleared or removed\n",
       " */\n",
       "function handle_clear_output(event, handle) {\n",
       "  var id = handle.cell.output_area._hv_plot_id;\n",
       "  var server_id = handle.cell.output_area._bokeh_server_id;\n",
       "  if (((id === undefined) || !(id in PyViz.plot_index)) && (server_id !== undefined)) { return; }\n",
       "  var comm = window.PyViz.comm_manager.get_client_comm(\"hv-extension-comm\", \"hv-extension-comm\", function () {});\n",
       "  if (server_id !== null) {\n",
       "    comm.send({event_type: 'server_delete', 'id': server_id});\n",
       "    return;\n",
       "  } else if (comm !== null) {\n",
       "    comm.send({event_type: 'delete', 'id': id});\n",
       "  }\n",
       "  delete PyViz.plot_index[id];\n",
       "  if ((window.Bokeh !== undefined) & (id in window.Bokeh.index)) {\n",
       "    var doc = window.Bokeh.index[id].model.document\n",
       "    doc.clear();\n",
       "    const i = window.Bokeh.documents.indexOf(doc);\n",
       "    if (i > -1) {\n",
       "      window.Bokeh.documents.splice(i, 1);\n",
       "    }\n",
       "  }\n",
       "}\n",
       "\n",
       "/**\n",
       " * Handle kernel restart event\n",
       " */\n",
       "function handle_kernel_cleanup(event, handle) {\n",
       "  delete PyViz.comms[\"hv-extension-comm\"];\n",
       "  window.PyViz.plot_index = {}\n",
       "}\n",
       "\n",
       "/**\n",
       " * Handle update_display_data messages\n",
       " */\n",
       "function handle_update_output(event, handle) {\n",
       "  handle_clear_output(event, {cell: {output_area: handle.output_area}})\n",
       "  handle_add_output(event, handle)\n",
       "}\n",
       "\n",
       "function register_renderer(events, OutputArea) {\n",
       "  function append_mime(data, metadata, element) {\n",
       "    // create a DOM node to render to\n",
       "    var toinsert = this.create_output_subarea(\n",
       "    metadata,\n",
       "    CLASS_NAME,\n",
       "    EXEC_MIME_TYPE\n",
       "    );\n",
       "    this.keyboard_manager.register_events(toinsert);\n",
       "    // Render to node\n",
       "    var props = {data: data, metadata: metadata[EXEC_MIME_TYPE]};\n",
       "    render(props, toinsert[0]);\n",
       "    element.append(toinsert);\n",
       "    return toinsert\n",
       "  }\n",
       "\n",
       "  events.on('output_added.OutputArea', handle_add_output);\n",
       "  events.on('output_updated.OutputArea', handle_update_output);\n",
       "  events.on('clear_output.CodeCell', handle_clear_output);\n",
       "  events.on('delete.Cell', handle_clear_output);\n",
       "  events.on('kernel_ready.Kernel', handle_kernel_cleanup);\n",
       "\n",
       "  OutputArea.prototype.register_mime_type(EXEC_MIME_TYPE, append_mime, {\n",
       "    safe: true,\n",
       "    index: 0\n",
       "  });\n",
       "}\n",
       "\n",
       "if (window.Jupyter !== undefined) {\n",
       "  try {\n",
       "    var events = require('base/js/events');\n",
       "    var OutputArea = require('notebook/js/outputarea').OutputArea;\n",
       "    if (OutputArea.prototype.mime_types().indexOf(EXEC_MIME_TYPE) == -1) {\n",
       "      register_renderer(events, OutputArea);\n",
       "    }\n",
       "  } catch(err) {\n",
       "  }\n",
       "}\n"
      ],
      "application/vnd.holoviews_load.v0+json": "\nif ((window.PyViz === undefined) || (window.PyViz instanceof HTMLElement)) {\n  window.PyViz = {comms: {}, comm_status:{}, kernels:{}, receivers: {}, plot_index: []}\n}\n\n\n    function JupyterCommManager() {\n    }\n\n    JupyterCommManager.prototype.register_target = function(plot_id, comm_id, msg_handler) {\n      if (window.comm_manager || ((window.Jupyter !== undefined) && (Jupyter.notebook.kernel != null))) {\n        var comm_manager = window.comm_manager || Jupyter.notebook.kernel.comm_manager;\n        comm_manager.register_target(comm_id, function(comm) {\n          comm.on_msg(msg_handler);\n        });\n      } else if ((plot_id in window.PyViz.kernels) && (window.PyViz.kernels[plot_id])) {\n        window.PyViz.kernels[plot_id].registerCommTarget(comm_id, function(comm) {\n          comm.onMsg = msg_handler;\n        });\n      } else if (typeof google != 'undefined' && google.colab.kernel != null) {\n        google.colab.kernel.comms.registerTarget(comm_id, (comm) => {\n          var messages = comm.messages[Symbol.asyncIterator]();\n          function processIteratorResult(result) {\n            var message = result.value;\n            console.log(message)\n            var content = {data: message.data, comm_id};\n            var buffers = []\n            for (var buffer of message.buffers || []) {\n              buffers.push(new DataView(buffer))\n            }\n            var metadata = message.metadata || {};\n            var msg = {content, buffers, metadata}\n            msg_handler(msg);\n            return messages.next().then(processIteratorResult);\n          }\n          return messages.next().then(processIteratorResult);\n        })\n      }\n    }\n\n    JupyterCommManager.prototype.get_client_comm = function(plot_id, comm_id, msg_handler) {\n      if (comm_id in window.PyViz.comms) {\n        return window.PyViz.comms[comm_id];\n      } else if (window.comm_manager || ((window.Jupyter !== undefined) && (Jupyter.notebook.kernel != null))) {\n        var comm_manager = window.comm_manager || Jupyter.notebook.kernel.comm_manager;\n        var comm = comm_manager.new_comm(comm_id, {}, {}, {}, comm_id);\n        if (msg_handler) {\n          comm.on_msg(msg_handler);\n        }\n      } else if ((plot_id in window.PyViz.kernels) && (window.PyViz.kernels[plot_id])) {\n        var comm = window.PyViz.kernels[plot_id].connectToComm(comm_id);\n        comm.open();\n        if (msg_handler) {\n          comm.onMsg = msg_handler;\n        }\n      } else if (typeof google != 'undefined' && google.colab.kernel != null) {\n        var comm_promise = google.colab.kernel.comms.open(comm_id)\n        comm_promise.then((comm) => {\n          window.PyViz.comms[comm_id] = comm;\n          if (msg_handler) {\n            var messages = comm.messages[Symbol.asyncIterator]();\n            function processIteratorResult(result) {\n              var message = result.value;\n              var content = {data: message.data};\n              var metadata = message.metadata || {comm_id};\n              var msg = {content, metadata}\n              msg_handler(msg);\n              return messages.next().then(processIteratorResult);\n            }\n            return messages.next().then(processIteratorResult);\n          }\n        }) \n        var sendClosure = (data, metadata, buffers, disposeOnDone) => {\n          return comm_promise.then((comm) => {\n            comm.send(data, metadata, buffers, disposeOnDone);\n          });\n        };\n        var comm = {\n          send: sendClosure\n        };\n      }\n      window.PyViz.comms[comm_id] = comm;\n      return comm;\n    }\n    window.PyViz.comm_manager = new JupyterCommManager();\n    \n\n\nvar JS_MIME_TYPE = 'application/javascript';\nvar HTML_MIME_TYPE = 'text/html';\nvar EXEC_MIME_TYPE = 'application/vnd.holoviews_exec.v0+json';\nvar CLASS_NAME = 'output';\n\n/**\n * Render data to the DOM node\n */\nfunction render(props, node) {\n  var div = document.createElement(\"div\");\n  var script = document.createElement(\"script\");\n  node.appendChild(div);\n  node.appendChild(script);\n}\n\n/**\n * Handle when a new output is added\n */\nfunction handle_add_output(event, handle) {\n  var output_area = handle.output_area;\n  var output = handle.output;\n  if ((output.data == undefined) || (!output.data.hasOwnProperty(EXEC_MIME_TYPE))) {\n    return\n  }\n  var id = output.metadata[EXEC_MIME_TYPE][\"id\"];\n  var toinsert = output_area.element.find(\".\" + CLASS_NAME.split(' ')[0]);\n  if (id !== undefined) {\n    var nchildren = toinsert.length;\n    var html_node = toinsert[nchildren-1].children[0];\n    html_node.innerHTML = output.data[HTML_MIME_TYPE];\n    var scripts = [];\n    var nodelist = html_node.querySelectorAll(\"script\");\n    for (var i in nodelist) {\n      if (nodelist.hasOwnProperty(i)) {\n        scripts.push(nodelist[i])\n      }\n    }\n\n    scripts.forEach( function (oldScript) {\n      var newScript = document.createElement(\"script\");\n      var attrs = [];\n      var nodemap = oldScript.attributes;\n      for (var j in nodemap) {\n        if (nodemap.hasOwnProperty(j)) {\n          attrs.push(nodemap[j])\n        }\n      }\n      attrs.forEach(function(attr) { newScript.setAttribute(attr.name, attr.value) });\n      newScript.appendChild(document.createTextNode(oldScript.innerHTML));\n      oldScript.parentNode.replaceChild(newScript, oldScript);\n    });\n    if (JS_MIME_TYPE in output.data) {\n      toinsert[nchildren-1].children[1].textContent = output.data[JS_MIME_TYPE];\n    }\n    output_area._hv_plot_id = id;\n    if ((window.Bokeh !== undefined) && (id in Bokeh.index)) {\n      window.PyViz.plot_index[id] = Bokeh.index[id];\n    } else {\n      window.PyViz.plot_index[id] = null;\n    }\n  } else if (output.metadata[EXEC_MIME_TYPE][\"server_id\"] !== undefined) {\n    var bk_div = document.createElement(\"div\");\n    bk_div.innerHTML = output.data[HTML_MIME_TYPE];\n    var script_attrs = bk_div.children[0].attributes;\n    for (var i = 0; i < script_attrs.length; i++) {\n      toinsert[toinsert.length - 1].childNodes[1].setAttribute(script_attrs[i].name, script_attrs[i].value);\n    }\n    // store reference to server id on output_area\n    output_area._bokeh_server_id = output.metadata[EXEC_MIME_TYPE][\"server_id\"];\n  }\n}\n\n/**\n * Handle when an output is cleared or removed\n */\nfunction handle_clear_output(event, handle) {\n  var id = handle.cell.output_area._hv_plot_id;\n  var server_id = handle.cell.output_area._bokeh_server_id;\n  if (((id === undefined) || !(id in PyViz.plot_index)) && (server_id !== undefined)) { return; }\n  var comm = window.PyViz.comm_manager.get_client_comm(\"hv-extension-comm\", \"hv-extension-comm\", function () {});\n  if (server_id !== null) {\n    comm.send({event_type: 'server_delete', 'id': server_id});\n    return;\n  } else if (comm !== null) {\n    comm.send({event_type: 'delete', 'id': id});\n  }\n  delete PyViz.plot_index[id];\n  if ((window.Bokeh !== undefined) & (id in window.Bokeh.index)) {\n    var doc = window.Bokeh.index[id].model.document\n    doc.clear();\n    const i = window.Bokeh.documents.indexOf(doc);\n    if (i > -1) {\n      window.Bokeh.documents.splice(i, 1);\n    }\n  }\n}\n\n/**\n * Handle kernel restart event\n */\nfunction handle_kernel_cleanup(event, handle) {\n  delete PyViz.comms[\"hv-extension-comm\"];\n  window.PyViz.plot_index = {}\n}\n\n/**\n * Handle update_display_data messages\n */\nfunction handle_update_output(event, handle) {\n  handle_clear_output(event, {cell: {output_area: handle.output_area}})\n  handle_add_output(event, handle)\n}\n\nfunction register_renderer(events, OutputArea) {\n  function append_mime(data, metadata, element) {\n    // create a DOM node to render to\n    var toinsert = this.create_output_subarea(\n    metadata,\n    CLASS_NAME,\n    EXEC_MIME_TYPE\n    );\n    this.keyboard_manager.register_events(toinsert);\n    // Render to node\n    var props = {data: data, metadata: metadata[EXEC_MIME_TYPE]};\n    render(props, toinsert[0]);\n    element.append(toinsert);\n    return toinsert\n  }\n\n  events.on('output_added.OutputArea', handle_add_output);\n  events.on('output_updated.OutputArea', handle_update_output);\n  events.on('clear_output.CodeCell', handle_clear_output);\n  events.on('delete.Cell', handle_clear_output);\n  events.on('kernel_ready.Kernel', handle_kernel_cleanup);\n\n  OutputArea.prototype.register_mime_type(EXEC_MIME_TYPE, append_mime, {\n    safe: true,\n    index: 0\n  });\n}\n\nif (window.Jupyter !== undefined) {\n  try {\n    var events = require('base/js/events');\n    var OutputArea = require('notebook/js/outputarea').OutputArea;\n    if (OutputArea.prototype.mime_types().indexOf(EXEC_MIME_TYPE) == -1) {\n      register_renderer(events, OutputArea);\n    }\n  } catch(err) {\n  }\n}\n"
     },
     "metadata": {},
     "output_type": "display_data"
    },
    {
     "data": {
      "text/html": [
       "<style>.bk-root, .bk-root .bk:before, .bk-root .bk:after {\n",
       "  font-family: var(--jp-ui-font-size1);\n",
       "  font-size: var(--jp-ui-font-size1);\n",
       "  color: var(--jp-ui-font-color1);\n",
       "}\n",
       "</style>"
      ]
     },
     "metadata": {},
     "output_type": "display_data"
    }
   ],
   "source": [
    "import requests\n",
    "import time\n",
    "from IPython.display import JSON\n",
    "import pandas as pd\n",
    "import numpy as np \n",
    "from wordcloud import WordCloud, STOPWORDS\n",
    "import panel as pn\n",
    "pn.extension()\n",
    "import param\n",
    "\n",
    "import matplotlib.pyplot as plt\n",
    "import plotly.express as px\n",
    "\n",
    "import hvplot.pandas\n",
    "\n",
    "import pickle\n",
    "from io import StringIO\n",
    "\n",
    "\n",
    "API_KEY = \"c72ca91516524e6e96b8d985be6eda45\""
   ]
  },
  {
   "cell_type": "code",
   "execution_count": 35,
   "id": "4297719f-2e91-4951-97df-76b25e84e52b",
   "metadata": {},
   "outputs": [
    {
     "name": "stdout",
     "output_type": "stream",
     "text": [
      "gaata\n",
      "gaata2\n"
     ]
    }
   ],
   "source": [
    "endpoint = \"https://api.assemblyai.com/v2/transcript\"\n",
    "audio_url = \"https://github.com/thu-vu92/audio_analyzer_assemblyai/blob/main/How_I_Would_Learn_to_Code.mp3?raw=true\"\n",
    "audio_url_json = {\n",
    "    \"audio_url\": audio_url,\n",
    "    \"sentiment_analysis\": True,\n",
    "    \"auto_highlights\": True,\n",
    "    \"iab_categories\": True,\n",
    "    \"auto_chapters\": True\n",
    "}\n",
    "headers = {\n",
    "    \"authorization\": API_KEY,\n",
    "    \"content-type\": \"application/json\"\n",
    "}\n",
    "transcript_response = requests.post(endpoint, json=audio_url_json, headers=headers)\n",
    "\n",
    "result_endpoint = endpoint + '/' + transcript_response.json()[\"id\"]\n",
    "headers_auth = {\n",
    "    \"authorization\": API_KEY,\n",
    "}\n",
    "response = requests.get(result_endpoint, headers=headers_auth)\n",
    "\n",
    "while response.json()['status'] != \"completed\":\n",
    "    response = requests.get(result_endpoint, headers=headers_auth)\n",
    "    time.sleep(3)\n"
   ]
  },
  {
   "cell_type": "code",
   "execution_count": 36,
   "id": "a351e980-cd46-462e-bb0a-3402c873270b",
   "metadata": {
    "collapsed": true,
    "jupyter": {
     "outputs_hidden": true
    },
    "tags": []
   },
   "outputs": [
    {
     "data": {
      "application/json": {
       "acoustic_model": "assemblyai_default",
       "audio_duration": 661,
       "audio_end_at": null,
       "audio_start_from": null,
       "audio_url": "https://github.com/thu-vu92/audio_analyzer_assemblyai/blob/main/How_I_Would_Learn_to_Code_(If_I_Had_to_Start_Over)___Data_Track%20(1).mp3?raw=true",
       "auto_chapters": true,
       "auto_highlights": true,
       "auto_highlights_result": {
        "results": [
         {
          "count": 1,
          "rank": 0.07,
          "text": "Python code",
          "timestamps": [
           {
            "end": 270870,
            "start": 270164
           }
          ]
         },
         {
          "count": 7,
          "rank": 0.06,
          "text": "data science",
          "timestamps": [
           {
            "end": 33934,
            "start": 33404
           },
           {
            "end": 68554,
            "start": 67954
           },
           {
            "end": 89434,
            "start": 88916
           },
           {
            "end": 465418,
            "start": 464744
           },
           {
            "end": 471022,
            "start": 470554
           },
           {
            "end": 596854,
            "start": 596264
           },
           {
            "end": 646714,
            "start": 646184
           }
          ]
         },
         {
          "count": 1,
          "rank": 0.06,
          "text": "data science learning",
          "timestamps": [
           {
            "end": 89730,
            "start": 88916
           }
          ]
         },
         {
          "count": 1,
          "rank": 0.06,
          "text": "tangible data science skills",
          "timestamps": [
           {
            "end": 471394,
            "start": 470132
           }
          ]
         },
         {
          "count": 1,
          "rank": 0.05,
          "text": "different data structures",
          "timestamps": [
           {
            "end": 330478,
            "start": 329504
           }
          ]
         },
         {
          "count": 1,
          "rank": 0.05,
          "text": "other great videos",
          "timestamps": [
           {
            "end": 39522,
            "start": 38756
           }
          ]
         },
         {
          "count": 1,
          "rank": 0.05,
          "text": "data types",
          "timestamps": [
           {
            "end": 323986,
            "start": 323264
           }
          ]
         },
         {
          "count": 1,
          "rank": 0.05,
          "text": "data frames",
          "timestamps": [
           {
            "end": 412930,
            "start": 412388
           }
          ]
         },
         {
          "count": 2,
          "rank": 0.05,
          "text": "Data scientists",
          "timestamps": [
           {
            "end": 101146,
            "start": 100412
           },
           {
            "end": 187162,
            "start": 186512
           }
          ]
         },
         {
          "count": 2,
          "rank": 0.05,
          "text": "other people",
          "timestamps": [
           {
            "end": 540414,
            "start": 540032
           },
           {
            "end": 547338,
            "start": 547004
           }
          ]
         },
         {
          "count": 2,
          "rank": 0.05,
          "text": "many people",
          "timestamps": [
           {
            "end": 543690,
            "start": 543082
           },
           {
            "end": 560094,
            "start": 559544
           }
          ]
         },
         {
          "count": 1,
          "rank": 0.05,
          "text": "good coding",
          "timestamps": [
           {
            "end": 379474,
            "start": 378884
           }
          ]
         },
         {
          "count": 1,
          "rank": 0.05,
          "text": "Coding languages",
          "timestamps": [
           {
            "end": 291358,
            "start": 290554
           }
          ]
         },
         {
          "count": 3,
          "rank": 0.04,
          "text": "object oriented programming",
          "timestamps": [
           {
            "end": 434782,
            "start": 433352
           },
           {
            "end": 436582,
            "start": 435152
           },
           {
            "end": 442702,
            "start": 441358
           }
          ]
         },
         {
          "count": 6,
          "rank": 0.04,
          "text": "projects",
          "timestamps": [
           {
            "end": 90562,
            "start": 89984
           },
           {
            "end": 238342,
            "start": 237980
           },
           {
            "end": 349390,
            "start": 348860
           },
           {
            "end": 477538,
            "start": 477154
           },
           {
            "end": 537562,
            "start": 537236
           },
           {
            "end": 539782,
            "start": 539444
           }
          ]
         }
        ],
        "status": "success"
       },
       "boost_param": null,
       "chapters": [
        {
         "end": 57666,
         "gist": "How to start coding from nothing.",
         "headline": "A friend offered to coach me in exchange for teaching him how to code.",
         "start": 250,
         "summary": "A friend offered to coach me in exchange for teaching him how to code. It's been almost ten years since I wrote my first line of code. This video is about the detailed plan that I wrote for him to teach me the basics of coding for data science."
        },
        {
         "end": 128946,
         "gist": "Python vs r for data scientists.",
         "headline": "Python is growing and will be more popular from 2020 to 2021.",
         "start": 57728,
         "summary": "Python is more popular than R. For data scientists, it's more intuitive and flexible than R. It will be a more valuable skill to have for the job market in general and for the data science industry in particular. It is growing and will be more popular from 2020 to 2021."
        },
        {
         "end": 272382,
         "gist": "What coding skills should my friend learn first.",
         "headline": "After choosing python as a programming language, the first thing to do is to choose the right environment for his friend to learn. Python on.",
         "start": 129008,
         "summary": "After choosing Python as a programming language, the first thing to do is to choose the right environment for his friend to learn Python on. The most common ides for Python are Vs, code, jupyter, notebook, PyCharm and Spider. The video from Precocamp shows how to set up the PyCharm environment."
        },
        {
         "end": 522378,
         "gist": "Coding basics.",
         "headline": "Coding languages, particularly Python, are designed to be as easy to use as possible while creating good results.",
         "start": 272516,
         "summary": "There's a common misconception that learning to code is supposed to be really hard and scary. Coding languages, particularly Python, are designed to be as easy to use as possible while creating good results. At the most basic level, beginner coding can be broken down into seven concepts: data, types, variables, functions, lists, dictionaries, tuples, loops and libraries. This is a simple project, but it's relevant and useful to our work and our jujitsu training."
        },
        {
         "end": 647470,
         "gist": "Now what to do.",
         "headline": "Anaconda is a software package that lumps together all the relevant Python libraries and ideas for data science.",
         "start": 522464,
         "summary": "After learning the basics of Python, you should do a datarelated project on Kagglecom to learn more about data. Anaconda is a software package that lumps together all the relevant Python libraries and ideas for data science in one go. Google and Stack overflow are the most important tools to learn Python."
        }
       ],
       "confidence": 0.932999594706368,
       "content_safety": false,
       "content_safety_labels": {
        "results": [],
        "status": "unavailable",
        "summary": {}
       },
       "custom_spelling": null,
       "disfluencies": false,
       "dual_channel": null,
       "entities": null,
       "entity_detection": false,
       "filter_profanity": false,
       "format_text": true,
       "iab_categories": true,
       "iab_categories_result": {
        "results": [
         {
          "labels": [
           {
            "label": "Sports>MartialArts",
            "relevance": 0.9573874473571777
           },
           {
            "label": "Sports>Boxing",
            "relevance": 0.02879876084625721
           },
           {
            "label": "Sports>Bodybuilding",
            "relevance": 0.005588308442384005
           },
           {
            "label": "Movies>ActionAndAdventureMovies",
            "relevance": 0.003627625061199069
           },
           {
            "label": "Sports>Weightlifting",
            "relevance": 0.0006908985669724643
           },
           {
            "label": "Sports>Wrestling",
            "relevance": 0.0006621046341024339
           },
           {
            "label": "Technology&Computing>Computing>ProgrammingLanguages",
            "relevance": 0.0005513571086339653
           },
           {
            "label": "FineArt>Dance",
            "relevance": 0.0004549484292510897
           },
           {
            "label": "HealthyLiving>FitnessAndExercise",
            "relevance": 0.00034604404936544597
           },
           {
            "label": "Religion&Spirituality>Buddhism",
            "relevance": 0.00034314097138121724
           }
          ],
          "text": "I recently got an amazing opportunity. I've been learning jujitsu, and a friend offered to coach me in exchange for teaching him how to code. At this point in my life where I'm trying to improve my jiu jitsu as quickly as possible, this was an incredible trade for me.",
          "timestamp": {
           "end": 13290,
           "start": 250
          }
         },
         {
          "labels": [
           {
            "label": "Technology&Computing>Computing>ProgrammingLanguages",
            "relevance": 0.6825703382492065
           },
           {
            "label": "Technology&Computing>Computing>Internet>WebDevelopment",
            "relevance": 0.020239636301994324
           },
           {
            "label": "Technology&Computing>Computing>Internet>WebDesignAndHTML",
            "relevance": 0.01676282472908497
           },
           {
            "label": "FineArt>Design",
            "relevance": 0.003195831086486578
           },
           {
            "label": "Technology&Computing>Computing",
            "relevance": 0.000760186230763793
           },
           {
            "label": "Technology&Computing>Computing>ComputerSoftwareAndApplications>DesktopPublishing",
            "relevance": 0.0007308204658329487
           },
           {
            "label": "Technology&Computing>Computing>ComputerSoftwareAndApplications",
            "relevance": 0.0005864207050763071
           },
           {
            "label": "Technology&Computing>ArtificialIntelligence",
            "relevance": 0.0004585333517752588
           },
           {
            "label": "Technology&Computing",
            "relevance": 0.00029736844589933753
           },
           {
            "label": "Education>LanguageLearning",
            "relevance": 0.00028192950412631035
           }
          ],
          "text": "In my personal opinion, I was all for until I had to think about how I'd actually go about teaching someone how to code starting from nothing, I quickly realized that this was going to be a lot harder than I thought. After all, it's been almost ten years since I wrote my very first line of code. That's a pretty long time.",
          "timestamp": {
           "end": 27510,
           "start": 13340
          }
         },
         {
          "labels": [
           {
            "label": "Technology&Computing>Computing>DataStorageAndWarehousing",
            "relevance": 0.46700140833854675
           },
           {
            "label": "Technology&Computing>Computing>ComputerSoftwareAndApplications>Databases",
            "relevance": 0.09675102680921555
           },
           {
            "label": "Technology&Computing>Computing>ProgrammingLanguages",
            "relevance": 0.0382227897644043
           },
           {
            "label": "Technology&Computing>Computing>ComputerSoftwareAndApplications",
            "relevance": 0.004251029342412949
           },
           {
            "label": "Technology&Computing>Computing>Internet>WebDevelopment",
            "relevance": 0.0008697746088728309
           },
           {
            "label": "BusinessAndFinance>Business>BusinessI.T.",
            "relevance": 0.0005413327016867697
           },
           {
            "label": "BusinessAndFinance>Business>Sales",
            "relevance": 0.0005291341803967953
           },
           {
            "label": "Technology&Computing>Computing>ComputerSoftwareAndApplications>DesktopPublishing",
            "relevance": 0.00046507740626111627
           },
           {
            "label": "Technology&Computing>Computing",
            "relevance": 0.00039700092747807503
           },
           {
            "label": "Technology&Computing>Computing>Internet>WebDesignAndHTML",
            "relevance": 0.0003315383510198444
           }
          ],
          "text": "Now, this video is about the very specific and detailed plan that I wrote for my friend to teach me the basics of coding for data science. Since I did all the work for him, I figured I might as well share the details with you as well. Here. There have been plenty of other great videos similar to this about how to start coding, and I've linked many of them in the description.",
          "timestamp": {
           "end": 43426,
           "start": 27560
          }
         },
         {
          "labels": [
           {
            "label": "Technology&Computing>Computing>ProgrammingLanguages",
            "relevance": 0.9897080659866333
           },
           {
            "label": "Technology&Computing>Computing>ComputerSoftwareAndApplications>Databases",
            "relevance": 0.1818011850118637
           },
           {
            "label": "Technology&Computing>Computing>DataStorageAndWarehousing",
            "relevance": 0.1347472369670868
           },
           {
            "label": "Technology&Computing>Computing>ComputerSoftwareAndApplications",
            "relevance": 0.053395770490169525
           },
           {
            "label": "Technology&Computing>Computing",
            "relevance": 0.02455024980008602
           },
           {
            "label": "Technology&Computing>Computing>Internet>WebDevelopment",
            "relevance": 0.005711491219699383
           },
           {
            "label": "BusinessAndFinance>Business>BusinessI.T.",
            "relevance": 0.004379599820822477
           },
           {
            "label": "Technology&Computing>Computing>ComputerSoftwareAndApplications>DesktopPublishing",
            "relevance": 0.0030082776211202145
           },
           {
            "label": "Technology&Computing>Computing>Internet>WebDesignAndHTML",
            "relevance": 0.0028091457206755877
           },
           {
            "label": "Technology&Computing>Computing>ComputerSoftwareAndApplications>OperatingSystems",
            "relevance": 0.0010985861299559474
           }
          ],
          "text": "Again, those are great, but I think this is a bit different because it's more focused on coding for data and it uses a very specific real world case study. At the end, I also highlight the three most important things a new programmer should know. So you definitely want to stick around for that. Let's start with the language that we should start learning. I know if you're working with data, you generally have two good choices.",
          "timestamp": {
           "end": 63862,
           "start": 43498
          }
         },
         {
          "labels": [
           {
            "label": "Technology&Computing>Computing>ProgrammingLanguages",
            "relevance": 0.04716448485851288
           },
           {
            "label": "Technology&Computing>Computing>DataStorageAndWarehousing",
            "relevance": 0.030795490369200706
           },
           {
            "label": "Technology&Computing>Computing>ComputerSoftwareAndApplications>Databases",
            "relevance": 0.022353414446115494
           },
           {
            "label": "Technology&Computing>Computing>ComputerSoftwareAndApplications",
            "relevance": 0.0019404811318963766
           },
           {
            "label": "Technology&Computing>Computing>Internet>WebDevelopment",
            "relevance": 0.0017203661845996976
           },
           {
            "label": "Technology&Computing>Computing",
            "relevance": 0.0004279229906387627
           },
           {
            "label": "Technology&Computing>Computing>Internet>Search",
            "relevance": 0.0002855639613699168
           },
           {
            "label": "Hobbies&Interests>ContentProduction",
            "relevance": 0.00028312651556916535
           },
           {
            "label": "Technology&Computing>Computing>Internet>CloudComputing",
            "relevance": 0.00027503332239575684
           },
           {
            "label": "Technology&Computing>Computing>ComputerSoftwareAndApplications>DesktopPublishing",
            "relevance": 0.0002585863694548607
           }
          ],
          "text": "They would either start with Python or R. Let's quickly compare the two languages data Science Style when looking at the Stack Overflow developer survey, we find that about 48% of respondents use Python, while only about 5% user. In industry, Python is a far more common language. Let's now look more specifically a data scientist, not just all Stack Overflow users who come from a variety of backgrounds.",
          "timestamp": {
           "end": 86962,
           "start": 63946
          }
         },
         {
          "labels": [
           {
            "label": "Technology&Computing>Computing>ProgrammingLanguages",
            "relevance": 0.018889430910348892
           },
           {
            "label": "Technology&Computing>Computing>DataStorageAndWarehousing",
            "relevance": 0.015581768937408924
           },
           {
            "label": "Technology&Computing>Computing>ComputerSoftwareAndApplications>Databases",
            "relevance": 0.011901815421879292
           },
           {
            "label": "Technology&Computing>Computing>Internet>CloudComputing",
            "relevance": 0.0009790339972823858
           },
           {
            "label": "Technology&Computing>Computing>Internet>Search",
            "relevance": 0.0007473842124454677
           },
           {
            "label": "Technology&Computing>Computing>ComputerSoftwareAndApplications",
            "relevance": 0.00045119921560399234
           },
           {
            "label": "Technology&Computing>Computing",
            "relevance": 0.00039784974069334567
           },
           {
            "label": "Technology&Computing>Computing>Internet>WebDevelopment",
            "relevance": 0.00037589340354315937
           },
           {
            "label": "Technology&Computing>Computing>ComputerSoftwareAndApplications>DesktopPublishing",
            "relevance": 0.00024779405794106424
           },
           {
            "label": "Hobbies&Interests>ContentProduction",
            "relevance": 0.0002318183396710083
           }
          ],
          "text": "On Kaggle, my favorite platform for data science learning and projects, we can see that around 84.2% of respondents use Python, while only 25% use R. Since these add up to more than 100%, we can assume that some data scientists are using both languages. Finally, let's look at these two languages over time. We can see here from 2020 to 2021, Python has gained an adoption. While our usage has seen some attrition, to me, this is a no brainer.",
          "timestamp": {
           "end": 113590,
           "start": 87046
          }
         },
         {
          "labels": [
           {
            "label": "Technology&Computing>Computing>ProgrammingLanguages",
            "relevance": 0.9574006795883179
           },
           {
            "label": "Technology&Computing>Computing>Internet>WebDevelopment",
            "relevance": 0.015630152076482773
           },
           {
            "label": "Technology&Computing>Computing>Internet>WebDesignAndHTML",
            "relevance": 0.0043205260299146175
           },
           {
            "label": "Technology&Computing>Computing",
            "relevance": 0.002225232310593128
           },
           {
            "label": "Technology&Computing>Computing>ComputerSoftwareAndApplications",
            "relevance": 0.0018761149840429425
           },
           {
            "label": "Technology&Computing>Computing>ComputerSoftwareAndApplications>OperatingSystems",
            "relevance": 0.0011138156987726688
           },
           {
            "label": "Education>LanguageLearning",
            "relevance": 0.0008122965227812529
           },
           {
            "label": "Technology&Computing>Computing>ComputerSoftwareAndApplications>DesktopPublishing",
            "relevance": 0.00071744155138731
           },
           {
            "label": "FineArt>Design",
            "relevance": 0.0005562370643019676
           },
           {
            "label": "Technology&Computing>Computing>ComputerSoftwareAndApplications>Databases",
            "relevance": 0.0005351037834770977
           }
          ],
          "text": "I recommended my friend to start learning Python first. That language is more popular, and it's continuing to grow. This isn't to say R is bad. It's just to say that I think Python is growing and will be a more valuable skill to have for the job market in general. I also personally find it a bit more intuitive and flexible than our. Now that we've chosen our language as Python, what coding skills should my friend learn first? Should he focus on variables?",
          "timestamp": {
           "end": 134554,
           "start": 113650
          }
         },
         {
          "labels": [
           {
            "label": "Technology&Computing>Computing>ProgrammingLanguages",
            "relevance": 0.997239351272583
           },
           {
            "label": "Technology&Computing>Computing",
            "relevance": 0.0299863051623106
           },
           {
            "label": "Technology&Computing>Computing>Internet>WebDevelopment",
            "relevance": 0.015080869197845459
           },
           {
            "label": "Technology&Computing>Computing>ComputerSoftwareAndApplications",
            "relevance": 0.011019322089850903
           },
           {
            "label": "Technology&Computing>Computing>Internet>WebDesignAndHTML",
            "relevance": 0.006217788439244032
           },
           {
            "label": "Technology&Computing>Computing>ComputerSoftwareAndApplications>OperatingSystems",
            "relevance": 0.0060826800763607025
           },
           {
            "label": "Technology&Computing>Computing>ComputerSoftwareAndApplications>Databases",
            "relevance": 0.0011201777961105108
           },
           {
            "label": "Technology&Computing>Computing>ComputerSoftwareAndApplications>DesktopPublishing",
            "relevance": 0.0010617600055411458
           },
           {
            "label": "Technology&Computing>ArtificialIntelligence",
            "relevance": 0.0004679429403040558
           },
           {
            "label": "Education>OnlineEducation",
            "relevance": 0.0004423240607138723
           }
          ],
          "text": "Logic functions? Algorithms? Classes? My mind was absolutely spinning when I first addressed this. It took me a second, but I had this weird chaotic flashback to my first days of learning programming myself. I didn't even know where to start with getting Python on my own computer. I just now got excited about teaching the functional part of programming, and I completely forgot about the basics of setting up your environment for success.",
          "timestamp": {
           "end": 155766,
           "start": 134602
          }
         },
         {
          "labels": [
           {
            "label": "Technology&Computing>Computing>ProgrammingLanguages",
            "relevance": 0.8402432799339294
           },
           {
            "label": "Technology&Computing>Computing>ComputerSoftwareAndApplications",
            "relevance": 0.06417085975408554
           },
           {
            "label": "Technology&Computing>Computing>Internet>WebDevelopment",
            "relevance": 0.011784405447542667
           },
           {
            "label": "Technology&Computing>Computing>ComputerSoftwareAndApplications>OperatingSystems",
            "relevance": 0.007261323276907206
           },
           {
            "label": "Technology&Computing>Computing>ComputerSoftwareAndApplications>DesktopPublishing",
            "relevance": 0.005422063171863556
           },
           {
            "label": "Technology&Computing>Computing>Internet>WebDesignAndHTML",
            "relevance": 0.004655107855796814
           },
           {
            "label": "Technology&Computing>Computing",
            "relevance": 0.003337631933391094
           },
           {
            "label": "Technology&Computing>Computing>ComputerSoftwareAndApplications>SharewareAndFreeware",
            "relevance": 0.00038565933937206864
           },
           {
            "label": "Technology&Computing>Computing>ComputerSoftwareAndApplications>GraphicsSoftware",
            "relevance": 0.00030709095881320536
           },
           {
            "label": "Technology&Computing>Computing>ComputerSoftwareAndApplications>Databases",
            "relevance": 0.0002582431770861149
           }
          ],
          "text": "The next thing I did was give my friend some of my favorite resources on choosing an environment and getting the right version of Python on his computer. Honestly, I was a bit torn on this too. So, for example, what IDE should have used? Does he even know what IDE stands for? For those who don't know and who are new, ID stands for Integrated Development Environment. So this is essentially just a text editor you use to write your code.",
          "timestamp": {
           "end": 175698,
           "start": 155888
          }
         },
         {
          "labels": [
           {
            "label": "Technology&Computing>Computing>ComputerSoftwareAndApplications>DesktopPublishing",
            "relevance": 0.9573201537132263
           },
           {
            "label": "Technology&Computing>Computing>ComputerSoftwareAndApplications",
            "relevance": 0.15832144021987915
           },
           {
            "label": "BusinessAndFinance>Business>BusinessI.T.",
            "relevance": 0.06031270697712898
           },
           {
            "label": "Technology&Computing>Computing",
            "relevance": 0.04715276136994362
           },
           {
            "label": "Technology&Computing>Computing>ProgrammingLanguages",
            "relevance": 0.04216592386364937
           },
           {
            "label": "Hobbies&Interests>ArtsAndCrafts>Scrapbooking",
            "relevance": 0.027581874281167984
           },
           {
            "label": "Technology&Computing>Computing>Internet>WebDevelopment",
            "relevance": 0.02184438891708851
           },
           {
            "label": "Technology&Computing>Computing>Internet>WebDesignAndHTML",
            "relevance": 0.02026958018541336
           },
           {
            "label": "FineArt>Design",
            "relevance": 0.013212554156780243
           },
           {
            "label": "Technology&Computing>Computing>ComputerSoftwareAndApplications>Databases",
            "relevance": 0.011871756054461002
           }
          ],
          "text": "If you were writing an essay, you could choose to use Microsoft Word. You could use Google Docs, you could use Notepad, or maybe even just straight up pen and paper. Just like there are these different mediums for you to write your last minute paper. Data scientists and software engineers need places to write their code. These places are called IDs.",
          "timestamp": {
           "end": 191686,
           "start": 175784
          }
         },
         {
          "labels": [
           {
            "label": "Technology&Computing>Computing>ComputerSoftwareAndApplications>Databases",
            "relevance": 0.5948925614356995
           },
           {
            "label": "Technology&Computing>Computing>DataStorageAndWarehousing",
            "relevance": 0.3706324100494385
           },
           {
            "label": "Technology&Computing>Computing>ProgrammingLanguages",
            "relevance": 0.09156111627817154
           },
           {
            "label": "Technology&Computing>Computing>ComputerSoftwareAndApplications",
            "relevance": 0.008196406997740269
           },
           {
            "label": "Technology&Computing>Computing>ComputerSoftwareAndApplications>DesktopPublishing",
            "relevance": 0.0072908890433609486
           },
           {
            "label": "Technology&Computing>Computing>Internet>WebDesignAndHTML",
            "relevance": 0.0026018607895821333
           },
           {
            "label": "Technology&Computing>Computing>Internet>WebDevelopment",
            "relevance": 0.001270592212677002
           },
           {
            "label": "BusinessAndFinance>Business>BusinessI.T.",
            "relevance": 0.0007780970772728324
           },
           {
            "label": "Technology&Computing>Computing>Internet>Email",
            "relevance": 0.0005076187080703676
           },
           {
            "label": "Technology&Computing>Computing",
            "relevance": 0.0003281515964772552
           }
          ],
          "text": "And just like Microsoft Word has spell track and formatting to make sure that you don't make grammatical errors, many ideas help you to make sure that you have proper syntax in your code. In theory, technically, Microsoft Word would be considered an idea, but I definitely don't recommend using it as such unless you're jump ate. This is a list of the most commonly used Ides in the data domain.",
          "timestamp": {
           "end": 211354,
           "start": 191758
          }
         },
         {
          "labels": [
           {
            "label": "Technology&Computing>Computing>ProgrammingLanguages",
            "relevance": 0.8189933896064758
           },
           {
            "label": "Technology&Computing>Computing>Internet>WebDevelopment",
            "relevance": 0.0160681065171957
           },
           {
            "label": "Technology&Computing>Computing>ComputerSoftwareAndApplications>OperatingSystems",
            "relevance": 0.011294696480035782
           },
           {
            "label": "Technology&Computing>Computing>ComputerSoftwareAndApplications",
            "relevance": 0.011154638603329659
           },
           {
            "label": "Technology&Computing>Computing>Internet>WebDesignAndHTML",
            "relevance": 0.007502108812332153
           },
           {
            "label": "Technology&Computing>Computing>ComputerSoftwareAndApplications>DesktopPublishing",
            "relevance": 0.003139971988275647
           },
           {
            "label": "Technology&Computing>Computing",
            "relevance": 0.0017177507979795337
           },
           {
            "label": "BusinessAndFinance>Business>BusinessBanking&Finance>AngelInvestment",
            "relevance": 0.0003676028863992542
           },
           {
            "label": "FineArt>Design",
            "relevance": 0.000323984568240121
           },
           {
            "label": "Technology&Computing>Computing>ComputerSoftwareAndApplications>SharewareAndFreeware",
            "relevance": 0.0002942010760307312
           }
          ],
          "text": "And as you can see, common Ides for Python are vs, code, jupyter, notebook, PyCharm, and Spider. Before anything else, I wanted to give him a decent understanding about how the development environments work before we picked one. As I mentioned, this is something that I was totally confused about when I started. When I learned to code, I was using Python and I was using an IDE called Idle.",
          "timestamp": {
           "end": 232042,
           "start": 211462
          }
         },
         {
          "labels": [
           {
            "label": "Careers>RemoteWorking",
            "relevance": 0.00833014864474535
           },
           {
            "label": "Education>OnlineEducation",
            "relevance": 0.0019385572522878647
           },
           {
            "label": "Education>HomeworkAndStudy",
            "relevance": 0.001849769032560289
           },
           {
            "label": "FineArt>Design",
            "relevance": 0.00155459507368505
           },
           {
            "label": "Technology&Computing",
            "relevance": 0.0009629081469029188
           },
           {
            "label": "Technology&Computing>ArtificialIntelligence",
            "relevance": 0.0008866513962857425
           },
           {
            "label": "Technology&Computing>Computing>Internet>WebHosting",
            "relevance": 0.0008584997267462313
           },
           {
            "label": "BusinessAndFinance>Business>BusinessI.T.",
            "relevance": 0.0008561909780837595
           },
           {
            "label": "Technology&Computing>Computing>ComputerSoftwareAndApplications>WebConferencing",
            "relevance": 0.0008248004014603794
           },
           {
            "label": "Hobbies&Interests",
            "relevance": 0.0007631054031662643
           }
          ],
          "text": "So Idle is great for learning, but I've literally never once touched it since, and I don't use it on any data projects in any of my work. I wanted to make sure that my friend was using something that would be representative of what he might see in the real world, what people actually use. For this specific friend, I recommended that he started learning the basics with this video from Precocamp. I've linked it and all other resources in the description.",
          "timestamp": {
           "end": 253474,
           "start": 232126
          }
         },
         {
          "labels": [
           {
            "label": "Technology&Computing>Computing>ProgrammingLanguages",
            "relevance": 0.13895948231220245
           },
           {
            "label": "Technology&Computing>Computing>Internet>WebDevelopment",
            "relevance": 0.030104296281933784
           },
           {
            "label": "Technology&Computing>Computing>Internet>WebDesignAndHTML",
            "relevance": 0.006249608006328344
           },
           {
            "label": "Technology&Computing>Computing>ComputerSoftwareAndApplications>OperatingSystems",
            "relevance": 0.004141554702073336
           },
           {
            "label": "Technology&Computing>Computing>ComputerSoftwareAndApplications>DesktopPublishing",
            "relevance": 0.0020432265009731054
           },
           {
            "label": "Technology&Computing>Computing>ComputerSoftwareAndApplications",
            "relevance": 0.0007780952728353441
           },
           {
            "label": "Technology&Computing>Computing>Internet>WebHosting",
            "relevance": 0.0004284699389245361
           },
           {
            "label": "Technology&Computing>Computing>ComputerSoftwareAndApplications>SharewareAndFreeware",
            "relevance": 0.0003033763205166906
           },
           {
            "label": "Technology&Computing>Computing>ComputerSoftwareAndApplications>WebConferencing",
            "relevance": 0.0002410490851616487
           },
           {
            "label": "Technology&Computing>Computing>ComputerSoftwareAndApplications>Browsers",
            "relevance": 0.0002218918816652149
           }
          ],
          "text": "So in the video, they show you how to set up the PyCharm environment and get comfortable using that. I think PyCharm is solid, and if you get familiar with that, you can easily pick up the SCode, a Jupiter notebook, or Spider pretty quickly. Truthfully, I don't think that the idea that you start with really matters that much. What's more important is that you're using one that people who actually write Python code into production are using.",
          "timestamp": {
           "end": 272382,
           "start": 253582
          }
         },
         {
          "labels": [
           {
            "label": "Technology&Computing>Computing>ProgrammingLanguages",
            "relevance": 0.9961701035499573
           },
           {
            "label": "Technology&Computing>Computing>ComputerSoftwareAndApplications",
            "relevance": 0.04048285260796547
           },
           {
            "label": "Technology&Computing>Computing>Internet>WebDevelopment",
            "relevance": 0.03918085992336273
           },
           {
            "label": "Technology&Computing>Computing",
            "relevance": 0.036707114428281784
           },
           {
            "label": "Technology&Computing>Computing>Internet>WebDesignAndHTML",
            "relevance": 0.021596578881144524
           },
           {
            "label": "FineArt>Design",
            "relevance": 0.0021227560937404633
           },
           {
            "label": "Technology&Computing>Computing>ComputerSoftwareAndApplications>DesktopPublishing",
            "relevance": 0.000969329325016588
           },
           {
            "label": "Technology&Computing>Computing>ComputerSoftwareAndApplications>OperatingSystems",
            "relevance": 0.0008763110381551087
           },
           {
            "label": "Technology&Computing",
            "relevance": 0.00038374861469492316
           },
           {
            "label": "Technology&Computing>Computing>ComputerSoftwareAndApplications>SharewareAndFreeware",
            "relevance": 0.0003737263032235205
           }
          ],
          "text": "Okay, now on to the coding basics. Surprisingly, I think this might be one of the simplest parts of this entire process. You see, there's a common misconception that coding is trying to trick you. There's this conspiracy that learning to code is supposed to be really hard and very scary. I would argue that it's almost the opposite. Coding languages, particularly Python. They're designed to be as easy to use as possible while creating good results.",
          "timestamp": {
           "end": 296254,
           "start": 272516
          }
         },
         {
          "labels": [
           {
            "label": "Technology&Computing>Computing>ProgrammingLanguages",
            "relevance": 0.9868060350418091
           },
           {
            "label": "Technology&Computing>Computing",
            "relevance": 0.02277306467294693
           },
           {
            "label": "Technology&Computing>Computing>ComputerSoftwareAndApplications",
            "relevance": 0.021146679297089577
           },
           {
            "label": "Technology&Computing>Computing>Internet>WebDevelopment",
            "relevance": 0.011281504295766354
           },
           {
            "label": "Technology&Computing>Computing>Internet>WebDesignAndHTML",
            "relevance": 0.006435983814299107
           },
           {
            "label": "FineArt>Design",
            "relevance": 0.0040368507616221905
           },
           {
            "label": "Technology&Computing",
            "relevance": 0.0005306155071593821
           },
           {
            "label": "Technology&Computing>Computing>ComputerSoftwareAndApplications>OperatingSystems",
            "relevance": 0.0004885542439296842
           },
           {
            "label": "Education>LanguageLearning",
            "relevance": 0.0004042161162942648
           },
           {
            "label": "MusicAndAudio",
            "relevance": 0.00038536786451004446
           }
          ],
          "text": "So if you change your perspective to look at them as intuitive, coding becomes significantly more fun and stressfree. This isn't to say that you won't get stuck. It's just to say that when you do get stuck, there's almost always a logical reason for it and a logical solution to resolve your problems. Keeping with this theme of simplicity, at the most basic level, beginner coding can be broken down into seven concepts.",
          "timestamp": {
           "end": 315670,
           "start": 296362
          }
         },
         {
          "labels": [
           {
            "label": "Technology&Computing>Computing>ProgrammingLanguages",
            "relevance": 0.9143489003181458
           },
           {
            "label": "Technology&Computing>Computing>ComputerSoftwareAndApplications>Databases",
            "relevance": 0.8915838003158569
           },
           {
            "label": "Technology&Computing>Computing>DataStorageAndWarehousing",
            "relevance": 0.3551885187625885
           },
           {
            "label": "Technology&Computing>Computing",
            "relevance": 0.021588033065199852
           },
           {
            "label": "Technology&Computing>Computing>ComputerSoftwareAndApplications",
            "relevance": 0.012894713319838047
           },
           {
            "label": "BusinessAndFinance>Business>BusinessI.T.",
            "relevance": 0.0032032232265919447
           },
           {
            "label": "Technology&Computing>Computing>ComputerSoftwareAndApplications>OperatingSystems",
            "relevance": 0.0024769208393990993
           },
           {
            "label": "Technology&Computing>Computing>Internet>WebDesignAndHTML",
            "relevance": 0.0012841833522543311
           },
           {
            "label": "Technology&Computing>Computing>Internet>WebDevelopment",
            "relevance": 0.0011943880235776305
           },
           {
            "label": "Technology&Computing>Computing>ComputerSoftwareAndApplications>3-DGraphics",
            "relevance": 0.0007167437579482794
           }
          ],
          "text": "All the resources that I've linked in the description cover these topics, but I'm going to give you a very, very high level overview here. The first one we start with is data types. So in Python, you can work with numbers, you can work with text, you can work with Booleans, you can work with lists or a host of different data structures. It's important to get a good understanding or a fundamental understanding of these first.",
          "timestamp": {
           "end": 334422,
           "start": 315730
          }
         },
         {
          "labels": [
           {
            "label": "Technology&Computing>Computing>ProgrammingLanguages",
            "relevance": 0.9421324729919434
           },
           {
            "label": "Technology&Computing>Computing>ComputerSoftwareAndApplications>Databases",
            "relevance": 0.008041106164455414
           },
           {
            "label": "Technology&Computing>Computing",
            "relevance": 0.0033807868603616953
           },
           {
            "label": "Technology&Computing>Computing>ComputerSoftwareAndApplications>OperatingSystems",
            "relevance": 0.0027359321247786283
           },
           {
            "label": "Technology&Computing>Computing>Internet>WebDevelopment",
            "relevance": 0.002437596209347248
           },
           {
            "label": "Technology&Computing>Computing>ComputerSoftwareAndApplications",
            "relevance": 0.0013692068168893456
           },
           {
            "label": "Technology&Computing>Computing>DataStorageAndWarehousing",
            "relevance": 0.0013547067064791918
           },
           {
            "label": "Technology&Computing>Computing>Internet>WebDesignAndHTML",
            "relevance": 0.0012500421144068241
           },
           {
            "label": "Technology&Computing>Computing>ComputerSoftwareAndApplications>DesktopPublishing",
            "relevance": 0.0002236307627754286
           },
           {
            "label": "Education>CollegeEducation",
            "relevance": 0.00017943145940080285
           }
          ],
          "text": "Next, I think it makes sense to get familiar with how variables work. This can vary by language, so you need to make sure you know how to assign and change variables in Python, specifically, after variables, you should look into how logical operators work. These are very handy in your first few projects. If held, statements are probably the most important one. But you can definitely find use cases for the others, especially if you're working with data.",
          "timestamp": {
           "end": 356178,
           "start": 334496
          }
         },
         {
          "labels": [
           {
            "label": "Technology&Computing>Computing>ProgrammingLanguages",
            "relevance": 0.998534083366394
           },
           {
            "label": "Technology&Computing>Computing",
            "relevance": 0.6956455111503601
           },
           {
            "label": "Technology&Computing>Computing>ComputerSoftwareAndApplications",
            "relevance": 0.1402975171804428
           },
           {
            "label": "Technology&Computing>Computing>Internet>WebDevelopment",
            "relevance": 0.02590177021920681
           },
           {
            "label": "Technology&Computing>Computing>ComputerSoftwareAndApplications>OperatingSystems",
            "relevance": 0.008289473131299019
           },
           {
            "label": "Technology&Computing>Computing>Internet>WebDesignAndHTML",
            "relevance": 0.008081978186964989
           },
           {
            "label": "Technology&Computing>Computing>ComputerSoftwareAndApplications>Databases",
            "relevance": 0.0011924703139811754
           },
           {
            "label": "Technology&Computing>ArtificialIntelligence",
            "relevance": 0.0011390983127057552
           },
           {
            "label": "BusinessAndFinance>Business>BusinessI.T.",
            "relevance": 0.0009008285705931485
           },
           {
            "label": "Technology&Computing",
            "relevance": 0.000549998483620584
           }
          ],
          "text": "The fourth thing you need to understand is how loops work. So one thing computers are really great at is doing a simple task over and over again. You'd be surprised at how useful these can be for your programming future. After that, you should learn about functions. So this sets the foundation for almost everything you do on your programming journey. Functions allow you to encapsulate code and reuse it.",
          "timestamp": {
           "end": 377562,
           "start": 356264
          }
         },
         {
          "labels": [
           {
            "label": "Technology&Computing>Computing>ProgrammingLanguages",
            "relevance": 0.9764951467514038
           },
           {
            "label": "Technology&Computing>Computing>ComputerSoftwareAndApplications>Databases",
            "relevance": 0.30757221579551697
           },
           {
            "label": "Technology&Computing>Computing>DataStorageAndWarehousing",
            "relevance": 0.034268155694007874
           },
           {
            "label": "Technology&Computing>Computing>ComputerSoftwareAndApplications",
            "relevance": 0.005975215695798397
           },
           {
            "label": "Technology&Computing>Computing>Internet>WebDevelopment",
            "relevance": 0.005400600377470255
           },
           {
            "label": "Technology&Computing>Computing>Internet>WebDesignAndHTML",
            "relevance": 0.004977370146661997
           },
           {
            "label": "Technology&Computing>Computing",
            "relevance": 0.004665924236178398
           },
           {
            "label": "Technology&Computing>Computing>ComputerSoftwareAndApplications>OperatingSystems",
            "relevance": 0.0017193336971104145
           },
           {
            "label": "Technology&Computing>Computing>ComputerSoftwareAndApplications>DesktopPublishing",
            "relevance": 0.0007098516798578203
           },
           {
            "label": "BusinessAndFinance>Business>BusinessI.T.",
            "relevance": 0.0003443428431637585
           }
          ],
          "text": "If you really think about it, good coding is about making as many reusable bits as possible, and these functions are where that really begins. At this point, you have a pretty good understanding of the key building blocks of Python. You should now learn a bit more about how some of the basic data structures work. I recommend taking a deeper dive into Lists, Dictionaries, as well as Tuples. This will set the foundation for much of your data work later on.",
          "timestamp": {
           "end": 397782,
           "start": 377696
          }
         },
         {
          "labels": [
           {
            "label": "Technology&Computing>Computing>ComputerSoftwareAndApplications>Databases",
            "relevance": 0.8293094038963318
           },
           {
            "label": "Technology&Computing>Computing>DataStorageAndWarehousing",
            "relevance": 0.8046072125434875
           },
           {
            "label": "Technology&Computing>Computing>ProgrammingLanguages",
            "relevance": 0.09021534025669098
           },
           {
            "label": "Technology&Computing>Computing>ComputerSoftwareAndApplications",
            "relevance": 0.004694747738540173
           },
           {
            "label": "Technology&Computing>Computing",
            "relevance": 0.003159487619996071
           },
           {
            "label": "BusinessAndFinance>Business>BusinessI.T.",
            "relevance": 0.0010790281230583787
           },
           {
            "label": "Technology&Computing>Computing>ComputerSoftwareAndApplications>OperatingSystems",
            "relevance": 0.0005777408950962126
           },
           {
            "label": "Technology&Computing>Computing>ComputerSoftwareAndApplications>3-DGraphics",
            "relevance": 0.00048347542178817093
           },
           {
            "label": "Technology&Computing>Computing>Internet>WebDevelopment",
            "relevance": 0.0003067410143557936
           },
           {
            "label": "Technology&Computing>Computing>Internet>CloudComputing",
            "relevance": 0.0002471518237143755
           }
          ],
          "text": "Finally, you should start learning to work with libraries. So the most important ones for data are Pandas, NumPy, ScikitLearn, and Matplotlib, and these give you additional tools to analyze, visualize and manipulate data. Pandas and Numpire also introduced some new data structures, like arrays, series, and data frames. So if you have an understanding of how the more basic data structures work in Python, you should be able to pick these up relatively quickly. And that's it.",
          "timestamp": {
           "end": 419526,
           "start": 397916
          }
         },
         {
          "labels": [
           {
            "label": "Technology&Computing>Computing>ProgrammingLanguages",
            "relevance": 0.9748011231422424
           },
           {
            "label": "Technology&Computing>Computing>ComputerSoftwareAndApplications",
            "relevance": 0.6381824016571045
           },
           {
            "label": "Technology&Computing>Computing>ComputerSoftwareAndApplications>Databases",
            "relevance": 0.5464639067649841
           },
           {
            "label": "Technology&Computing>Computing>DataStorageAndWarehousing",
            "relevance": 0.19469092786312103
           },
           {
            "label": "Technology&Computing>Computing",
            "relevance": 0.10937438160181046
           },
           {
            "label": "Technology&Computing>Computing>ComputerSoftwareAndApplications>OperatingSystems",
            "relevance": 0.010251151397824287
           },
           {
            "label": "Technology&Computing>Computing>Internet>WebDevelopment",
            "relevance": 0.008547022007405758
           },
           {
            "label": "Technology&Computing>Computing>Internet>WebDesignAndHTML",
            "relevance": 0.00845507625490427
           },
           {
            "label": "BusinessAndFinance>Business>BusinessI.T.",
            "relevance": 0.005067106802016497
           },
           {
            "label": "Technology&Computing>Computing>ComputerSoftwareAndApplications>DesktopPublishing",
            "relevance": 0.0009315143688581884
           }
          ],
          "text": "With those seven things, you have the basics of coding that you'll need for starting to work with data. If you're watching this and you're a software engineer, you probably think I left something important out. What I've purposely omitted from this list is an explanation of classes. So classes are the foundation of object oriented programming, and object oriented programming is a programming model that organizes code around objects rather than functions or logic.",
          "timestamp": {
           "end": 441226,
           "start": 419588
          }
         },
         {
          "labels": [
           {
            "label": "Technology&Computing>Computing>ProgrammingLanguages",
            "relevance": 0.810926079750061
           },
           {
            "label": "Technology&Computing>Computing>DataStorageAndWarehousing",
            "relevance": 0.4412902295589447
           },
           {
            "label": "Technology&Computing>Computing>ComputerSoftwareAndApplications>Databases",
            "relevance": 0.3591517508029938
           },
           {
            "label": "Technology&Computing>Computing>ComputerSoftwareAndApplications",
            "relevance": 0.02103828452527523
           },
           {
            "label": "Technology&Computing>Computing",
            "relevance": 0.008708782494068146
           },
           {
            "label": "BusinessAndFinance>Business>BusinessI.T.",
            "relevance": 0.002329861978068948
           },
           {
            "label": "Technology&Computing>Computing>Internet>WebDevelopment",
            "relevance": 0.0016065806848928332
           },
           {
            "label": "Technology&Computing>Computing>ComputerSoftwareAndApplications>OperatingSystems",
            "relevance": 0.0008280582260340452
           },
           {
            "label": "Technology&Computing>Computing>Internet>WebDesignAndHTML",
            "relevance": 0.0007299125427380204
           },
           {
            "label": "Technology&Computing>Computing>ComputerSoftwareAndApplications>DesktopPublishing",
            "relevance": 0.0005026490543968976
           }
          ],
          "text": "Object oriented programming is incredibly powerful, but honestly, it isn't very relevant for the beginner stages of working with data. It is something you should absolutely explore on your own after you've learned these other concepts. Well, in the description, I've linked a few great resources for learning all of the concepts, including the exact one from Free Code Camp that I gave my friend. Most of them are completely free, but I have also included my discount link for the course on 365 Data Science.",
          "timestamp": {
           "end": 465418,
           "start": 441358
          }
         },
         {
          "labels": [
           {
            "label": "Education>OnlineEducation",
            "relevance": 0.28360310196876526
           },
           {
            "label": "Education>EducationalAssessment",
            "relevance": 0.022792836651206017
           },
           {
            "label": "Technology&Computing>Computing>DataStorageAndWarehousing",
            "relevance": 0.021281562745571136
           },
           {
            "label": "Education>HomeworkAndStudy",
            "relevance": 0.012411072850227356
           },
           {
            "label": "Hobbies&Interests>ContentProduction",
            "relevance": 0.0022046484518796206
           },
           {
            "label": "Technology&Computing>Computing>ComputerSoftwareAndApplications",
            "relevance": 0.0017427115235477686
           },
           {
            "label": "BusinessAndFinance>Business>MarketingAndAdvertising",
            "relevance": 0.0010517551563680172
           },
           {
            "label": "BusinessAndFinance>Industries>ConstructionIndustry",
            "relevance": 0.0009377403184771538
           },
           {
            "label": "BusinessAndFinance>Business>BusinessI.T.",
            "relevance": 0.0008847765275277197
           },
           {
            "label": "Education>EducationalAssessment>StandardizedTesting",
            "relevance": 0.0008686925284564495
           }
          ],
          "text": "So if you're looking for a resource just to take you past the more basic coding and more towards tangible data science skills, I would recommend checking that out. One thing that I love about many of the courses that I've linked is that they have these little mini projects baked into the coursework. I think project based learning is the single most effective way to learn technical concepts.",
          "timestamp": {
           "end": 483358,
           "start": 465514
          }
         },
         {
          "labels": [
           {
            "label": "Technology&Computing>Computing>ProgrammingLanguages",
            "relevance": 0.16019926965236664
           },
           {
            "label": "Sports>MartialArts",
            "relevance": 0.05586325004696846
           },
           {
            "label": "Sports>Boxing",
            "relevance": 0.007977738976478577
           },
           {
            "label": "Technology&Computing>Computing",
            "relevance": 0.0047991396859288216
           },
           {
            "label": "Technology&Computing>Computing>ComputerSoftwareAndApplications",
            "relevance": 0.003875788301229477
           },
           {
            "label": "Technology&Computing>Computing>Internet>WebDevelopment",
            "relevance": 0.002718591131269932
           },
           {
            "label": "Technology&Computing>ArtificialIntelligence",
            "relevance": 0.0016546957194805145
           },
           {
            "label": "Technology&Computing>Computing>Internet>WebDesignAndHTML",
            "relevance": 0.00100128969643265
           },
           {
            "label": "Education>OnlineEducation",
            "relevance": 0.0007728625787422061
           },
           {
            "label": "Movies>ActionAndAdventureMovies",
            "relevance": 0.0007552897441200912
           }
          ],
          "text": "After first getting a basic foundation, I highly encourage you to think about how you can use code to build things that would be useful to you. So for my friend, the first project I'm having him do is create a jujitsu drill randomizer using Python. So for training anything, it's important to reinforce your skills. But it can get boring working on the same basic drills every day.",
          "timestamp": {
           "end": 503610,
           "start": 483454
          }
         },
         {
          "labels": [
           {
            "label": "Sports>MartialArts",
            "relevance": 0.6082295179367065
           },
           {
            "label": "Sports>Boxing",
            "relevance": 0.019439753144979477
           },
           {
            "label": "Education>OnlineEducation",
            "relevance": 0.0007363316835835576
           },
           {
            "label": "Religion&Spirituality>Buddhism",
            "relevance": 0.0006425243918783963
           },
           {
            "label": "Sports>Wrestling",
            "relevance": 0.0006391560891643167
           },
           {
            "label": "Education>EducationalAssessment",
            "relevance": 0.00043998699402436614
           },
           {
            "label": "Movies>ActionAndAdventureMovies",
            "relevance": 0.0004349359660409391
           },
           {
            "label": "Sports>Weightlifting",
            "relevance": 0.00043045246275141835
           },
           {
            "label": "Technology&Computing>Computing>ComputerSoftwareAndApplications",
            "relevance": 0.0003667851269710809
           },
           {
            "label": "FineArt>Dance",
            "relevance": 0.00034246398718096316
           }
          ],
          "text": "I'm having to make a program that essentially randomly selects two to three drills that we should work on during our sessions from a larger list. This is a simple project, but it's something that's directly relevant and useful to our work and our jujitsu training. With that in mind, I'd love for you to comment below with a Python project that you'd like to do, and we'll all hold each other accountable. Okay?",
          "timestamp": {
           "end": 522378,
           "start": 503660
          }
         },
         {
          "labels": [
           {
            "label": "Technology&Computing>Computing>DataStorageAndWarehousing",
            "relevance": 0.5962150692939758
           },
           {
            "label": "Technology&Computing>Computing>ComputerSoftwareAndApplications>Databases",
            "relevance": 0.1202964335680008
           },
           {
            "label": "Technology&Computing>Computing>ComputerSoftwareAndApplications",
            "relevance": 0.0014805657556280494
           },
           {
            "label": "Technology&Computing>Computing>ProgrammingLanguages",
            "relevance": 0.000746802135836333
           },
           {
            "label": "Technology&Computing>Computing>Internet>CloudComputing",
            "relevance": 0.0006166126695461571
           },
           {
            "label": "BusinessAndFinance>Business>Sales",
            "relevance": 0.00018718958017416298
           },
           {
            "label": "BusinessAndFinance>Business>BusinessI.T.",
            "relevance": 0.0001689543860265985
           },
           {
            "label": "BusinessAndFinance>Business>Logistics",
            "relevance": 0.00015336074284277856
           },
           {
            "label": "Education>OnlineEducation",
            "relevance": 0.00013715113163925707
           },
           {
            "label": "Technology&Computing>Computing>Internet>WebDevelopment",
            "relevance": 0.00012088041694369167
           }
          ],
          "text": "So now that you've learned the basics of Python, now what? If you're interested in learning more about data, I highly recommend that you do a datarelated project. The single best place for this is Kaggle.com, which I've mentioned before. If that's a bit too intimidating, you can follow along on one of the projects that I've done or one of the thousands of projects that other people have worked on on the Kaggle platform. Realistically, many people lose steam at this step.",
          "timestamp": {
           "end": 545166,
           "start": 522464
          }
         },
         {
          "labels": [
           {
            "label": "Technology&Computing>Computing>ProgrammingLanguages",
            "relevance": 0.10430345684289932
           },
           {
            "label": "FineArt>Design",
            "relevance": 0.03067994862794876
           },
           {
            "label": "Technology&Computing>Computing>ComputerSoftwareAndApplications>DesktopPublishing",
            "relevance": 0.02327468805015087
           },
           {
            "label": "Technology&Computing>Computing>ComputerSoftwareAndApplications",
            "relevance": 0.004528597462922335
           },
           {
            "label": "Technology&Computing>Computing>Internet>WebDesignAndHTML",
            "relevance": 0.003798693884164095
           },
           {
            "label": "Technology&Computing>Computing>Internet>WebDevelopment",
            "relevance": 0.0023415889590978622
           },
           {
            "label": "BusinessAndFinance>Business>BusinessI.T.",
            "relevance": 0.0014098488027229905
           },
           {
            "label": "Technology&Computing>Computing>DataStorageAndWarehousing",
            "relevance": 0.0012782138073816895
           },
           {
            "label": "Hobbies&Interests>ArtsAndCrafts>DrawingAndSketching",
            "relevance": 0.0009777667000889778
           },
           {
            "label": "Technology&Computing>Computing",
            "relevance": 0.0008836644701659679
           }
          ],
          "text": "They go through and see the great work that other people have done, and they get discouraged again. Honestly, I remember feeling this too. What I recommend doing is going through some of the basic notebooks, like the Titanic data set, and just copying the code, running it on your own computer, line by line. Many people think that this is cheating, but it's actually a great way to learn. Even better when you run it, make some changes to the code and see what happens.",
          "timestamp": {
           "end": 566958,
           "start": 545288
          }
         },
         {
          "labels": [
           {
            "label": "Technology&Computing>Computing>ComputerSoftwareAndApplications>DesktopPublishing",
            "relevance": 0.011074704118072987
           },
           {
            "label": "Technology&Computing>Computing>ComputerSoftwareAndApplications>WebConferencing",
            "relevance": 0.004169580992311239
           },
           {
            "label": "FineArt>Design",
            "relevance": 0.003542668418958783
           },
           {
            "label": "Technology&Computing>Computing>Internet>WebDevelopment",
            "relevance": 0.0034428564831614494
           },
           {
            "label": "Technology&Computing>Computing>Internet>WebHosting",
            "relevance": 0.002849199576303363
           },
           {
            "label": "Technology&Computing>Computing>Internet>WebDesignAndHTML",
            "relevance": 0.002007386414334178
           },
           {
            "label": "Education>OnlineEducation",
            "relevance": 0.0019278856925666332
           },
           {
            "label": "Technology&Computing>Computing>Desktops",
            "relevance": 0.0017768245888873935
           },
           {
            "label": "Careers>RemoteWorking",
            "relevance": 0.001696957740932703
           },
           {
            "label": "Technology&Computing>Computing>ComputerSoftwareAndApplications>GraphicsSoftware",
            "relevance": 0.0015383330173790455
           }
          ],
          "text": "Maybe you should try changing, like the colors on a graph from blue to red, or try to make a line thicker on one of the graphs. Just simple things like that help you iterate and improve. So remember when we talked about IDs earlier and I'd mentioned Jupiter's notebook? Kaggle uses something similar to that that lets you work online. This is great and free compute power if you have limited resources at home.",
          "timestamp": {
           "end": 585990,
           "start": 567104
          }
         },
         {
          "labels": [
           {
            "label": "Technology&Computing>Computing>DataStorageAndWarehousing",
            "relevance": 0.29366809129714966
           },
           {
            "label": "Technology&Computing>Computing>ComputerSoftwareAndApplications>Databases",
            "relevance": 0.031690407544374466
           },
           {
            "label": "Technology&Computing>Computing>Internet>CloudComputing",
            "relevance": 0.001205651555210352
           },
           {
            "label": "Technology&Computing>Computing>ProgrammingLanguages",
            "relevance": 0.0007019920740276575
           },
           {
            "label": "Technology&Computing>Computing>ComputerSoftwareAndApplications",
            "relevance": 0.0004278401902411133
           },
           {
            "label": "Technology&Computing>Computing",
            "relevance": 0.00014710654795635492
           },
           {
            "label": "BusinessAndFinance>Business>Sales",
            "relevance": 0.00013260284322313964
           },
           {
            "label": "BusinessAndFinance>Business>BusinessI.T.",
            "relevance": 0.00011548629845492542
           },
           {
            "label": "Technology&Computing>Robotics",
            "relevance": 0.00011094698857050389
           },
           {
            "label": "BusinessAndFinance>Business>Logistics",
            "relevance": 0.00010133931937161833
           }
          ],
          "text": "So if you want to work with data on your laptop or desktop, I recommend downloading Anaconda. Anaconda is a software package that lumps together all of the relevant Python libraries and ideas for data science in one go. So you can check out my video for how to install it, which I've linked above and in the description. Finally, I have three tips to send you on your way. These are probably the most important things that a new coder can learn.",
          "timestamp": {
           "end": 608610,
           "start": 586040
          }
         },
         {
          "labels": [
           {
            "label": "Technology&Computing>Computing>Internet>Search",
            "relevance": 0.0506107360124588
           },
           {
            "label": "Technology&Computing>Computing>DataStorageAndWarehousing",
            "relevance": 0.04672352224588394
           },
           {
            "label": "Technology&Computing>Computing>ComputerSoftwareAndApplications>Databases",
            "relevance": 0.03022051975131035
           },
           {
            "label": "Technology&Computing>Computing>ProgrammingLanguages",
            "relevance": 0.011595996096730232
           },
           {
            "label": "Technology&Computing>Computing>Internet>WebDevelopment",
            "relevance": 0.0036921778228133917
           },
           {
            "label": "Technology&Computing>Computing>ComputerSoftwareAndApplications",
            "relevance": 0.001672725542448461
           },
           {
            "label": "BusinessAndFinance>Business>BusinessI.T.",
            "relevance": 0.0014540336560457945
           },
           {
            "label": "Technology&Computing>Computing",
            "relevance": 0.0013047545216977596
           },
           {
            "label": "Technology&Computing>Computing>Internet>CloudComputing",
            "relevance": 0.0011626906925812364
           },
           {
            "label": "Technology&Computing>Computing>Internet>ITAndInternetSupport",
            "relevance": 0.000979752978309989
           }
          ],
          "text": "So the first one is to use Google and stack overflow. If you have a question, it's almost guaranteed that someone has asked it before on the Internet, getting good at finding answers on your own via search might be the single most important skill of a data scientist or software engineer that they use every single day. The second is to use errors so your code will not run. It will break, and you'll be sad. Don't just wallow in your self pity. Read the error messages.",
          "timestamp": {
           "end": 632050,
           "start": 608660
          }
         },
         {
          "labels": [
           {
            "label": "Technology&Computing>Computing>ProgrammingLanguages",
            "relevance": 0.03310083970427513
           },
           {
            "label": "Technology&Computing>Computing>DataStorageAndWarehousing",
            "relevance": 0.010236410424113274
           },
           {
            "label": "Technology&Computing>Computing>ComputerSoftwareAndApplications>Databases",
            "relevance": 0.002769020153209567
           },
           {
            "label": "Technology&Computing>Computing>Internet>WebDevelopment",
            "relevance": 0.0006400176789611578
           },
           {
            "label": "Technology&Computing>Computing>ComputerSoftwareAndApplications",
            "relevance": 0.0004412453272379935
           },
           {
            "label": "Technology&Computing>Computing",
            "relevance": 0.00039440582622773945
           },
           {
            "label": "BusinessAndFinance>Business>BusinessI.T.",
            "relevance": 0.0002687223022803664
           },
           {
            "label": "Technology&Computing>ArtificialIntelligence",
            "relevance": 0.0002637691795825958
           },
           {
            "label": "Education>EducationalAssessment",
            "relevance": 0.00026086653815582395
           },
           {
            "label": "Education>HomeworkAndStudy",
            "relevance": 0.00022350371000356972
           }
          ],
          "text": "They'll tell you something about what's wrong. Also, Google the errors, and this will save you a lot of time and headache. Finally, the third thing is to take it easy on yourself. The only people that can't code are the ones that never tried or the ones that quit too early. Thank you all so much for watching, and good luck on your data science and coding journey.",
          "timestamp": {
           "end": 647470,
           "start": 632110
          }
         }
        ],
        "status": "success",
        "summary": {
         "BusinessAndFinance>Business>BusinessI.T.": 0.0062935492023825645,
         "Education>EducationalAssessment": 0.0019941881764680147,
         "Education>HomeworkAndStudy": 0.0012111155083402991,
         "Education>OnlineEducation": 0.021426022052764893,
         "FineArt>Design": 0.004620478488504887,
         "Hobbies&Interests>ArtsAndCrafts>Scrapbooking": 0.0021355419885367155,
         "Hobbies&Interests>ContentProduction>FreelanceWriting": 0.0008685922948643565,
         "Sports>Boxing": 0.004139060620218515,
         "Sports>MartialArts": 0.11868251115083694,
         "Technology&Computing>Computing": 0.07513512670993805,
         "Technology&Computing>Computing>ComputerSoftwareAndApplications": 0.08911718428134918,
         "Technology&Computing>Computing>ComputerSoftwareAndApplications>Databases": 0.2964928150177002,
         "Technology&Computing>Computing>ComputerSoftwareAndApplications>DesktopPublishing": 0.07478858530521393,
         "Technology&Computing>Computing>ComputerSoftwareAndApplications>OperatingSystems": 0.00468349177390337,
         "Technology&Computing>Computing>DataStorageAndWarehousing": 0.2801637351512909,
         "Technology&Computing>Computing>Internet>ITAndInternetSupport": 0.0008533254731446505,
         "Technology&Computing>Computing>Internet>Search": 0.003941779490560293,
         "Technology&Computing>Computing>Internet>WebDesignAndHTML": 0.00970423687249422,
         "Technology&Computing>Computing>Internet>WebDevelopment": 0.01837061531841755,
         "Technology&Computing>Computing>ProgrammingLanguages": 1
        }
       },
       "id": "op7y8rsu8l-1814-4700-b70b-1d47b874858b",
       "language_code": "en_us",
       "language_detection": false,
       "language_model": "assemblyai_default",
       "punctuate": true,
       "redact_pii": false,
       "redact_pii_audio": false,
       "redact_pii_audio_quality": null,
       "redact_pii_policies": null,
       "redact_pii_sub": null,
       "sentiment_analysis": true,
       "sentiment_analysis_results": [
        {
         "confidence": 0.9854362607002258,
         "end": 2094,
         "sentiment": "POSITIVE",
         "speaker": null,
         "start": 250,
         "text": "I recently got an amazing opportunity."
        },
        {
         "confidence": 0.5677167177200317,
         "end": 7278,
         "sentiment": "POSITIVE",
         "speaker": null,
         "start": 2252,
         "text": "I've been learning jujitsu, and a friend offered to coach me in exchange for teaching him how to code."
        },
        {
         "confidence": 0.9557937383651733,
         "end": 13290,
         "sentiment": "POSITIVE",
         "speaker": null,
         "start": 7424,
         "text": "At this point in my life where I'm trying to improve my jiu jitsu as quickly as possible, this was an incredible trade for me."
        },
        {
         "confidence": 0.6896097660064697,
         "end": 22698,
         "sentiment": "NEGATIVE",
         "speaker": null,
         "start": 13340,
         "text": "In my personal opinion, I was all for until I had to think about how I'd actually go about teaching someone how to code starting from nothing, I quickly realized that this was going to be a lot harder than I thought."
        },
        {
         "confidence": 0.6135286688804626,
         "end": 26250,
         "sentiment": "NEUTRAL",
         "speaker": null,
         "start": 22844,
         "text": "After all, it's been almost ten years since I wrote my very first line of code."
        },
        {
         "confidence": 0.5590706467628479,
         "end": 27510,
         "sentiment": "NEUTRAL",
         "speaker": null,
         "start": 26300,
         "text": "That's a pretty long time."
        },
        {
         "confidence": 0.7175085544586182,
         "end": 33934,
         "sentiment": "NEUTRAL",
         "speaker": null,
         "start": 27560,
         "text": "Now, this video is about the very specific and detailed plan that I wrote for my friend to teach me the basics of coding for data science."
        },
        {
         "confidence": 0.8073458671569824,
         "end": 37638,
         "sentiment": "NEUTRAL",
         "speaker": null,
         "start": 33982,
         "text": "Since I did all the work for him, I figured I might as well share the details with you as well."
        },
        {
         "confidence": 0.571090042591095,
         "end": 37926,
         "sentiment": "NEUTRAL",
         "speaker": null,
         "start": 37664,
         "text": "Here."
        },
        {
         "confidence": 0.9371036291122437,
         "end": 43426,
         "sentiment": "POSITIVE",
         "speaker": null,
         "start": 37988,
         "text": "There have been plenty of other great videos similar to this about how to start coding, and I've linked many of them in the description."
        },
        {
         "confidence": 0.6514154076576233,
         "end": 51174,
         "sentiment": "POSITIVE",
         "speaker": null,
         "start": 43498,
         "text": "Again, those are great, but I think this is a bit different because it's more focused on coding for data and it uses a very specific real world case study."
        },
        {
         "confidence": 0.6790585517883301,
         "end": 55662,
         "sentiment": "POSITIVE",
         "speaker": null,
         "start": 51332,
         "text": "At the end, I also highlight the three most important things a new programmer should know."
        },
        {
         "confidence": 0.6961215734481812,
         "end": 57666,
         "sentiment": "POSITIVE",
         "speaker": null,
         "start": 55736,
         "text": "So you definitely want to stick around for that."
        },
        {
         "confidence": 0.7321674823760986,
         "end": 60342,
         "sentiment": "NEUTRAL",
         "speaker": null,
         "start": 57728,
         "text": "Let's start with the language that we should start learning."
        },
        {
         "confidence": 0.5769912600517273,
         "end": 63862,
         "sentiment": "POSITIVE",
         "speaker": null,
         "start": 60476,
         "text": "I know if you're working with data, you generally have two good choices."
        },
        {
         "confidence": 0.8370683789253235,
         "end": 65838,
         "sentiment": "NEUTRAL",
         "speaker": null,
         "start": 63946,
         "text": "They would either start with Python or R."
        },
        {
         "confidence": 0.682600200176239,
         "end": 77242,
         "sentiment": "NEUTRAL",
         "speaker": null,
         "start": 65924,
         "text": "Let's quickly compare the two languages data Science Style when looking at the Stack Overflow developer survey, we find that about 48% of respondents use Python, while only about 5% user."
        },
        {
         "confidence": 0.6892269849777222,
         "end": 80290,
         "sentiment": "POSITIVE",
         "speaker": null,
         "start": 77326,
         "text": "In industry, Python is a far more common language."
        },
        {
         "confidence": 0.7762300372123718,
         "end": 86962,
         "sentiment": "NEUTRAL",
         "speaker": null,
         "start": 80410,
         "text": "Let's now look more specifically a data scientist, not just all Stack Overflow users who come from a variety of backgrounds."
        },
        {
         "confidence": 0.8138779997825623,
         "end": 97002,
         "sentiment": "POSITIVE",
         "speaker": null,
         "start": 87046,
         "text": "On Kaggle, my favorite platform for data science learning and projects, we can see that around 84.2% of respondents use Python, while only 25% use R."
        },
        {
         "confidence": 0.777105450630188,
         "end": 102514,
         "sentiment": "NEUTRAL",
         "speaker": null,
         "start": 97136,
         "text": "Since these add up to more than 100%, we can assume that some data scientists are using both languages."
        },
        {
         "confidence": 0.7736465930938721,
         "end": 105246,
         "sentiment": "NEUTRAL",
         "speaker": null,
         "start": 102622,
         "text": "Finally, let's look at these two languages over time."
        },
        {
         "confidence": 0.806574821472168,
         "end": 110002,
         "sentiment": "POSITIVE",
         "speaker": null,
         "start": 105308,
         "text": "We can see here from 2020 to 2021, Python has gained an adoption."
        },
        {
         "confidence": 0.6343181133270264,
         "end": 113590,
         "sentiment": "NEUTRAL",
         "speaker": null,
         "start": 110086,
         "text": "While our usage has seen some attrition, to me, this is a no brainer."
        },
        {
         "confidence": 0.576751172542572,
         "end": 116226,
         "sentiment": "POSITIVE",
         "speaker": null,
         "start": 113650,
         "text": "I recommended my friend to start learning Python first."
        },
        {
         "confidence": 0.8981326222419739,
         "end": 118890,
         "sentiment": "POSITIVE",
         "speaker": null,
         "start": 116348,
         "text": "That language is more popular, and it's continuing to grow."
        },
        {
         "confidence": 0.645785391330719,
         "end": 120354,
         "sentiment": "NEUTRAL",
         "speaker": null,
         "start": 118940,
         "text": "This isn't to say R is bad."
        },
        {
         "confidence": 0.9332534074783325,
         "end": 125946,
         "sentiment": "POSITIVE",
         "speaker": null,
         "start": 120452,
         "text": "It's just to say that I think Python is growing and will be a more valuable skill to have for the job market in general."
        },
        {
         "confidence": 0.7587546706199646,
         "end": 128946,
         "sentiment": "POSITIVE",
         "speaker": null,
         "start": 126008,
         "text": "I also personally find it a bit more intuitive and flexible than our."
        },
        {
         "confidence": 0.860024631023407,
         "end": 132846,
         "sentiment": "NEUTRAL",
         "speaker": null,
         "start": 129008,
         "text": "Now that we've chosen our language as Python, what coding skills should my friend learn first?"
        },
        {
         "confidence": 0.8720144629478455,
         "end": 134554,
         "sentiment": "NEUTRAL",
         "speaker": null,
         "start": 132968,
         "text": "Should he focus on variables?"
        },
        {
         "confidence": 0.7596323490142822,
         "end": 135478,
         "sentiment": "NEUTRAL",
         "speaker": null,
         "start": 134602,
         "text": "Logic functions?"
        },
        {
         "confidence": 0.6886606216430664,
         "end": 136042,
         "sentiment": "NEUTRAL",
         "speaker": null,
         "start": 135514,
         "text": "Algorithms?"
        },
        {
         "confidence": 0.740774393081665,
         "end": 136882,
         "sentiment": "NEUTRAL",
         "speaker": null,
         "start": 136126,
         "text": "Classes?"
        },
        {
         "confidence": 0.5248250961303711,
         "end": 139542,
         "sentiment": "NEUTRAL",
         "speaker": null,
         "start": 137026,
         "text": "My mind was absolutely spinning when I first addressed this."
        },
        {
         "confidence": 0.6716702580451965,
         "end": 145098,
         "sentiment": "NEUTRAL",
         "speaker": null,
         "start": 139616,
         "text": "It took me a second, but I had this weird chaotic flashback to my first days of learning programming myself."
        },
        {
         "confidence": 0.5659180879592896,
         "end": 148254,
         "sentiment": "NEGATIVE",
         "speaker": null,
         "start": 145244,
         "text": "I didn't even know where to start with getting Python on my own computer."
        },
        {
         "confidence": 0.9405953884124756,
         "end": 155766,
         "sentiment": "POSITIVE",
         "speaker": null,
         "start": 148352,
         "text": "I just now got excited about teaching the functional part of programming, and I completely forgot about the basics of setting up your environment for success."
        },
        {
         "confidence": 0.9399697780609131,
         "end": 162318,
         "sentiment": "POSITIVE",
         "speaker": null,
         "start": 155888,
         "text": "The next thing I did was give my friend some of my favorite resources on choosing an environment and getting the right version of Python on his computer."
        },
        {
         "confidence": 0.6098055243492126,
         "end": 163902,
         "sentiment": "NEUTRAL",
         "speaker": null,
         "start": 162404,
         "text": "Honestly, I was a bit torn on this too."
        },
        {
         "confidence": 0.8323457837104797,
         "end": 165846,
         "sentiment": "NEUTRAL",
         "speaker": null,
         "start": 163976,
         "text": "So, for example, what IDE should have used?"
        },
        {
         "confidence": 0.5142828822135925,
         "end": 167550,
         "sentiment": "NEGATIVE",
         "speaker": null,
         "start": 165908,
         "text": "Does he even know what IDE stands for?"
        },
        {
         "confidence": 0.7647459506988525,
         "end": 172366,
         "sentiment": "NEUTRAL",
         "speaker": null,
         "start": 167600,
         "text": "For those who don't know and who are new, ID stands for Integrated Development Environment."
        },
        {
         "confidence": 0.7028552889823914,
         "end": 175698,
         "sentiment": "NEUTRAL",
         "speaker": null,
         "start": 172498,
         "text": "So this is essentially just a text editor you use to write your code."
        },
        {
         "confidence": 0.6894965767860413,
         "end": 178890,
         "sentiment": "NEUTRAL",
         "speaker": null,
         "start": 175784,
         "text": "If you were writing an essay, you could choose to use Microsoft Word."
        },
        {
         "confidence": 0.5341423153877258,
         "end": 183486,
         "sentiment": "NEUTRAL",
         "speaker": null,
         "start": 178940,
         "text": "You could use Google Docs, you could use Notepad, or maybe even just straight up pen and paper."
        },
        {
         "confidence": 0.7911513447761536,
         "end": 186414,
         "sentiment": "NEUTRAL",
         "speaker": null,
         "start": 183548,
         "text": "Just like there are these different mediums for you to write your last minute paper."
        },
        {
         "confidence": 0.789734423160553,
         "end": 189786,
         "sentiment": "NEUTRAL",
         "speaker": null,
         "start": 186512,
         "text": "Data scientists and software engineers need places to write their code."
        },
        {
         "confidence": 0.6798380613327026,
         "end": 191686,
         "sentiment": "NEUTRAL",
         "speaker": null,
         "start": 189908,
         "text": "These places are called IDs."
        },
        {
         "confidence": 0.5279349684715271,
         "end": 200262,
         "sentiment": "NEUTRAL",
         "speaker": null,
         "start": 191758,
         "text": "And just like Microsoft Word has spell track and formatting to make sure that you don't make grammatical errors, many ideas help you to make sure that you have proper syntax in your code."
        },
        {
         "confidence": 0.5907033681869507,
         "end": 207886,
         "sentiment": "NEGATIVE",
         "speaker": null,
         "start": 200336,
         "text": "In theory, technically, Microsoft Word would be considered an idea, but I definitely don't recommend using it as such unless you're jump ate."
        },
        {
         "confidence": 0.8859666585922241,
         "end": 211354,
         "sentiment": "NEUTRAL",
         "speaker": null,
         "start": 207958,
         "text": "This is a list of the most commonly used Ides in the data domain."
        },
        {
         "confidence": 0.7200871109962463,
         "end": 217246,
         "sentiment": "NEUTRAL",
         "speaker": null,
         "start": 211462,
         "text": "And as you can see, common Ides for Python are vs, code, jupyter, notebook, PyCharm, and Spider."
        },
        {
         "confidence": 0.788666307926178,
         "end": 223722,
         "sentiment": "NEUTRAL",
         "speaker": null,
         "start": 217438,
         "text": "Before anything else, I wanted to give him a decent understanding about how the development environments work before we picked one."
        },
        {
         "confidence": 0.799895703792572,
         "end": 227706,
         "sentiment": "NEGATIVE",
         "speaker": null,
         "start": 223796,
         "text": "As I mentioned, this is something that I was totally confused about when I started."
        },
        {
         "confidence": 0.752655565738678,
         "end": 232042,
         "sentiment": "NEUTRAL",
         "speaker": null,
         "start": 227828,
         "text": "When I learned to code, I was using Python and I was using an IDE called Idle."
        },
        {
         "confidence": 0.42863601446151733,
         "end": 239274,
         "sentiment": "NEUTRAL",
         "speaker": null,
         "start": 232126,
         "text": "So Idle is great for learning, but I've literally never once touched it since, and I don't use it on any data projects in any of my work."
        },
        {
         "confidence": 0.8118054866790771,
         "end": 246282,
         "sentiment": "NEUTRAL",
         "speaker": null,
         "start": 239372,
         "text": "I wanted to make sure that my friend was using something that would be representative of what he might see in the real world, what people actually use."
        },
        {
         "confidence": 0.5607037544250488,
         "end": 250978,
         "sentiment": "NEUTRAL",
         "speaker": null,
         "start": 246356,
         "text": "For this specific friend, I recommended that he started learning the basics with this video from Precocamp."
        },
        {
         "confidence": 0.8468848466873169,
         "end": 253474,
         "sentiment": "NEUTRAL",
         "speaker": null,
         "start": 251014,
         "text": "I've linked it and all other resources in the description."
        },
        {
         "confidence": 0.5401339530944824,
         "end": 257370,
         "sentiment": "POSITIVE",
         "speaker": null,
         "start": 253582,
         "text": "So in the video, they show you how to set up the PyCharm environment and get comfortable using that."
        },
        {
         "confidence": 0.92706298828125,
         "end": 263418,
         "sentiment": "POSITIVE",
         "speaker": null,
         "start": 257420,
         "text": "I think PyCharm is solid, and if you get familiar with that, you can easily pick up the SCode, a Jupiter notebook, or Spider pretty quickly."
        },
        {
         "confidence": 0.5262362957000732,
         "end": 266778,
         "sentiment": "NEGATIVE",
         "speaker": null,
         "start": 263504,
         "text": "Truthfully, I don't think that the idea that you start with really matters that much."
        },
        {
         "confidence": 0.5348007082939148,
         "end": 272382,
         "sentiment": "NEUTRAL",
         "speaker": null,
         "start": 266864,
         "text": "What's more important is that you're using one that people who actually write Python code into production are using."
        },
        {
         "confidence": 0.7784150242805481,
         "end": 274762,
         "sentiment": "NEUTRAL",
         "speaker": null,
         "start": 272516,
         "text": "Okay, now on to the coding basics."
        },
        {
         "confidence": 0.9154172539710999,
         "end": 279186,
         "sentiment": "POSITIVE",
         "speaker": null,
         "start": 274906,
         "text": "Surprisingly, I think this might be one of the simplest parts of this entire process."
        },
        {
         "confidence": 0.6738186478614807,
         "end": 283398,
         "sentiment": "NEGATIVE",
         "speaker": null,
         "start": 279368,
         "text": "You see, there's a common misconception that coding is trying to trick you."
        },
        {
         "confidence": 0.7850431799888611,
         "end": 288022,
         "sentiment": "NEGATIVE",
         "speaker": null,
         "start": 283424,
         "text": "There's this conspiracy that learning to code is supposed to be really hard and very scary."
        },
        {
         "confidence": 0.5571187734603882,
         "end": 290458,
         "sentiment": "NEUTRAL",
         "speaker": null,
         "start": 288106,
         "text": "I would argue that it's almost the opposite."
        },
        {
         "confidence": 0.7869985699653625,
         "end": 292486,
         "sentiment": "NEUTRAL",
         "speaker": null,
         "start": 290554,
         "text": "Coding languages, particularly Python."
        },
        {
         "confidence": 0.9124703407287598,
         "end": 296254,
         "sentiment": "POSITIVE",
         "speaker": null,
         "start": 292558,
         "text": "They're designed to be as easy to use as possible while creating good results."
        },
        {
         "confidence": 0.9270672798156738,
         "end": 301906,
         "sentiment": "POSITIVE",
         "speaker": null,
         "start": 296362,
         "text": "So if you change your perspective to look at them as intuitive, coding becomes significantly more fun and stressfree."
        },
        {
         "confidence": 0.6348057985305786,
         "end": 303694,
         "sentiment": "NEUTRAL",
         "speaker": null,
         "start": 301978,
         "text": "This isn't to say that you won't get stuck."
        },
        {
         "confidence": 0.6158425807952881,
         "end": 310470,
         "sentiment": "NEUTRAL",
         "speaker": null,
         "start": 303802,
         "text": "It's just to say that when you do get stuck, there's almost always a logical reason for it and a logical solution to resolve your problems."
        },
        {
         "confidence": 0.693821370601654,
         "end": 315670,
         "sentiment": "NEUTRAL",
         "speaker": null,
         "start": 310580,
         "text": "Keeping with this theme of simplicity, at the most basic level, beginner coding can be broken down into seven concepts."
        },
        {
         "confidence": 0.5070356726646423,
         "end": 321906,
         "sentiment": "POSITIVE",
         "speaker": null,
         "start": 315730,
         "text": "All the resources that I've linked in the description cover these topics, but I'm going to give you a very, very high level overview here."
        },
        {
         "confidence": 0.8381716012954712,
         "end": 323986,
         "sentiment": "NEUTRAL",
         "speaker": null,
         "start": 321968,
         "text": "The first one we start with is data types."
        },
        {
         "confidence": 0.6314433813095093,
         "end": 330478,
         "sentiment": "NEUTRAL",
         "speaker": null,
         "start": 324058,
         "text": "So in Python, you can work with numbers, you can work with text, you can work with Booleans, you can work with lists or a host of different data structures."
        },
        {
         "confidence": 0.6039033532142639,
         "end": 334422,
         "sentiment": "NEUTRAL",
         "speaker": null,
         "start": 330574,
         "text": "It's important to get a good understanding or a fundamental understanding of these first."
        },
        {
         "confidence": 0.7693310976028442,
         "end": 337434,
         "sentiment": "NEUTRAL",
         "speaker": null,
         "start": 334496,
         "text": "Next, I think it makes sense to get familiar with how variables work."
        },
        {
         "confidence": 0.8078016638755798,
         "end": 347154,
         "sentiment": "NEUTRAL",
         "speaker": null,
         "start": 337532,
         "text": "This can vary by language, so you need to make sure you know how to assign and change variables in Python, specifically, after variables, you should look into how logical operators work."
        },
        {
         "confidence": 0.9675305485725403,
         "end": 349390,
         "sentiment": "POSITIVE",
         "speaker": null,
         "start": 347192,
         "text": "These are very handy in your first few projects."
        },
        {
         "confidence": 0.7271006107330322,
         "end": 351846,
         "sentiment": "POSITIVE",
         "speaker": null,
         "start": 349450,
         "text": "If held, statements are probably the most important one."
        },
        {
         "confidence": 0.6104244589805603,
         "end": 356178,
         "sentiment": "POSITIVE",
         "speaker": null,
         "start": 351908,
         "text": "But you can definitely find use cases for the others, especially if you're working with data."
        },
        {
         "confidence": 0.7248570322990417,
         "end": 358938,
         "sentiment": "NEUTRAL",
         "speaker": null,
         "start": 356264,
         "text": "The fourth thing you need to understand is how loops work."
        },
        {
         "confidence": 0.8661454916000366,
         "end": 364098,
         "sentiment": "POSITIVE",
         "speaker": null,
         "start": 359024,
         "text": "So one thing computers are really great at is doing a simple task over and over again."
        },
        {
         "confidence": 0.9045030474662781,
         "end": 368310,
         "sentiment": "POSITIVE",
         "speaker": null,
         "start": 364244,
         "text": "You'd be surprised at how useful these can be for your programming future."
        },
        {
         "confidence": 0.8589364886283875,
         "end": 370378,
         "sentiment": "NEUTRAL",
         "speaker": null,
         "start": 368420,
         "text": "After that, you should learn about functions."
        },
        {
         "confidence": 0.6612256765365601,
         "end": 374818,
         "sentiment": "NEUTRAL",
         "speaker": null,
         "start": 370474,
         "text": "So this sets the foundation for almost everything you do on your programming journey."
        },
        {
         "confidence": 0.6240290999412537,
         "end": 377562,
         "sentiment": "POSITIVE",
         "speaker": null,
         "start": 374914,
         "text": "Functions allow you to encapsulate code and reuse it."
        },
        {
         "confidence": 0.8003348708152771,
         "end": 384190,
         "sentiment": "POSITIVE",
         "speaker": null,
         "start": 377696,
         "text": "If you really think about it, good coding is about making as many reusable bits as possible, and these functions are where that really begins."
        },
        {
         "confidence": 0.8900540471076965,
         "end": 387694,
         "sentiment": "POSITIVE",
         "speaker": null,
         "start": 384250,
         "text": "At this point, you have a pretty good understanding of the key building blocks of Python."
        },
        {
         "confidence": 0.8500798940658569,
         "end": 391470,
         "sentiment": "NEUTRAL",
         "speaker": null,
         "start": 387802,
         "text": "You should now learn a bit more about how some of the basic data structures work."
        },
        {
         "confidence": 0.5440900921821594,
         "end": 395014,
         "sentiment": "POSITIVE",
         "speaker": null,
         "start": 391520,
         "text": "I recommend taking a deeper dive into Lists, Dictionaries, as well as Tuples."
        },
        {
         "confidence": 0.5031412243843079,
         "end": 397782,
         "sentiment": "NEUTRAL",
         "speaker": null,
         "start": 395062,
         "text": "This will set the foundation for much of your data work later on."
        },
        {
         "confidence": 0.5282405614852905,
         "end": 400402,
         "sentiment": "NEUTRAL",
         "speaker": null,
         "start": 397916,
         "text": "Finally, you should start learning to work with libraries."
        },
        {
         "confidence": 0.8538879752159119,
         "end": 408762,
         "sentiment": "POSITIVE",
         "speaker": null,
         "start": 400486,
         "text": "So the most important ones for data are Pandas, NumPy, ScikitLearn, and Matplotlib, and these give you additional tools to analyze, visualize and manipulate data."
        },
        {
         "confidence": 0.837847113609314,
         "end": 412930,
         "sentiment": "NEUTRAL",
         "speaker": null,
         "start": 408836,
         "text": "Pandas and Numpire also introduced some new data structures, like arrays, series, and data frames."
        },
        {
         "confidence": 0.6371472477912903,
         "end": 418758,
         "sentiment": "POSITIVE",
         "speaker": null,
         "start": 412990,
         "text": "So if you have an understanding of how the more basic data structures work in Python, you should be able to pick these up relatively quickly."
        },
        {
         "confidence": 0.5477844476699829,
         "end": 419526,
         "sentiment": "NEUTRAL",
         "speaker": null,
         "start": 418844,
         "text": "And that's it."
        },
        {
         "confidence": 0.8271486759185791,
         "end": 424182,
         "sentiment": "NEUTRAL",
         "speaker": null,
         "start": 419588,
         "text": "With those seven things, you have the basics of coding that you'll need for starting to work with data."
        },
        {
         "confidence": 0.47931233048439026,
         "end": 428106,
         "sentiment": "NEGATIVE",
         "speaker": null,
         "start": 424256,
         "text": "If you're watching this and you're a software engineer, you probably think I left something important out."
        },
        {
         "confidence": 0.513831615447998,
         "end": 431710,
         "sentiment": "NEUTRAL",
         "speaker": null,
         "start": 428168,
         "text": "What I've purposely omitted from this list is an explanation of classes."
        },
        {
         "confidence": 0.7762998938560486,
         "end": 441226,
         "sentiment": "NEUTRAL",
         "speaker": null,
         "start": 431770,
         "text": "So classes are the foundation of object oriented programming, and object oriented programming is a programming model that organizes code around objects rather than functions or logic."
        },
        {
         "confidence": 0.4150903820991516,
         "end": 447462,
         "sentiment": "NEUTRAL",
         "speaker": null,
         "start": 441358,
         "text": "Object oriented programming is incredibly powerful, but honestly, it isn't very relevant for the beginner stages of working with data."
        },
        {
         "confidence": 0.713316798210144,
         "end": 452134,
         "sentiment": "POSITIVE",
         "speaker": null,
         "start": 447536,
         "text": "It is something you should absolutely explore on your own after you've learned these other concepts."
        },
        {
         "confidence": 0.9386650323867798,
         "end": 459858,
         "sentiment": "POSITIVE",
         "speaker": null,
         "start": 452182,
         "text": "Well, in the description, I've linked a few great resources for learning all of the concepts, including the exact one from Free Code Camp that I gave my friend."
        },
        {
         "confidence": 0.72319495677948,
         "end": 465418,
         "sentiment": "POSITIVE",
         "speaker": null,
         "start": 459944,
         "text": "Most of them are completely free, but I have also included my discount link for the course on 365 Data Science."
        },
        {
         "confidence": 0.7685678601264954,
         "end": 472770,
         "sentiment": "POSITIVE",
         "speaker": null,
         "start": 465514,
         "text": "So if you're looking for a resource just to take you past the more basic coding and more towards tangible data science skills, I would recommend checking that out."
        },
        {
         "confidence": 0.9802240133285522,
         "end": 478738,
         "sentiment": "POSITIVE",
         "speaker": null,
         "start": 472820,
         "text": "One thing that I love about many of the courses that I've linked is that they have these little mini projects baked into the coursework."
        },
        {
         "confidence": 0.9252229332923889,
         "end": 483358,
         "sentiment": "POSITIVE",
         "speaker": null,
         "start": 478834,
         "text": "I think project based learning is the single most effective way to learn technical concepts."
        },
        {
         "confidence": 0.8167121410369873,
         "end": 491742,
         "sentiment": "POSITIVE",
         "speaker": null,
         "start": 483454,
         "text": "After first getting a basic foundation, I highly encourage you to think about how you can use code to build things that would be useful to you."
        },
        {
         "confidence": 0.5978508591651917,
         "end": 497554,
         "sentiment": "NEUTRAL",
         "speaker": null,
         "start": 491816,
         "text": "So for my friend, the first project I'm having him do is create a jujitsu drill randomizer using Python."
        },
        {
         "confidence": 0.7015912532806396,
         "end": 500446,
         "sentiment": "NEUTRAL",
         "speaker": null,
         "start": 497662,
         "text": "So for training anything, it's important to reinforce your skills."
        },
        {
         "confidence": 0.9038236737251282,
         "end": 503610,
         "sentiment": "NEGATIVE",
         "speaker": null,
         "start": 500518,
         "text": "But it can get boring working on the same basic drills every day."
        },
        {
         "confidence": 0.8908714652061462,
         "end": 510618,
         "sentiment": "NEUTRAL",
         "speaker": null,
         "start": 503660,
         "text": "I'm having to make a program that essentially randomly selects two to three drills that we should work on during our sessions from a larger list."
        },
        {
         "confidence": 0.9276151061058044,
         "end": 515586,
         "sentiment": "POSITIVE",
         "speaker": null,
         "start": 510704,
         "text": "This is a simple project, but it's something that's directly relevant and useful to our work and our jujitsu training."
        },
        {
         "confidence": 0.8127702474594116,
         "end": 521854,
         "sentiment": "POSITIVE",
         "speaker": null,
         "start": 515648,
         "text": "With that in mind, I'd love for you to comment below with a Python project that you'd like to do, and we'll all hold each other accountable."
        },
        {
         "confidence": 0.7123859524726868,
         "end": 522378,
         "sentiment": "NEUTRAL",
         "speaker": null,
         "start": 521962,
         "text": "Okay?"
        },
        {
         "confidence": 0.7456001043319702,
         "end": 525162,
         "sentiment": "NEUTRAL",
         "speaker": null,
         "start": 522464,
         "text": "So now that you've learned the basics of Python, now what?"
        },
        {
         "confidence": 0.8782829642295837,
         "end": 530358,
         "sentiment": "POSITIVE",
         "speaker": null,
         "start": 525296,
         "text": "If you're interested in learning more about data, I highly recommend that you do a datarelated project."
        },
        {
         "confidence": 0.9193375110626221,
         "end": 534210,
         "sentiment": "POSITIVE",
         "speaker": null,
         "start": 530504,
         "text": "The single best place for this is Kaggle.com, which I've mentioned before."
        },
        {
         "confidence": 0.7000814080238342,
         "end": 542010,
         "sentiment": "NEUTRAL",
         "speaker": null,
         "start": 534380,
         "text": "If that's a bit too intimidating, you can follow along on one of the projects that I've done or one of the thousands of projects that other people have worked on on the Kaggle platform."
        },
        {
         "confidence": 0.6217605471611023,
         "end": 545166,
         "sentiment": "NEGATIVE",
         "speaker": null,
         "start": 542120,
         "text": "Realistically, many people lose steam at this step."
        },
        {
         "confidence": 0.4682561755180359,
         "end": 549150,
         "sentiment": "NEUTRAL",
         "speaker": null,
         "start": 545288,
         "text": "They go through and see the great work that other people have done, and they get discouraged again."
        },
        {
         "confidence": 0.7410768866539001,
         "end": 550890,
         "sentiment": "NEUTRAL",
         "speaker": null,
         "start": 549200,
         "text": "Honestly, I remember feeling this too."
        },
        {
         "confidence": 0.681861162185669,
         "end": 559398,
         "sentiment": "NEUTRAL",
         "speaker": null,
         "start": 550940,
         "text": "What I recommend doing is going through some of the basic notebooks, like the Titanic data set, and just copying the code, running it on your own computer, line by line."
        },
        {
         "confidence": 0.5282831192016602,
         "end": 563202,
         "sentiment": "POSITIVE",
         "speaker": null,
         "start": 559544,
         "text": "Many people think that this is cheating, but it's actually a great way to learn."
        },
        {
         "confidence": 0.7531724572181702,
         "end": 566958,
         "sentiment": "POSITIVE",
         "speaker": null,
         "start": 563276,
         "text": "Even better when you run it, make some changes to the code and see what happens."
        },
        {
         "confidence": 0.8702700734138489,
         "end": 573514,
         "sentiment": "NEUTRAL",
         "speaker": null,
         "start": 567104,
         "text": "Maybe you should try changing, like the colors on a graph from blue to red, or try to make a line thicker on one of the graphs."
        },
        {
         "confidence": 0.8813362717628479,
         "end": 575974,
         "sentiment": "POSITIVE",
         "speaker": null,
         "start": 573562,
         "text": "Just simple things like that help you iterate and improve."
        },
        {
         "confidence": 0.8734732270240784,
         "end": 579430,
         "sentiment": "NEUTRAL",
         "speaker": null,
         "start": 576022,
         "text": "So remember when we talked about IDs earlier and I'd mentioned Jupiter's notebook?"
        },
        {
         "confidence": 0.747973620891571,
         "end": 582474,
         "sentiment": "NEUTRAL",
         "speaker": null,
         "start": 579490,
         "text": "Kaggle uses something similar to that that lets you work online."
        },
        {
         "confidence": 0.9385425448417664,
         "end": 585990,
         "sentiment": "POSITIVE",
         "speaker": null,
         "start": 582572,
         "text": "This is great and free compute power if you have limited resources at home."
        },
        {
         "confidence": 0.5073233246803284,
         "end": 590674,
         "sentiment": "NEUTRAL",
         "speaker": null,
         "start": 586040,
         "text": "So if you want to work with data on your laptop or desktop, I recommend downloading Anaconda."
        },
        {
         "confidence": 0.5262939929962158,
         "end": 597690,
         "sentiment": "NEUTRAL",
         "speaker": null,
         "start": 590722,
         "text": "Anaconda is a software package that lumps together all of the relevant Python libraries and ideas for data science in one go."
        },
        {
         "confidence": 0.8528739213943481,
         "end": 602134,
         "sentiment": "NEUTRAL",
         "speaker": null,
         "start": 597800,
         "text": "So you can check out my video for how to install it, which I've linked above and in the description."
        },
        {
         "confidence": 0.603242814540863,
         "end": 604782,
         "sentiment": "NEUTRAL",
         "speaker": null,
         "start": 602242,
         "text": "Finally, I have three tips to send you on your way."
        },
        {
         "confidence": 0.9413374066352844,
         "end": 608610,
         "sentiment": "POSITIVE",
         "speaker": null,
         "start": 604856,
         "text": "These are probably the most important things that a new coder can learn."
        },
        {
         "confidence": 0.8287224769592285,
         "end": 611350,
         "sentiment": "NEUTRAL",
         "speaker": null,
         "start": 608660,
         "text": "So the first one is to use Google and stack overflow."
        },
        {
         "confidence": 0.6186635494232178,
         "end": 624906,
         "sentiment": "POSITIVE",
         "speaker": null,
         "start": 611470,
         "text": "If you have a question, it's almost guaranteed that someone has asked it before on the Internet, getting good at finding answers on your own via search might be the single most important skill of a data scientist or software engineer that they use every single day."
        },
        {
         "confidence": 0.7637071013450623,
         "end": 627426,
         "sentiment": "NEGATIVE",
         "speaker": null,
         "start": 624968,
         "text": "The second is to use errors so your code will not run."
        },
        {
         "confidence": 0.8506230711936951,
         "end": 629158,
         "sentiment": "NEGATIVE",
         "speaker": null,
         "start": 627488,
         "text": "It will break, and you'll be sad."
        },
        {
         "confidence": 0.8747800588607788,
         "end": 630838,
         "sentiment": "NEGATIVE",
         "speaker": null,
         "start": 629314,
         "text": "Don't just wallow in your self pity."
        },
        {
         "confidence": 0.4900802671909332,
         "end": 632050,
         "sentiment": "NEGATIVE",
         "speaker": null,
         "start": 630934,
         "text": "Read the error messages."
        },
        {
         "confidence": 0.4985716640949249,
         "end": 633834,
         "sentiment": "NEUTRAL",
         "speaker": null,
         "start": 632110,
         "text": "They'll tell you something about what's wrong."
        },
        {
         "confidence": 0.5685086846351624,
         "end": 637054,
         "sentiment": "POSITIVE",
         "speaker": null,
         "start": 633932,
         "text": "Also, Google the errors, and this will save you a lot of time and headache."
        },
        {
         "confidence": 0.5236702561378479,
         "end": 639402,
         "sentiment": "NEUTRAL",
         "speaker": null,
         "start": 637102,
         "text": "Finally, the third thing is to take it easy on yourself."
        },
        {
         "confidence": 0.9113683700561523,
         "end": 643746,
         "sentiment": "NEGATIVE",
         "speaker": null,
         "start": 639536,
         "text": "The only people that can't code are the ones that never tried or the ones that quit too early."
        },
        {
         "confidence": 0.9869617223739624,
         "end": 647470,
         "sentiment": "POSITIVE",
         "speaker": null,
         "start": 643928,
         "text": "Thank you all so much for watching, and good luck on your data science and coding journey."
        }
       ],
       "speaker_labels": false,
       "speed_boost": false,
       "status": "completed",
       "text": "I recently got an amazing opportunity. I've been learning jujitsu, and a friend offered to coach me in exchange for teaching him how to code. At this point in my life where I'm trying to improve my jiu jitsu as quickly as possible, this was an incredible trade for me. In my personal opinion, I was all for until I had to think about how I'd actually go about teaching someone how to code starting from nothing, I quickly realized that this was going to be a lot harder than I thought. After all, it's been almost ten years since I wrote my very first line of code. That's a pretty long time. Now, this video is about the very specific and detailed plan that I wrote for my friend to teach me the basics of coding for data science. Since I did all the work for him, I figured I might as well share the details with you as well. Here. There have been plenty of other great videos similar to this about how to start coding, and I've linked many of them in the description. Again, those are great, but I think this is a bit different because it's more focused on coding for data and it uses a very specific real world case study. At the end, I also highlight the three most important things a new programmer should know. So you definitely want to stick around for that. Let's start with the language that we should start learning. I know if you're working with data, you generally have two good choices. They would either start with Python or R. Let's quickly compare the two languages data Science Style when looking at the Stack Overflow developer survey, we find that about 48% of respondents use Python, while only about 5% user. In industry, Python is a far more common language. Let's now look more specifically a data scientist, not just all Stack Overflow users who come from a variety of backgrounds. On Kaggle, my favorite platform for data science learning and projects, we can see that around 84.2% of respondents use Python, while only 25% use R. Since these add up to more than 100%, we can assume that some data scientists are using both languages. Finally, let's look at these two languages over time. We can see here from 2020 to 2021, Python has gained an adoption. While our usage has seen some attrition, to me, this is a no brainer. I recommended my friend to start learning Python first. That language is more popular, and it's continuing to grow. This isn't to say R is bad. It's just to say that I think Python is growing and will be a more valuable skill to have for the job market in general. I also personally find it a bit more intuitive and flexible than our. Now that we've chosen our language as Python, what coding skills should my friend learn first? Should he focus on variables? Logic functions? Algorithms? Classes? My mind was absolutely spinning when I first addressed this. It took me a second, but I had this weird chaotic flashback to my first days of learning programming myself. I didn't even know where to start with getting Python on my own computer. I just now got excited about teaching the functional part of programming, and I completely forgot about the basics of setting up your environment for success. The next thing I did was give my friend some of my favorite resources on choosing an environment and getting the right version of Python on his computer. Honestly, I was a bit torn on this too. So, for example, what IDE should have used? Does he even know what IDE stands for? For those who don't know and who are new, ID stands for Integrated Development Environment. So this is essentially just a text editor you use to write your code. If you were writing an essay, you could choose to use Microsoft Word. You could use Google Docs, you could use Notepad, or maybe even just straight up pen and paper. Just like there are these different mediums for you to write your last minute paper. Data scientists and software engineers need places to write their code. These places are called IDs. And just like Microsoft Word has spell track and formatting to make sure that you don't make grammatical errors, many ideas help you to make sure that you have proper syntax in your code. In theory, technically, Microsoft Word would be considered an idea, but I definitely don't recommend using it as such unless you're jump ate. This is a list of the most commonly used Ides in the data domain. And as you can see, common Ides for Python are vs, code, jupyter, notebook, PyCharm, and Spider. Before anything else, I wanted to give him a decent understanding about how the development environments work before we picked one. As I mentioned, this is something that I was totally confused about when I started. When I learned to code, I was using Python and I was using an IDE called Idle. So Idle is great for learning, but I've literally never once touched it since, and I don't use it on any data projects in any of my work. I wanted to make sure that my friend was using something that would be representative of what he might see in the real world, what people actually use. For this specific friend, I recommended that he started learning the basics with this video from Precocamp. I've linked it and all other resources in the description. So in the video, they show you how to set up the PyCharm environment and get comfortable using that. I think PyCharm is solid, and if you get familiar with that, you can easily pick up the SCode, a Jupiter notebook, or Spider pretty quickly. Truthfully, I don't think that the idea that you start with really matters that much. What's more important is that you're using one that people who actually write Python code into production are using. Okay, now on to the coding basics. Surprisingly, I think this might be one of the simplest parts of this entire process. You see, there's a common misconception that coding is trying to trick you. There's this conspiracy that learning to code is supposed to be really hard and very scary. I would argue that it's almost the opposite. Coding languages, particularly Python. They're designed to be as easy to use as possible while creating good results. So if you change your perspective to look at them as intuitive, coding becomes significantly more fun and stressfree. This isn't to say that you won't get stuck. It's just to say that when you do get stuck, there's almost always a logical reason for it and a logical solution to resolve your problems. Keeping with this theme of simplicity, at the most basic level, beginner coding can be broken down into seven concepts. All the resources that I've linked in the description cover these topics, but I'm going to give you a very, very high level overview here. The first one we start with is data types. So in Python, you can work with numbers, you can work with text, you can work with Booleans, you can work with lists or a host of different data structures. It's important to get a good understanding or a fundamental understanding of these first. Next, I think it makes sense to get familiar with how variables work. This can vary by language, so you need to make sure you know how to assign and change variables in Python, specifically, after variables, you should look into how logical operators work. These are very handy in your first few projects. If held, statements are probably the most important one. But you can definitely find use cases for the others, especially if you're working with data. The fourth thing you need to understand is how loops work. So one thing computers are really great at is doing a simple task over and over again. You'd be surprised at how useful these can be for your programming future. After that, you should learn about functions. So this sets the foundation for almost everything you do on your programming journey. Functions allow you to encapsulate code and reuse it. If you really think about it, good coding is about making as many reusable bits as possible, and these functions are where that really begins. At this point, you have a pretty good understanding of the key building blocks of Python. You should now learn a bit more about how some of the basic data structures work. I recommend taking a deeper dive into Lists, Dictionaries, as well as Tuples. This will set the foundation for much of your data work later on. Finally, you should start learning to work with libraries. So the most important ones for data are Pandas, NumPy, ScikitLearn, and Matplotlib, and these give you additional tools to analyze, visualize and manipulate data. Pandas and Numpire also introduced some new data structures, like arrays, series, and data frames. So if you have an understanding of how the more basic data structures work in Python, you should be able to pick these up relatively quickly. And that's it. With those seven things, you have the basics of coding that you'll need for starting to work with data. If you're watching this and you're a software engineer, you probably think I left something important out. What I've purposely omitted from this list is an explanation of classes. So classes are the foundation of object oriented programming, and object oriented programming is a programming model that organizes code around objects rather than functions or logic. Object oriented programming is incredibly powerful, but honestly, it isn't very relevant for the beginner stages of working with data. It is something you should absolutely explore on your own after you've learned these other concepts. Well, in the description, I've linked a few great resources for learning all of the concepts, including the exact one from Free Code Camp that I gave my friend. Most of them are completely free, but I have also included my discount link for the course on 365 Data Science. So if you're looking for a resource just to take you past the more basic coding and more towards tangible data science skills, I would recommend checking that out. One thing that I love about many of the courses that I've linked is that they have these little mini projects baked into the coursework. I think project based learning is the single most effective way to learn technical concepts. After first getting a basic foundation, I highly encourage you to think about how you can use code to build things that would be useful to you. So for my friend, the first project I'm having him do is create a jujitsu drill randomizer using Python. So for training anything, it's important to reinforce your skills. But it can get boring working on the same basic drills every day. I'm having to make a program that essentially randomly selects two to three drills that we should work on during our sessions from a larger list. This is a simple project, but it's something that's directly relevant and useful to our work and our jujitsu training. With that in mind, I'd love for you to comment below with a Python project that you'd like to do, and we'll all hold each other accountable. Okay? So now that you've learned the basics of Python, now what? If you're interested in learning more about data, I highly recommend that you do a datarelated project. The single best place for this is Kaggle.com, which I've mentioned before. If that's a bit too intimidating, you can follow along on one of the projects that I've done or one of the thousands of projects that other people have worked on on the Kaggle platform. Realistically, many people lose steam at this step. They go through and see the great work that other people have done, and they get discouraged again. Honestly, I remember feeling this too. What I recommend doing is going through some of the basic notebooks, like the Titanic data set, and just copying the code, running it on your own computer, line by line. Many people think that this is cheating, but it's actually a great way to learn. Even better when you run it, make some changes to the code and see what happens. Maybe you should try changing, like the colors on a graph from blue to red, or try to make a line thicker on one of the graphs. Just simple things like that help you iterate and improve. So remember when we talked about IDs earlier and I'd mentioned Jupiter's notebook? Kaggle uses something similar to that that lets you work online. This is great and free compute power if you have limited resources at home. So if you want to work with data on your laptop or desktop, I recommend downloading Anaconda. Anaconda is a software package that lumps together all of the relevant Python libraries and ideas for data science in one go. So you can check out my video for how to install it, which I've linked above and in the description. Finally, I have three tips to send you on your way. These are probably the most important things that a new coder can learn. So the first one is to use Google and stack overflow. If you have a question, it's almost guaranteed that someone has asked it before on the Internet, getting good at finding answers on your own via search might be the single most important skill of a data scientist or software engineer that they use every single day. The second is to use errors so your code will not run. It will break, and you'll be sad. Don't just wallow in your self pity. Read the error messages. They'll tell you something about what's wrong. Also, Google the errors, and this will save you a lot of time and headache. Finally, the third thing is to take it easy on yourself. The only people that can't code are the ones that never tried or the ones that quit too early. Thank you all so much for watching, and good luck on your data science and coding journey.",
       "utterances": null,
       "webhook_auth": false,
       "webhook_auth_header_name": null,
       "webhook_status_code": null,
       "webhook_url": null,
       "word_boost": [],
       "words": [
        {
         "confidence": 0.91,
         "end": 342,
         "speaker": null,
         "start": 250,
         "text": "I"
        },
        {
         "confidence": 0.50517,
         "end": 658,
         "speaker": null,
         "start": 356,
         "text": "recently"
        },
        {
         "confidence": 0.52472,
         "end": 894,
         "speaker": null,
         "start": 694,
         "text": "got"
        },
        {
         "confidence": 0.99856,
         "end": 1098,
         "speaker": null,
         "start": 932,
         "text": "an"
        },
        {
         "confidence": 0.99994,
         "end": 1422,
         "speaker": null,
         "start": 1124,
         "text": "amazing"
        },
        {
         "confidence": 0.99965,
         "end": 2094,
         "speaker": null,
         "start": 1496,
         "text": "opportunity."
        },
        {
         "confidence": 0.63517,
         "end": 2542,
         "speaker": null,
         "start": 2252,
         "text": "I've"
        },
        {
         "confidence": 0.99851,
         "end": 2682,
         "speaker": null,
         "start": 2566,
         "text": "been"
        },
        {
         "confidence": 0.99871,
         "end": 2874,
         "speaker": null,
         "start": 2696,
         "text": "learning"
        },
        {
         "confidence": 0.36111,
         "end": 3490,
         "speaker": null,
         "start": 2912,
         "text": "jujitsu,"
        },
        {
         "confidence": 1,
         "end": 3738,
         "speaker": null,
         "start": 3550,
         "text": "and"
        },
        {
         "confidence": 0.51,
         "end": 3918,
         "speaker": null,
         "start": 3764,
         "text": "a"
        },
        {
         "confidence": 0.99985,
         "end": 4134,
         "speaker": null,
         "start": 3944,
         "text": "friend"
        },
        {
         "confidence": 0.95497,
         "end": 4462,
         "speaker": null,
         "start": 4172,
         "text": "offered"
        },
        {
         "confidence": 0.58,
         "end": 4566,
         "speaker": null,
         "start": 4486,
         "text": "to"
        },
        {
         "confidence": 0.56126,
         "end": 4798,
         "speaker": null,
         "start": 4568,
         "text": "coach"
        },
        {
         "confidence": 0.99791,
         "end": 5106,
         "speaker": null,
         "start": 4834,
         "text": "me"
        },
        {
         "confidence": 0.51756,
         "end": 5358,
         "speaker": null,
         "start": 5168,
         "text": "in"
        },
        {
         "confidence": 0.92816,
         "end": 5734,
         "speaker": null,
         "start": 5384,
         "text": "exchange"
        },
        {
         "confidence": 0.96953,
         "end": 5958,
         "speaker": null,
         "start": 5782,
         "text": "for"
        },
        {
         "confidence": 0.99923,
         "end": 6262,
         "speaker": null,
         "start": 5984,
         "text": "teaching"
        },
        {
         "confidence": 0.99004,
         "end": 6474,
         "speaker": null,
         "start": 6286,
         "text": "him"
        },
        {
         "confidence": 0.99735,
         "end": 6606,
         "speaker": null,
         "start": 6512,
         "text": "how"
        },
        {
         "confidence": 0.98,
         "end": 6738,
         "speaker": null,
         "start": 6608,
         "text": "to"
        },
        {
         "confidence": 0.98621,
         "end": 7278,
         "speaker": null,
         "start": 6764,
         "text": "code."
        },
        {
         "confidence": 0.52,
         "end": 7698,
         "speaker": null,
         "start": 7424,
         "text": "At"
        },
        {
         "confidence": 0.99865,
         "end": 7842,
         "speaker": null,
         "start": 7724,
         "text": "this"
        },
        {
         "confidence": 1,
         "end": 7962,
         "speaker": null,
         "start": 7856,
         "text": "point"
        },
        {
         "confidence": 0.75468,
         "end": 8082,
         "speaker": null,
         "start": 7976,
         "text": "in"
        },
        {
         "confidence": 0.98862,
         "end": 8202,
         "speaker": null,
         "start": 8096,
         "text": "my"
        },
        {
         "confidence": 0.99976,
         "end": 8430,
         "speaker": null,
         "start": 8216,
         "text": "life"
        },
        {
         "confidence": 0.97414,
         "end": 8622,
         "speaker": null,
         "start": 8480,
         "text": "where"
        },
        {
         "confidence": 0.68835,
         "end": 8782,
         "speaker": null,
         "start": 8636,
         "text": "I'm"
        },
        {
         "confidence": 0.99065,
         "end": 8922,
         "speaker": null,
         "start": 8806,
         "text": "trying"
        },
        {
         "confidence": 0.99,
         "end": 9042,
         "speaker": null,
         "start": 8936,
         "text": "to"
        },
        {
         "confidence": 0.99839,
         "end": 9322,
         "speaker": null,
         "start": 9056,
         "text": "improve"
        },
        {
         "confidence": 0.99857,
         "end": 9462,
         "speaker": null,
         "start": 9346,
         "text": "my"
        },
        {
         "confidence": 0.42008,
         "end": 9646,
         "speaker": null,
         "start": 9476,
         "text": "jiu"
        },
        {
         "confidence": 0.71024,
         "end": 10018,
         "speaker": null,
         "start": 9658,
         "text": "jitsu"
        },
        {
         "confidence": 0.99668,
         "end": 10254,
         "speaker": null,
         "start": 10054,
         "text": "as"
        },
        {
         "confidence": 0.99933,
         "end": 10530,
         "speaker": null,
         "start": 10292,
         "text": "quickly"
        },
        {
         "confidence": 0.99862,
         "end": 10722,
         "speaker": null,
         "start": 10580,
         "text": "as"
        },
        {
         "confidence": 0.99992,
         "end": 11238,
         "speaker": null,
         "start": 10736,
         "text": "possible,"
        },
        {
         "confidence": 0.99869,
         "end": 11694,
         "speaker": null,
         "start": 11384,
         "text": "this"
        },
        {
         "confidence": 0.99662,
         "end": 11934,
         "speaker": null,
         "start": 11732,
         "text": "was"
        },
        {
         "confidence": 0.99662,
         "end": 12138,
         "speaker": null,
         "start": 11972,
         "text": "an"
        },
        {
         "confidence": 0.99969,
         "end": 12634,
         "speaker": null,
         "start": 12164,
         "text": "incredible"
        },
        {
         "confidence": 0.98318,
         "end": 12922,
         "speaker": null,
         "start": 12682,
         "text": "trade"
        },
        {
         "confidence": 0.99684,
         "end": 13062,
         "speaker": null,
         "start": 12946,
         "text": "for"
        },
        {
         "confidence": 0.99799,
         "end": 13290,
         "speaker": null,
         "start": 13076,
         "text": "me."
        },
        {
         "confidence": 0.9905,
         "end": 13482,
         "speaker": null,
         "start": 13340,
         "text": "In"
        },
        {
         "confidence": 0.99918,
         "end": 13602,
         "speaker": null,
         "start": 13496,
         "text": "my"
        },
        {
         "confidence": 0.99654,
         "end": 13866,
         "speaker": null,
         "start": 13616,
         "text": "personal"
        },
        {
         "confidence": 0.99879,
         "end": 14290,
         "speaker": null,
         "start": 13928,
         "text": "opinion,"
        },
        {
         "confidence": 0.86,
         "end": 14502,
         "speaker": null,
         "start": 14350,
         "text": "I"
        },
        {
         "confidence": 0.99883,
         "end": 14622,
         "speaker": null,
         "start": 14516,
         "text": "was"
        },
        {
         "confidence": 0.9907,
         "end": 14742,
         "speaker": null,
         "start": 14636,
         "text": "all"
        },
        {
         "confidence": 0.91387,
         "end": 15042,
         "speaker": null,
         "start": 14756,
         "text": "for"
        },
        {
         "confidence": 0.73999,
         "end": 15354,
         "speaker": null,
         "start": 15116,
         "text": "until"
        },
        {
         "confidence": 1,
         "end": 15522,
         "speaker": null,
         "start": 15392,
         "text": "I"
        },
        {
         "confidence": 0.99516,
         "end": 15642,
         "speaker": null,
         "start": 15536,
         "text": "had"
        },
        {
         "confidence": 1,
         "end": 15762,
         "speaker": null,
         "start": 15656,
         "text": "to"
        },
        {
         "confidence": 0.99957,
         "end": 15918,
         "speaker": null,
         "start": 15776,
         "text": "think"
        },
        {
         "confidence": 0.99771,
         "end": 16098,
         "speaker": null,
         "start": 15944,
         "text": "about"
        },
        {
         "confidence": 0.99821,
         "end": 16242,
         "speaker": null,
         "start": 16124,
         "text": "how"
        },
        {
         "confidence": 0.54802,
         "end": 16438,
         "speaker": null,
         "start": 16256,
         "text": "I'd"
        },
        {
         "confidence": 0.99731,
         "end": 16782,
         "speaker": null,
         "start": 16474,
         "text": "actually"
        },
        {
         "confidence": 0.99922,
         "end": 17022,
         "speaker": null,
         "start": 16856,
         "text": "go"
        },
        {
         "confidence": 0.99962,
         "end": 17250,
         "speaker": null,
         "start": 17036,
         "text": "about"
        },
        {
         "confidence": 0.58902,
         "end": 17578,
         "speaker": null,
         "start": 17300,
         "text": "teaching"
        },
        {
         "confidence": 0.99915,
         "end": 17814,
         "speaker": null,
         "start": 17614,
         "text": "someone"
        },
        {
         "confidence": 0.57285,
         "end": 17982,
         "speaker": null,
         "start": 17852,
         "text": "how"
        },
        {
         "confidence": 0.99,
         "end": 18138,
         "speaker": null,
         "start": 17996,
         "text": "to"
        },
        {
         "confidence": 0.99967,
         "end": 18534,
         "speaker": null,
         "start": 18164,
         "text": "code"
        },
        {
         "confidence": 0.99475,
         "end": 18894,
         "speaker": null,
         "start": 18632,
         "text": "starting"
        },
        {
         "confidence": 0.99725,
         "end": 19098,
         "speaker": null,
         "start": 18932,
         "text": "from"
        },
        {
         "confidence": 0.99985,
         "end": 19422,
         "speaker": null,
         "start": 19124,
         "text": "nothing,"
        },
        {
         "confidence": 0.98,
         "end": 19734,
         "speaker": null,
         "start": 19496,
         "text": "I"
        },
        {
         "confidence": 0.99981,
         "end": 20010,
         "speaker": null,
         "start": 19772,
         "text": "quickly"
        },
        {
         "confidence": 0.51917,
         "end": 20458,
         "speaker": null,
         "start": 20060,
         "text": "realized"
        },
        {
         "confidence": 0.98526,
         "end": 20658,
         "speaker": null,
         "start": 20494,
         "text": "that"
        },
        {
         "confidence": 0.99875,
         "end": 20802,
         "speaker": null,
         "start": 20684,
         "text": "this"
        },
        {
         "confidence": 0.93467,
         "end": 20958,
         "speaker": null,
         "start": 20816,
         "text": "was"
        },
        {
         "confidence": 0.9896,
         "end": 21066,
         "speaker": null,
         "start": 20984,
         "text": "going"
        },
        {
         "confidence": 1,
         "end": 21126,
         "speaker": null,
         "start": 21068,
         "text": "to"
        },
        {
         "confidence": 0.99741,
         "end": 21222,
         "speaker": null,
         "start": 21128,
         "text": "be"
        },
        {
         "confidence": 1,
         "end": 21306,
         "speaker": null,
         "start": 21236,
         "text": "a"
        },
        {
         "confidence": 0.97536,
         "end": 21474,
         "speaker": null,
         "start": 21308,
         "text": "lot"
        },
        {
         "confidence": 0.73014,
         "end": 21862,
         "speaker": null,
         "start": 21512,
         "text": "harder"
        },
        {
         "confidence": 0.9989,
         "end": 22038,
         "speaker": null,
         "start": 21886,
         "text": "than"
        },
        {
         "confidence": 1,
         "end": 22182,
         "speaker": null,
         "start": 22064,
         "text": "I"
        },
        {
         "confidence": 0.99926,
         "end": 22698,
         "speaker": null,
         "start": 22196,
         "text": "thought."
        },
        {
         "confidence": 0.78964,
         "end": 23154,
         "speaker": null,
         "start": 22844,
         "text": "After"
        },
        {
         "confidence": 0.99313,
         "end": 23394,
         "speaker": null,
         "start": 23192,
         "text": "all,"
        },
        {
         "confidence": 0.7353,
         "end": 23662,
         "speaker": null,
         "start": 23432,
         "text": "it's"
        },
        {
         "confidence": 0.99492,
         "end": 23838,
         "speaker": null,
         "start": 23686,
         "text": "been"
        },
        {
         "confidence": 0.99928,
         "end": 24090,
         "speaker": null,
         "start": 23864,
         "text": "almost"
        },
        {
         "confidence": 0.79,
         "end": 24354,
         "speaker": null,
         "start": 24140,
         "text": "ten"
        },
        {
         "confidence": 0.99995,
         "end": 24630,
         "speaker": null,
         "start": 24392,
         "text": "years"
        },
        {
         "confidence": 0.99976,
         "end": 24858,
         "speaker": null,
         "start": 24680,
         "text": "since"
        },
        {
         "confidence": 1,
         "end": 24966,
         "speaker": null,
         "start": 24884,
         "text": "I"
        },
        {
         "confidence": 0.60523,
         "end": 25102,
         "speaker": null,
         "start": 24968,
         "text": "wrote"
        },
        {
         "confidence": 0.99878,
         "end": 25278,
         "speaker": null,
         "start": 25126,
         "text": "my"
        },
        {
         "confidence": 0.9938,
         "end": 25494,
         "speaker": null,
         "start": 25304,
         "text": "very"
        },
        {
         "confidence": 1,
         "end": 25734,
         "speaker": null,
         "start": 25532,
         "text": "first"
        },
        {
         "confidence": 0.99,
         "end": 25902,
         "speaker": null,
         "start": 25772,
         "text": "line"
        },
        {
         "confidence": 0.98,
         "end": 26022,
         "speaker": null,
         "start": 25916,
         "text": "of"
        },
        {
         "confidence": 0.99905,
         "end": 26250,
         "speaker": null,
         "start": 26036,
         "text": "code."
        },
        {
         "confidence": 0.5604,
         "end": 26542,
         "speaker": null,
         "start": 26300,
         "text": "That's"
        },
        {
         "confidence": 0.98,
         "end": 26718,
         "speaker": null,
         "start": 26566,
         "text": "a"
        },
        {
         "confidence": 0.99788,
         "end": 26970,
         "speaker": null,
         "start": 26744,
         "text": "pretty"
        },
        {
         "confidence": 0.99974,
         "end": 27234,
         "speaker": null,
         "start": 27020,
         "text": "long"
        },
        {
         "confidence": 0.99989,
         "end": 27510,
         "speaker": null,
         "start": 27272,
         "text": "time."
        },
        {
         "confidence": 0.86,
         "end": 27702,
         "speaker": null,
         "start": 27560,
         "text": "Now,"
        },
        {
         "confidence": 0.99887,
         "end": 27894,
         "speaker": null,
         "start": 27716,
         "text": "this"
        },
        {
         "confidence": 0.99959,
         "end": 28242,
         "speaker": null,
         "start": 27932,
         "text": "video"
        },
        {
         "confidence": 0.99674,
         "end": 28518,
         "speaker": null,
         "start": 28316,
         "text": "is"
        },
        {
         "confidence": 0.99914,
         "end": 28734,
         "speaker": null,
         "start": 28544,
         "text": "about"
        },
        {
         "confidence": 0.99,
         "end": 28974,
         "speaker": null,
         "start": 28772,
         "text": "the"
        },
        {
         "confidence": 0.99629,
         "end": 29250,
         "speaker": null,
         "start": 29012,
         "text": "very"
        },
        {
         "confidence": 0.99989,
         "end": 29658,
         "speaker": null,
         "start": 29300,
         "text": "specific"
        },
        {
         "confidence": 1,
         "end": 29958,
         "speaker": null,
         "start": 29744,
         "text": "and"
        },
        {
         "confidence": 0.95651,
         "end": 30322,
         "speaker": null,
         "start": 29984,
         "text": "detailed"
        },
        {
         "confidence": 0.99987,
         "end": 30714,
         "speaker": null,
         "start": 30346,
         "text": "plan"
        },
        {
         "confidence": 0.98816,
         "end": 31002,
         "speaker": null,
         "start": 30812,
         "text": "that"
        },
        {
         "confidence": 1,
         "end": 31122,
         "speaker": null,
         "start": 31016,
         "text": "I"
        },
        {
         "confidence": 0.9975,
         "end": 31282,
         "speaker": null,
         "start": 31136,
         "text": "wrote"
        },
        {
         "confidence": 0.93094,
         "end": 31458,
         "speaker": null,
         "start": 31306,
         "text": "for"
        },
        {
         "confidence": 0.99667,
         "end": 31602,
         "speaker": null,
         "start": 31484,
         "text": "my"
        },
        {
         "confidence": 0.99643,
         "end": 31794,
         "speaker": null,
         "start": 31616,
         "text": "friend"
        },
        {
         "confidence": 0.96,
         "end": 31962,
         "speaker": null,
         "start": 31832,
         "text": "to"
        },
        {
         "confidence": 0.99978,
         "end": 32118,
         "speaker": null,
         "start": 31976,
         "text": "teach"
        },
        {
         "confidence": 0.34315,
         "end": 32262,
         "speaker": null,
         "start": 32144,
         "text": "me"
        },
        {
         "confidence": 0.99,
         "end": 32418,
         "speaker": null,
         "start": 32276,
         "text": "the"
        },
        {
         "confidence": 0.99831,
         "end": 32698,
         "speaker": null,
         "start": 32444,
         "text": "basics"
        },
        {
         "confidence": 1,
         "end": 32862,
         "speaker": null,
         "start": 32734,
         "text": "of"
        },
        {
         "confidence": 0.99862,
         "end": 33178,
         "speaker": null,
         "start": 32876,
         "text": "coding"
        },
        {
         "confidence": 0.99913,
         "end": 33378,
         "speaker": null,
         "start": 33214,
         "text": "for"
        },
        {
         "confidence": 0.99978,
         "end": 33594,
         "speaker": null,
         "start": 33404,
         "text": "data"
        },
        {
         "confidence": 0.98588,
         "end": 33934,
         "speaker": null,
         "start": 33632,
         "text": "science."
        },
        {
         "confidence": 0.99876,
         "end": 34194,
         "speaker": null,
         "start": 33982,
         "text": "Since"
        },
        {
         "confidence": 1,
         "end": 34326,
         "speaker": null,
         "start": 34232,
         "text": "I"
        },
        {
         "confidence": 0.99745,
         "end": 34458,
         "speaker": null,
         "start": 34328,
         "text": "did"
        },
        {
         "confidence": 0.99909,
         "end": 34566,
         "speaker": null,
         "start": 34484,
         "text": "all"
        },
        {
         "confidence": 0.89,
         "end": 34662,
         "speaker": null,
         "start": 34568,
         "text": "the"
        },
        {
         "confidence": 0.99967,
         "end": 34782,
         "speaker": null,
         "start": 34676,
         "text": "work"
        },
        {
         "confidence": 0.96379,
         "end": 34938,
         "speaker": null,
         "start": 34796,
         "text": "for"
        },
        {
         "confidence": 0.99944,
         "end": 35190,
         "speaker": null,
         "start": 34964,
         "text": "him,"
        },
        {
         "confidence": 0.99,
         "end": 35418,
         "speaker": null,
         "start": 35240,
         "text": "I"
        },
        {
         "confidence": 0.99932,
         "end": 35758,
         "speaker": null,
         "start": 35444,
         "text": "figured"
        },
        {
         "confidence": 1,
         "end": 35922,
         "speaker": null,
         "start": 35794,
         "text": "I"
        },
        {
         "confidence": 0.99894,
         "end": 36078,
         "speaker": null,
         "start": 35936,
         "text": "might"
        },
        {
         "confidence": 0.52976,
         "end": 36222,
         "speaker": null,
         "start": 36104,
         "text": "as"
        },
        {
         "confidence": 0.99953,
         "end": 36414,
         "speaker": null,
         "start": 36236,
         "text": "well"
        },
        {
         "confidence": 0.99955,
         "end": 36618,
         "speaker": null,
         "start": 36452,
         "text": "share"
        },
        {
         "confidence": 0.98,
         "end": 36798,
         "speaker": null,
         "start": 36644,
         "text": "the"
        },
        {
         "confidence": 0.9,
         "end": 37102,
         "speaker": null,
         "start": 36824,
         "text": "details"
        },
        {
         "confidence": 0.99741,
         "end": 37242,
         "speaker": null,
         "start": 37126,
         "text": "with"
        },
        {
         "confidence": 1,
         "end": 37362,
         "speaker": null,
         "start": 37256,
         "text": "you"
        },
        {
         "confidence": 0.99212,
         "end": 37482,
         "speaker": null,
         "start": 37376,
         "text": "as"
        },
        {
         "confidence": 0.99954,
         "end": 37638,
         "speaker": null,
         "start": 37496,
         "text": "well."
        },
        {
         "confidence": 0.98026,
         "end": 37926,
         "speaker": null,
         "start": 37664,
         "text": "Here."
        },
        {
         "confidence": 0.97992,
         "end": 38142,
         "speaker": null,
         "start": 37988,
         "text": "There"
        },
        {
         "confidence": 0.84338,
         "end": 38226,
         "speaker": null,
         "start": 38156,
         "text": "have"
        },
        {
         "confidence": 0.96249,
         "end": 38358,
         "speaker": null,
         "start": 38228,
         "text": "been"
        },
        {
         "confidence": 0.51565,
         "end": 38578,
         "speaker": null,
         "start": 38384,
         "text": "plenty"
        },
        {
         "confidence": 1,
         "end": 38742,
         "speaker": null,
         "start": 38614,
         "text": "of"
        },
        {
         "confidence": 0.99751,
         "end": 38934,
         "speaker": null,
         "start": 38756,
         "text": "other"
        },
        {
         "confidence": 0.99889,
         "end": 39174,
         "speaker": null,
         "start": 38972,
         "text": "great"
        },
        {
         "confidence": 0.99827,
         "end": 39522,
         "speaker": null,
         "start": 39212,
         "text": "videos"
        },
        {
         "confidence": 0.99965,
         "end": 39870,
         "speaker": null,
         "start": 39596,
         "text": "similar"
        },
        {
         "confidence": 1,
         "end": 40098,
         "speaker": null,
         "start": 39920,
         "text": "to"
        },
        {
         "confidence": 0.99534,
         "end": 40314,
         "speaker": null,
         "start": 40124,
         "text": "this"
        },
        {
         "confidence": 0.99917,
         "end": 40554,
         "speaker": null,
         "start": 40352,
         "text": "about"
        },
        {
         "confidence": 0.99916,
         "end": 40722,
         "speaker": null,
         "start": 40592,
         "text": "how"
        },
        {
         "confidence": 0.99,
         "end": 40842,
         "speaker": null,
         "start": 40736,
         "text": "to"
        },
        {
         "confidence": 0.99974,
         "end": 41034,
         "speaker": null,
         "start": 40856,
         "text": "start"
        },
        {
         "confidence": 0.58002,
         "end": 41470,
         "speaker": null,
         "start": 41072,
         "text": "coding,"
        },
        {
         "confidence": 0.95,
         "end": 41682,
         "speaker": null,
         "start": 41530,
         "text": "and"
        },
        {
         "confidence": 0.72361,
         "end": 41902,
         "speaker": null,
         "start": 41696,
         "text": "I've"
        },
        {
         "confidence": 0.99268,
         "end": 42178,
         "speaker": null,
         "start": 41926,
         "text": "linked"
        },
        {
         "confidence": 0.9991,
         "end": 42378,
         "speaker": null,
         "start": 42214,
         "text": "many"
        },
        {
         "confidence": 1,
         "end": 42522,
         "speaker": null,
         "start": 42404,
         "text": "of"
        },
        {
         "confidence": 1,
         "end": 42678,
         "speaker": null,
         "start": 42536,
         "text": "them"
        },
        {
         "confidence": 0.99923,
         "end": 42786,
         "speaker": null,
         "start": 42704,
         "text": "in"
        },
        {
         "confidence": 0.51,
         "end": 42918,
         "speaker": null,
         "start": 42788,
         "text": "the"
        },
        {
         "confidence": 0.62074,
         "end": 43426,
         "speaker": null,
         "start": 42944,
         "text": "description."
        },
        {
         "confidence": 0.9947,
         "end": 43770,
         "speaker": null,
         "start": 43498,
         "text": "Again,"
        },
        {
         "confidence": 0.99851,
         "end": 43962,
         "speaker": null,
         "start": 43820,
         "text": "those"
        },
        {
         "confidence": 0.97847,
         "end": 44118,
         "speaker": null,
         "start": 43976,
         "text": "are"
        },
        {
         "confidence": 0.99974,
         "end": 44370,
         "speaker": null,
         "start": 44144,
         "text": "great,"
        },
        {
         "confidence": 0.99538,
         "end": 44634,
         "speaker": null,
         "start": 44420,
         "text": "but"
        },
        {
         "confidence": 1,
         "end": 44802,
         "speaker": null,
         "start": 44672,
         "text": "I"
        },
        {
         "confidence": 0.99894,
         "end": 44958,
         "speaker": null,
         "start": 44816,
         "text": "think"
        },
        {
         "confidence": 0.66152,
         "end": 45138,
         "speaker": null,
         "start": 44984,
         "text": "this"
        },
        {
         "confidence": 0.98733,
         "end": 45282,
         "speaker": null,
         "start": 45164,
         "text": "is"
        },
        {
         "confidence": 0.98,
         "end": 45366,
         "speaker": null,
         "start": 45296,
         "text": "a"
        },
        {
         "confidence": 0.99859,
         "end": 45498,
         "speaker": null,
         "start": 45368,
         "text": "bit"
        },
        {
         "confidence": 0.99959,
         "end": 45786,
         "speaker": null,
         "start": 45524,
         "text": "different"
        },
        {
         "confidence": 0.99888,
         "end": 46074,
         "speaker": null,
         "start": 45848,
         "text": "because"
        },
        {
         "confidence": 0.53056,
         "end": 46318,
         "speaker": null,
         "start": 46112,
         "text": "it's"
        },
        {
         "confidence": 1,
         "end": 46518,
         "speaker": null,
         "start": 46354,
         "text": "more"
        },
        {
         "confidence": 0.9803,
         "end": 46846,
         "speaker": null,
         "start": 46544,
         "text": "focused"
        },
        {
         "confidence": 0.99861,
         "end": 46998,
         "speaker": null,
         "start": 46858,
         "text": "on"
        },
        {
         "confidence": 0.98054,
         "end": 47302,
         "speaker": null,
         "start": 47024,
         "text": "coding"
        },
        {
         "confidence": 0.99759,
         "end": 47514,
         "speaker": null,
         "start": 47326,
         "text": "for"
        },
        {
         "confidence": 0.99946,
         "end": 47934,
         "speaker": null,
         "start": 47552,
         "text": "data"
        },
        {
         "confidence": 0.96,
         "end": 48258,
         "speaker": null,
         "start": 48032,
         "text": "and"
        },
        {
         "confidence": 0.99,
         "end": 48402,
         "speaker": null,
         "start": 48284,
         "text": "it"
        },
        {
         "confidence": 0.99807,
         "end": 48682,
         "speaker": null,
         "start": 48416,
         "text": "uses"
        },
        {
         "confidence": 0.99,
         "end": 48858,
         "speaker": null,
         "start": 48706,
         "text": "a"
        },
        {
         "confidence": 0.99799,
         "end": 49110,
         "speaker": null,
         "start": 48884,
         "text": "very"
        },
        {
         "confidence": 0.92892,
         "end": 49662,
         "speaker": null,
         "start": 49160,
         "text": "specific"
        },
        {
         "confidence": 1,
         "end": 50058,
         "speaker": null,
         "start": 49796,
         "text": "real"
        },
        {
         "confidence": 0.47039,
         "end": 50346,
         "speaker": null,
         "start": 50084,
         "text": "world"
        },
        {
         "confidence": 0.9941,
         "end": 50598,
         "speaker": null,
         "start": 50408,
         "text": "case"
        },
        {
         "confidence": 0.81237,
         "end": 51174,
         "speaker": null,
         "start": 50624,
         "text": "study."
        },
        {
         "confidence": 1,
         "end": 51582,
         "speaker": null,
         "start": 51332,
         "text": "At"
        },
        {
         "confidence": 1,
         "end": 51702,
         "speaker": null,
         "start": 51596,
         "text": "the"
        },
        {
         "confidence": 0.99996,
         "end": 51858,
         "speaker": null,
         "start": 51716,
         "text": "end,"
        },
        {
         "confidence": 1,
         "end": 52038,
         "speaker": null,
         "start": 51884,
         "text": "I"
        },
        {
         "confidence": 0.99578,
         "end": 52254,
         "speaker": null,
         "start": 52064,
         "text": "also"
        },
        {
         "confidence": 0.99974,
         "end": 52558,
         "speaker": null,
         "start": 52292,
         "text": "highlight"
        },
        {
         "confidence": 0.96,
         "end": 52830,
         "speaker": null,
         "start": 52594,
         "text": "the"
        },
        {
         "confidence": 1,
         "end": 53094,
         "speaker": null,
         "start": 52880,
         "text": "three"
        },
        {
         "confidence": 0.99924,
         "end": 53334,
         "speaker": null,
         "start": 53132,
         "text": "most"
        },
        {
         "confidence": 0.99762,
         "end": 53682,
         "speaker": null,
         "start": 53372,
         "text": "important"
        },
        {
         "confidence": 0.99854,
         "end": 54174,
         "speaker": null,
         "start": 53756,
         "text": "things"
        },
        {
         "confidence": 1,
         "end": 54462,
         "speaker": null,
         "start": 54272,
         "text": "a"
        },
        {
         "confidence": 1,
         "end": 54654,
         "speaker": null,
         "start": 54476,
         "text": "new"
        },
        {
         "confidence": 0.50752,
         "end": 55162,
         "speaker": null,
         "start": 54692,
         "text": "programmer"
        },
        {
         "confidence": 0.99969,
         "end": 55338,
         "speaker": null,
         "start": 55186,
         "text": "should"
        },
        {
         "confidence": 0.72332,
         "end": 55662,
         "speaker": null,
         "start": 55364,
         "text": "know."
        },
        {
         "confidence": 0.84926,
         "end": 55938,
         "speaker": null,
         "start": 55736,
         "text": "So"
        },
        {
         "confidence": 1,
         "end": 56118,
         "speaker": null,
         "start": 55964,
         "text": "you"
        },
        {
         "confidence": 0.99834,
         "end": 56406,
         "speaker": null,
         "start": 56144,
         "text": "definitely"
        },
        {
         "confidence": 0.99864,
         "end": 56586,
         "speaker": null,
         "start": 56468,
         "text": "want"
        },
        {
         "confidence": 0.88,
         "end": 56682,
         "speaker": null,
         "start": 56588,
         "text": "to"
        },
        {
         "confidence": 0.99915,
         "end": 56842,
         "speaker": null,
         "start": 56696,
         "text": "stick"
        },
        {
         "confidence": 0.99643,
         "end": 57126,
         "speaker": null,
         "start": 56866,
         "text": "around"
        },
        {
         "confidence": 0.99891,
         "end": 57378,
         "speaker": null,
         "start": 57188,
         "text": "for"
        },
        {
         "confidence": 0.99899,
         "end": 57666,
         "speaker": null,
         "start": 57404,
         "text": "that."
        },
        {
         "confidence": 0.47271,
         "end": 57982,
         "speaker": null,
         "start": 57728,
         "text": "Let's"
        },
        {
         "confidence": 0.66272,
         "end": 58230,
         "speaker": null,
         "start": 58006,
         "text": "start"
        },
        {
         "confidence": 0.99976,
         "end": 58422,
         "speaker": null,
         "start": 58280,
         "text": "with"
        },
        {
         "confidence": 0.98,
         "end": 58578,
         "speaker": null,
         "start": 58436,
         "text": "the"
        },
        {
         "confidence": 0.99848,
         "end": 58954,
         "speaker": null,
         "start": 58604,
         "text": "language"
        },
        {
         "confidence": 0.9929,
         "end": 59214,
         "speaker": null,
         "start": 59002,
         "text": "that"
        },
        {
         "confidence": 0.99865,
         "end": 59382,
         "speaker": null,
         "start": 59252,
         "text": "we"
        },
        {
         "confidence": 0.99935,
         "end": 59574,
         "speaker": null,
         "start": 59396,
         "text": "should"
        },
        {
         "confidence": 0.99884,
         "end": 59814,
         "speaker": null,
         "start": 59612,
         "text": "start"
        },
        {
         "confidence": 0.99981,
         "end": 60342,
         "speaker": null,
         "start": 59852,
         "text": "learning."
        },
        {
         "confidence": 0.96,
         "end": 60702,
         "speaker": null,
         "start": 60476,
         "text": "I"
        },
        {
         "confidence": 0.8461,
         "end": 60858,
         "speaker": null,
         "start": 60716,
         "text": "know"
        },
        {
         "confidence": 0.99605,
         "end": 61002,
         "speaker": null,
         "start": 60884,
         "text": "if"
        },
        {
         "confidence": 0.96369,
         "end": 61162,
         "speaker": null,
         "start": 61016,
         "text": "you're"
        },
        {
         "confidence": 0.99981,
         "end": 61374,
         "speaker": null,
         "start": 61186,
         "text": "working"
        },
        {
         "confidence": 0.96008,
         "end": 61578,
         "speaker": null,
         "start": 61412,
         "text": "with"
        },
        {
         "confidence": 0.99859,
         "end": 61902,
         "speaker": null,
         "start": 61604,
         "text": "data,"
        },
        {
         "confidence": 1,
         "end": 62214,
         "speaker": null,
         "start": 61976,
         "text": "you"
        },
        {
         "confidence": 0.96163,
         "end": 62614,
         "speaker": null,
         "start": 62252,
         "text": "generally"
        },
        {
         "confidence": 0.99447,
         "end": 62910,
         "speaker": null,
         "start": 62662,
         "text": "have"
        },
        {
         "confidence": 1,
         "end": 63138,
         "speaker": null,
         "start": 62960,
         "text": "two"
        },
        {
         "confidence": 0.99794,
         "end": 63354,
         "speaker": null,
         "start": 63164,
         "text": "good"
        },
        {
         "confidence": 0.96714,
         "end": 63862,
         "speaker": null,
         "start": 63392,
         "text": "choices."
        },
        {
         "confidence": 0.50375,
         "end": 64122,
         "speaker": null,
         "start": 63946,
         "text": "They"
        },
        {
         "confidence": 0.74101,
         "end": 64278,
         "speaker": null,
         "start": 64136,
         "text": "would"
        },
        {
         "confidence": 0.9942,
         "end": 64458,
         "speaker": null,
         "start": 64304,
         "text": "either"
        },
        {
         "confidence": 0.99934,
         "end": 64602,
         "speaker": null,
         "start": 64484,
         "text": "start"
        },
        {
         "confidence": 0.99,
         "end": 64758,
         "speaker": null,
         "start": 64616,
         "text": "with"
        },
        {
         "confidence": 0.81417,
         "end": 65230,
         "speaker": null,
         "start": 64784,
         "text": "Python"
        },
        {
         "confidence": 0.99872,
         "end": 65478,
         "speaker": null,
         "start": 65290,
         "text": "or"
        },
        {
         "confidence": 0.99,
         "end": 65838,
         "speaker": null,
         "start": 65504,
         "text": "R."
        },
        {
         "confidence": 0.98092,
         "end": 66238,
         "speaker": null,
         "start": 65924,
         "text": "Let's"
        },
        {
         "confidence": 0.99981,
         "end": 66510,
         "speaker": null,
         "start": 66274,
         "text": "quickly"
        },
        {
         "confidence": 0.99967,
         "end": 66934,
         "speaker": null,
         "start": 66560,
         "text": "compare"
        },
        {
         "confidence": 1,
         "end": 67122,
         "speaker": null,
         "start": 66982,
         "text": "the"
        },
        {
         "confidence": 1,
         "end": 67386,
         "speaker": null,
         "start": 67136,
         "text": "two"
        },
        {
         "confidence": 0.56267,
         "end": 67858,
         "speaker": null,
         "start": 67448,
         "text": "languages"
        },
        {
         "confidence": 0.99219,
         "end": 68214,
         "speaker": null,
         "start": 67954,
         "text": "data"
        },
        {
         "confidence": 0.84555,
         "end": 68554,
         "speaker": null,
         "start": 68252,
         "text": "Science"
        },
        {
         "confidence": 0.97408,
         "end": 69298,
         "speaker": null,
         "start": 68602,
         "text": "Style"
        },
        {
         "confidence": 0.99853,
         "end": 69774,
         "speaker": null,
         "start": 69454,
         "text": "when"
        },
        {
         "confidence": 1,
         "end": 69978,
         "speaker": null,
         "start": 69812,
         "text": "looking"
        },
        {
         "confidence": 1,
         "end": 70122,
         "speaker": null,
         "start": 70004,
         "text": "at"
        },
        {
         "confidence": 0.99,
         "end": 70278,
         "speaker": null,
         "start": 70136,
         "text": "the"
        },
        {
         "confidence": 0.99882,
         "end": 70594,
         "speaker": null,
         "start": 70304,
         "text": "Stack"
        },
        {
         "confidence": 0.9887,
         "end": 71098,
         "speaker": null,
         "start": 70642,
         "text": "Overflow"
        },
        {
         "confidence": 0.97731,
         "end": 71578,
         "speaker": null,
         "start": 71134,
         "text": "developer"
        },
        {
         "confidence": 0.99553,
         "end": 72046,
         "speaker": null,
         "start": 71614,
         "text": "survey,"
        },
        {
         "confidence": 0.99975,
         "end": 72318,
         "speaker": null,
         "start": 72118,
         "text": "we"
        },
        {
         "confidence": 0.98798,
         "end": 72498,
         "speaker": null,
         "start": 72344,
         "text": "find"
        },
        {
         "confidence": 0.99668,
         "end": 72678,
         "speaker": null,
         "start": 72524,
         "text": "that"
        },
        {
         "confidence": 0.99483,
         "end": 72930,
         "speaker": null,
         "start": 72704,
         "text": "about"
        },
        {
         "confidence": 0.99,
         "end": 73674,
         "speaker": null,
         "start": 72980,
         "text": "48%"
        },
        {
         "confidence": 1,
         "end": 73842,
         "speaker": null,
         "start": 73712,
         "text": "of"
        },
        {
         "confidence": 0.99559,
         "end": 74314,
         "speaker": null,
         "start": 73856,
         "text": "respondents"
        },
        {
         "confidence": 0.96168,
         "end": 74574,
         "speaker": null,
         "start": 74362,
         "text": "use"
        },
        {
         "confidence": 0.99711,
         "end": 75142,
         "speaker": null,
         "start": 74612,
         "text": "Python,"
        },
        {
         "confidence": 0.82938,
         "end": 75510,
         "speaker": null,
         "start": 75226,
         "text": "while"
        },
        {
         "confidence": 1,
         "end": 75774,
         "speaker": null,
         "start": 75560,
         "text": "only"
        },
        {
         "confidence": 0.99923,
         "end": 76086,
         "speaker": null,
         "start": 75812,
         "text": "about"
        },
        {
         "confidence": 1,
         "end": 76686,
         "speaker": null,
         "start": 76148,
         "text": "5%"
        },
        {
         "confidence": 0.90565,
         "end": 77242,
         "speaker": null,
         "start": 76748,
         "text": "user."
        },
        {
         "confidence": 0.99663,
         "end": 77538,
         "speaker": null,
         "start": 77326,
         "text": "In"
        },
        {
         "confidence": 0.9972,
         "end": 78082,
         "speaker": null,
         "start": 77564,
         "text": "industry,"
        },
        {
         "confidence": 0.74853,
         "end": 78658,
         "speaker": null,
         "start": 78166,
         "text": "Python"
        },
        {
         "confidence": 0.99938,
         "end": 78822,
         "speaker": null,
         "start": 78694,
         "text": "is"
        },
        {
         "confidence": 0.99,
         "end": 79014,
         "speaker": null,
         "start": 78836,
         "text": "a"
        },
        {
         "confidence": 0.99934,
         "end": 79218,
         "speaker": null,
         "start": 79052,
         "text": "far"
        },
        {
         "confidence": 0.7,
         "end": 79434,
         "speaker": null,
         "start": 79244,
         "text": "more"
        },
        {
         "confidence": 0.99994,
         "end": 79710,
         "speaker": null,
         "start": 79472,
         "text": "common"
        },
        {
         "confidence": 0.98497,
         "end": 80290,
         "speaker": null,
         "start": 79760,
         "text": "language."
        },
        {
         "confidence": 0.94889,
         "end": 80782,
         "speaker": null,
         "start": 80410,
         "text": "Let's"
        },
        {
         "confidence": 0.99,
         "end": 80958,
         "speaker": null,
         "start": 80806,
         "text": "now"
        },
        {
         "confidence": 1,
         "end": 81210,
         "speaker": null,
         "start": 80984,
         "text": "look"
        },
        {
         "confidence": 1,
         "end": 81474,
         "speaker": null,
         "start": 81260,
         "text": "more"
        },
        {
         "confidence": 0.89906,
         "end": 82246,
         "speaker": null,
         "start": 81512,
         "text": "specifically"
        },
        {
         "confidence": 0.38,
         "end": 82482,
         "speaker": null,
         "start": 82318,
         "text": "a"
        },
        {
         "confidence": 0.99964,
         "end": 82710,
         "speaker": null,
         "start": 82496,
         "text": "data"
        },
        {
         "confidence": 0.80456,
         "end": 83338,
         "speaker": null,
         "start": 82760,
         "text": "scientist,"
        },
        {
         "confidence": 0.9972,
         "end": 83694,
         "speaker": null,
         "start": 83434,
         "text": "not"
        },
        {
         "confidence": 0.9967,
         "end": 83898,
         "speaker": null,
         "start": 83732,
         "text": "just"
        },
        {
         "confidence": 0.99223,
         "end": 84042,
         "speaker": null,
         "start": 83924,
         "text": "all"
        },
        {
         "confidence": 0.94526,
         "end": 84262,
         "speaker": null,
         "start": 84056,
         "text": "Stack"
        },
        {
         "confidence": 0.67702,
         "end": 84742,
         "speaker": null,
         "start": 84286,
         "text": "Overflow"
        },
        {
         "confidence": 0.8954,
         "end": 85078,
         "speaker": null,
         "start": 84766,
         "text": "users"
        },
        {
         "confidence": 0.9971,
         "end": 85242,
         "speaker": null,
         "start": 85114,
         "text": "who"
        },
        {
         "confidence": 0.9976,
         "end": 85398,
         "speaker": null,
         "start": 85256,
         "text": "come"
        },
        {
         "confidence": 0.99957,
         "end": 85614,
         "speaker": null,
         "start": 85424,
         "text": "from"
        },
        {
         "confidence": 0.99,
         "end": 85782,
         "speaker": null,
         "start": 85652,
         "text": "a"
        },
        {
         "confidence": 0.47022,
         "end": 86098,
         "speaker": null,
         "start": 85796,
         "text": "variety"
        },
        {
         "confidence": 0.94,
         "end": 86298,
         "speaker": null,
         "start": 86134,
         "text": "of"
        },
        {
         "confidence": 0.98932,
         "end": 86962,
         "speaker": null,
         "start": 86324,
         "text": "backgrounds."
        },
        {
         "confidence": 0.99891,
         "end": 87258,
         "speaker": null,
         "start": 87046,
         "text": "On"
        },
        {
         "confidence": 0.81,
         "end": 87730,
         "speaker": null,
         "start": 87284,
         "text": "Kaggle,"
        },
        {
         "confidence": 0.99877,
         "end": 87978,
         "speaker": null,
         "start": 87790,
         "text": "my"
        },
        {
         "confidence": 0.99584,
         "end": 88318,
         "speaker": null,
         "start": 88004,
         "text": "favorite"
        },
        {
         "confidence": 0.99991,
         "end": 88662,
         "speaker": null,
         "start": 88354,
         "text": "platform"
        },
        {
         "confidence": 0.99955,
         "end": 88902,
         "speaker": null,
         "start": 88736,
         "text": "for"
        },
        {
         "confidence": 0.9376,
         "end": 89094,
         "speaker": null,
         "start": 88916,
         "text": "data"
        },
        {
         "confidence": 0.99735,
         "end": 89434,
         "speaker": null,
         "start": 89132,
         "text": "science"
        },
        {
         "confidence": 0.99982,
         "end": 89730,
         "speaker": null,
         "start": 89482,
         "text": "learning"
        },
        {
         "confidence": 1,
         "end": 89958,
         "speaker": null,
         "start": 89780,
         "text": "and"
        },
        {
         "confidence": 0.80285,
         "end": 90562,
         "speaker": null,
         "start": 89984,
         "text": "projects,"
        },
        {
         "confidence": 0.99938,
         "end": 90822,
         "speaker": null,
         "start": 90646,
         "text": "we"
        },
        {
         "confidence": 0.98059,
         "end": 90978,
         "speaker": null,
         "start": 90836,
         "text": "can"
        },
        {
         "confidence": 0.99951,
         "end": 91122,
         "speaker": null,
         "start": 91004,
         "text": "see"
        },
        {
         "confidence": 0.99598,
         "end": 91278,
         "speaker": null,
         "start": 91136,
         "text": "that"
        },
        {
         "confidence": 0.99942,
         "end": 91602,
         "speaker": null,
         "start": 91304,
         "text": "around"
        },
        {
         "confidence": 0.89,
         "end": 92874,
         "speaker": null,
         "start": 91676,
         "text": "84.2%"
        },
        {
         "confidence": 1,
         "end": 93042,
         "speaker": null,
         "start": 92912,
         "text": "of"
        },
        {
         "confidence": 0.99337,
         "end": 93586,
         "speaker": null,
         "start": 93056,
         "text": "respondents"
        },
        {
         "confidence": 0.75276,
         "end": 93894,
         "speaker": null,
         "start": 93658,
         "text": "use"
        },
        {
         "confidence": 0.65254,
         "end": 94486,
         "speaker": null,
         "start": 93932,
         "text": "Python,"
        },
        {
         "confidence": 0.9966,
         "end": 94794,
         "speaker": null,
         "start": 94558,
         "text": "while"
        },
        {
         "confidence": 1,
         "end": 95070,
         "speaker": null,
         "start": 94832,
         "text": "only"
        },
        {
         "confidence": 0.96,
         "end": 96246,
         "speaker": null,
         "start": 95120,
         "text": "25%"
        },
        {
         "confidence": 0.99414,
         "end": 96498,
         "speaker": null,
         "start": 96308,
         "text": "use"
        },
        {
         "confidence": 0.72,
         "end": 97002,
         "speaker": null,
         "start": 96524,
         "text": "R."
        },
        {
         "confidence": 0.99956,
         "end": 97470,
         "speaker": null,
         "start": 97136,
         "text": "Since"
        },
        {
         "confidence": 0.99229,
         "end": 97698,
         "speaker": null,
         "start": 97520,
         "text": "these"
        },
        {
         "confidence": 0.99378,
         "end": 97842,
         "speaker": null,
         "start": 97724,
         "text": "add"
        },
        {
         "confidence": 0.99857,
         "end": 97962,
         "speaker": null,
         "start": 97856,
         "text": "up"
        },
        {
         "confidence": 1,
         "end": 98118,
         "speaker": null,
         "start": 97976,
         "text": "to"
        },
        {
         "confidence": 1,
         "end": 98262,
         "speaker": null,
         "start": 98144,
         "text": "more"
        },
        {
         "confidence": 0.99947,
         "end": 98382,
         "speaker": null,
         "start": 98276,
         "text": "than"
        },
        {
         "confidence": 0.94,
         "end": 99114,
         "speaker": null,
         "start": 98396,
         "text": "100%,"
        },
        {
         "confidence": 0.62629,
         "end": 99438,
         "speaker": null,
         "start": 99212,
         "text": "we"
        },
        {
         "confidence": 0.99786,
         "end": 99582,
         "speaker": null,
         "start": 99464,
         "text": "can"
        },
        {
         "confidence": 0.99974,
         "end": 99898,
         "speaker": null,
         "start": 99596,
         "text": "assume"
        },
        {
         "confidence": 0.99532,
         "end": 100134,
         "speaker": null,
         "start": 99934,
         "text": "that"
        },
        {
         "confidence": 0.99964,
         "end": 100374,
         "speaker": null,
         "start": 100172,
         "text": "some"
        },
        {
         "confidence": 0.99984,
         "end": 100614,
         "speaker": null,
         "start": 100412,
         "text": "data"
        },
        {
         "confidence": 0.97686,
         "end": 101146,
         "speaker": null,
         "start": 100652,
         "text": "scientists"
        },
        {
         "confidence": 0.99831,
         "end": 101418,
         "speaker": null,
         "start": 101218,
         "text": "are"
        },
        {
         "confidence": 0.99968,
         "end": 101670,
         "speaker": null,
         "start": 101444,
         "text": "using"
        },
        {
         "confidence": 0.99944,
         "end": 101970,
         "speaker": null,
         "start": 101720,
         "text": "both"
        },
        {
         "confidence": 0.99934,
         "end": 102514,
         "speaker": null,
         "start": 102020,
         "text": "languages."
        },
        {
         "confidence": 0.99922,
         "end": 103074,
         "speaker": null,
         "start": 102622,
         "text": "Finally,"
        },
        {
         "confidence": 0.97679,
         "end": 103402,
         "speaker": null,
         "start": 103172,
         "text": "let's"
        },
        {
         "confidence": 1,
         "end": 103542,
         "speaker": null,
         "start": 103426,
         "text": "look"
        },
        {
         "confidence": 1,
         "end": 103662,
         "speaker": null,
         "start": 103556,
         "text": "at"
        },
        {
         "confidence": 0.99274,
         "end": 103818,
         "speaker": null,
         "start": 103676,
         "text": "these"
        },
        {
         "confidence": 1,
         "end": 104034,
         "speaker": null,
         "start": 103844,
         "text": "two"
        },
        {
         "confidence": 0.99918,
         "end": 104482,
         "speaker": null,
         "start": 104072,
         "text": "languages"
        },
        {
         "confidence": 0.99982,
         "end": 104886,
         "speaker": null,
         "start": 104566,
         "text": "over"
        },
        {
         "confidence": 0.69516,
         "end": 105246,
         "speaker": null,
         "start": 104948,
         "text": "time."
        },
        {
         "confidence": 0.99852,
         "end": 105462,
         "speaker": null,
         "start": 105308,
         "text": "We"
        },
        {
         "confidence": 0.99807,
         "end": 105582,
         "speaker": null,
         "start": 105476,
         "text": "can"
        },
        {
         "confidence": 0.99943,
         "end": 105774,
         "speaker": null,
         "start": 105596,
         "text": "see"
        },
        {
         "confidence": 0.99868,
         "end": 106158,
         "speaker": null,
         "start": 105812,
         "text": "here"
        },
        {
         "confidence": 0.99791,
         "end": 106566,
         "speaker": null,
         "start": 106244,
         "text": "from"
        },
        {
         "confidence": 0.89,
         "end": 107166,
         "speaker": null,
         "start": 106628,
         "text": "2020"
        },
        {
         "confidence": 0.95,
         "end": 107418,
         "speaker": null,
         "start": 107228,
         "text": "to"
        },
        {
         "confidence": 0.9,
         "end": 108330,
         "speaker": null,
         "start": 107444,
         "text": "2021,"
        },
        {
         "confidence": 0.77131,
         "end": 108898,
         "speaker": null,
         "start": 108440,
         "text": "Python"
        },
        {
         "confidence": 0.98496,
         "end": 109062,
         "speaker": null,
         "start": 108934,
         "text": "has"
        },
        {
         "confidence": 0.68657,
         "end": 109282,
         "speaker": null,
         "start": 109076,
         "text": "gained"
        },
        {
         "confidence": 0.86388,
         "end": 109422,
         "speaker": null,
         "start": 109306,
         "text": "an"
        },
        {
         "confidence": 0.56204,
         "end": 110002,
         "speaker": null,
         "start": 109436,
         "text": "adoption."
        },
        {
         "confidence": 0.99129,
         "end": 110298,
         "speaker": null,
         "start": 110086,
         "text": "While"
        },
        {
         "confidence": 0.34537,
         "end": 110514,
         "speaker": null,
         "start": 110324,
         "text": "our"
        },
        {
         "confidence": 0.99889,
         "end": 110878,
         "speaker": null,
         "start": 110552,
         "text": "usage"
        },
        {
         "confidence": 0.99584,
         "end": 111078,
         "speaker": null,
         "start": 110914,
         "text": "has"
        },
        {
         "confidence": 0.99276,
         "end": 111222,
         "speaker": null,
         "start": 111104,
         "text": "seen"
        },
        {
         "confidence": 0.99153,
         "end": 111378,
         "speaker": null,
         "start": 111236,
         "text": "some"
        },
        {
         "confidence": 0.97902,
         "end": 112126,
         "speaker": null,
         "start": 111404,
         "text": "attrition,"
        },
        {
         "confidence": 1,
         "end": 112518,
         "speaker": null,
         "start": 112258,
         "text": "to"
        },
        {
         "confidence": 0.99598,
         "end": 112698,
         "speaker": null,
         "start": 112544,
         "text": "me,"
        },
        {
         "confidence": 0.99607,
         "end": 112842,
         "speaker": null,
         "start": 112724,
         "text": "this"
        },
        {
         "confidence": 0.99118,
         "end": 112962,
         "speaker": null,
         "start": 112856,
         "text": "is"
        },
        {
         "confidence": 0.99,
         "end": 113046,
         "speaker": null,
         "start": 112976,
         "text": "a"
        },
        {
         "confidence": 0.99958,
         "end": 113142,
         "speaker": null,
         "start": 113048,
         "text": "no"
        },
        {
         "confidence": 0.65666,
         "end": 113590,
         "speaker": null,
         "start": 113156,
         "text": "brainer."
        },
        {
         "confidence": 1,
         "end": 113838,
         "speaker": null,
         "start": 113650,
         "text": "I"
        },
        {
         "confidence": 0.96602,
         "end": 114322,
         "speaker": null,
         "start": 113864,
         "text": "recommended"
        },
        {
         "confidence": 0.9997,
         "end": 114498,
         "speaker": null,
         "start": 114346,
         "text": "my"
        },
        {
         "confidence": 0.82086,
         "end": 114714,
         "speaker": null,
         "start": 114524,
         "text": "friend"
        },
        {
         "confidence": 0.99,
         "end": 114882,
         "speaker": null,
         "start": 114752,
         "text": "to"
        },
        {
         "confidence": 0.9996,
         "end": 115074,
         "speaker": null,
         "start": 114896,
         "text": "start"
        },
        {
         "confidence": 0.9995,
         "end": 115314,
         "speaker": null,
         "start": 115112,
         "text": "learning"
        },
        {
         "confidence": 0.99841,
         "end": 115738,
         "speaker": null,
         "start": 115352,
         "text": "Python"
        },
        {
         "confidence": 1,
         "end": 116226,
         "speaker": null,
         "start": 115774,
         "text": "first."
        },
        {
         "confidence": 0.99737,
         "end": 116634,
         "speaker": null,
         "start": 116348,
         "text": "That"
        },
        {
         "confidence": 0.99978,
         "end": 116998,
         "speaker": null,
         "start": 116672,
         "text": "language"
        },
        {
         "confidence": 0.99856,
         "end": 117162,
         "speaker": null,
         "start": 117034,
         "text": "is"
        },
        {
         "confidence": 1,
         "end": 117318,
         "speaker": null,
         "start": 117176,
         "text": "more"
        },
        {
         "confidence": 0.99991,
         "end": 117694,
         "speaker": null,
         "start": 117344,
         "text": "popular,"
        },
        {
         "confidence": 1,
         "end": 117882,
         "speaker": null,
         "start": 117742,
         "text": "and"
        },
        {
         "confidence": 0.94986,
         "end": 118042,
         "speaker": null,
         "start": 117896,
         "text": "it's"
        },
        {
         "confidence": 0.99414,
         "end": 118522,
         "speaker": null,
         "start": 118066,
         "text": "continuing"
        },
        {
         "confidence": 1,
         "end": 118662,
         "speaker": null,
         "start": 118546,
         "text": "to"
        },
        {
         "confidence": 0.99939,
         "end": 118890,
         "speaker": null,
         "start": 118676,
         "text": "grow."
        },
        {
         "confidence": 0.99771,
         "end": 119118,
         "speaker": null,
         "start": 118940,
         "text": "This"
        },
        {
         "confidence": 0.98874,
         "end": 119302,
         "speaker": null,
         "start": 119144,
         "text": "isn't"
        },
        {
         "confidence": 0.98,
         "end": 119442,
         "speaker": null,
         "start": 119326,
         "text": "to"
        },
        {
         "confidence": 0.99961,
         "end": 119634,
         "speaker": null,
         "start": 119456,
         "text": "say"
        },
        {
         "confidence": 0.97,
         "end": 119802,
         "speaker": null,
         "start": 119672,
         "text": "R"
        },
        {
         "confidence": 0.82976,
         "end": 119958,
         "speaker": null,
         "start": 119816,
         "text": "is"
        },
        {
         "confidence": 0.99977,
         "end": 120354,
         "speaker": null,
         "start": 119984,
         "text": "bad."
        },
        {
         "confidence": 0.97575,
         "end": 120778,
         "speaker": null,
         "start": 120452,
         "text": "It's"
        },
        {
         "confidence": 0.99783,
         "end": 121014,
         "speaker": null,
         "start": 120814,
         "text": "just"
        },
        {
         "confidence": 0.99,
         "end": 121182,
         "speaker": null,
         "start": 121052,
         "text": "to"
        },
        {
         "confidence": 0.99949,
         "end": 121302,
         "speaker": null,
         "start": 121196,
         "text": "say"
        },
        {
         "confidence": 0.98517,
         "end": 121422,
         "speaker": null,
         "start": 121316,
         "text": "that"
        },
        {
         "confidence": 0.96,
         "end": 121542,
         "speaker": null,
         "start": 121436,
         "text": "I"
        },
        {
         "confidence": 0.99977,
         "end": 121698,
         "speaker": null,
         "start": 121556,
         "text": "think"
        },
        {
         "confidence": 0.77235,
         "end": 122062,
         "speaker": null,
         "start": 121724,
         "text": "Python"
        },
        {
         "confidence": 0.99898,
         "end": 122238,
         "speaker": null,
         "start": 122086,
         "text": "is"
        },
        {
         "confidence": 0.74376,
         "end": 122650,
         "speaker": null,
         "start": 122264,
         "text": "growing"
        },
        {
         "confidence": 1,
         "end": 122898,
         "speaker": null,
         "start": 122710,
         "text": "and"
        },
        {
         "confidence": 0.99332,
         "end": 123042,
         "speaker": null,
         "start": 122924,
         "text": "will"
        },
        {
         "confidence": 0.99729,
         "end": 123198,
         "speaker": null,
         "start": 123056,
         "text": "be"
        },
        {
         "confidence": 0.98,
         "end": 123378,
         "speaker": null,
         "start": 123224,
         "text": "a"
        },
        {
         "confidence": 1,
         "end": 123594,
         "speaker": null,
         "start": 123404,
         "text": "more"
        },
        {
         "confidence": 0.99931,
         "end": 123994,
         "speaker": null,
         "start": 123632,
         "text": "valuable"
        },
        {
         "confidence": 0.90644,
         "end": 124294,
         "speaker": null,
         "start": 124042,
         "text": "skill"
        },
        {
         "confidence": 0.99,
         "end": 124518,
         "speaker": null,
         "start": 124342,
         "text": "to"
        },
        {
         "confidence": 0.99894,
         "end": 124698,
         "speaker": null,
         "start": 124544,
         "text": "have"
        },
        {
         "confidence": 0.99735,
         "end": 124842,
         "speaker": null,
         "start": 124724,
         "text": "for"
        },
        {
         "confidence": 1,
         "end": 124962,
         "speaker": null,
         "start": 124856,
         "text": "the"
        },
        {
         "confidence": 0.99943,
         "end": 125154,
         "speaker": null,
         "start": 124976,
         "text": "job"
        },
        {
         "confidence": 0.99982,
         "end": 125430,
         "speaker": null,
         "start": 125192,
         "text": "market"
        },
        {
         "confidence": 0.99903,
         "end": 125658,
         "speaker": null,
         "start": 125480,
         "text": "in"
        },
        {
         "confidence": 0.99995,
         "end": 125946,
         "speaker": null,
         "start": 125684,
         "text": "general."
        },
        {
         "confidence": 1,
         "end": 126198,
         "speaker": null,
         "start": 126008,
         "text": "I"
        },
        {
         "confidence": 0.99581,
         "end": 126414,
         "speaker": null,
         "start": 126224,
         "text": "also"
        },
        {
         "confidence": 0.57399,
         "end": 126718,
         "speaker": null,
         "start": 126452,
         "text": "personally"
        },
        {
         "confidence": 0.99924,
         "end": 126918,
         "speaker": null,
         "start": 126754,
         "text": "find"
        },
        {
         "confidence": 0.99,
         "end": 127062,
         "speaker": null,
         "start": 126944,
         "text": "it"
        },
        {
         "confidence": 1,
         "end": 127146,
         "speaker": null,
         "start": 127076,
         "text": "a"
        },
        {
         "confidence": 0.98797,
         "end": 127278,
         "speaker": null,
         "start": 127148,
         "text": "bit"
        },
        {
         "confidence": 1,
         "end": 127422,
         "speaker": null,
         "start": 127304,
         "text": "more"
        },
        {
         "confidence": 0.99417,
         "end": 127834,
         "speaker": null,
         "start": 127436,
         "text": "intuitive"
        },
        {
         "confidence": 1,
         "end": 128058,
         "speaker": null,
         "start": 127882,
         "text": "and"
        },
        {
         "confidence": 0.69114,
         "end": 128458,
         "speaker": null,
         "start": 128084,
         "text": "flexible"
        },
        {
         "confidence": 0.99117,
         "end": 128658,
         "speaker": null,
         "start": 128494,
         "text": "than"
        },
        {
         "confidence": 0.43165,
         "end": 128946,
         "speaker": null,
         "start": 128684,
         "text": "our."
        },
        {
         "confidence": 1,
         "end": 129162,
         "speaker": null,
         "start": 129008,
         "text": "Now"
        },
        {
         "confidence": 0.56343,
         "end": 129318,
         "speaker": null,
         "start": 129176,
         "text": "that"
        },
        {
         "confidence": 0.98023,
         "end": 129502,
         "speaker": null,
         "start": 129344,
         "text": "we've"
        },
        {
         "confidence": 0.8041,
         "end": 129742,
         "speaker": null,
         "start": 129526,
         "text": "chosen"
        },
        {
         "confidence": 0.99174,
         "end": 129918,
         "speaker": null,
         "start": 129766,
         "text": "our"
        },
        {
         "confidence": 0.58041,
         "end": 130198,
         "speaker": null,
         "start": 129944,
         "text": "language"
        },
        {
         "confidence": 0.61837,
         "end": 130362,
         "speaker": null,
         "start": 130234,
         "text": "as"
        },
        {
         "confidence": 0.97961,
         "end": 130846,
         "speaker": null,
         "start": 130376,
         "text": "Python,"
        },
        {
         "confidence": 0.99992,
         "end": 131118,
         "speaker": null,
         "start": 130918,
         "text": "what"
        },
        {
         "confidence": 0.91503,
         "end": 131422,
         "speaker": null,
         "start": 131144,
         "text": "coding"
        },
        {
         "confidence": 0.93002,
         "end": 131722,
         "speaker": null,
         "start": 131446,
         "text": "skills"
        },
        {
         "confidence": 0.99962,
         "end": 131862,
         "speaker": null,
         "start": 131746,
         "text": "should"
        },
        {
         "confidence": 0.99723,
         "end": 131982,
         "speaker": null,
         "start": 131876,
         "text": "my"
        },
        {
         "confidence": 0.99812,
         "end": 132138,
         "speaker": null,
         "start": 131996,
         "text": "friend"
        },
        {
         "confidence": 0.99983,
         "end": 132354,
         "speaker": null,
         "start": 132164,
         "text": "learn"
        },
        {
         "confidence": 1,
         "end": 132846,
         "speaker": null,
         "start": 132392,
         "text": "first?"
        },
        {
         "confidence": 0.99847,
         "end": 133218,
         "speaker": null,
         "start": 132968,
         "text": "Should"
        },
        {
         "confidence": 0.98931,
         "end": 133398,
         "speaker": null,
         "start": 133244,
         "text": "he"
        },
        {
         "confidence": 0.99996,
         "end": 133686,
         "speaker": null,
         "start": 133424,
         "text": "focus"
        },
        {
         "confidence": 0.99907,
         "end": 133974,
         "speaker": null,
         "start": 133748,
         "text": "on"
        },
        {
         "confidence": 0.98707,
         "end": 134554,
         "speaker": null,
         "start": 134012,
         "text": "variables?"
        },
        {
         "confidence": 0.98431,
         "end": 134974,
         "speaker": null,
         "start": 134602,
         "text": "Logic"
        },
        {
         "confidence": 0.96766,
         "end": 135478,
         "speaker": null,
         "start": 135022,
         "text": "functions?"
        },
        {
         "confidence": 0.59813,
         "end": 136042,
         "speaker": null,
         "start": 135514,
         "text": "Algorithms?"
        },
        {
         "confidence": 0.99026,
         "end": 136882,
         "speaker": null,
         "start": 136126,
         "text": "Classes?"
        },
        {
         "confidence": 0.99888,
         "end": 137298,
         "speaker": null,
         "start": 137026,
         "text": "My"
        },
        {
         "confidence": 0.99979,
         "end": 137550,
         "speaker": null,
         "start": 137324,
         "text": "mind"
        },
        {
         "confidence": 0.99514,
         "end": 137814,
         "speaker": null,
         "start": 137600,
         "text": "was"
        },
        {
         "confidence": 0.99393,
         "end": 138090,
         "speaker": null,
         "start": 137852,
         "text": "absolutely"
        },
        {
         "confidence": 0.99266,
         "end": 138442,
         "speaker": null,
         "start": 138140,
         "text": "spinning"
        },
        {
         "confidence": 0.99934,
         "end": 138582,
         "speaker": null,
         "start": 138466,
         "text": "when"
        },
        {
         "confidence": 1,
         "end": 138702,
         "speaker": null,
         "start": 138596,
         "text": "I"
        },
        {
         "confidence": 1,
         "end": 138858,
         "speaker": null,
         "start": 138716,
         "text": "first"
        },
        {
         "confidence": 0.79334,
         "end": 139222,
         "speaker": null,
         "start": 138884,
         "text": "addressed"
        },
        {
         "confidence": 0.99715,
         "end": 139542,
         "speaker": null,
         "start": 139246,
         "text": "this."
        },
        {
         "confidence": 0.76,
         "end": 139818,
         "speaker": null,
         "start": 139616,
         "text": "It"
        },
        {
         "confidence": 0.99983,
         "end": 139998,
         "speaker": null,
         "start": 139844,
         "text": "took"
        },
        {
         "confidence": 0.99982,
         "end": 140142,
         "speaker": null,
         "start": 140024,
         "text": "me"
        },
        {
         "confidence": 1,
         "end": 140226,
         "speaker": null,
         "start": 140156,
         "text": "a"
        },
        {
         "confidence": 0.97,
         "end": 140502,
         "speaker": null,
         "start": 140228,
         "text": "second,"
        },
        {
         "confidence": 0.99438,
         "end": 140742,
         "speaker": null,
         "start": 140576,
         "text": "but"
        },
        {
         "confidence": 0.9,
         "end": 140898,
         "speaker": null,
         "start": 140756,
         "text": "I"
        },
        {
         "confidence": 0.98783,
         "end": 141042,
         "speaker": null,
         "start": 140924,
         "text": "had"
        },
        {
         "confidence": 0.99786,
         "end": 141342,
         "speaker": null,
         "start": 141056,
         "text": "this"
        },
        {
         "confidence": 0.57409,
         "end": 141730,
         "speaker": null,
         "start": 141416,
         "text": "weird"
        },
        {
         "confidence": 0.86189,
         "end": 142258,
         "speaker": null,
         "start": 141790,
         "text": "chaotic"
        },
        {
         "confidence": 0.94429,
         "end": 142930,
         "speaker": null,
         "start": 142294,
         "text": "flashback"
        },
        {
         "confidence": 1,
         "end": 143178,
         "speaker": null,
         "start": 142990,
         "text": "to"
        },
        {
         "confidence": 0.99904,
         "end": 143322,
         "speaker": null,
         "start": 143204,
         "text": "my"
        },
        {
         "confidence": 1,
         "end": 143514,
         "speaker": null,
         "start": 143336,
         "text": "first"
        },
        {
         "confidence": 0.99787,
         "end": 143718,
         "speaker": null,
         "start": 143552,
         "text": "days"
        },
        {
         "confidence": 1,
         "end": 143898,
         "speaker": null,
         "start": 143744,
         "text": "of"
        },
        {
         "confidence": 0.99878,
         "end": 144114,
         "speaker": null,
         "start": 143924,
         "text": "learning"
        },
        {
         "confidence": 0.99952,
         "end": 144562,
         "speaker": null,
         "start": 144152,
         "text": "programming"
        },
        {
         "confidence": 0.99961,
         "end": 145098,
         "speaker": null,
         "start": 144586,
         "text": "myself."
        },
        {
         "confidence": 1,
         "end": 145482,
         "speaker": null,
         "start": 145244,
         "text": "I"
        },
        {
         "confidence": 0.75533,
         "end": 145642,
         "speaker": null,
         "start": 145496,
         "text": "didn't"
        },
        {
         "confidence": 0.98258,
         "end": 145818,
         "speaker": null,
         "start": 145666,
         "text": "even"
        },
        {
         "confidence": 0.99973,
         "end": 145962,
         "speaker": null,
         "start": 145844,
         "text": "know"
        },
        {
         "confidence": 0.99759,
         "end": 146082,
         "speaker": null,
         "start": 145976,
         "text": "where"
        },
        {
         "confidence": 1,
         "end": 146202,
         "speaker": null,
         "start": 146096,
         "text": "to"
        },
        {
         "confidence": 0.99969,
         "end": 146394,
         "speaker": null,
         "start": 146216,
         "text": "start"
        },
        {
         "confidence": 0.99844,
         "end": 146670,
         "speaker": null,
         "start": 146432,
         "text": "with"
        },
        {
         "confidence": 0.9988,
         "end": 146934,
         "speaker": null,
         "start": 146720,
         "text": "getting"
        },
        {
         "confidence": 0.94987,
         "end": 147454,
         "speaker": null,
         "start": 146972,
         "text": "Python"
        },
        {
         "confidence": 0.99921,
         "end": 147642,
         "speaker": null,
         "start": 147502,
         "text": "on"
        },
        {
         "confidence": 0.99951,
         "end": 147762,
         "speaker": null,
         "start": 147656,
         "text": "my"
        },
        {
         "confidence": 0.99588,
         "end": 147882,
         "speaker": null,
         "start": 147776,
         "text": "own"
        },
        {
         "confidence": 0.70112,
         "end": 148254,
         "speaker": null,
         "start": 147896,
         "text": "computer."
        },
        {
         "confidence": 1,
         "end": 148578,
         "speaker": null,
         "start": 148352,
         "text": "I"
        },
        {
         "confidence": 0.99089,
         "end": 148758,
         "speaker": null,
         "start": 148604,
         "text": "just"
        },
        {
         "confidence": 0.99,
         "end": 148938,
         "speaker": null,
         "start": 148784,
         "text": "now"
        },
        {
         "confidence": 0.69993,
         "end": 149154,
         "speaker": null,
         "start": 148964,
         "text": "got"
        },
        {
         "confidence": 0.99949,
         "end": 149554,
         "speaker": null,
         "start": 149192,
         "text": "excited"
        },
        {
         "confidence": 0.99981,
         "end": 149778,
         "speaker": null,
         "start": 149602,
         "text": "about"
        },
        {
         "confidence": 0.99943,
         "end": 150082,
         "speaker": null,
         "start": 149804,
         "text": "teaching"
        },
        {
         "confidence": 0.93,
         "end": 150222,
         "speaker": null,
         "start": 150106,
         "text": "the"
        },
        {
         "confidence": 0.65206,
         "end": 150562,
         "speaker": null,
         "start": 150236,
         "text": "functional"
        },
        {
         "confidence": 0.99961,
         "end": 150738,
         "speaker": null,
         "start": 150586,
         "text": "part"
        },
        {
         "confidence": 1,
         "end": 150882,
         "speaker": null,
         "start": 150764,
         "text": "of"
        },
        {
         "confidence": 0.99119,
         "end": 151426,
         "speaker": null,
         "start": 150896,
         "text": "programming,"
        },
        {
         "confidence": 0.97,
         "end": 151662,
         "speaker": null,
         "start": 151498,
         "text": "and"
        },
        {
         "confidence": 1,
         "end": 151854,
         "speaker": null,
         "start": 151676,
         "text": "I"
        },
        {
         "confidence": 0.99982,
         "end": 152238,
         "speaker": null,
         "start": 151892,
         "text": "completely"
        },
        {
         "confidence": 0.99909,
         "end": 152770,
         "speaker": null,
         "start": 152324,
         "text": "forgot"
        },
        {
         "confidence": 0.999,
         "end": 153054,
         "speaker": null,
         "start": 152830,
         "text": "about"
        },
        {
         "confidence": 1,
         "end": 153294,
         "speaker": null,
         "start": 153092,
         "text": "the"
        },
        {
         "confidence": 0.98942,
         "end": 153730,
         "speaker": null,
         "start": 153332,
         "text": "basics"
        },
        {
         "confidence": 1,
         "end": 153978,
         "speaker": null,
         "start": 153790,
         "text": "of"
        },
        {
         "confidence": 0.99922,
         "end": 154282,
         "speaker": null,
         "start": 154004,
         "text": "setting"
        },
        {
         "confidence": 0.99784,
         "end": 154458,
         "speaker": null,
         "start": 154306,
         "text": "up"
        },
        {
         "confidence": 1,
         "end": 154638,
         "speaker": null,
         "start": 154484,
         "text": "your"
        },
        {
         "confidence": 0.99926,
         "end": 155098,
         "speaker": null,
         "start": 154664,
         "text": "environment"
        },
        {
         "confidence": 0.99984,
         "end": 155298,
         "speaker": null,
         "start": 155134,
         "text": "for"
        },
        {
         "confidence": 0.99992,
         "end": 155766,
         "speaker": null,
         "start": 155324,
         "text": "success."
        },
        {
         "confidence": 1,
         "end": 156102,
         "speaker": null,
         "start": 155888,
         "text": "The"
        },
        {
         "confidence": 0.99988,
         "end": 156258,
         "speaker": null,
         "start": 156116,
         "text": "next"
        },
        {
         "confidence": 0.99906,
         "end": 156402,
         "speaker": null,
         "start": 156284,
         "text": "thing"
        },
        {
         "confidence": 1,
         "end": 156522,
         "speaker": null,
         "start": 156416,
         "text": "I"
        },
        {
         "confidence": 0.99842,
         "end": 156678,
         "speaker": null,
         "start": 156536,
         "text": "did"
        },
        {
         "confidence": 0.99051,
         "end": 156822,
         "speaker": null,
         "start": 156704,
         "text": "was"
        },
        {
         "confidence": 0.98815,
         "end": 156978,
         "speaker": null,
         "start": 156836,
         "text": "give"
        },
        {
         "confidence": 0.99884,
         "end": 157122,
         "speaker": null,
         "start": 157004,
         "text": "my"
        },
        {
         "confidence": 0.84497,
         "end": 157314,
         "speaker": null,
         "start": 157136,
         "text": "friend"
        },
        {
         "confidence": 0.99624,
         "end": 157482,
         "speaker": null,
         "start": 157352,
         "text": "some"
        },
        {
         "confidence": 0.91,
         "end": 157602,
         "speaker": null,
         "start": 157496,
         "text": "of"
        },
        {
         "confidence": 0.99757,
         "end": 157722,
         "speaker": null,
         "start": 157616,
         "text": "my"
        },
        {
         "confidence": 0.82399,
         "end": 158038,
         "speaker": null,
         "start": 157736,
         "text": "favorite"
        },
        {
         "confidence": 0.99772,
         "end": 158518,
         "speaker": null,
         "start": 158074,
         "text": "resources"
        },
        {
         "confidence": 0.732,
         "end": 158754,
         "speaker": null,
         "start": 158554,
         "text": "on"
        },
        {
         "confidence": 0.99984,
         "end": 159082,
         "speaker": null,
         "start": 158792,
         "text": "choosing"
        },
        {
         "confidence": 0.99529,
         "end": 159258,
         "speaker": null,
         "start": 159106,
         "text": "an"
        },
        {
         "confidence": 0.87215,
         "end": 159838,
         "speaker": null,
         "start": 159284,
         "text": "environment"
        },
        {
         "confidence": 1,
         "end": 160158,
         "speaker": null,
         "start": 159934,
         "text": "and"
        },
        {
         "confidence": 0.99847,
         "end": 160374,
         "speaker": null,
         "start": 160184,
         "text": "getting"
        },
        {
         "confidence": 1,
         "end": 160578,
         "speaker": null,
         "start": 160412,
         "text": "the"
        },
        {
         "confidence": 0.99936,
         "end": 160794,
         "speaker": null,
         "start": 160604,
         "text": "right"
        },
        {
         "confidence": 0.5409,
         "end": 161038,
         "speaker": null,
         "start": 160832,
         "text": "version"
        },
        {
         "confidence": 1,
         "end": 161202,
         "speaker": null,
         "start": 161074,
         "text": "of"
        },
        {
         "confidence": 0.99699,
         "end": 161614,
         "speaker": null,
         "start": 161216,
         "text": "Python"
        },
        {
         "confidence": 0.99894,
         "end": 161802,
         "speaker": null,
         "start": 161662,
         "text": "on"
        },
        {
         "confidence": 0.998,
         "end": 161958,
         "speaker": null,
         "start": 161816,
         "text": "his"
        },
        {
         "confidence": 0.99996,
         "end": 162318,
         "speaker": null,
         "start": 161984,
         "text": "computer."
        },
        {
         "confidence": 0.99857,
         "end": 162742,
         "speaker": null,
         "start": 162404,
         "text": "Honestly,"
        },
        {
         "confidence": 0.98,
         "end": 162882,
         "speaker": null,
         "start": 162766,
         "text": "I"
        },
        {
         "confidence": 0.99686,
         "end": 162966,
         "speaker": null,
         "start": 162896,
         "text": "was"
        },
        {
         "confidence": 0.97,
         "end": 163026,
         "speaker": null,
         "start": 162968,
         "text": "a"
        },
        {
         "confidence": 0.99742,
         "end": 163122,
         "speaker": null,
         "start": 163028,
         "text": "bit"
        },
        {
         "confidence": 0.99628,
         "end": 163306,
         "speaker": null,
         "start": 163136,
         "text": "torn"
        },
        {
         "confidence": 0.9959,
         "end": 163422,
         "speaker": null,
         "start": 163318,
         "text": "on"
        },
        {
         "confidence": 0.99601,
         "end": 163578,
         "speaker": null,
         "start": 163436,
         "text": "this"
        },
        {
         "confidence": 0.99349,
         "end": 163902,
         "speaker": null,
         "start": 163604,
         "text": "too."
        },
        {
         "confidence": 0.78293,
         "end": 164178,
         "speaker": null,
         "start": 163976,
         "text": "So,"
        },
        {
         "confidence": 0.99769,
         "end": 164358,
         "speaker": null,
         "start": 164204,
         "text": "for"
        },
        {
         "confidence": 0.99995,
         "end": 164646,
         "speaker": null,
         "start": 164384,
         "text": "example,"
        },
        {
         "confidence": 0.99363,
         "end": 164898,
         "speaker": null,
         "start": 164708,
         "text": "what"
        },
        {
         "confidence": 0.9388,
         "end": 165222,
         "speaker": null,
         "start": 164924,
         "text": "IDE"
        },
        {
         "confidence": 0.99815,
         "end": 165462,
         "speaker": null,
         "start": 165296,
         "text": "should"
        },
        {
         "confidence": 0.55817,
         "end": 165582,
         "speaker": null,
         "start": 165476,
         "text": "have"
        },
        {
         "confidence": 0.98989,
         "end": 165846,
         "speaker": null,
         "start": 165596,
         "text": "used?"
        },
        {
         "confidence": 0.87051,
         "end": 166062,
         "speaker": null,
         "start": 165908,
         "text": "Does"
        },
        {
         "confidence": 0.73593,
         "end": 166146,
         "speaker": null,
         "start": 166076,
         "text": "he"
        },
        {
         "confidence": 0.99574,
         "end": 166278,
         "speaker": null,
         "start": 166148,
         "text": "even"
        },
        {
         "confidence": 0.9968,
         "end": 166458,
         "speaker": null,
         "start": 166304,
         "text": "know"
        },
        {
         "confidence": 0.99916,
         "end": 166638,
         "speaker": null,
         "start": 166484,
         "text": "what"
        },
        {
         "confidence": 0.97061,
         "end": 166962,
         "speaker": null,
         "start": 166664,
         "text": "IDE"
        },
        {
         "confidence": 0.98431,
         "end": 167302,
         "speaker": null,
         "start": 167036,
         "text": "stands"
        },
        {
         "confidence": 0.98763,
         "end": 167550,
         "speaker": null,
         "start": 167326,
         "text": "for?"
        },
        {
         "confidence": 0.82836,
         "end": 167742,
         "speaker": null,
         "start": 167600,
         "text": "For"
        },
        {
         "confidence": 0.99935,
         "end": 167898,
         "speaker": null,
         "start": 167756,
         "text": "those"
        },
        {
         "confidence": 0.99887,
         "end": 168042,
         "speaker": null,
         "start": 167924,
         "text": "who"
        },
        {
         "confidence": 0.55287,
         "end": 168238,
         "speaker": null,
         "start": 168056,
         "text": "don't"
        },
        {
         "confidence": 0.99975,
         "end": 168474,
         "speaker": null,
         "start": 168274,
         "text": "know"
        },
        {
         "confidence": 0.63,
         "end": 168678,
         "speaker": null,
         "start": 168512,
         "text": "and"
        },
        {
         "confidence": 0.96121,
         "end": 168858,
         "speaker": null,
         "start": 168704,
         "text": "who"
        },
        {
         "confidence": 0.99739,
         "end": 169002,
         "speaker": null,
         "start": 168884,
         "text": "are"
        },
        {
         "confidence": 1,
         "end": 169338,
         "speaker": null,
         "start": 169016,
         "text": "new,"
        },
        {
         "confidence": 0.00948,
         "end": 169782,
         "speaker": null,
         "start": 169424,
         "text": "ID"
        },
        {
         "confidence": 0.97404,
         "end": 170242,
         "speaker": null,
         "start": 169856,
         "text": "stands"
        },
        {
         "confidence": 0.99993,
         "end": 170454,
         "speaker": null,
         "start": 170266,
         "text": "for"
        },
        {
         "confidence": 0.94587,
         "end": 171022,
         "speaker": null,
         "start": 170492,
         "text": "Integrated"
        },
        {
         "confidence": 0.99978,
         "end": 171634,
         "speaker": null,
         "start": 171106,
         "text": "Development"
        },
        {
         "confidence": 0.57617,
         "end": 172366,
         "speaker": null,
         "start": 171682,
         "text": "Environment."
        },
        {
         "confidence": 0.81527,
         "end": 172758,
         "speaker": null,
         "start": 172498,
         "text": "So"
        },
        {
         "confidence": 0.99785,
         "end": 172938,
         "speaker": null,
         "start": 172784,
         "text": "this"
        },
        {
         "confidence": 0.99488,
         "end": 173118,
         "speaker": null,
         "start": 172964,
         "text": "is"
        },
        {
         "confidence": 0.99891,
         "end": 173470,
         "speaker": null,
         "start": 173144,
         "text": "essentially"
        },
        {
         "confidence": 0.99092,
         "end": 173754,
         "speaker": null,
         "start": 173530,
         "text": "just"
        },
        {
         "confidence": 0.56,
         "end": 173922,
         "speaker": null,
         "start": 173792,
         "text": "a"
        },
        {
         "confidence": 0.99584,
         "end": 174114,
         "speaker": null,
         "start": 173936,
         "text": "text"
        },
        {
         "confidence": 0.97737,
         "end": 174382,
         "speaker": null,
         "start": 174152,
         "text": "editor"
        },
        {
         "confidence": 0.55,
         "end": 174594,
         "speaker": null,
         "start": 174406,
         "text": "you"
        },
        {
         "confidence": 0.93773,
         "end": 174834,
         "speaker": null,
         "start": 174632,
         "text": "use"
        },
        {
         "confidence": 1,
         "end": 175038,
         "speaker": null,
         "start": 174872,
         "text": "to"
        },
        {
         "confidence": 0.99954,
         "end": 175218,
         "speaker": null,
         "start": 175064,
         "text": "write"
        },
        {
         "confidence": 1,
         "end": 175362,
         "speaker": null,
         "start": 175244,
         "text": "your"
        },
        {
         "confidence": 0.58102,
         "end": 175698,
         "speaker": null,
         "start": 175376,
         "text": "code."
        },
        {
         "confidence": 0.99957,
         "end": 175998,
         "speaker": null,
         "start": 175784,
         "text": "If"
        },
        {
         "confidence": 1,
         "end": 176142,
         "speaker": null,
         "start": 176024,
         "text": "you"
        },
        {
         "confidence": 0.53981,
         "end": 176262,
         "speaker": null,
         "start": 176156,
         "text": "were"
        },
        {
         "confidence": 0.99944,
         "end": 176530,
         "speaker": null,
         "start": 176276,
         "text": "writing"
        },
        {
         "confidence": 0.99546,
         "end": 176778,
         "speaker": null,
         "start": 176590,
         "text": "an"
        },
        {
         "confidence": 0.99599,
         "end": 177202,
         "speaker": null,
         "start": 176804,
         "text": "essay,"
        },
        {
         "confidence": 0.92,
         "end": 177462,
         "speaker": null,
         "start": 177286,
         "text": "you"
        },
        {
         "confidence": 0.7903,
         "end": 177618,
         "speaker": null,
         "start": 177476,
         "text": "could"
        },
        {
         "confidence": 0.99723,
         "end": 177870,
         "speaker": null,
         "start": 177644,
         "text": "choose"
        },
        {
         "confidence": 1,
         "end": 178062,
         "speaker": null,
         "start": 177920,
         "text": "to"
        },
        {
         "confidence": 0.99867,
         "end": 178218,
         "speaker": null,
         "start": 178076,
         "text": "use"
        },
        {
         "confidence": 0.9762,
         "end": 178642,
         "speaker": null,
         "start": 178244,
         "text": "Microsoft"
        },
        {
         "confidence": 0.75502,
         "end": 178890,
         "speaker": null,
         "start": 178666,
         "text": "Word."
        },
        {
         "confidence": 0.72,
         "end": 179082,
         "speaker": null,
         "start": 178940,
         "text": "You"
        },
        {
         "confidence": 0.97635,
         "end": 179202,
         "speaker": null,
         "start": 179096,
         "text": "could"
        },
        {
         "confidence": 0.99841,
         "end": 179358,
         "speaker": null,
         "start": 179216,
         "text": "use"
        },
        {
         "confidence": 0.99844,
         "end": 179610,
         "speaker": null,
         "start": 179384,
         "text": "Google"
        },
        {
         "confidence": 0.98122,
         "end": 180202,
         "speaker": null,
         "start": 179660,
         "text": "Docs,"
        },
        {
         "confidence": 0.7,
         "end": 180462,
         "speaker": null,
         "start": 180286,
         "text": "you"
        },
        {
         "confidence": 0.91998,
         "end": 180618,
         "speaker": null,
         "start": 180476,
         "text": "could"
        },
        {
         "confidence": 0.99939,
         "end": 180798,
         "speaker": null,
         "start": 180644,
         "text": "use"
        },
        {
         "confidence": 0.99812,
         "end": 181294,
         "speaker": null,
         "start": 180824,
         "text": "Notepad,"
        },
        {
         "confidence": 0.99942,
         "end": 181482,
         "speaker": null,
         "start": 181342,
         "text": "or"
        },
        {
         "confidence": 0.99349,
         "end": 181674,
         "speaker": null,
         "start": 181496,
         "text": "maybe"
        },
        {
         "confidence": 0.99822,
         "end": 181914,
         "speaker": null,
         "start": 181712,
         "text": "even"
        },
        {
         "confidence": 0.97416,
         "end": 182370,
         "speaker": null,
         "start": 181952,
         "text": "just"
        },
        {
         "confidence": 0.99966,
         "end": 182782,
         "speaker": null,
         "start": 182480,
         "text": "straight"
        },
        {
         "confidence": 0.71924,
         "end": 182922,
         "speaker": null,
         "start": 182806,
         "text": "up"
        },
        {
         "confidence": 0.99899,
         "end": 183078,
         "speaker": null,
         "start": 182936,
         "text": "pen"
        },
        {
         "confidence": 0.99,
         "end": 183222,
         "speaker": null,
         "start": 183104,
         "text": "and"
        },
        {
         "confidence": 0.99998,
         "end": 183486,
         "speaker": null,
         "start": 183236,
         "text": "paper."
        },
        {
         "confidence": 0.99675,
         "end": 183738,
         "speaker": null,
         "start": 183548,
         "text": "Just"
        },
        {
         "confidence": 0.99778,
         "end": 183918,
         "speaker": null,
         "start": 183764,
         "text": "like"
        },
        {
         "confidence": 0.91262,
         "end": 184062,
         "speaker": null,
         "start": 183944,
         "text": "there"
        },
        {
         "confidence": 0.9613,
         "end": 184146,
         "speaker": null,
         "start": 184076,
         "text": "are"
        },
        {
         "confidence": 0.98887,
         "end": 184278,
         "speaker": null,
         "start": 184148,
         "text": "these"
        },
        {
         "confidence": 0.9999,
         "end": 184494,
         "speaker": null,
         "start": 184304,
         "text": "different"
        },
        {
         "confidence": 0.93876,
         "end": 184942,
         "speaker": null,
         "start": 184532,
         "text": "mediums"
        },
        {
         "confidence": 0.99138,
         "end": 185046,
         "speaker": null,
         "start": 184966,
         "text": "for"
        },
        {
         "confidence": 1,
         "end": 185106,
         "speaker": null,
         "start": 185048,
         "text": "you"
        },
        {
         "confidence": 0.53,
         "end": 185238,
         "speaker": null,
         "start": 185108,
         "text": "to"
        },
        {
         "confidence": 0.9995,
         "end": 185418,
         "speaker": null,
         "start": 185264,
         "text": "write"
        },
        {
         "confidence": 1,
         "end": 185598,
         "speaker": null,
         "start": 185444,
         "text": "your"
        },
        {
         "confidence": 0.99991,
         "end": 185778,
         "speaker": null,
         "start": 185624,
         "text": "last"
        },
        {
         "confidence": 0.77,
         "end": 185998,
         "speaker": null,
         "start": 185804,
         "text": "minute"
        },
        {
         "confidence": 0.99995,
         "end": 186414,
         "speaker": null,
         "start": 186034,
         "text": "paper."
        },
        {
         "confidence": 0.99885,
         "end": 186774,
         "speaker": null,
         "start": 186512,
         "text": "Data"
        },
        {
         "confidence": 0.97926,
         "end": 187162,
         "speaker": null,
         "start": 186812,
         "text": "scientists"
        },
        {
         "confidence": 1,
         "end": 187302,
         "speaker": null,
         "start": 187186,
         "text": "and"
        },
        {
         "confidence": 0.78262,
         "end": 187558,
         "speaker": null,
         "start": 187316,
         "text": "software"
        },
        {
         "confidence": 0.99918,
         "end": 188158,
         "speaker": null,
         "start": 187594,
         "text": "engineers"
        },
        {
         "confidence": 0.99817,
         "end": 188514,
         "speaker": null,
         "start": 188254,
         "text": "need"
        },
        {
         "confidence": 0.99852,
         "end": 188842,
         "speaker": null,
         "start": 188552,
         "text": "places"
        },
        {
         "confidence": 1,
         "end": 188982,
         "speaker": null,
         "start": 188866,
         "text": "to"
        },
        {
         "confidence": 0.99924,
         "end": 189138,
         "speaker": null,
         "start": 188996,
         "text": "write"
        },
        {
         "confidence": 0.99794,
         "end": 189318,
         "speaker": null,
         "start": 189164,
         "text": "their"
        },
        {
         "confidence": 0.99994,
         "end": 189786,
         "speaker": null,
         "start": 189344,
         "text": "code."
        },
        {
         "confidence": 0.99925,
         "end": 190194,
         "speaker": null,
         "start": 189908,
         "text": "These"
        },
        {
         "confidence": 0.99907,
         "end": 190594,
         "speaker": null,
         "start": 190232,
         "text": "places"
        },
        {
         "confidence": 0.99836,
         "end": 190818,
         "speaker": null,
         "start": 190642,
         "text": "are"
        },
        {
         "confidence": 0.99879,
         "end": 191034,
         "speaker": null,
         "start": 190844,
         "text": "called"
        },
        {
         "confidence": 0.03032,
         "end": 191686,
         "speaker": null,
         "start": 191072,
         "text": "IDs."
        },
        {
         "confidence": 0.76,
         "end": 191958,
         "speaker": null,
         "start": 191758,
         "text": "And"
        },
        {
         "confidence": 0.99881,
         "end": 192138,
         "speaker": null,
         "start": 191984,
         "text": "just"
        },
        {
         "confidence": 0.99704,
         "end": 192282,
         "speaker": null,
         "start": 192164,
         "text": "like"
        },
        {
         "confidence": 0.94654,
         "end": 192718,
         "speaker": null,
         "start": 192296,
         "text": "Microsoft"
        },
        {
         "confidence": 0.99989,
         "end": 192954,
         "speaker": null,
         "start": 192754,
         "text": "Word"
        },
        {
         "confidence": 0.99711,
         "end": 193122,
         "speaker": null,
         "start": 192992,
         "text": "has"
        },
        {
         "confidence": 0.90745,
         "end": 193342,
         "speaker": null,
         "start": 193136,
         "text": "spell"
        },
        {
         "confidence": 0.95928,
         "end": 193554,
         "speaker": null,
         "start": 193366,
         "text": "track"
        },
        {
         "confidence": 0.85,
         "end": 193758,
         "speaker": null,
         "start": 193592,
         "text": "and"
        },
        {
         "confidence": 0.99916,
         "end": 194182,
         "speaker": null,
         "start": 193784,
         "text": "formatting"
        },
        {
         "confidence": 1,
         "end": 194322,
         "speaker": null,
         "start": 194206,
         "text": "to"
        },
        {
         "confidence": 0.99927,
         "end": 194442,
         "speaker": null,
         "start": 194336,
         "text": "make"
        },
        {
         "confidence": 0.99953,
         "end": 194562,
         "speaker": null,
         "start": 194456,
         "text": "sure"
        },
        {
         "confidence": 0.98611,
         "end": 194682,
         "speaker": null,
         "start": 194576,
         "text": "that"
        },
        {
         "confidence": 1,
         "end": 194766,
         "speaker": null,
         "start": 194696,
         "text": "you"
        },
        {
         "confidence": 0.85454,
         "end": 194926,
         "speaker": null,
         "start": 194768,
         "text": "don't"
        },
        {
         "confidence": 0.99818,
         "end": 195078,
         "speaker": null,
         "start": 194938,
         "text": "make"
        },
        {
         "confidence": 0.58146,
         "end": 195562,
         "speaker": null,
         "start": 195104,
         "text": "grammatical"
        },
        {
         "confidence": 0.33284,
         "end": 196174,
         "speaker": null,
         "start": 195586,
         "text": "errors,"
        },
        {
         "confidence": 0.99953,
         "end": 196590,
         "speaker": null,
         "start": 196282,
         "text": "many"
        },
        {
         "confidence": 0.16785,
         "end": 197122,
         "speaker": null,
         "start": 196640,
         "text": "ideas"
        },
        {
         "confidence": 0.99534,
         "end": 197334,
         "speaker": null,
         "start": 197146,
         "text": "help"
        },
        {
         "confidence": 1,
         "end": 197610,
         "speaker": null,
         "start": 197372,
         "text": "you"
        },
        {
         "confidence": 0.99,
         "end": 197838,
         "speaker": null,
         "start": 197660,
         "text": "to"
        },
        {
         "confidence": 0.9994,
         "end": 198018,
         "speaker": null,
         "start": 197864,
         "text": "make"
        },
        {
         "confidence": 0.99991,
         "end": 198198,
         "speaker": null,
         "start": 198044,
         "text": "sure"
        },
        {
         "confidence": 0.99526,
         "end": 198342,
         "speaker": null,
         "start": 198224,
         "text": "that"
        },
        {
         "confidence": 0.77,
         "end": 198498,
         "speaker": null,
         "start": 198356,
         "text": "you"
        },
        {
         "confidence": 0.99894,
         "end": 198822,
         "speaker": null,
         "start": 198524,
         "text": "have"
        },
        {
         "confidence": 0.9992,
         "end": 199170,
         "speaker": null,
         "start": 198896,
         "text": "proper"
        },
        {
         "confidence": 0.9551,
         "end": 199678,
         "speaker": null,
         "start": 199220,
         "text": "syntax"
        },
        {
         "confidence": 0.99584,
         "end": 199842,
         "speaker": null,
         "start": 199714,
         "text": "in"
        },
        {
         "confidence": 1,
         "end": 199962,
         "speaker": null,
         "start": 199856,
         "text": "your"
        },
        {
         "confidence": 0.99961,
         "end": 200262,
         "speaker": null,
         "start": 199976,
         "text": "code."
        },
        {
         "confidence": 0.99932,
         "end": 200538,
         "speaker": null,
         "start": 200336,
         "text": "In"
        },
        {
         "confidence": 0.99945,
         "end": 201210,
         "speaker": null,
         "start": 200564,
         "text": "theory,"
        },
        {
         "confidence": 0.99907,
         "end": 202126,
         "speaker": null,
         "start": 201530,
         "text": "technically,"
        },
        {
         "confidence": 0.98148,
         "end": 202678,
         "speaker": null,
         "start": 202198,
         "text": "Microsoft"
        },
        {
         "confidence": 0.9323,
         "end": 202986,
         "speaker": null,
         "start": 202714,
         "text": "Word"
        },
        {
         "confidence": 0.99866,
         "end": 203238,
         "speaker": null,
         "start": 203048,
         "text": "would"
        },
        {
         "confidence": 0.9991,
         "end": 203418,
         "speaker": null,
         "start": 203264,
         "text": "be"
        },
        {
         "confidence": 0.99899,
         "end": 203842,
         "speaker": null,
         "start": 203444,
         "text": "considered"
        },
        {
         "confidence": 0.99607,
         "end": 203982,
         "speaker": null,
         "start": 203866,
         "text": "an"
        },
        {
         "confidence": 0.02699,
         "end": 204426,
         "speaker": null,
         "start": 203996,
         "text": "idea,"
        },
        {
         "confidence": 0.99811,
         "end": 204762,
         "speaker": null,
         "start": 204548,
         "text": "but"
        },
        {
         "confidence": 0.96,
         "end": 204918,
         "speaker": null,
         "start": 204776,
         "text": "I"
        },
        {
         "confidence": 0.99616,
         "end": 205206,
         "speaker": null,
         "start": 204944,
         "text": "definitely"
        },
        {
         "confidence": 0.98914,
         "end": 205498,
         "speaker": null,
         "start": 205268,
         "text": "don't"
        },
        {
         "confidence": 0.99978,
         "end": 205842,
         "speaker": null,
         "start": 205534,
         "text": "recommend"
        },
        {
         "confidence": 0.999,
         "end": 206154,
         "speaker": null,
         "start": 205916,
         "text": "using"
        },
        {
         "confidence": 1,
         "end": 206322,
         "speaker": null,
         "start": 206192,
         "text": "it"
        },
        {
         "confidence": 0.99372,
         "end": 206442,
         "speaker": null,
         "start": 206336,
         "text": "as"
        },
        {
         "confidence": 0.99963,
         "end": 206742,
         "speaker": null,
         "start": 206456,
         "text": "such"
        },
        {
         "confidence": 0.99848,
         "end": 207118,
         "speaker": null,
         "start": 206816,
         "text": "unless"
        },
        {
         "confidence": 0.83798,
         "end": 207286,
         "speaker": null,
         "start": 207154,
         "text": "you're"
        },
        {
         "confidence": 0.01725,
         "end": 207478,
         "speaker": null,
         "start": 207298,
         "text": "jump"
        },
        {
         "confidence": 0.06412,
         "end": 207886,
         "speaker": null,
         "start": 207514,
         "text": "ate."
        },
        {
         "confidence": 0.99842,
         "end": 208158,
         "speaker": null,
         "start": 207958,
         "text": "This"
        },
        {
         "confidence": 0.99444,
         "end": 208302,
         "speaker": null,
         "start": 208184,
         "text": "is"
        },
        {
         "confidence": 0.97,
         "end": 208422,
         "speaker": null,
         "start": 208316,
         "text": "a"
        },
        {
         "confidence": 0.99995,
         "end": 208614,
         "speaker": null,
         "start": 208436,
         "text": "list"
        },
        {
         "confidence": 1,
         "end": 208782,
         "speaker": null,
         "start": 208652,
         "text": "of"
        },
        {
         "confidence": 0.97,
         "end": 208938,
         "speaker": null,
         "start": 208796,
         "text": "the"
        },
        {
         "confidence": 0.99844,
         "end": 209118,
         "speaker": null,
         "start": 208964,
         "text": "most"
        },
        {
         "confidence": 0.99984,
         "end": 209518,
         "speaker": null,
         "start": 209144,
         "text": "commonly"
        },
        {
         "confidence": 0.9994,
         "end": 209790,
         "speaker": null,
         "start": 209554,
         "text": "used"
        },
        {
         "confidence": 0.89911,
         "end": 210358,
         "speaker": null,
         "start": 209840,
         "text": "Ides"
        },
        {
         "confidence": 0.98603,
         "end": 210486,
         "speaker": null,
         "start": 210394,
         "text": "in"
        },
        {
         "confidence": 0.99,
         "end": 210582,
         "speaker": null,
         "start": 210488,
         "text": "the"
        },
        {
         "confidence": 0.99625,
         "end": 210774,
         "speaker": null,
         "start": 210596,
         "text": "data"
        },
        {
         "confidence": 0.98,
         "end": 211354,
         "speaker": null,
         "start": 210812,
         "text": "domain."
        },
        {
         "confidence": 0.77,
         "end": 211698,
         "speaker": null,
         "start": 211462,
         "text": "And"
        },
        {
         "confidence": 0.99915,
         "end": 211878,
         "speaker": null,
         "start": 211724,
         "text": "as"
        },
        {
         "confidence": 1,
         "end": 211986,
         "speaker": null,
         "start": 211904,
         "text": "you"
        },
        {
         "confidence": 0.99734,
         "end": 212082,
         "speaker": null,
         "start": 211988,
         "text": "can"
        },
        {
         "confidence": 0.99832,
         "end": 212310,
         "speaker": null,
         "start": 212096,
         "text": "see,"
        },
        {
         "confidence": 0.99906,
         "end": 212610,
         "speaker": null,
         "start": 212360,
         "text": "common"
        },
        {
         "confidence": 0.66593,
         "end": 213082,
         "speaker": null,
         "start": 212660,
         "text": "Ides"
        },
        {
         "confidence": 0.99645,
         "end": 213222,
         "speaker": null,
         "start": 213106,
         "text": "for"
        },
        {
         "confidence": 0.84967,
         "end": 213634,
         "speaker": null,
         "start": 213236,
         "text": "Python"
        },
        {
         "confidence": 0.55054,
         "end": 213894,
         "speaker": null,
         "start": 213682,
         "text": "are"
        },
        {
         "confidence": 0.94227,
         "end": 214198,
         "speaker": null,
         "start": 213932,
         "text": "vs,"
        },
        {
         "confidence": 0.98038,
         "end": 214614,
         "speaker": null,
         "start": 214234,
         "text": "code,"
        },
        {
         "confidence": 0.95774,
         "end": 215158,
         "speaker": null,
         "start": 214712,
         "text": "jupyter,"
        },
        {
         "confidence": 0.99394,
         "end": 215626,
         "speaker": null,
         "start": 215194,
         "text": "notebook,"
        },
        {
         "confidence": 0.69744,
         "end": 216298,
         "speaker": null,
         "start": 215698,
         "text": "PyCharm,"
        },
        {
         "confidence": 0.99,
         "end": 216462,
         "speaker": null,
         "start": 216334,
         "text": "and"
        },
        {
         "confidence": 0.9717,
         "end": 217246,
         "speaker": null,
         "start": 216476,
         "text": "Spider."
        },
        {
         "confidence": 0.99564,
         "end": 217830,
         "speaker": null,
         "start": 217438,
         "text": "Before"
        },
        {
         "confidence": 0.99953,
         "end": 218166,
         "speaker": null,
         "start": 217880,
         "text": "anything"
        },
        {
         "confidence": 0.99995,
         "end": 218562,
         "speaker": null,
         "start": 218228,
         "text": "else,"
        },
        {
         "confidence": 1,
         "end": 218838,
         "speaker": null,
         "start": 218636,
         "text": "I"
        },
        {
         "confidence": 0.99521,
         "end": 219018,
         "speaker": null,
         "start": 218864,
         "text": "wanted"
        },
        {
         "confidence": 1,
         "end": 219162,
         "speaker": null,
         "start": 219044,
         "text": "to"
        },
        {
         "confidence": 0.99888,
         "end": 219318,
         "speaker": null,
         "start": 219176,
         "text": "give"
        },
        {
         "confidence": 0.99937,
         "end": 219498,
         "speaker": null,
         "start": 219344,
         "text": "him"
        },
        {
         "confidence": 0.99,
         "end": 219642,
         "speaker": null,
         "start": 219524,
         "text": "a"
        },
        {
         "confidence": 0.9816,
         "end": 219898,
         "speaker": null,
         "start": 219656,
         "text": "decent"
        },
        {
         "confidence": 0.99873,
         "end": 220474,
         "speaker": null,
         "start": 219934,
         "text": "understanding"
        },
        {
         "confidence": 0.99345,
         "end": 220734,
         "speaker": null,
         "start": 220522,
         "text": "about"
        },
        {
         "confidence": 0.99904,
         "end": 220938,
         "speaker": null,
         "start": 220772,
         "text": "how"
        },
        {
         "confidence": 1,
         "end": 221118,
         "speaker": null,
         "start": 220964,
         "text": "the"
        },
        {
         "confidence": 0.99953,
         "end": 221650,
         "speaker": null,
         "start": 221144,
         "text": "development"
        },
        {
         "confidence": 0.95771,
         "end": 222226,
         "speaker": null,
         "start": 221710,
         "text": "environments"
        },
        {
         "confidence": 0.97391,
         "end": 222642,
         "speaker": null,
         "start": 222298,
         "text": "work"
        },
        {
         "confidence": 0.99991,
         "end": 222954,
         "speaker": null,
         "start": 222716,
         "text": "before"
        },
        {
         "confidence": 0.94573,
         "end": 223158,
         "speaker": null,
         "start": 222992,
         "text": "we"
        },
        {
         "confidence": 0.95165,
         "end": 223402,
         "speaker": null,
         "start": 223184,
         "text": "picked"
        },
        {
         "confidence": 0.99,
         "end": 223722,
         "speaker": null,
         "start": 223426,
         "text": "one."
        },
        {
         "confidence": 0.99577,
         "end": 223962,
         "speaker": null,
         "start": 223796,
         "text": "As"
        },
        {
         "confidence": 0.93,
         "end": 224118,
         "speaker": null,
         "start": 223976,
         "text": "I"
        },
        {
         "confidence": 0.99988,
         "end": 224514,
         "speaker": null,
         "start": 224144,
         "text": "mentioned,"
        },
        {
         "confidence": 0.9997,
         "end": 224838,
         "speaker": null,
         "start": 224612,
         "text": "this"
        },
        {
         "confidence": 0.99343,
         "end": 225018,
         "speaker": null,
         "start": 224864,
         "text": "is"
        },
        {
         "confidence": 0.9999,
         "end": 225270,
         "speaker": null,
         "start": 225044,
         "text": "something"
        },
        {
         "confidence": 0.99642,
         "end": 225498,
         "speaker": null,
         "start": 225320,
         "text": "that"
        },
        {
         "confidence": 1,
         "end": 225678,
         "speaker": null,
         "start": 225524,
         "text": "I"
        },
        {
         "confidence": 0.99738,
         "end": 225894,
         "speaker": null,
         "start": 225704,
         "text": "was"
        },
        {
         "confidence": 0.99792,
         "end": 226258,
         "speaker": null,
         "start": 225932,
         "text": "totally"
        },
        {
         "confidence": 0.99976,
         "end": 226702,
         "speaker": null,
         "start": 226294,
         "text": "confused"
        },
        {
         "confidence": 0.99967,
         "end": 226914,
         "speaker": null,
         "start": 226726,
         "text": "about"
        },
        {
         "confidence": 0.99871,
         "end": 227118,
         "speaker": null,
         "start": 226952,
         "text": "when"
        },
        {
         "confidence": 1,
         "end": 227262,
         "speaker": null,
         "start": 227144,
         "text": "I"
        },
        {
         "confidence": 1,
         "end": 227706,
         "speaker": null,
         "start": 227276,
         "text": "started."
        },
        {
         "confidence": 0.99924,
         "end": 228042,
         "speaker": null,
         "start": 227828,
         "text": "When"
        },
        {
         "confidence": 1,
         "end": 228162,
         "speaker": null,
         "start": 228056,
         "text": "I"
        },
        {
         "confidence": 0.98072,
         "end": 228346,
         "speaker": null,
         "start": 228176,
         "text": "learned"
        },
        {
         "confidence": 0.4,
         "end": 228462,
         "speaker": null,
         "start": 228358,
         "text": "to"
        },
        {
         "confidence": 0.99924,
         "end": 228762,
         "speaker": null,
         "start": 228476,
         "text": "code,"
        },
        {
         "confidence": 1,
         "end": 229002,
         "speaker": null,
         "start": 228836,
         "text": "I"
        },
        {
         "confidence": 0.99809,
         "end": 229158,
         "speaker": null,
         "start": 229016,
         "text": "was"
        },
        {
         "confidence": 0.99927,
         "end": 229446,
         "speaker": null,
         "start": 229184,
         "text": "using"
        },
        {
         "confidence": 0.84501,
         "end": 229990,
         "speaker": null,
         "start": 229508,
         "text": "Python"
        },
        {
         "confidence": 0.97,
         "end": 230238,
         "speaker": null,
         "start": 230050,
         "text": "and"
        },
        {
         "confidence": 0.99,
         "end": 230346,
         "speaker": null,
         "start": 230264,
         "text": "I"
        },
        {
         "confidence": 0.98209,
         "end": 230478,
         "speaker": null,
         "start": 230348,
         "text": "was"
        },
        {
         "confidence": 0.99932,
         "end": 230658,
         "speaker": null,
         "start": 230504,
         "text": "using"
        },
        {
         "confidence": 0.98743,
         "end": 230838,
         "speaker": null,
         "start": 230684,
         "text": "an"
        },
        {
         "confidence": 0.99829,
         "end": 231198,
         "speaker": null,
         "start": 230864,
         "text": "IDE"
        },
        {
         "confidence": 0.99833,
         "end": 231498,
         "speaker": null,
         "start": 231284,
         "text": "called"
        },
        {
         "confidence": 0.61003,
         "end": 232042,
         "speaker": null,
         "start": 231524,
         "text": "Idle."
        },
        {
         "confidence": 0.63951,
         "end": 232338,
         "speaker": null,
         "start": 232126,
         "text": "So"
        },
        {
         "confidence": 0.92943,
         "end": 232642,
         "speaker": null,
         "start": 232364,
         "text": "Idle"
        },
        {
         "confidence": 0.70413,
         "end": 232782,
         "speaker": null,
         "start": 232666,
         "text": "is"
        },
        {
         "confidence": 0.99985,
         "end": 232938,
         "speaker": null,
         "start": 232796,
         "text": "great"
        },
        {
         "confidence": 0.99975,
         "end": 233118,
         "speaker": null,
         "start": 232964,
         "text": "for"
        },
        {
         "confidence": 0.99973,
         "end": 233478,
         "speaker": null,
         "start": 233144,
         "text": "learning,"
        },
        {
         "confidence": 0.9949,
         "end": 233814,
         "speaker": null,
         "start": 233564,
         "text": "but"
        },
        {
         "confidence": 0.9241,
         "end": 234022,
         "speaker": null,
         "start": 233852,
         "text": "I've"
        },
        {
         "confidence": 0.98814,
         "end": 234406,
         "speaker": null,
         "start": 234046,
         "text": "literally"
        },
        {
         "confidence": 0.99914,
         "end": 234822,
         "speaker": null,
         "start": 234478,
         "text": "never"
        },
        {
         "confidence": 0.99712,
         "end": 235170,
         "speaker": null,
         "start": 234896,
         "text": "once"
        },
        {
         "confidence": 0.99654,
         "end": 235486,
         "speaker": null,
         "start": 235220,
         "text": "touched"
        },
        {
         "confidence": 0.7,
         "end": 235638,
         "speaker": null,
         "start": 235498,
         "text": "it"
        },
        {
         "confidence": 0.96987,
         "end": 236106,
         "speaker": null,
         "start": 235664,
         "text": "since,"
        },
        {
         "confidence": 0.72,
         "end": 236658,
         "speaker": null,
         "start": 236228,
         "text": "and"
        },
        {
         "confidence": 0.99,
         "end": 236958,
         "speaker": null,
         "start": 236744,
         "text": "I"
        },
        {
         "confidence": 0.85169,
         "end": 237142,
         "speaker": null,
         "start": 236984,
         "text": "don't"
        },
        {
         "confidence": 0.99931,
         "end": 237282,
         "speaker": null,
         "start": 237166,
         "text": "use"
        },
        {
         "confidence": 0.99,
         "end": 237402,
         "speaker": null,
         "start": 237296,
         "text": "it"
        },
        {
         "confidence": 0.99581,
         "end": 237522,
         "speaker": null,
         "start": 237416,
         "text": "on"
        },
        {
         "confidence": 0.99475,
         "end": 237678,
         "speaker": null,
         "start": 237536,
         "text": "any"
        },
        {
         "confidence": 0.98471,
         "end": 237930,
         "speaker": null,
         "start": 237704,
         "text": "data"
        },
        {
         "confidence": 0.87994,
         "end": 238342,
         "speaker": null,
         "start": 237980,
         "text": "projects"
        },
        {
         "confidence": 0.67467,
         "end": 238482,
         "speaker": null,
         "start": 238366,
         "text": "in"
        },
        {
         "confidence": 0.9988,
         "end": 238638,
         "speaker": null,
         "start": 238496,
         "text": "any"
        },
        {
         "confidence": 0.99,
         "end": 238746,
         "speaker": null,
         "start": 238664,
         "text": "of"
        },
        {
         "confidence": 0.78473,
         "end": 238878,
         "speaker": null,
         "start": 238748,
         "text": "my"
        },
        {
         "confidence": 0.99868,
         "end": 239274,
         "speaker": null,
         "start": 238904,
         "text": "work."
        },
        {
         "confidence": 1,
         "end": 239598,
         "speaker": null,
         "start": 239372,
         "text": "I"
        },
        {
         "confidence": 0.98077,
         "end": 239814,
         "speaker": null,
         "start": 239624,
         "text": "wanted"
        },
        {
         "confidence": 1,
         "end": 239982,
         "speaker": null,
         "start": 239852,
         "text": "to"
        },
        {
         "confidence": 0.79368,
         "end": 240138,
         "speaker": null,
         "start": 239996,
         "text": "make"
        },
        {
         "confidence": 0.99997,
         "end": 240390,
         "speaker": null,
         "start": 240164,
         "text": "sure"
        },
        {
         "confidence": 0.99659,
         "end": 240762,
         "speaker": null,
         "start": 240440,
         "text": "that"
        },
        {
         "confidence": 0.99922,
         "end": 241038,
         "speaker": null,
         "start": 240836,
         "text": "my"
        },
        {
         "confidence": 0.9852,
         "end": 241254,
         "speaker": null,
         "start": 241064,
         "text": "friend"
        },
        {
         "confidence": 0.978,
         "end": 241458,
         "speaker": null,
         "start": 241292,
         "text": "was"
        },
        {
         "confidence": 0.99977,
         "end": 241674,
         "speaker": null,
         "start": 241484,
         "text": "using"
        },
        {
         "confidence": 0.9999,
         "end": 241986,
         "speaker": null,
         "start": 241712,
         "text": "something"
        },
        {
         "confidence": 0.9987,
         "end": 242202,
         "speaker": null,
         "start": 242048,
         "text": "that"
        },
        {
         "confidence": 0.6898,
         "end": 242322,
         "speaker": null,
         "start": 242216,
         "text": "would"
        },
        {
         "confidence": 0.99058,
         "end": 242514,
         "speaker": null,
         "start": 242336,
         "text": "be"
        },
        {
         "confidence": 0.97992,
         "end": 243130,
         "speaker": null,
         "start": 242552,
         "text": "representative"
        },
        {
         "confidence": 1,
         "end": 243342,
         "speaker": null,
         "start": 243190,
         "text": "of"
        },
        {
         "confidence": 0.99894,
         "end": 243498,
         "speaker": null,
         "start": 243356,
         "text": "what"
        },
        {
         "confidence": 0.99834,
         "end": 243678,
         "speaker": null,
         "start": 243524,
         "text": "he"
        },
        {
         "confidence": 0.85118,
         "end": 243930,
         "speaker": null,
         "start": 243704,
         "text": "might"
        },
        {
         "confidence": 0.99989,
         "end": 244194,
         "speaker": null,
         "start": 243980,
         "text": "see"
        },
        {
         "confidence": 0.99975,
         "end": 244362,
         "speaker": null,
         "start": 244232,
         "text": "in"
        },
        {
         "confidence": 1,
         "end": 244482,
         "speaker": null,
         "start": 244376,
         "text": "the"
        },
        {
         "confidence": 1,
         "end": 244638,
         "speaker": null,
         "start": 244496,
         "text": "real"
        },
        {
         "confidence": 0.99856,
         "end": 244926,
         "speaker": null,
         "start": 244664,
         "text": "world,"
        },
        {
         "confidence": 0.99861,
         "end": 245178,
         "speaker": null,
         "start": 244988,
         "text": "what"
        },
        {
         "confidence": 0.96592,
         "end": 245466,
         "speaker": null,
         "start": 245204,
         "text": "people"
        },
        {
         "confidence": 0.99759,
         "end": 245862,
         "speaker": null,
         "start": 245528,
         "text": "actually"
        },
        {
         "confidence": 0.99355,
         "end": 246282,
         "speaker": null,
         "start": 245936,
         "text": "use."
        },
        {
         "confidence": 0.99971,
         "end": 246522,
         "speaker": null,
         "start": 246356,
         "text": "For"
        },
        {
         "confidence": 0.99668,
         "end": 246678,
         "speaker": null,
         "start": 246536,
         "text": "this"
        },
        {
         "confidence": 0.99948,
         "end": 246966,
         "speaker": null,
         "start": 246704,
         "text": "specific"
        },
        {
         "confidence": 0.6679,
         "end": 247326,
         "speaker": null,
         "start": 247028,
         "text": "friend,"
        },
        {
         "confidence": 1,
         "end": 247578,
         "speaker": null,
         "start": 247388,
         "text": "I"
        },
        {
         "confidence": 0.78632,
         "end": 248002,
         "speaker": null,
         "start": 247604,
         "text": "recommended"
        },
        {
         "confidence": 0.99304,
         "end": 248142,
         "speaker": null,
         "start": 248026,
         "text": "that"
        },
        {
         "confidence": 0.97682,
         "end": 248262,
         "speaker": null,
         "start": 248156,
         "text": "he"
        },
        {
         "confidence": 0.04,
         "end": 248418,
         "speaker": null,
         "start": 248276,
         "text": "started"
        },
        {
         "confidence": 0.97932,
         "end": 248634,
         "speaker": null,
         "start": 248444,
         "text": "learning"
        },
        {
         "confidence": 0.58,
         "end": 248838,
         "speaker": null,
         "start": 248672,
         "text": "the"
        },
        {
         "confidence": 0.86448,
         "end": 249226,
         "speaker": null,
         "start": 248864,
         "text": "basics"
        },
        {
         "confidence": 0.99804,
         "end": 249498,
         "speaker": null,
         "start": 249298,
         "text": "with"
        },
        {
         "confidence": 0.41544,
         "end": 249678,
         "speaker": null,
         "start": 249524,
         "text": "this"
        },
        {
         "confidence": 0.99982,
         "end": 250038,
         "speaker": null,
         "start": 249704,
         "text": "video"
        },
        {
         "confidence": 0.99871,
         "end": 250338,
         "speaker": null,
         "start": 250124,
         "text": "from"
        },
        {
         "confidence": 0.01925,
         "end": 250978,
         "speaker": null,
         "start": 250364,
         "text": "Precocamp."
        },
        {
         "confidence": 0.83841,
         "end": 251182,
         "speaker": null,
         "start": 251014,
         "text": "I've"
        },
        {
         "confidence": 0.52873,
         "end": 251422,
         "speaker": null,
         "start": 251206,
         "text": "linked"
        },
        {
         "confidence": 1,
         "end": 251598,
         "speaker": null,
         "start": 251446,
         "text": "it"
        },
        {
         "confidence": 1,
         "end": 251778,
         "speaker": null,
         "start": 251624,
         "text": "and"
        },
        {
         "confidence": 0.99603,
         "end": 251958,
         "speaker": null,
         "start": 251804,
         "text": "all"
        },
        {
         "confidence": 0.98799,
         "end": 252138,
         "speaker": null,
         "start": 251984,
         "text": "other"
        },
        {
         "confidence": 0.61229,
         "end": 252598,
         "speaker": null,
         "start": 252164,
         "text": "resources"
        },
        {
         "confidence": 0.99841,
         "end": 252726,
         "speaker": null,
         "start": 252634,
         "text": "in"
        },
        {
         "confidence": 0.97,
         "end": 252822,
         "speaker": null,
         "start": 252728,
         "text": "the"
        },
        {
         "confidence": 0.65735,
         "end": 253474,
         "speaker": null,
         "start": 252836,
         "text": "description."
        },
        {
         "confidence": 0.83584,
         "end": 253818,
         "speaker": null,
         "start": 253582,
         "text": "So"
        },
        {
         "confidence": 0.99473,
         "end": 253926,
         "speaker": null,
         "start": 253844,
         "text": "in"
        },
        {
         "confidence": 0.98,
         "end": 254022,
         "speaker": null,
         "start": 253928,
         "text": "the"
        },
        {
         "confidence": 0.99923,
         "end": 254214,
         "speaker": null,
         "start": 254036,
         "text": "video,"
        },
        {
         "confidence": 0.99835,
         "end": 254418,
         "speaker": null,
         "start": 254252,
         "text": "they"
        },
        {
         "confidence": 0.99978,
         "end": 254562,
         "speaker": null,
         "start": 254444,
         "text": "show"
        },
        {
         "confidence": 0.99,
         "end": 254646,
         "speaker": null,
         "start": 254576,
         "text": "you"
        },
        {
         "confidence": 0.99906,
         "end": 254742,
         "speaker": null,
         "start": 254648,
         "text": "how"
        },
        {
         "confidence": 1,
         "end": 254826,
         "speaker": null,
         "start": 254756,
         "text": "to"
        },
        {
         "confidence": 0.91415,
         "end": 254922,
         "speaker": null,
         "start": 254828,
         "text": "set"
        },
        {
         "confidence": 0.56325,
         "end": 255042,
         "speaker": null,
         "start": 254936,
         "text": "up"
        },
        {
         "confidence": 0.72,
         "end": 255162,
         "speaker": null,
         "start": 255056,
         "text": "the"
        },
        {
         "confidence": 0.43031,
         "end": 255562,
         "speaker": null,
         "start": 255176,
         "text": "PyCharm"
        },
        {
         "confidence": 0.99948,
         "end": 256066,
         "speaker": null,
         "start": 255586,
         "text": "environment"
        },
        {
         "confidence": 1,
         "end": 256338,
         "speaker": null,
         "start": 256138,
         "text": "and"
        },
        {
         "confidence": 0.9986,
         "end": 256518,
         "speaker": null,
         "start": 256364,
         "text": "get"
        },
        {
         "confidence": 0.99971,
         "end": 256858,
         "speaker": null,
         "start": 256544,
         "text": "comfortable"
        },
        {
         "confidence": 0.99977,
         "end": 257094,
         "speaker": null,
         "start": 256894,
         "text": "using"
        },
        {
         "confidence": 0.99759,
         "end": 257370,
         "speaker": null,
         "start": 257132,
         "text": "that."
        },
        {
         "confidence": 0.99,
         "end": 257526,
         "speaker": null,
         "start": 257420,
         "text": "I"
        },
        {
         "confidence": 0.99946,
         "end": 257622,
         "speaker": null,
         "start": 257528,
         "text": "think"
        },
        {
         "confidence": 0.49724,
         "end": 258058,
         "speaker": null,
         "start": 257636,
         "text": "PyCharm"
        },
        {
         "confidence": 0.99825,
         "end": 258222,
         "speaker": null,
         "start": 258094,
         "text": "is"
        },
        {
         "confidence": 0.74623,
         "end": 258550,
         "speaker": null,
         "start": 258236,
         "text": "solid,"
        },
        {
         "confidence": 0.91,
         "end": 258798,
         "speaker": null,
         "start": 258610,
         "text": "and"
        },
        {
         "confidence": 0.9989,
         "end": 258942,
         "speaker": null,
         "start": 258824,
         "text": "if"
        },
        {
         "confidence": 0.99,
         "end": 259062,
         "speaker": null,
         "start": 258956,
         "text": "you"
        },
        {
         "confidence": 0.99678,
         "end": 259218,
         "speaker": null,
         "start": 259076,
         "text": "get"
        },
        {
         "confidence": 0.85492,
         "end": 259558,
         "speaker": null,
         "start": 259244,
         "text": "familiar"
        },
        {
         "confidence": 0.99963,
         "end": 259722,
         "speaker": null,
         "start": 259594,
         "text": "with"
        },
        {
         "confidence": 0.53923,
         "end": 259914,
         "speaker": null,
         "start": 259736,
         "text": "that,"
        },
        {
         "confidence": 1,
         "end": 260082,
         "speaker": null,
         "start": 259952,
         "text": "you"
        },
        {
         "confidence": 0.99707,
         "end": 260202,
         "speaker": null,
         "start": 260096,
         "text": "can"
        },
        {
         "confidence": 0.99928,
         "end": 260494,
         "speaker": null,
         "start": 260216,
         "text": "easily"
        },
        {
         "confidence": 0.99986,
         "end": 260718,
         "speaker": null,
         "start": 260542,
         "text": "pick"
        },
        {
         "confidence": 0.99414,
         "end": 260862,
         "speaker": null,
         "start": 260744,
         "text": "up"
        },
        {
         "confidence": 0.93,
         "end": 260982,
         "speaker": null,
         "start": 260876,
         "text": "the"
        },
        {
         "confidence": 0.03699,
         "end": 261418,
         "speaker": null,
         "start": 260996,
         "text": "SCode,"
        },
        {
         "confidence": 0.35,
         "end": 261546,
         "speaker": null,
         "start": 261454,
         "text": "a"
        },
        {
         "confidence": 0.08566,
         "end": 261874,
         "speaker": null,
         "start": 261548,
         "text": "Jupiter"
        },
        {
         "confidence": 0.97559,
         "end": 262294,
         "speaker": null,
         "start": 261922,
         "text": "notebook,"
        },
        {
         "confidence": 0.99835,
         "end": 262482,
         "speaker": null,
         "start": 262342,
         "text": "or"
        },
        {
         "confidence": 0.88401,
         "end": 262810,
         "speaker": null,
         "start": 262496,
         "text": "Spider"
        },
        {
         "confidence": 0.99973,
         "end": 263058,
         "speaker": null,
         "start": 262870,
         "text": "pretty"
        },
        {
         "confidence": 0.9997,
         "end": 263418,
         "speaker": null,
         "start": 263084,
         "text": "quickly."
        },
        {
         "confidence": 0.96896,
         "end": 264046,
         "speaker": null,
         "start": 263504,
         "text": "Truthfully,"
        },
        {
         "confidence": 1,
         "end": 264282,
         "speaker": null,
         "start": 264118,
         "text": "I"
        },
        {
         "confidence": 0.99709,
         "end": 264406,
         "speaker": null,
         "start": 264296,
         "text": "don't"
        },
        {
         "confidence": 0.99897,
         "end": 264522,
         "speaker": null,
         "start": 264418,
         "text": "think"
        },
        {
         "confidence": 0.95001,
         "end": 264678,
         "speaker": null,
         "start": 264536,
         "text": "that"
        },
        {
         "confidence": 1,
         "end": 264822,
         "speaker": null,
         "start": 264704,
         "text": "the"
        },
        {
         "confidence": 0.01053,
         "end": 265050,
         "speaker": null,
         "start": 264836,
         "text": "idea"
        },
        {
         "confidence": 0.98083,
         "end": 265242,
         "speaker": null,
         "start": 265100,
         "text": "that"
        },
        {
         "confidence": 1,
         "end": 265398,
         "speaker": null,
         "start": 265256,
         "text": "you"
        },
        {
         "confidence": 0.99917,
         "end": 265578,
         "speaker": null,
         "start": 265424,
         "text": "start"
        },
        {
         "confidence": 0.99806,
         "end": 265758,
         "speaker": null,
         "start": 265604,
         "text": "with"
        },
        {
         "confidence": 0.99688,
         "end": 265974,
         "speaker": null,
         "start": 265784,
         "text": "really"
        },
        {
         "confidence": 0.85692,
         "end": 266278,
         "speaker": null,
         "start": 266012,
         "text": "matters"
        },
        {
         "confidence": 0.99367,
         "end": 266442,
         "speaker": null,
         "start": 266314,
         "text": "that"
        },
        {
         "confidence": 0.99921,
         "end": 266778,
         "speaker": null,
         "start": 266456,
         "text": "much."
        },
        {
         "confidence": 0.70274,
         "end": 267178,
         "speaker": null,
         "start": 266864,
         "text": "What's"
        },
        {
         "confidence": 1,
         "end": 267378,
         "speaker": null,
         "start": 267214,
         "text": "more"
        },
        {
         "confidence": 0.99989,
         "end": 267702,
         "speaker": null,
         "start": 267404,
         "text": "important"
        },
        {
         "confidence": 0.99576,
         "end": 267942,
         "speaker": null,
         "start": 267776,
         "text": "is"
        },
        {
         "confidence": 0.99183,
         "end": 268062,
         "speaker": null,
         "start": 267956,
         "text": "that"
        },
        {
         "confidence": 0.90989,
         "end": 268258,
         "speaker": null,
         "start": 268076,
         "text": "you're"
        },
        {
         "confidence": 0.99938,
         "end": 268494,
         "speaker": null,
         "start": 268294,
         "text": "using"
        },
        {
         "confidence": 0.99,
         "end": 268770,
         "speaker": null,
         "start": 268532,
         "text": "one"
        },
        {
         "confidence": 0.9876,
         "end": 269034,
         "speaker": null,
         "start": 268820,
         "text": "that"
        },
        {
         "confidence": 0.9998,
         "end": 269274,
         "speaker": null,
         "start": 269072,
         "text": "people"
        },
        {
         "confidence": 0.99429,
         "end": 269478,
         "speaker": null,
         "start": 269312,
         "text": "who"
        },
        {
         "confidence": 0.996,
         "end": 269838,
         "speaker": null,
         "start": 269504,
         "text": "actually"
        },
        {
         "confidence": 0.97719,
         "end": 270138,
         "speaker": null,
         "start": 269924,
         "text": "write"
        },
        {
         "confidence": 0.99203,
         "end": 270574,
         "speaker": null,
         "start": 270164,
         "text": "Python"
        },
        {
         "confidence": 0.99938,
         "end": 270870,
         "speaker": null,
         "start": 270622,
         "text": "code"
        },
        {
         "confidence": 0.99699,
         "end": 271170,
         "speaker": null,
         "start": 270920,
         "text": "into"
        },
        {
         "confidence": 0.99953,
         "end": 271654,
         "speaker": null,
         "start": 271220,
         "text": "production"
        },
        {
         "confidence": 0.99125,
         "end": 271878,
         "speaker": null,
         "start": 271702,
         "text": "are"
        },
        {
         "confidence": 0.99159,
         "end": 272382,
         "speaker": null,
         "start": 271904,
         "text": "using."
        },
        {
         "confidence": 0.88181,
         "end": 272922,
         "speaker": null,
         "start": 272516,
         "text": "Okay,"
        },
        {
         "confidence": 1,
         "end": 273270,
         "speaker": null,
         "start": 272996,
         "text": "now"
        },
        {
         "confidence": 0.99848,
         "end": 273534,
         "speaker": null,
         "start": 273320,
         "text": "on"
        },
        {
         "confidence": 0.71,
         "end": 273702,
         "speaker": null,
         "start": 273572,
         "text": "to"
        },
        {
         "confidence": 0.99,
         "end": 273822,
         "speaker": null,
         "start": 273716,
         "text": "the"
        },
        {
         "confidence": 0.94415,
         "end": 274102,
         "speaker": null,
         "start": 273836,
         "text": "coding"
        },
        {
         "confidence": 0.9653,
         "end": 274762,
         "speaker": null,
         "start": 274126,
         "text": "basics."
        },
        {
         "confidence": 0.99944,
         "end": 275578,
         "speaker": null,
         "start": 274906,
         "text": "Surprisingly,"
        },
        {
         "confidence": 0.99,
         "end": 275742,
         "speaker": null,
         "start": 275614,
         "text": "I"
        },
        {
         "confidence": 0.99952,
         "end": 275898,
         "speaker": null,
         "start": 275756,
         "text": "think"
        },
        {
         "confidence": 0.99781,
         "end": 276078,
         "speaker": null,
         "start": 275924,
         "text": "this"
        },
        {
         "confidence": 0.99827,
         "end": 276222,
         "speaker": null,
         "start": 276104,
         "text": "might"
        },
        {
         "confidence": 0.99025,
         "end": 276378,
         "speaker": null,
         "start": 276236,
         "text": "be"
        },
        {
         "confidence": 1,
         "end": 276522,
         "speaker": null,
         "start": 276404,
         "text": "one"
        },
        {
         "confidence": 0.93,
         "end": 276642,
         "speaker": null,
         "start": 276536,
         "text": "of"
        },
        {
         "confidence": 0.62,
         "end": 276834,
         "speaker": null,
         "start": 276656,
         "text": "the"
        },
        {
         "confidence": 0.74706,
         "end": 277390,
         "speaker": null,
         "start": 276872,
         "text": "simplest"
        },
        {
         "confidence": 0.35497,
         "end": 277678,
         "speaker": null,
         "start": 277450,
         "text": "parts"
        },
        {
         "confidence": 1,
         "end": 277842,
         "speaker": null,
         "start": 277714,
         "text": "of"
        },
        {
         "confidence": 0.93996,
         "end": 278034,
         "speaker": null,
         "start": 277856,
         "text": "this"
        },
        {
         "confidence": 0.99924,
         "end": 278418,
         "speaker": null,
         "start": 278072,
         "text": "entire"
        },
        {
         "confidence": 1,
         "end": 279186,
         "speaker": null,
         "start": 278504,
         "text": "process."
        },
        {
         "confidence": 0.95,
         "end": 279642,
         "speaker": null,
         "start": 279368,
         "text": "You"
        },
        {
         "confidence": 0.99934,
         "end": 279798,
         "speaker": null,
         "start": 279656,
         "text": "see,"
        },
        {
         "confidence": 0.52239,
         "end": 279982,
         "speaker": null,
         "start": 279824,
         "text": "there's"
        },
        {
         "confidence": 1,
         "end": 280122,
         "speaker": null,
         "start": 280006,
         "text": "a"
        },
        {
         "confidence": 0.99978,
         "end": 280350,
         "speaker": null,
         "start": 280136,
         "text": "common"
        },
        {
         "confidence": 0.5726,
         "end": 281314,
         "speaker": null,
         "start": 280400,
         "text": "misconception"
        },
        {
         "confidence": 0.99912,
         "end": 281838,
         "speaker": null,
         "start": 281422,
         "text": "that"
        },
        {
         "confidence": 0.99751,
         "end": 282430,
         "speaker": null,
         "start": 281924,
         "text": "coding"
        },
        {
         "confidence": 0.99926,
         "end": 282678,
         "speaker": null,
         "start": 282490,
         "text": "is"
        },
        {
         "confidence": 0.99947,
         "end": 282858,
         "speaker": null,
         "start": 282704,
         "text": "trying"
        },
        {
         "confidence": 1,
         "end": 283002,
         "speaker": null,
         "start": 282884,
         "text": "to"
        },
        {
         "confidence": 0.99957,
         "end": 283222,
         "speaker": null,
         "start": 283016,
         "text": "trick"
        },
        {
         "confidence": 0.99,
         "end": 283398,
         "speaker": null,
         "start": 283246,
         "text": "you."
        },
        {
         "confidence": 0.83163,
         "end": 283642,
         "speaker": null,
         "start": 283424,
         "text": "There's"
        },
        {
         "confidence": 0.99584,
         "end": 283818,
         "speaker": null,
         "start": 283666,
         "text": "this"
        },
        {
         "confidence": 0.98878,
         "end": 284398,
         "speaker": null,
         "start": 283844,
         "text": "conspiracy"
        },
        {
         "confidence": 0.99749,
         "end": 284598,
         "speaker": null,
         "start": 284434,
         "text": "that"
        },
        {
         "confidence": 0.99959,
         "end": 284814,
         "speaker": null,
         "start": 284624,
         "text": "learning"
        },
        {
         "confidence": 1,
         "end": 285018,
         "speaker": null,
         "start": 284852,
         "text": "to"
        },
        {
         "confidence": 0.99915,
         "end": 285378,
         "speaker": null,
         "start": 285044,
         "text": "code"
        },
        {
         "confidence": 0.98217,
         "end": 285678,
         "speaker": null,
         "start": 285464,
         "text": "is"
        },
        {
         "confidence": 0.99887,
         "end": 285930,
         "speaker": null,
         "start": 285704,
         "text": "supposed"
        },
        {
         "confidence": 1,
         "end": 286122,
         "speaker": null,
         "start": 285980,
         "text": "to"
        },
        {
         "confidence": 0.99825,
         "end": 286314,
         "speaker": null,
         "start": 286136,
         "text": "be"
        },
        {
         "confidence": 0.99664,
         "end": 286590,
         "speaker": null,
         "start": 286352,
         "text": "really"
        },
        {
         "confidence": 0.82376,
         "end": 286926,
         "speaker": null,
         "start": 286640,
         "text": "hard"
        },
        {
         "confidence": 0.87,
         "end": 287250,
         "speaker": null,
         "start": 286988,
         "text": "and"
        },
        {
         "confidence": 0.99887,
         "end": 287550,
         "speaker": null,
         "start": 287300,
         "text": "very"
        },
        {
         "confidence": 0.99979,
         "end": 288022,
         "speaker": null,
         "start": 287600,
         "text": "scary."
        },
        {
         "confidence": 1,
         "end": 288282,
         "speaker": null,
         "start": 288106,
         "text": "I"
        },
        {
         "confidence": 0.99785,
         "end": 288438,
         "speaker": null,
         "start": 288296,
         "text": "would"
        },
        {
         "confidence": 0.99977,
         "end": 288718,
         "speaker": null,
         "start": 288464,
         "text": "argue"
        },
        {
         "confidence": 0.99805,
         "end": 288954,
         "speaker": null,
         "start": 288754,
         "text": "that"
        },
        {
         "confidence": 0.9822,
         "end": 289294,
         "speaker": null,
         "start": 288992,
         "text": "it's"
        },
        {
         "confidence": 0.99965,
         "end": 289662,
         "speaker": null,
         "start": 289342,
         "text": "almost"
        },
        {
         "confidence": 1,
         "end": 289902,
         "speaker": null,
         "start": 289736,
         "text": "the"
        },
        {
         "confidence": 0.5612,
         "end": 290458,
         "speaker": null,
         "start": 289916,
         "text": "opposite."
        },
        {
         "confidence": 0.96733,
         "end": 290902,
         "speaker": null,
         "start": 290554,
         "text": "Coding"
        },
        {
         "confidence": 0.62626,
         "end": 291358,
         "speaker": null,
         "start": 290926,
         "text": "languages,"
        },
        {
         "confidence": 0.99103,
         "end": 291958,
         "speaker": null,
         "start": 291454,
         "text": "particularly"
        },
        {
         "confidence": 0.91549,
         "end": 292486,
         "speaker": null,
         "start": 291994,
         "text": "Python."
        },
        {
         "confidence": 0.6881,
         "end": 292762,
         "speaker": null,
         "start": 292558,
         "text": "They're"
        },
        {
         "confidence": 0.99708,
         "end": 293122,
         "speaker": null,
         "start": 292786,
         "text": "designed"
        },
        {
         "confidence": 1,
         "end": 293262,
         "speaker": null,
         "start": 293146,
         "text": "to"
        },
        {
         "confidence": 0.99479,
         "end": 293418,
         "speaker": null,
         "start": 293276,
         "text": "be"
        },
        {
         "confidence": 0.99428,
         "end": 293634,
         "speaker": null,
         "start": 293444,
         "text": "as"
        },
        {
         "confidence": 0.99052,
         "end": 293874,
         "speaker": null,
         "start": 293672,
         "text": "easy"
        },
        {
         "confidence": 0.52,
         "end": 294078,
         "speaker": null,
         "start": 293912,
         "text": "to"
        },
        {
         "confidence": 0.99606,
         "end": 294258,
         "speaker": null,
         "start": 294104,
         "text": "use"
        },
        {
         "confidence": 0.99497,
         "end": 294438,
         "speaker": null,
         "start": 294284,
         "text": "as"
        },
        {
         "confidence": 0.99989,
         "end": 294798,
         "speaker": null,
         "start": 294464,
         "text": "possible"
        },
        {
         "confidence": 0.9981,
         "end": 295134,
         "speaker": null,
         "start": 294884,
         "text": "while"
        },
        {
         "confidence": 0.89139,
         "end": 295462,
         "speaker": null,
         "start": 295172,
         "text": "creating"
        },
        {
         "confidence": 0.99339,
         "end": 295638,
         "speaker": null,
         "start": 295486,
         "text": "good"
        },
        {
         "confidence": 0.99473,
         "end": 296254,
         "speaker": null,
         "start": 295664,
         "text": "results."
        },
        {
         "confidence": 0.8431,
         "end": 296562,
         "speaker": null,
         "start": 296362,
         "text": "So"
        },
        {
         "confidence": 0.99819,
         "end": 296646,
         "speaker": null,
         "start": 296576,
         "text": "if"
        },
        {
         "confidence": 0.65,
         "end": 296742,
         "speaker": null,
         "start": 296648,
         "text": "you"
        },
        {
         "confidence": 0.88195,
         "end": 296898,
         "speaker": null,
         "start": 296756,
         "text": "change"
        },
        {
         "confidence": 0.73,
         "end": 297078,
         "speaker": null,
         "start": 296924,
         "text": "your"
        },
        {
         "confidence": 0.67127,
         "end": 297514,
         "speaker": null,
         "start": 297104,
         "text": "perspective"
        },
        {
         "confidence": 1,
         "end": 297738,
         "speaker": null,
         "start": 297562,
         "text": "to"
        },
        {
         "confidence": 1,
         "end": 297882,
         "speaker": null,
         "start": 297764,
         "text": "look"
        },
        {
         "confidence": 1,
         "end": 298002,
         "speaker": null,
         "start": 297896,
         "text": "at"
        },
        {
         "confidence": 1,
         "end": 298158,
         "speaker": null,
         "start": 298016,
         "text": "them"
        },
        {
         "confidence": 0.99743,
         "end": 298410,
         "speaker": null,
         "start": 298184,
         "text": "as"
        },
        {
         "confidence": 0.98681,
         "end": 299110,
         "speaker": null,
         "start": 298460,
         "text": "intuitive,"
        },
        {
         "confidence": 0.98849,
         "end": 299602,
         "speaker": null,
         "start": 299230,
         "text": "coding"
        },
        {
         "confidence": 0.31172,
         "end": 299938,
         "speaker": null,
         "start": 299626,
         "text": "becomes"
        },
        {
         "confidence": 0.48857,
         "end": 300598,
         "speaker": null,
         "start": 299974,
         "text": "significantly"
        },
        {
         "confidence": 1,
         "end": 300798,
         "speaker": null,
         "start": 300634,
         "text": "more"
        },
        {
         "confidence": 0.99935,
         "end": 301050,
         "speaker": null,
         "start": 300824,
         "text": "fun"
        },
        {
         "confidence": 1,
         "end": 301278,
         "speaker": null,
         "start": 301100,
         "text": "and"
        },
        {
         "confidence": 0.90591,
         "end": 301906,
         "speaker": null,
         "start": 301304,
         "text": "stressfree."
        },
        {
         "confidence": 0.93953,
         "end": 302142,
         "speaker": null,
         "start": 301978,
         "text": "This"
        },
        {
         "confidence": 0.93793,
         "end": 302338,
         "speaker": null,
         "start": 302156,
         "text": "isn't"
        },
        {
         "confidence": 1,
         "end": 302502,
         "speaker": null,
         "start": 302374,
         "text": "to"
        },
        {
         "confidence": 0.99971,
         "end": 302658,
         "speaker": null,
         "start": 302516,
         "text": "say"
        },
        {
         "confidence": 0.96165,
         "end": 302802,
         "speaker": null,
         "start": 302684,
         "text": "that"
        },
        {
         "confidence": 1,
         "end": 302922,
         "speaker": null,
         "start": 302816,
         "text": "you"
        },
        {
         "confidence": 0.99711,
         "end": 303082,
         "speaker": null,
         "start": 302936,
         "text": "won't"
        },
        {
         "confidence": 0.99844,
         "end": 303222,
         "speaker": null,
         "start": 303106,
         "text": "get"
        },
        {
         "confidence": 0.96148,
         "end": 303694,
         "speaker": null,
         "start": 303236,
         "text": "stuck."
        },
        {
         "confidence": 0.72988,
         "end": 304138,
         "speaker": null,
         "start": 303802,
         "text": "It's"
        },
        {
         "confidence": 0.99797,
         "end": 304338,
         "speaker": null,
         "start": 304174,
         "text": "just"
        },
        {
         "confidence": 0.76,
         "end": 304518,
         "speaker": null,
         "start": 304364,
         "text": "to"
        },
        {
         "confidence": 0.99975,
         "end": 304698,
         "speaker": null,
         "start": 304544,
         "text": "say"
        },
        {
         "confidence": 0.98524,
         "end": 304878,
         "speaker": null,
         "start": 304724,
         "text": "that"
        },
        {
         "confidence": 0.99948,
         "end": 305022,
         "speaker": null,
         "start": 304904,
         "text": "when"
        },
        {
         "confidence": 1,
         "end": 305142,
         "speaker": null,
         "start": 305036,
         "text": "you"
        },
        {
         "confidence": 0.97048,
         "end": 305262,
         "speaker": null,
         "start": 305156,
         "text": "do"
        },
        {
         "confidence": 0.99892,
         "end": 305418,
         "speaker": null,
         "start": 305276,
         "text": "get"
        },
        {
         "confidence": 0.99961,
         "end": 305806,
         "speaker": null,
         "start": 305444,
         "text": "stuck,"
        },
        {
         "confidence": 0.77109,
         "end": 306178,
         "speaker": null,
         "start": 305878,
         "text": "there's"
        },
        {
         "confidence": 0.999,
         "end": 306486,
         "speaker": null,
         "start": 306214,
         "text": "almost"
        },
        {
         "confidence": 0.99951,
         "end": 306810,
         "speaker": null,
         "start": 306548,
         "text": "always"
        },
        {
         "confidence": 0.99,
         "end": 307002,
         "speaker": null,
         "start": 306860,
         "text": "a"
        },
        {
         "confidence": 0.99838,
         "end": 307354,
         "speaker": null,
         "start": 307016,
         "text": "logical"
        },
        {
         "confidence": 0.99997,
         "end": 307650,
         "speaker": null,
         "start": 307402,
         "text": "reason"
        },
        {
         "confidence": 0.94479,
         "end": 307878,
         "speaker": null,
         "start": 307700,
         "text": "for"
        },
        {
         "confidence": 0.96,
         "end": 308094,
         "speaker": null,
         "start": 307904,
         "text": "it"
        },
        {
         "confidence": 1,
         "end": 308298,
         "speaker": null,
         "start": 308132,
         "text": "and"
        },
        {
         "confidence": 0.98,
         "end": 308478,
         "speaker": null,
         "start": 308324,
         "text": "a"
        },
        {
         "confidence": 0.99946,
         "end": 308890,
         "speaker": null,
         "start": 308504,
         "text": "logical"
        },
        {
         "confidence": 0.89262,
         "end": 309346,
         "speaker": null,
         "start": 308950,
         "text": "solution"
        },
        {
         "confidence": 1,
         "end": 309582,
         "speaker": null,
         "start": 309418,
         "text": "to"
        },
        {
         "confidence": 0.85205,
         "end": 309886,
         "speaker": null,
         "start": 309596,
         "text": "resolve"
        },
        {
         "confidence": 1,
         "end": 310038,
         "speaker": null,
         "start": 309898,
         "text": "your"
        },
        {
         "confidence": 0.9918,
         "end": 310470,
         "speaker": null,
         "start": 310064,
         "text": "problems."
        },
        {
         "confidence": 0.99784,
         "end": 310882,
         "speaker": null,
         "start": 310580,
         "text": "Keeping"
        },
        {
         "confidence": 0.9953,
         "end": 311022,
         "speaker": null,
         "start": 310906,
         "text": "with"
        },
        {
         "confidence": 0.98239,
         "end": 311178,
         "speaker": null,
         "start": 311036,
         "text": "this"
        },
        {
         "confidence": 0.99418,
         "end": 311446,
         "speaker": null,
         "start": 311204,
         "text": "theme"
        },
        {
         "confidence": 1,
         "end": 311562,
         "speaker": null,
         "start": 311458,
         "text": "of"
        },
        {
         "confidence": 0.94772,
         "end": 312034,
         "speaker": null,
         "start": 311576,
         "text": "simplicity,"
        },
        {
         "confidence": 0.55,
         "end": 312222,
         "speaker": null,
         "start": 312082,
         "text": "at"
        },
        {
         "confidence": 0.8,
         "end": 312342,
         "speaker": null,
         "start": 312236,
         "text": "the"
        },
        {
         "confidence": 0.99825,
         "end": 312498,
         "speaker": null,
         "start": 312356,
         "text": "most"
        },
        {
         "confidence": 0.99916,
         "end": 312838,
         "speaker": null,
         "start": 312524,
         "text": "basic"
        },
        {
         "confidence": 0.99998,
         "end": 313146,
         "speaker": null,
         "start": 312874,
         "text": "level,"
        },
        {
         "confidence": 0.99848,
         "end": 313582,
         "speaker": null,
         "start": 313208,
         "text": "beginner"
        },
        {
         "confidence": 0.92737,
         "end": 313882,
         "speaker": null,
         "start": 313606,
         "text": "coding"
        },
        {
         "confidence": 0.99936,
         "end": 313986,
         "speaker": null,
         "start": 313906,
         "text": "can"
        },
        {
         "confidence": 0.84181,
         "end": 314082,
         "speaker": null,
         "start": 313988,
         "text": "be"
        },
        {
         "confidence": 0.6133,
         "end": 314338,
         "speaker": null,
         "start": 314096,
         "text": "broken"
        },
        {
         "confidence": 0.9997,
         "end": 314538,
         "speaker": null,
         "start": 314374,
         "text": "down"
        },
        {
         "confidence": 0.52184,
         "end": 314790,
         "speaker": null,
         "start": 314564,
         "text": "into"
        },
        {
         "confidence": 1,
         "end": 315126,
         "speaker": null,
         "start": 314840,
         "text": "seven"
        },
        {
         "confidence": 0.83635,
         "end": 315670,
         "speaker": null,
         "start": 315188,
         "text": "concepts."
        },
        {
         "confidence": 0.99965,
         "end": 315918,
         "speaker": null,
         "start": 315730,
         "text": "All"
        },
        {
         "confidence": 0.99,
         "end": 316098,
         "speaker": null,
         "start": 315944,
         "text": "the"
        },
        {
         "confidence": 0.90505,
         "end": 316558,
         "speaker": null,
         "start": 316124,
         "text": "resources"
        },
        {
         "confidence": 0.98062,
         "end": 316686,
         "speaker": null,
         "start": 316594,
         "text": "that"
        },
        {
         "confidence": 0.83992,
         "end": 316822,
         "speaker": null,
         "start": 316688,
         "text": "I've"
        },
        {
         "confidence": 0.99705,
         "end": 317122,
         "speaker": null,
         "start": 316846,
         "text": "linked"
        },
        {
         "confidence": 0.99948,
         "end": 317262,
         "speaker": null,
         "start": 317146,
         "text": "in"
        },
        {
         "confidence": 1,
         "end": 317382,
         "speaker": null,
         "start": 317276,
         "text": "the"
        },
        {
         "confidence": 0.89237,
         "end": 317974,
         "speaker": null,
         "start": 317396,
         "text": "description"
        },
        {
         "confidence": 1,
         "end": 318390,
         "speaker": null,
         "start": 318082,
         "text": "cover"
        },
        {
         "confidence": 0.99595,
         "end": 318618,
         "speaker": null,
         "start": 318440,
         "text": "these"
        },
        {
         "confidence": 0.99894,
         "end": 319066,
         "speaker": null,
         "start": 318644,
         "text": "topics,"
        },
        {
         "confidence": 0.98475,
         "end": 319302,
         "speaker": null,
         "start": 319138,
         "text": "but"
        },
        {
         "confidence": 0.74775,
         "end": 319486,
         "speaker": null,
         "start": 319316,
         "text": "I'm"
        },
        {
         "confidence": 0.9953,
         "end": 319566,
         "speaker": null,
         "start": 319498,
         "text": "going"
        },
        {
         "confidence": 0.99,
         "end": 319662,
         "speaker": null,
         "start": 319568,
         "text": "to"
        },
        {
         "confidence": 0.99986,
         "end": 319818,
         "speaker": null,
         "start": 319676,
         "text": "give"
        },
        {
         "confidence": 1,
         "end": 319998,
         "speaker": null,
         "start": 319844,
         "text": "you"
        },
        {
         "confidence": 1,
         "end": 320214,
         "speaker": null,
         "start": 320024,
         "text": "a"
        },
        {
         "confidence": 0.9951,
         "end": 320454,
         "speaker": null,
         "start": 320252,
         "text": "very,"
        },
        {
         "confidence": 0.59521,
         "end": 320730,
         "speaker": null,
         "start": 320492,
         "text": "very"
        },
        {
         "confidence": 0.99994,
         "end": 320922,
         "speaker": null,
         "start": 320780,
         "text": "high"
        },
        {
         "confidence": 0.544,
         "end": 321150,
         "speaker": null,
         "start": 320936,
         "text": "level"
        },
        {
         "confidence": 0.55573,
         "end": 321598,
         "speaker": null,
         "start": 321200,
         "text": "overview"
        },
        {
         "confidence": 0.99586,
         "end": 321906,
         "speaker": null,
         "start": 321634,
         "text": "here."
        },
        {
         "confidence": 1,
         "end": 322122,
         "speaker": null,
         "start": 321968,
         "text": "The"
        },
        {
         "confidence": 0.89,
         "end": 322314,
         "speaker": null,
         "start": 322136,
         "text": "first"
        },
        {
         "confidence": 0.99,
         "end": 322482,
         "speaker": null,
         "start": 322352,
         "text": "one"
        },
        {
         "confidence": 0.99526,
         "end": 322638,
         "speaker": null,
         "start": 322496,
         "text": "we"
        },
        {
         "confidence": 0.99926,
         "end": 322818,
         "speaker": null,
         "start": 322664,
         "text": "start"
        },
        {
         "confidence": 0.9997,
         "end": 323034,
         "speaker": null,
         "start": 322844,
         "text": "with"
        },
        {
         "confidence": 0.99653,
         "end": 323238,
         "speaker": null,
         "start": 323072,
         "text": "is"
        },
        {
         "confidence": 0.99655,
         "end": 323490,
         "speaker": null,
         "start": 323264,
         "text": "data"
        },
        {
         "confidence": 0.99493,
         "end": 323986,
         "speaker": null,
         "start": 323540,
         "text": "types."
        },
        {
         "confidence": 0.78381,
         "end": 324258,
         "speaker": null,
         "start": 324058,
         "text": "So"
        },
        {
         "confidence": 0.99599,
         "end": 324402,
         "speaker": null,
         "start": 324284,
         "text": "in"
        },
        {
         "confidence": 0.95389,
         "end": 324778,
         "speaker": null,
         "start": 324416,
         "text": "Python,"
        },
        {
         "confidence": 1,
         "end": 324906,
         "speaker": null,
         "start": 324814,
         "text": "you"
        },
        {
         "confidence": 0.99171,
         "end": 325002,
         "speaker": null,
         "start": 324908,
         "text": "can"
        },
        {
         "confidence": 0.99581,
         "end": 325122,
         "speaker": null,
         "start": 325016,
         "text": "work"
        },
        {
         "confidence": 0.99245,
         "end": 325278,
         "speaker": null,
         "start": 325136,
         "text": "with"
        },
        {
         "confidence": 0.99961,
         "end": 325566,
         "speaker": null,
         "start": 325304,
         "text": "numbers,"
        },
        {
         "confidence": 0.99,
         "end": 325746,
         "speaker": null,
         "start": 325628,
         "text": "you"
        },
        {
         "confidence": 0.99131,
         "end": 325842,
         "speaker": null,
         "start": 325748,
         "text": "can"
        },
        {
         "confidence": 0.99546,
         "end": 325998,
         "speaker": null,
         "start": 325856,
         "text": "work"
        },
        {
         "confidence": 0.70937,
         "end": 326142,
         "speaker": null,
         "start": 326024,
         "text": "with"
        },
        {
         "confidence": 0.99779,
         "end": 326406,
         "speaker": null,
         "start": 326156,
         "text": "text,"
        },
        {
         "confidence": 0.99,
         "end": 326622,
         "speaker": null,
         "start": 326468,
         "text": "you"
        },
        {
         "confidence": 0.9975,
         "end": 326778,
         "speaker": null,
         "start": 326636,
         "text": "can"
        },
        {
         "confidence": 0.99875,
         "end": 326958,
         "speaker": null,
         "start": 326804,
         "text": "work"
        },
        {
         "confidence": 0.99862,
         "end": 327138,
         "speaker": null,
         "start": 326984,
         "text": "with"
        },
        {
         "confidence": 0.72353,
         "end": 327730,
         "speaker": null,
         "start": 327164,
         "text": "Booleans,"
        },
        {
         "confidence": 0.98,
         "end": 327906,
         "speaker": null,
         "start": 327790,
         "text": "you"
        },
        {
         "confidence": 0.92743,
         "end": 328002,
         "speaker": null,
         "start": 327908,
         "text": "can"
        },
        {
         "confidence": 0.9904,
         "end": 328122,
         "speaker": null,
         "start": 328016,
         "text": "work"
        },
        {
         "confidence": 0.96247,
         "end": 328314,
         "speaker": null,
         "start": 328136,
         "text": "with"
        },
        {
         "confidence": 0.90088,
         "end": 328786,
         "speaker": null,
         "start": 328352,
         "text": "lists"
        },
        {
         "confidence": 0.9961,
         "end": 329022,
         "speaker": null,
         "start": 328858,
         "text": "or"
        },
        {
         "confidence": 0.83,
         "end": 329142,
         "speaker": null,
         "start": 329036,
         "text": "a"
        },
        {
         "confidence": 0.99577,
         "end": 329302,
         "speaker": null,
         "start": 329156,
         "text": "host"
        },
        {
         "confidence": 0.98,
         "end": 329478,
         "speaker": null,
         "start": 329326,
         "text": "of"
        },
        {
         "confidence": 0.99991,
         "end": 329658,
         "speaker": null,
         "start": 329504,
         "text": "different"
        },
        {
         "confidence": 0.99918,
         "end": 329910,
         "speaker": null,
         "start": 329684,
         "text": "data"
        },
        {
         "confidence": 0.98621,
         "end": 330478,
         "speaker": null,
         "start": 329960,
         "text": "structures."
        },
        {
         "confidence": 0.94328,
         "end": 330802,
         "speaker": null,
         "start": 330574,
         "text": "It's"
        },
        {
         "confidence": 0.84471,
         "end": 331086,
         "speaker": null,
         "start": 330826,
         "text": "important"
        },
        {
         "confidence": 1,
         "end": 331302,
         "speaker": null,
         "start": 331148,
         "text": "to"
        },
        {
         "confidence": 0.99902,
         "end": 331422,
         "speaker": null,
         "start": 331316,
         "text": "get"
        },
        {
         "confidence": 0.99,
         "end": 331542,
         "speaker": null,
         "start": 331436,
         "text": "a"
        },
        {
         "confidence": 0.99976,
         "end": 331698,
         "speaker": null,
         "start": 331556,
         "text": "good"
        },
        {
         "confidence": 0.99911,
         "end": 332218,
         "speaker": null,
         "start": 331724,
         "text": "understanding"
        },
        {
         "confidence": 0.99712,
         "end": 332418,
         "speaker": null,
         "start": 332254,
         "text": "or"
        },
        {
         "confidence": 0.96,
         "end": 332598,
         "speaker": null,
         "start": 332444,
         "text": "a"
        },
        {
         "confidence": 0.94969,
         "end": 333214,
         "speaker": null,
         "start": 332624,
         "text": "fundamental"
        },
        {
         "confidence": 0.99946,
         "end": 333778,
         "speaker": null,
         "start": 333262,
         "text": "understanding"
        },
        {
         "confidence": 1,
         "end": 333942,
         "speaker": null,
         "start": 333814,
         "text": "of"
        },
        {
         "confidence": 0.98614,
         "end": 334098,
         "speaker": null,
         "start": 333956,
         "text": "these"
        },
        {
         "confidence": 1,
         "end": 334422,
         "speaker": null,
         "start": 334124,
         "text": "first."
        },
        {
         "confidence": 0.68011,
         "end": 334806,
         "speaker": null,
         "start": 334496,
         "text": "Next,"
        },
        {
         "confidence": 1,
         "end": 335022,
         "speaker": null,
         "start": 334868,
         "text": "I"
        },
        {
         "confidence": 0.9998,
         "end": 335142,
         "speaker": null,
         "start": 335036,
         "text": "think"
        },
        {
         "confidence": 1,
         "end": 335262,
         "speaker": null,
         "start": 335156,
         "text": "it"
        },
        {
         "confidence": 0.99289,
         "end": 335418,
         "speaker": null,
         "start": 335276,
         "text": "makes"
        },
        {
         "confidence": 0.99998,
         "end": 335634,
         "speaker": null,
         "start": 335444,
         "text": "sense"
        },
        {
         "confidence": 1,
         "end": 335766,
         "speaker": null,
         "start": 335672,
         "text": "to"
        },
        {
         "confidence": 0.99824,
         "end": 335898,
         "speaker": null,
         "start": 335768,
         "text": "get"
        },
        {
         "confidence": 0.99812,
         "end": 336202,
         "speaker": null,
         "start": 335924,
         "text": "familiar"
        },
        {
         "confidence": 0.62662,
         "end": 336378,
         "speaker": null,
         "start": 336226,
         "text": "with"
        },
        {
         "confidence": 0.99768,
         "end": 336558,
         "speaker": null,
         "start": 336404,
         "text": "how"
        },
        {
         "confidence": 0.57358,
         "end": 337018,
         "speaker": null,
         "start": 336584,
         "text": "variables"
        },
        {
         "confidence": 0.99455,
         "end": 337434,
         "speaker": null,
         "start": 337054,
         "text": "work."
        },
        {
         "confidence": 0.98723,
         "end": 337794,
         "speaker": null,
         "start": 337532,
         "text": "This"
        },
        {
         "confidence": 0.99703,
         "end": 337998,
         "speaker": null,
         "start": 337832,
         "text": "can"
        },
        {
         "confidence": 0.99967,
         "end": 338242,
         "speaker": null,
         "start": 338024,
         "text": "vary"
        },
        {
         "confidence": 0.99927,
         "end": 338418,
         "speaker": null,
         "start": 338266,
         "text": "by"
        },
        {
         "confidence": 0.99926,
         "end": 338866,
         "speaker": null,
         "start": 338444,
         "text": "language,"
        },
        {
         "confidence": 0.94545,
         "end": 339138,
         "speaker": null,
         "start": 338938,
         "text": "so"
        },
        {
         "confidence": 0.99,
         "end": 339282,
         "speaker": null,
         "start": 339164,
         "text": "you"
        },
        {
         "confidence": 0.71446,
         "end": 339438,
         "speaker": null,
         "start": 339296,
         "text": "need"
        },
        {
         "confidence": 1,
         "end": 339582,
         "speaker": null,
         "start": 339464,
         "text": "to"
        },
        {
         "confidence": 0.99901,
         "end": 339702,
         "speaker": null,
         "start": 339596,
         "text": "make"
        },
        {
         "confidence": 0.99976,
         "end": 339822,
         "speaker": null,
         "start": 339716,
         "text": "sure"
        },
        {
         "confidence": 0.96,
         "end": 339942,
         "speaker": null,
         "start": 339836,
         "text": "you"
        },
        {
         "confidence": 0.99553,
         "end": 340098,
         "speaker": null,
         "start": 339956,
         "text": "know"
        },
        {
         "confidence": 0.99878,
         "end": 340242,
         "speaker": null,
         "start": 340124,
         "text": "how"
        },
        {
         "confidence": 1,
         "end": 340398,
         "speaker": null,
         "start": 340256,
         "text": "to"
        },
        {
         "confidence": 0.99833,
         "end": 340750,
         "speaker": null,
         "start": 340424,
         "text": "assign"
        },
        {
         "confidence": 1,
         "end": 340998,
         "speaker": null,
         "start": 340810,
         "text": "and"
        },
        {
         "confidence": 0.99853,
         "end": 341250,
         "speaker": null,
         "start": 341024,
         "text": "change"
        },
        {
         "confidence": 0.82267,
         "end": 341758,
         "speaker": null,
         "start": 341300,
         "text": "variables"
        },
        {
         "confidence": 0.65642,
         "end": 341958,
         "speaker": null,
         "start": 341794,
         "text": "in"
        },
        {
         "confidence": 0.99334,
         "end": 342418,
         "speaker": null,
         "start": 341984,
         "text": "Python,"
        },
        {
         "confidence": 0.9983,
         "end": 343410,
         "speaker": null,
         "start": 342454,
         "text": "specifically,"
        },
        {
         "confidence": 0.99988,
         "end": 344370,
         "speaker": null,
         "start": 343970,
         "text": "after"
        },
        {
         "confidence": 0.84308,
         "end": 344986,
         "speaker": null,
         "start": 344420,
         "text": "variables,"
        },
        {
         "confidence": 0.95,
         "end": 345222,
         "speaker": null,
         "start": 345058,
         "text": "you"
        },
        {
         "confidence": 0.99815,
         "end": 345414,
         "speaker": null,
         "start": 345236,
         "text": "should"
        },
        {
         "confidence": 1,
         "end": 345618,
         "speaker": null,
         "start": 345452,
         "text": "look"
        },
        {
         "confidence": 0.997,
         "end": 345798,
         "speaker": null,
         "start": 345644,
         "text": "into"
        },
        {
         "confidence": 0.99393,
         "end": 346014,
         "speaker": null,
         "start": 345824,
         "text": "how"
        },
        {
         "confidence": 0.81803,
         "end": 346390,
         "speaker": null,
         "start": 346052,
         "text": "logical"
        },
        {
         "confidence": 0.56233,
         "end": 346918,
         "speaker": null,
         "start": 346450,
         "text": "operators"
        },
        {
         "confidence": 0.99597,
         "end": 347154,
         "speaker": null,
         "start": 346954,
         "text": "work."
        },
        {
         "confidence": 0.99793,
         "end": 347358,
         "speaker": null,
         "start": 347192,
         "text": "These"
        },
        {
         "confidence": 0.99905,
         "end": 347502,
         "speaker": null,
         "start": 347384,
         "text": "are"
        },
        {
         "confidence": 0.99926,
         "end": 347694,
         "speaker": null,
         "start": 347516,
         "text": "very"
        },
        {
         "confidence": 0.77262,
         "end": 347998,
         "speaker": null,
         "start": 347732,
         "text": "handy"
        },
        {
         "confidence": 0.99603,
         "end": 348162,
         "speaker": null,
         "start": 348034,
         "text": "in"
        },
        {
         "confidence": 1,
         "end": 348318,
         "speaker": null,
         "start": 348176,
         "text": "your"
        },
        {
         "confidence": 1,
         "end": 348534,
         "speaker": null,
         "start": 348344,
         "text": "first"
        },
        {
         "confidence": 0.99865,
         "end": 348810,
         "speaker": null,
         "start": 348572,
         "text": "few"
        },
        {
         "confidence": 0.99669,
         "end": 349390,
         "speaker": null,
         "start": 348860,
         "text": "projects."
        },
        {
         "confidence": 0.60301,
         "end": 349674,
         "speaker": null,
         "start": 349450,
         "text": "If"
        },
        {
         "confidence": 0.01657,
         "end": 349942,
         "speaker": null,
         "start": 349712,
         "text": "held,"
        },
        {
         "confidence": 0.9981,
         "end": 350350,
         "speaker": null,
         "start": 349966,
         "text": "statements"
        },
        {
         "confidence": 0.99782,
         "end": 350634,
         "speaker": null,
         "start": 350410,
         "text": "are"
        },
        {
         "confidence": 0.99908,
         "end": 350874,
         "speaker": null,
         "start": 350672,
         "text": "probably"
        },
        {
         "confidence": 1,
         "end": 351042,
         "speaker": null,
         "start": 350912,
         "text": "the"
        },
        {
         "confidence": 0.99993,
         "end": 351198,
         "speaker": null,
         "start": 351056,
         "text": "most"
        },
        {
         "confidence": 0.99983,
         "end": 351486,
         "speaker": null,
         "start": 351224,
         "text": "important"
        },
        {
         "confidence": 0.96,
         "end": 351846,
         "speaker": null,
         "start": 351548,
         "text": "one."
        },
        {
         "confidence": 0.97042,
         "end": 352098,
         "speaker": null,
         "start": 351908,
         "text": "But"
        },
        {
         "confidence": 1,
         "end": 352242,
         "speaker": null,
         "start": 352124,
         "text": "you"
        },
        {
         "confidence": 0.99864,
         "end": 352434,
         "speaker": null,
         "start": 352256,
         "text": "can"
        },
        {
         "confidence": 0.99056,
         "end": 352710,
         "speaker": null,
         "start": 352472,
         "text": "definitely"
        },
        {
         "confidence": 0.99613,
         "end": 352974,
         "speaker": null,
         "start": 352760,
         "text": "find"
        },
        {
         "confidence": 0.99932,
         "end": 353178,
         "speaker": null,
         "start": 353012,
         "text": "use"
        },
        {
         "confidence": 0.99395,
         "end": 353518,
         "speaker": null,
         "start": 353204,
         "text": "cases"
        },
        {
         "confidence": 0.99906,
         "end": 353682,
         "speaker": null,
         "start": 353554,
         "text": "for"
        },
        {
         "confidence": 0.98,
         "end": 353802,
         "speaker": null,
         "start": 353696,
         "text": "the"
        },
        {
         "confidence": 0.99763,
         "end": 354246,
         "speaker": null,
         "start": 353816,
         "text": "others,"
        },
        {
         "confidence": 0.99752,
         "end": 354942,
         "speaker": null,
         "start": 354368,
         "text": "especially"
        },
        {
         "confidence": 0.99911,
         "end": 355302,
         "speaker": null,
         "start": 355076,
         "text": "if"
        },
        {
         "confidence": 0.97259,
         "end": 355462,
         "speaker": null,
         "start": 355316,
         "text": "you're"
        },
        {
         "confidence": 0.99962,
         "end": 355674,
         "speaker": null,
         "start": 355486,
         "text": "working"
        },
        {
         "confidence": 0.99959,
         "end": 355842,
         "speaker": null,
         "start": 355712,
         "text": "with"
        },
        {
         "confidence": 0.99473,
         "end": 356178,
         "speaker": null,
         "start": 355856,
         "text": "data."
        },
        {
         "confidence": 1,
         "end": 356442,
         "speaker": null,
         "start": 356264,
         "text": "The"
        },
        {
         "confidence": 0.97,
         "end": 356626,
         "speaker": null,
         "start": 356456,
         "text": "fourth"
        },
        {
         "confidence": 0.91449,
         "end": 356742,
         "speaker": null,
         "start": 356638,
         "text": "thing"
        },
        {
         "confidence": 0.51,
         "end": 356862,
         "speaker": null,
         "start": 356756,
         "text": "you"
        },
        {
         "confidence": 0.96324,
         "end": 357018,
         "speaker": null,
         "start": 356876,
         "text": "need"
        },
        {
         "confidence": 0.99,
         "end": 357162,
         "speaker": null,
         "start": 357044,
         "text": "to"
        },
        {
         "confidence": 0.99998,
         "end": 357606,
         "speaker": null,
         "start": 357176,
         "text": "understand"
        },
        {
         "confidence": 0.99848,
         "end": 358050,
         "speaker": null,
         "start": 357728,
         "text": "is"
        },
        {
         "confidence": 0.99891,
         "end": 358242,
         "speaker": null,
         "start": 358100,
         "text": "how"
        },
        {
         "confidence": 0.99677,
         "end": 358582,
         "speaker": null,
         "start": 358256,
         "text": "loops"
        },
        {
         "confidence": 0.9979,
         "end": 358938,
         "speaker": null,
         "start": 358606,
         "text": "work."
        },
        {
         "confidence": 0.74638,
         "end": 359274,
         "speaker": null,
         "start": 359024,
         "text": "So"
        },
        {
         "confidence": 1,
         "end": 359478,
         "speaker": null,
         "start": 359312,
         "text": "one"
        },
        {
         "confidence": 0.99889,
         "end": 359694,
         "speaker": null,
         "start": 359504,
         "text": "thing"
        },
        {
         "confidence": 0.9927,
         "end": 360274,
         "speaker": null,
         "start": 359732,
         "text": "computers"
        },
        {
         "confidence": 0.99726,
         "end": 360534,
         "speaker": null,
         "start": 360322,
         "text": "are"
        },
        {
         "confidence": 0.96662,
         "end": 360954,
         "speaker": null,
         "start": 360572,
         "text": "really"
        },
        {
         "confidence": 0.99753,
         "end": 361314,
         "speaker": null,
         "start": 361052,
         "text": "great"
        },
        {
         "confidence": 1,
         "end": 361626,
         "speaker": null,
         "start": 361352,
         "text": "at"
        },
        {
         "confidence": 0.9617,
         "end": 361878,
         "speaker": null,
         "start": 361688,
         "text": "is"
        },
        {
         "confidence": 0.99762,
         "end": 362094,
         "speaker": null,
         "start": 361904,
         "text": "doing"
        },
        {
         "confidence": 0.99,
         "end": 362298,
         "speaker": null,
         "start": 362132,
         "text": "a"
        },
        {
         "confidence": 0.99886,
         "end": 362550,
         "speaker": null,
         "start": 362324,
         "text": "simple"
        },
        {
         "confidence": 0.96074,
         "end": 362974,
         "speaker": null,
         "start": 362600,
         "text": "task"
        },
        {
         "confidence": 0.99965,
         "end": 363234,
         "speaker": null,
         "start": 363022,
         "text": "over"
        },
        {
         "confidence": 1,
         "end": 363402,
         "speaker": null,
         "start": 363272,
         "text": "and"
        },
        {
         "confidence": 0.99891,
         "end": 363558,
         "speaker": null,
         "start": 363416,
         "text": "over"
        },
        {
         "confidence": 0.99874,
         "end": 364098,
         "speaker": null,
         "start": 363584,
         "text": "again."
        },
        {
         "confidence": 0.71925,
         "end": 364522,
         "speaker": null,
         "start": 364244,
         "text": "You'd"
        },
        {
         "confidence": 0.99792,
         "end": 364698,
         "speaker": null,
         "start": 364546,
         "text": "be"
        },
        {
         "confidence": 0.99552,
         "end": 365206,
         "speaker": null,
         "start": 364724,
         "text": "surprised"
        },
        {
         "confidence": 0.99,
         "end": 365442,
         "speaker": null,
         "start": 365278,
         "text": "at"
        },
        {
         "confidence": 0.74382,
         "end": 365634,
         "speaker": null,
         "start": 365456,
         "text": "how"
        },
        {
         "confidence": 0.83945,
         "end": 366034,
         "speaker": null,
         "start": 365672,
         "text": "useful"
        },
        {
         "confidence": 0.98676,
         "end": 366294,
         "speaker": null,
         "start": 366082,
         "text": "these"
        },
        {
         "confidence": 0.96392,
         "end": 366462,
         "speaker": null,
         "start": 366332,
         "text": "can"
        },
        {
         "confidence": 0.98568,
         "end": 366834,
         "speaker": null,
         "start": 366476,
         "text": "be"
        },
        {
         "confidence": 0.99928,
         "end": 367158,
         "speaker": null,
         "start": 366932,
         "text": "for"
        },
        {
         "confidence": 0.99,
         "end": 367410,
         "speaker": null,
         "start": 367184,
         "text": "your"
        },
        {
         "confidence": 0.96946,
         "end": 367858,
         "speaker": null,
         "start": 367460,
         "text": "programming"
        },
        {
         "confidence": 0.99525,
         "end": 368310,
         "speaker": null,
         "start": 367894,
         "text": "future."
        },
        {
         "confidence": 0.99968,
         "end": 368694,
         "speaker": null,
         "start": 368420,
         "text": "After"
        },
        {
         "confidence": 0.98791,
         "end": 369006,
         "speaker": null,
         "start": 368732,
         "text": "that,"
        },
        {
         "confidence": 1,
         "end": 369222,
         "speaker": null,
         "start": 369068,
         "text": "you"
        },
        {
         "confidence": 0.99958,
         "end": 369378,
         "speaker": null,
         "start": 369236,
         "text": "should"
        },
        {
         "confidence": 0.99987,
         "end": 369558,
         "speaker": null,
         "start": 369404,
         "text": "learn"
        },
        {
         "confidence": 0.99966,
         "end": 369774,
         "speaker": null,
         "start": 369584,
         "text": "about"
        },
        {
         "confidence": 0.96541,
         "end": 370378,
         "speaker": null,
         "start": 369812,
         "text": "functions."
        },
        {
         "confidence": 0.68079,
         "end": 370698,
         "speaker": null,
         "start": 370474,
         "text": "So"
        },
        {
         "confidence": 0.69937,
         "end": 370878,
         "speaker": null,
         "start": 370724,
         "text": "this"
        },
        {
         "confidence": 0.75428,
         "end": 371182,
         "speaker": null,
         "start": 370904,
         "text": "sets"
        },
        {
         "confidence": 1,
         "end": 371322,
         "speaker": null,
         "start": 371206,
         "text": "the"
        },
        {
         "confidence": 0.99518,
         "end": 371674,
         "speaker": null,
         "start": 371336,
         "text": "foundation"
        },
        {
         "confidence": 0.99872,
         "end": 371898,
         "speaker": null,
         "start": 371722,
         "text": "for"
        },
        {
         "confidence": 0.9977,
         "end": 372438,
         "speaker": null,
         "start": 371924,
         "text": "almost"
        },
        {
         "confidence": 0.99934,
         "end": 372966,
         "speaker": null,
         "start": 372584,
         "text": "everything"
        },
        {
         "confidence": 1,
         "end": 373218,
         "speaker": null,
         "start": 373028,
         "text": "you"
        },
        {
         "confidence": 0.9997,
         "end": 373470,
         "speaker": null,
         "start": 373244,
         "text": "do"
        },
        {
         "confidence": 0.99851,
         "end": 373698,
         "speaker": null,
         "start": 373520,
         "text": "on"
        },
        {
         "confidence": 1,
         "end": 373878,
         "speaker": null,
         "start": 373724,
         "text": "your"
        },
        {
         "confidence": 0.99078,
         "end": 374302,
         "speaker": null,
         "start": 373904,
         "text": "programming"
        },
        {
         "confidence": 0.99069,
         "end": 374818,
         "speaker": null,
         "start": 374326,
         "text": "journey."
        },
        {
         "confidence": 0.86769,
         "end": 375322,
         "speaker": null,
         "start": 374914,
         "text": "Functions"
        },
        {
         "confidence": 0.99907,
         "end": 375498,
         "speaker": null,
         "start": 375346,
         "text": "allow"
        },
        {
         "confidence": 0.99,
         "end": 375606,
         "speaker": null,
         "start": 375524,
         "text": "you"
        },
        {
         "confidence": 0.65,
         "end": 375702,
         "speaker": null,
         "start": 375608,
         "text": "to"
        },
        {
         "confidence": 0.56466,
         "end": 376318,
         "speaker": null,
         "start": 375716,
         "text": "encapsulate"
        },
        {
         "confidence": 0.99738,
         "end": 376554,
         "speaker": null,
         "start": 376354,
         "text": "code"
        },
        {
         "confidence": 1,
         "end": 376758,
         "speaker": null,
         "start": 376592,
         "text": "and"
        },
        {
         "confidence": 0.9876,
         "end": 377086,
         "speaker": null,
         "start": 376784,
         "text": "reuse"
        },
        {
         "confidence": 0.91,
         "end": 377562,
         "speaker": null,
         "start": 377098,
         "text": "it."
        },
        {
         "confidence": 0.99983,
         "end": 377958,
         "speaker": null,
         "start": 377696,
         "text": "If"
        },
        {
         "confidence": 1,
         "end": 378102,
         "speaker": null,
         "start": 377984,
         "text": "you"
        },
        {
         "confidence": 0.98601,
         "end": 378258,
         "speaker": null,
         "start": 378116,
         "text": "really"
        },
        {
         "confidence": 0.9998,
         "end": 378438,
         "speaker": null,
         "start": 378284,
         "text": "think"
        },
        {
         "confidence": 0.84726,
         "end": 378654,
         "speaker": null,
         "start": 378464,
         "text": "about"
        },
        {
         "confidence": 1,
         "end": 378858,
         "speaker": null,
         "start": 378692,
         "text": "it,"
        },
        {
         "confidence": 0.99965,
         "end": 379074,
         "speaker": null,
         "start": 378884,
         "text": "good"
        },
        {
         "confidence": 0.97735,
         "end": 379474,
         "speaker": null,
         "start": 379112,
         "text": "coding"
        },
        {
         "confidence": 0.99958,
         "end": 379662,
         "speaker": null,
         "start": 379522,
         "text": "is"
        },
        {
         "confidence": 0.99956,
         "end": 379854,
         "speaker": null,
         "start": 379676,
         "text": "about"
        },
        {
         "confidence": 0.99975,
         "end": 380202,
         "speaker": null,
         "start": 379892,
         "text": "making"
        },
        {
         "confidence": 0.99947,
         "end": 380478,
         "speaker": null,
         "start": 380276,
         "text": "as"
        },
        {
         "confidence": 0.52828,
         "end": 380766,
         "speaker": null,
         "start": 380504,
         "text": "many"
        },
        {
         "confidence": 0.98769,
         "end": 381334,
         "speaker": null,
         "start": 380828,
         "text": "reusable"
        },
        {
         "confidence": 0.99729,
         "end": 381586,
         "speaker": null,
         "start": 381382,
         "text": "bits"
        },
        {
         "confidence": 0.96622,
         "end": 381738,
         "speaker": null,
         "start": 381598,
         "text": "as"
        },
        {
         "confidence": 0.99994,
         "end": 382134,
         "speaker": null,
         "start": 381764,
         "text": "possible,"
        },
        {
         "confidence": 0.97,
         "end": 382458,
         "speaker": null,
         "start": 382232,
         "text": "and"
        },
        {
         "confidence": 0.99757,
         "end": 382638,
         "speaker": null,
         "start": 382484,
         "text": "these"
        },
        {
         "confidence": 0.99897,
         "end": 383062,
         "speaker": null,
         "start": 382664,
         "text": "functions"
        },
        {
         "confidence": 0.63035,
         "end": 383238,
         "speaker": null,
         "start": 383086,
         "text": "are"
        },
        {
         "confidence": 0.99923,
         "end": 383418,
         "speaker": null,
         "start": 383264,
         "text": "where"
        },
        {
         "confidence": 0.98983,
         "end": 383562,
         "speaker": null,
         "start": 383444,
         "text": "that"
        },
        {
         "confidence": 0.99168,
         "end": 383754,
         "speaker": null,
         "start": 383576,
         "text": "really"
        },
        {
         "confidence": 0.98322,
         "end": 384190,
         "speaker": null,
         "start": 383792,
         "text": "begins."
        },
        {
         "confidence": 1,
         "end": 384402,
         "speaker": null,
         "start": 384250,
         "text": "At"
        },
        {
         "confidence": 0.99884,
         "end": 384558,
         "speaker": null,
         "start": 384416,
         "text": "this"
        },
        {
         "confidence": 1,
         "end": 384738,
         "speaker": null,
         "start": 384584,
         "text": "point,"
        },
        {
         "confidence": 1,
         "end": 384882,
         "speaker": null,
         "start": 384764,
         "text": "you"
        },
        {
         "confidence": 0.997,
         "end": 385002,
         "speaker": null,
         "start": 384896,
         "text": "have"
        },
        {
         "confidence": 0.99,
         "end": 385122,
         "speaker": null,
         "start": 385016,
         "text": "a"
        },
        {
         "confidence": 0.99878,
         "end": 385242,
         "speaker": null,
         "start": 385136,
         "text": "pretty"
        },
        {
         "confidence": 0.9998,
         "end": 385434,
         "speaker": null,
         "start": 385256,
         "text": "good"
        },
        {
         "confidence": 0.99985,
         "end": 385942,
         "speaker": null,
         "start": 385472,
         "text": "understanding"
        },
        {
         "confidence": 1,
         "end": 386082,
         "speaker": null,
         "start": 385966,
         "text": "of"
        },
        {
         "confidence": 1,
         "end": 386202,
         "speaker": null,
         "start": 386096,
         "text": "the"
        },
        {
         "confidence": 0.99829,
         "end": 386394,
         "speaker": null,
         "start": 386216,
         "text": "key"
        },
        {
         "confidence": 0.99952,
         "end": 386670,
         "speaker": null,
         "start": 386432,
         "text": "building"
        },
        {
         "confidence": 0.98821,
         "end": 386962,
         "speaker": null,
         "start": 386720,
         "text": "blocks"
        },
        {
         "confidence": 0.98,
         "end": 387102,
         "speaker": null,
         "start": 386986,
         "text": "of"
        },
        {
         "confidence": 0.99645,
         "end": 387694,
         "speaker": null,
         "start": 387116,
         "text": "Python."
        },
        {
         "confidence": 1,
         "end": 388002,
         "speaker": null,
         "start": 387802,
         "text": "You"
        },
        {
         "confidence": 0.99856,
         "end": 388158,
         "speaker": null,
         "start": 388016,
         "text": "should"
        },
        {
         "confidence": 0.99,
         "end": 388374,
         "speaker": null,
         "start": 388184,
         "text": "now"
        },
        {
         "confidence": 0.99927,
         "end": 388614,
         "speaker": null,
         "start": 388412,
         "text": "learn"
        },
        {
         "confidence": 0.98,
         "end": 388782,
         "speaker": null,
         "start": 388652,
         "text": "a"
        },
        {
         "confidence": 0.99936,
         "end": 388938,
         "speaker": null,
         "start": 388796,
         "text": "bit"
        },
        {
         "confidence": 1,
         "end": 389190,
         "speaker": null,
         "start": 388964,
         "text": "more"
        },
        {
         "confidence": 0.9994,
         "end": 389454,
         "speaker": null,
         "start": 389240,
         "text": "about"
        },
        {
         "confidence": 0.99621,
         "end": 389694,
         "speaker": null,
         "start": 389492,
         "text": "how"
        },
        {
         "confidence": 0.99908,
         "end": 389898,
         "speaker": null,
         "start": 389732,
         "text": "some"
        },
        {
         "confidence": 0.99,
         "end": 390006,
         "speaker": null,
         "start": 389924,
         "text": "of"
        },
        {
         "confidence": 0.99,
         "end": 390138,
         "speaker": null,
         "start": 390008,
         "text": "the"
        },
        {
         "confidence": 0.76973,
         "end": 390454,
         "speaker": null,
         "start": 390164,
         "text": "basic"
        },
        {
         "confidence": 0.998,
         "end": 390750,
         "speaker": null,
         "start": 390502,
         "text": "data"
        },
        {
         "confidence": 0.67145,
         "end": 391174,
         "speaker": null,
         "start": 390800,
         "text": "structures"
        },
        {
         "confidence": 0.99893,
         "end": 391470,
         "speaker": null,
         "start": 391222,
         "text": "work."
        },
        {
         "confidence": 1,
         "end": 391698,
         "speaker": null,
         "start": 391520,
         "text": "I"
        },
        {
         "confidence": 0.99976,
         "end": 392022,
         "speaker": null,
         "start": 391724,
         "text": "recommend"
        },
        {
         "confidence": 0.99988,
         "end": 392298,
         "speaker": null,
         "start": 392096,
         "text": "taking"
        },
        {
         "confidence": 1,
         "end": 392406,
         "speaker": null,
         "start": 392324,
         "text": "a"
        },
        {
         "confidence": 0.83913,
         "end": 392602,
         "speaker": null,
         "start": 392408,
         "text": "deeper"
        },
        {
         "confidence": 0.99643,
         "end": 392806,
         "speaker": null,
         "start": 392626,
         "text": "dive"
        },
        {
         "confidence": 0.99806,
         "end": 392994,
         "speaker": null,
         "start": 392818,
         "text": "into"
        },
        {
         "confidence": 0.81589,
         "end": 393394,
         "speaker": null,
         "start": 393032,
         "text": "Lists,"
        },
        {
         "confidence": 0.98574,
         "end": 394066,
         "speaker": null,
         "start": 393442,
         "text": "Dictionaries,"
        },
        {
         "confidence": 0.99882,
         "end": 394338,
         "speaker": null,
         "start": 394138,
         "text": "as"
        },
        {
         "confidence": 0.99942,
         "end": 394482,
         "speaker": null,
         "start": 394364,
         "text": "well"
        },
        {
         "confidence": 0.99866,
         "end": 394602,
         "speaker": null,
         "start": 394496,
         "text": "as"
        },
        {
         "confidence": 0.76369,
         "end": 395014,
         "speaker": null,
         "start": 394616,
         "text": "Tuples."
        },
        {
         "confidence": 0.99825,
         "end": 395202,
         "speaker": null,
         "start": 395062,
         "text": "This"
        },
        {
         "confidence": 0.95847,
         "end": 395322,
         "speaker": null,
         "start": 395216,
         "text": "will"
        },
        {
         "confidence": 0.99986,
         "end": 395478,
         "speaker": null,
         "start": 395336,
         "text": "set"
        },
        {
         "confidence": 0.99,
         "end": 395622,
         "speaker": null,
         "start": 395504,
         "text": "the"
        },
        {
         "confidence": 0.99587,
         "end": 395974,
         "speaker": null,
         "start": 395636,
         "text": "foundation"
        },
        {
         "confidence": 0.99862,
         "end": 396162,
         "speaker": null,
         "start": 396022,
         "text": "for"
        },
        {
         "confidence": 0.99517,
         "end": 396318,
         "speaker": null,
         "start": 396176,
         "text": "much"
        },
        {
         "confidence": 1,
         "end": 396462,
         "speaker": null,
         "start": 396344,
         "text": "of"
        },
        {
         "confidence": 1,
         "end": 396582,
         "speaker": null,
         "start": 396476,
         "text": "your"
        },
        {
         "confidence": 0.98925,
         "end": 396774,
         "speaker": null,
         "start": 396596,
         "text": "data"
        },
        {
         "confidence": 0.94623,
         "end": 397014,
         "speaker": null,
         "start": 396812,
         "text": "work"
        },
        {
         "confidence": 0.99914,
         "end": 397254,
         "speaker": null,
         "start": 397052,
         "text": "later"
        },
        {
         "confidence": 0.99593,
         "end": 397782,
         "speaker": null,
         "start": 397292,
         "text": "on."
        },
        {
         "confidence": 0.99416,
         "end": 398286,
         "speaker": null,
         "start": 397916,
         "text": "Finally,"
        },
        {
         "confidence": 1,
         "end": 398502,
         "speaker": null,
         "start": 398348,
         "text": "you"
        },
        {
         "confidence": 0.8584,
         "end": 398658,
         "speaker": null,
         "start": 398516,
         "text": "should"
        },
        {
         "confidence": 0.99457,
         "end": 398874,
         "speaker": null,
         "start": 398684,
         "text": "start"
        },
        {
         "confidence": 0.99979,
         "end": 399186,
         "speaker": null,
         "start": 398912,
         "text": "learning"
        },
        {
         "confidence": 1,
         "end": 399438,
         "speaker": null,
         "start": 399248,
         "text": "to"
        },
        {
         "confidence": 0.99972,
         "end": 399618,
         "speaker": null,
         "start": 399464,
         "text": "work"
        },
        {
         "confidence": 0.9996,
         "end": 399798,
         "speaker": null,
         "start": 399644,
         "text": "with"
        },
        {
         "confidence": 0.99828,
         "end": 400402,
         "speaker": null,
         "start": 399824,
         "text": "libraries."
        },
        {
         "confidence": 0.6648,
         "end": 400698,
         "speaker": null,
         "start": 400486,
         "text": "So"
        },
        {
         "confidence": 0.99,
         "end": 400878,
         "speaker": null,
         "start": 400724,
         "text": "the"
        },
        {
         "confidence": 0.99972,
         "end": 401058,
         "speaker": null,
         "start": 400904,
         "text": "most"
        },
        {
         "confidence": 0.99997,
         "end": 401310,
         "speaker": null,
         "start": 401084,
         "text": "important"
        },
        {
         "confidence": 1,
         "end": 401574,
         "speaker": null,
         "start": 401360,
         "text": "ones"
        },
        {
         "confidence": 0.9986,
         "end": 401778,
         "speaker": null,
         "start": 401612,
         "text": "for"
        },
        {
         "confidence": 0.99889,
         "end": 402030,
         "speaker": null,
         "start": 401804,
         "text": "data"
        },
        {
         "confidence": 0.99288,
         "end": 402258,
         "speaker": null,
         "start": 402080,
         "text": "are"
        },
        {
         "confidence": 0.82603,
         "end": 402694,
         "speaker": null,
         "start": 402284,
         "text": "Pandas,"
        },
        {
         "confidence": 0.96727,
         "end": 403138,
         "speaker": null,
         "start": 402742,
         "text": "NumPy,"
        },
        {
         "confidence": 0.53288,
         "end": 403738,
         "speaker": null,
         "start": 403174,
         "text": "ScikitLearn,"
        },
        {
         "confidence": 0.98,
         "end": 403902,
         "speaker": null,
         "start": 403774,
         "text": "and"
        },
        {
         "confidence": 0.18115,
         "end": 404662,
         "speaker": null,
         "start": 403916,
         "text": "Matplotlib,"
        },
        {
         "confidence": 0.78,
         "end": 404958,
         "speaker": null,
         "start": 404746,
         "text": "and"
        },
        {
         "confidence": 0.75367,
         "end": 405174,
         "speaker": null,
         "start": 404984,
         "text": "these"
        },
        {
         "confidence": 0.99615,
         "end": 405378,
         "speaker": null,
         "start": 405212,
         "text": "give"
        },
        {
         "confidence": 1,
         "end": 405594,
         "speaker": null,
         "start": 405404,
         "text": "you"
        },
        {
         "confidence": 0.99987,
         "end": 405970,
         "speaker": null,
         "start": 405632,
         "text": "additional"
        },
        {
         "confidence": 0.58955,
         "end": 406282,
         "speaker": null,
         "start": 406030,
         "text": "tools"
        },
        {
         "confidence": 1,
         "end": 406458,
         "speaker": null,
         "start": 406306,
         "text": "to"
        },
        {
         "confidence": 0.6885,
         "end": 407062,
         "speaker": null,
         "start": 406484,
         "text": "analyze,"
        },
        {
         "confidence": 0.99222,
         "end": 407674,
         "speaker": null,
         "start": 407146,
         "text": "visualize"
        },
        {
         "confidence": 0.65,
         "end": 407898,
         "speaker": null,
         "start": 407722,
         "text": "and"
        },
        {
         "confidence": 0.40861,
         "end": 408418,
         "speaker": null,
         "start": 407924,
         "text": "manipulate"
        },
        {
         "confidence": 0.98959,
         "end": 408762,
         "speaker": null,
         "start": 408454,
         "text": "data."
        },
        {
         "confidence": 0.94655,
         "end": 409222,
         "speaker": null,
         "start": 408836,
         "text": "Pandas"
        },
        {
         "confidence": 0.98,
         "end": 409326,
         "speaker": null,
         "start": 409246,
         "text": "and"
        },
        {
         "confidence": 0.07097,
         "end": 409750,
         "speaker": null,
         "start": 409328,
         "text": "Numpire"
        },
        {
         "confidence": 0.99307,
         "end": 410034,
         "speaker": null,
         "start": 409810,
         "text": "also"
        },
        {
         "confidence": 0.67966,
         "end": 410422,
         "speaker": null,
         "start": 410072,
         "text": "introduced"
        },
        {
         "confidence": 0.99782,
         "end": 410598,
         "speaker": null,
         "start": 410446,
         "text": "some"
        },
        {
         "confidence": 1,
         "end": 410742,
         "speaker": null,
         "start": 410624,
         "text": "new"
        },
        {
         "confidence": 0.99975,
         "end": 410934,
         "speaker": null,
         "start": 410756,
         "text": "data"
        },
        {
         "confidence": 0.9967,
         "end": 411334,
         "speaker": null,
         "start": 410972,
         "text": "structures,"
        },
        {
         "confidence": 0.99762,
         "end": 411522,
         "speaker": null,
         "start": 411382,
         "text": "like"
        },
        {
         "confidence": 0.62183,
         "end": 411874,
         "speaker": null,
         "start": 411536,
         "text": "arrays,"
        },
        {
         "confidence": 0.96482,
         "end": 412258,
         "speaker": null,
         "start": 411922,
         "text": "series,"
        },
        {
         "confidence": 0.98,
         "end": 412386,
         "speaker": null,
         "start": 412294,
         "text": "and"
        },
        {
         "confidence": 0.67446,
         "end": 412554,
         "speaker": null,
         "start": 412388,
         "text": "data"
        },
        {
         "confidence": 0.76433,
         "end": 412930,
         "speaker": null,
         "start": 412592,
         "text": "frames."
        },
        {
         "confidence": 0.91165,
         "end": 413142,
         "speaker": null,
         "start": 412990,
         "text": "So"
        },
        {
         "confidence": 0.99766,
         "end": 413262,
         "speaker": null,
         "start": 413156,
         "text": "if"
        },
        {
         "confidence": 1,
         "end": 413346,
         "speaker": null,
         "start": 413276,
         "text": "you"
        },
        {
         "confidence": 0.61704,
         "end": 413478,
         "speaker": null,
         "start": 413348,
         "text": "have"
        },
        {
         "confidence": 0.99744,
         "end": 413622,
         "speaker": null,
         "start": 413504,
         "text": "an"
        },
        {
         "confidence": 0.96615,
         "end": 414154,
         "speaker": null,
         "start": 413636,
         "text": "understanding"
        },
        {
         "confidence": 1,
         "end": 414342,
         "speaker": null,
         "start": 414202,
         "text": "of"
        },
        {
         "confidence": 0.9993,
         "end": 414462,
         "speaker": null,
         "start": 414356,
         "text": "how"
        },
        {
         "confidence": 0.97,
         "end": 414582,
         "speaker": null,
         "start": 414476,
         "text": "the"
        },
        {
         "confidence": 1,
         "end": 414702,
         "speaker": null,
         "start": 414596,
         "text": "more"
        },
        {
         "confidence": 0.94274,
         "end": 414958,
         "speaker": null,
         "start": 414716,
         "text": "basic"
        },
        {
         "confidence": 0.99948,
         "end": 415194,
         "speaker": null,
         "start": 414994,
         "text": "data"
        },
        {
         "confidence": 0.97019,
         "end": 415558,
         "speaker": null,
         "start": 415232,
         "text": "structures"
        },
        {
         "confidence": 0.99383,
         "end": 415758,
         "speaker": null,
         "start": 415594,
         "text": "work"
        },
        {
         "confidence": 0.94861,
         "end": 415866,
         "speaker": null,
         "start": 415784,
         "text": "in"
        },
        {
         "confidence": 0.68005,
         "end": 416362,
         "speaker": null,
         "start": 415868,
         "text": "Python,"
        },
        {
         "confidence": 1,
         "end": 416622,
         "speaker": null,
         "start": 416446,
         "text": "you"
        },
        {
         "confidence": 0.54644,
         "end": 416778,
         "speaker": null,
         "start": 416636,
         "text": "should"
        },
        {
         "confidence": 0.99957,
         "end": 416922,
         "speaker": null,
         "start": 416804,
         "text": "be"
        },
        {
         "confidence": 0.99984,
         "end": 417078,
         "speaker": null,
         "start": 416936,
         "text": "able"
        },
        {
         "confidence": 1,
         "end": 417186,
         "speaker": null,
         "start": 417104,
         "text": "to"
        },
        {
         "confidence": 0.99924,
         "end": 417318,
         "speaker": null,
         "start": 417188,
         "text": "pick"
        },
        {
         "confidence": 0.99554,
         "end": 417534,
         "speaker": null,
         "start": 417344,
         "text": "these"
        },
        {
         "confidence": 0.99925,
         "end": 417810,
         "speaker": null,
         "start": 417572,
         "text": "up"
        },
        {
         "confidence": 0.97179,
         "end": 418378,
         "speaker": null,
         "start": 417860,
         "text": "relatively"
        },
        {
         "confidence": 0.99939,
         "end": 418758,
         "speaker": null,
         "start": 418414,
         "text": "quickly."
        },
        {
         "confidence": 0.88,
         "end": 419058,
         "speaker": null,
         "start": 418844,
         "text": "And"
        },
        {
         "confidence": 0.97417,
         "end": 419242,
         "speaker": null,
         "start": 419084,
         "text": "that's"
        },
        {
         "confidence": 0.99,
         "end": 419526,
         "speaker": null,
         "start": 419266,
         "text": "it."
        },
        {
         "confidence": 0.99304,
         "end": 419778,
         "speaker": null,
         "start": 419588,
         "text": "With"
        },
        {
         "confidence": 0.99918,
         "end": 419994,
         "speaker": null,
         "start": 419804,
         "text": "those"
        },
        {
         "confidence": 1,
         "end": 420270,
         "speaker": null,
         "start": 420032,
         "text": "seven"
        },
        {
         "confidence": 0.99903,
         "end": 420606,
         "speaker": null,
         "start": 420320,
         "text": "things,"
        },
        {
         "confidence": 1,
         "end": 420822,
         "speaker": null,
         "start": 420668,
         "text": "you"
        },
        {
         "confidence": 0.99871,
         "end": 420942,
         "speaker": null,
         "start": 420836,
         "text": "have"
        },
        {
         "confidence": 1,
         "end": 421098,
         "speaker": null,
         "start": 420956,
         "text": "the"
        },
        {
         "confidence": 0.99484,
         "end": 421378,
         "speaker": null,
         "start": 421124,
         "text": "basics"
        },
        {
         "confidence": 1,
         "end": 421578,
         "speaker": null,
         "start": 421414,
         "text": "of"
        },
        {
         "confidence": 0.99231,
         "end": 421990,
         "speaker": null,
         "start": 421604,
         "text": "coding"
        },
        {
         "confidence": 0.99401,
         "end": 422238,
         "speaker": null,
         "start": 422050,
         "text": "that"
        },
        {
         "confidence": 0.96097,
         "end": 422422,
         "speaker": null,
         "start": 422264,
         "text": "you'll"
        },
        {
         "confidence": 0.99993,
         "end": 422634,
         "speaker": null,
         "start": 422446,
         "text": "need"
        },
        {
         "confidence": 0.9924,
         "end": 422946,
         "speaker": null,
         "start": 422672,
         "text": "for"
        },
        {
         "confidence": 0.99838,
         "end": 423234,
         "speaker": null,
         "start": 423008,
         "text": "starting"
        },
        {
         "confidence": 1,
         "end": 423438,
         "speaker": null,
         "start": 423272,
         "text": "to"
        },
        {
         "confidence": 0.9994,
         "end": 423654,
         "speaker": null,
         "start": 423464,
         "text": "work"
        },
        {
         "confidence": 0.99923,
         "end": 423858,
         "speaker": null,
         "start": 423692,
         "text": "with"
        },
        {
         "confidence": 0.99918,
         "end": 424182,
         "speaker": null,
         "start": 423884,
         "text": "data."
        },
        {
         "confidence": 0.99933,
         "end": 424422,
         "speaker": null,
         "start": 424256,
         "text": "If"
        },
        {
         "confidence": 0.96705,
         "end": 424582,
         "speaker": null,
         "start": 424436,
         "text": "you're"
        },
        {
         "confidence": 0.99944,
         "end": 424794,
         "speaker": null,
         "start": 424606,
         "text": "watching"
        },
        {
         "confidence": 0.99825,
         "end": 424962,
         "speaker": null,
         "start": 424832,
         "text": "this"
        },
        {
         "confidence": 0.66,
         "end": 425046,
         "speaker": null,
         "start": 424976,
         "text": "and"
        },
        {
         "confidence": 0.68505,
         "end": 425146,
         "speaker": null,
         "start": 425048,
         "text": "you're"
        },
        {
         "confidence": 0.89,
         "end": 425226,
         "speaker": null,
         "start": 425158,
         "text": "a"
        },
        {
         "confidence": 0.78808,
         "end": 425458,
         "speaker": null,
         "start": 425228,
         "text": "software"
        },
        {
         "confidence": 0.99941,
         "end": 426022,
         "speaker": null,
         "start": 425494,
         "text": "engineer,"
        },
        {
         "confidence": 1,
         "end": 426318,
         "speaker": null,
         "start": 426106,
         "text": "you"
        },
        {
         "confidence": 0.99971,
         "end": 426534,
         "speaker": null,
         "start": 426344,
         "text": "probably"
        },
        {
         "confidence": 0.9995,
         "end": 426738,
         "speaker": null,
         "start": 426572,
         "text": "think"
        },
        {
         "confidence": 1,
         "end": 426882,
         "speaker": null,
         "start": 426764,
         "text": "I"
        },
        {
         "confidence": 0.99925,
         "end": 427074,
         "speaker": null,
         "start": 426896,
         "text": "left"
        },
        {
         "confidence": 0.99917,
         "end": 427350,
         "speaker": null,
         "start": 427112,
         "text": "something"
        },
        {
         "confidence": 0.99984,
         "end": 427722,
         "speaker": null,
         "start": 427400,
         "text": "important"
        },
        {
         "confidence": 0.68109,
         "end": 428106,
         "speaker": null,
         "start": 427796,
         "text": "out."
        },
        {
         "confidence": 0.99813,
         "end": 428358,
         "speaker": null,
         "start": 428168,
         "text": "What"
        },
        {
         "confidence": 0.83554,
         "end": 428542,
         "speaker": null,
         "start": 428384,
         "text": "I've"
        },
        {
         "confidence": 0.9878,
         "end": 428902,
         "speaker": null,
         "start": 428566,
         "text": "purposely"
        },
        {
         "confidence": 0.35702,
         "end": 429298,
         "speaker": null,
         "start": 428926,
         "text": "omitted"
        },
        {
         "confidence": 0.99544,
         "end": 429498,
         "speaker": null,
         "start": 429334,
         "text": "from"
        },
        {
         "confidence": 0.99718,
         "end": 429678,
         "speaker": null,
         "start": 429524,
         "text": "this"
        },
        {
         "confidence": 0.99983,
         "end": 430002,
         "speaker": null,
         "start": 429704,
         "text": "list"
        },
        {
         "confidence": 0.99899,
         "end": 430278,
         "speaker": null,
         "start": 430076,
         "text": "is"
        },
        {
         "confidence": 0.99801,
         "end": 430458,
         "speaker": null,
         "start": 430304,
         "text": "an"
        },
        {
         "confidence": 0.99898,
         "end": 430954,
         "speaker": null,
         "start": 430484,
         "text": "explanation"
        },
        {
         "confidence": 0.97,
         "end": 431214,
         "speaker": null,
         "start": 431002,
         "text": "of"
        },
        {
         "confidence": 0.99914,
         "end": 431710,
         "speaker": null,
         "start": 431252,
         "text": "classes."
        },
        {
         "confidence": 0.85379,
         "end": 431994,
         "speaker": null,
         "start": 431770,
         "text": "So"
        },
        {
         "confidence": 0.99843,
         "end": 432358,
         "speaker": null,
         "start": 432032,
         "text": "classes"
        },
        {
         "confidence": 0.99901,
         "end": 432522,
         "speaker": null,
         "start": 432394,
         "text": "are"
        },
        {
         "confidence": 0.95,
         "end": 432678,
         "speaker": null,
         "start": 432536,
         "text": "the"
        },
        {
         "confidence": 0.99712,
         "end": 433054,
         "speaker": null,
         "start": 432704,
         "text": "foundation"
        },
        {
         "confidence": 1,
         "end": 433314,
         "speaker": null,
         "start": 433102,
         "text": "of"
        },
        {
         "confidence": 0.99956,
         "end": 433590,
         "speaker": null,
         "start": 433352,
         "text": "object"
        },
        {
         "confidence": 0.5959,
         "end": 434158,
         "speaker": null,
         "start": 433640,
         "text": "oriented"
        },
        {
         "confidence": 0.99895,
         "end": 434782,
         "speaker": null,
         "start": 434194,
         "text": "programming,"
        },
        {
         "confidence": 0.78,
         "end": 435114,
         "speaker": null,
         "start": 434866,
         "text": "and"
        },
        {
         "confidence": 0.99991,
         "end": 435354,
         "speaker": null,
         "start": 435152,
         "text": "object"
        },
        {
         "confidence": 0.53913,
         "end": 435898,
         "speaker": null,
         "start": 435392,
         "text": "oriented"
        },
        {
         "confidence": 0.99916,
         "end": 436582,
         "speaker": null,
         "start": 435934,
         "text": "programming"
        },
        {
         "confidence": 0.99938,
         "end": 436878,
         "speaker": null,
         "start": 436666,
         "text": "is"
        },
        {
         "confidence": 1,
         "end": 437022,
         "speaker": null,
         "start": 436904,
         "text": "a"
        },
        {
         "confidence": 0.99906,
         "end": 437422,
         "speaker": null,
         "start": 437036,
         "text": "programming"
        },
        {
         "confidence": 0.99994,
         "end": 437634,
         "speaker": null,
         "start": 437446,
         "text": "model"
        },
        {
         "confidence": 0.99887,
         "end": 437838,
         "speaker": null,
         "start": 437672,
         "text": "that"
        },
        {
         "confidence": 0.72414,
         "end": 438358,
         "speaker": null,
         "start": 437864,
         "text": "organizes"
        },
        {
         "confidence": 0.99975,
         "end": 438594,
         "speaker": null,
         "start": 438394,
         "text": "code"
        },
        {
         "confidence": 0.99916,
         "end": 438870,
         "speaker": null,
         "start": 438632,
         "text": "around"
        },
        {
         "confidence": 0.9296,
         "end": 439414,
         "speaker": null,
         "start": 438920,
         "text": "objects"
        },
        {
         "confidence": 0.99992,
         "end": 439674,
         "speaker": null,
         "start": 439462,
         "text": "rather"
        },
        {
         "confidence": 0.99987,
         "end": 439914,
         "speaker": null,
         "start": 439712,
         "text": "than"
        },
        {
         "confidence": 0.71568,
         "end": 440398,
         "speaker": null,
         "start": 439952,
         "text": "functions"
        },
        {
         "confidence": 0.99743,
         "end": 440598,
         "speaker": null,
         "start": 440434,
         "text": "or"
        },
        {
         "confidence": 0.98468,
         "end": 441226,
         "speaker": null,
         "start": 440624,
         "text": "logic."
        },
        {
         "confidence": 0.73674,
         "end": 441726,
         "speaker": null,
         "start": 441358,
         "text": "Object"
        },
        {
         "confidence": 0.49172,
         "end": 442258,
         "speaker": null,
         "start": 441788,
         "text": "oriented"
        },
        {
         "confidence": 0.99915,
         "end": 442702,
         "speaker": null,
         "start": 442294,
         "text": "programming"
        },
        {
         "confidence": 0.97425,
         "end": 442878,
         "speaker": null,
         "start": 442726,
         "text": "is"
        },
        {
         "confidence": 0.56965,
         "end": 443254,
         "speaker": null,
         "start": 442904,
         "text": "incredibly"
        },
        {
         "confidence": 0.99988,
         "end": 443746,
         "speaker": null,
         "start": 443302,
         "text": "powerful,"
        },
        {
         "confidence": 0.99071,
         "end": 444018,
         "speaker": null,
         "start": 443818,
         "text": "but"
        },
        {
         "confidence": 0.9892,
         "end": 444394,
         "speaker": null,
         "start": 444044,
         "text": "honestly,"
        },
        {
         "confidence": 0.99,
         "end": 444582,
         "speaker": null,
         "start": 444442,
         "text": "it"
        },
        {
         "confidence": 0.90189,
         "end": 444838,
         "speaker": null,
         "start": 444596,
         "text": "isn't"
        },
        {
         "confidence": 0.99629,
         "end": 445074,
         "speaker": null,
         "start": 444874,
         "text": "very"
        },
        {
         "confidence": 0.46806,
         "end": 445474,
         "speaker": null,
         "start": 445112,
         "text": "relevant"
        },
        {
         "confidence": 0.99801,
         "end": 445662,
         "speaker": null,
         "start": 445522,
         "text": "for"
        },
        {
         "confidence": 0.99,
         "end": 445782,
         "speaker": null,
         "start": 445676,
         "text": "the"
        },
        {
         "confidence": 0.98058,
         "end": 446122,
         "speaker": null,
         "start": 445796,
         "text": "beginner"
        },
        {
         "confidence": 0.99455,
         "end": 446506,
         "speaker": null,
         "start": 446146,
         "text": "stages"
        },
        {
         "confidence": 1,
         "end": 446778,
         "speaker": null,
         "start": 446578,
         "text": "of"
        },
        {
         "confidence": 0.99963,
         "end": 446994,
         "speaker": null,
         "start": 446804,
         "text": "working"
        },
        {
         "confidence": 0.9992,
         "end": 447162,
         "speaker": null,
         "start": 447032,
         "text": "with"
        },
        {
         "confidence": 0.99565,
         "end": 447462,
         "speaker": null,
         "start": 447176,
         "text": "data."
        },
        {
         "confidence": 0.55,
         "end": 447738,
         "speaker": null,
         "start": 447536,
         "text": "It"
        },
        {
         "confidence": 0.98323,
         "end": 447954,
         "speaker": null,
         "start": 447764,
         "text": "is"
        },
        {
         "confidence": 0.99985,
         "end": 448194,
         "speaker": null,
         "start": 447992,
         "text": "something"
        },
        {
         "confidence": 1,
         "end": 448362,
         "speaker": null,
         "start": 448232,
         "text": "you"
        },
        {
         "confidence": 0.84765,
         "end": 448554,
         "speaker": null,
         "start": 448376,
         "text": "should"
        },
        {
         "confidence": 0.99846,
         "end": 448974,
         "speaker": null,
         "start": 448592,
         "text": "absolutely"
        },
        {
         "confidence": 0.99858,
         "end": 449458,
         "speaker": null,
         "start": 449072,
         "text": "explore"
        },
        {
         "confidence": 0.95657,
         "end": 449622,
         "speaker": null,
         "start": 449494,
         "text": "on"
        },
        {
         "confidence": 1,
         "end": 449742,
         "speaker": null,
         "start": 449636,
         "text": "your"
        },
        {
         "confidence": 0.99967,
         "end": 450114,
         "speaker": null,
         "start": 449756,
         "text": "own"
        },
        {
         "confidence": 0.64533,
         "end": 450510,
         "speaker": null,
         "start": 450212,
         "text": "after"
        },
        {
         "confidence": 0.84551,
         "end": 450778,
         "speaker": null,
         "start": 450560,
         "text": "you've"
        },
        {
         "confidence": 0.94096,
         "end": 451114,
         "speaker": null,
         "start": 450814,
         "text": "learned"
        },
        {
         "confidence": 0.99287,
         "end": 451410,
         "speaker": null,
         "start": 451162,
         "text": "these"
        },
        {
         "confidence": 0.9986,
         "end": 451674,
         "speaker": null,
         "start": 451460,
         "text": "other"
        },
        {
         "confidence": 0.91307,
         "end": 452134,
         "speaker": null,
         "start": 451712,
         "text": "concepts."
        },
        {
         "confidence": 0.95147,
         "end": 452466,
         "speaker": null,
         "start": 452182,
         "text": "Well,"
        },
        {
         "confidence": 0.99964,
         "end": 452682,
         "speaker": null,
         "start": 452528,
         "text": "in"
        },
        {
         "confidence": 1,
         "end": 452802,
         "speaker": null,
         "start": 452696,
         "text": "the"
        },
        {
         "confidence": 0.99,
         "end": 453214,
         "speaker": null,
         "start": 452816,
         "text": "description,"
        },
        {
         "confidence": 0.95224,
         "end": 453502,
         "speaker": null,
         "start": 453262,
         "text": "I've"
        },
        {
         "confidence": 0.99886,
         "end": 453742,
         "speaker": null,
         "start": 453526,
         "text": "linked"
        },
        {
         "confidence": 1,
         "end": 453846,
         "speaker": null,
         "start": 453766,
         "text": "a"
        },
        {
         "confidence": 0.62317,
         "end": 454014,
         "speaker": null,
         "start": 453848,
         "text": "few"
        },
        {
         "confidence": 0.99499,
         "end": 454254,
         "speaker": null,
         "start": 454052,
         "text": "great"
        },
        {
         "confidence": 0.99861,
         "end": 454798,
         "speaker": null,
         "start": 454292,
         "text": "resources"
        },
        {
         "confidence": 0.99913,
         "end": 454998,
         "speaker": null,
         "start": 454834,
         "text": "for"
        },
        {
         "confidence": 0.99936,
         "end": 455286,
         "speaker": null,
         "start": 455024,
         "text": "learning"
        },
        {
         "confidence": 0.99831,
         "end": 455538,
         "speaker": null,
         "start": 455348,
         "text": "all"
        },
        {
         "confidence": 0.96,
         "end": 455646,
         "speaker": null,
         "start": 455564,
         "text": "of"
        },
        {
         "confidence": 0.99,
         "end": 455778,
         "speaker": null,
         "start": 455648,
         "text": "the"
        },
        {
         "confidence": 0.5694,
         "end": 456358,
         "speaker": null,
         "start": 455804,
         "text": "concepts,"
        },
        {
         "confidence": 0.99971,
         "end": 457018,
         "speaker": null,
         "start": 456454,
         "text": "including"
        },
        {
         "confidence": 1,
         "end": 457218,
         "speaker": null,
         "start": 457054,
         "text": "the"
        },
        {
         "confidence": 0.99932,
         "end": 457542,
         "speaker": null,
         "start": 457244,
         "text": "exact"
        },
        {
         "confidence": 1,
         "end": 457818,
         "speaker": null,
         "start": 457616,
         "text": "one"
        },
        {
         "confidence": 0.9967,
         "end": 457998,
         "speaker": null,
         "start": 457844,
         "text": "from"
        },
        {
         "confidence": 0.98581,
         "end": 458214,
         "speaker": null,
         "start": 458024,
         "text": "Free"
        },
        {
         "confidence": 0.97993,
         "end": 458418,
         "speaker": null,
         "start": 458252,
         "text": "Code"
        },
        {
         "confidence": 0.40326,
         "end": 458742,
         "speaker": null,
         "start": 458444,
         "text": "Camp"
        },
        {
         "confidence": 0.99635,
         "end": 459018,
         "speaker": null,
         "start": 458816,
         "text": "that"
        },
        {
         "confidence": 1,
         "end": 459162,
         "speaker": null,
         "start": 459044,
         "text": "I"
        },
        {
         "confidence": 0.99647,
         "end": 459354,
         "speaker": null,
         "start": 459176,
         "text": "gave"
        },
        {
         "confidence": 0.99786,
         "end": 459522,
         "speaker": null,
         "start": 459392,
         "text": "my"
        },
        {
         "confidence": 0.98677,
         "end": 459858,
         "speaker": null,
         "start": 459536,
         "text": "friend."
        },
        {
         "confidence": 0.99987,
         "end": 460158,
         "speaker": null,
         "start": 459944,
         "text": "Most"
        },
        {
         "confidence": 1,
         "end": 460302,
         "speaker": null,
         "start": 460184,
         "text": "of"
        },
        {
         "confidence": 1,
         "end": 460458,
         "speaker": null,
         "start": 460316,
         "text": "them"
        },
        {
         "confidence": 0.99862,
         "end": 460638,
         "speaker": null,
         "start": 460484,
         "text": "are"
        },
        {
         "confidence": 0.99984,
         "end": 460998,
         "speaker": null,
         "start": 460664,
         "text": "completely"
        },
        {
         "confidence": 0.99997,
         "end": 461442,
         "speaker": null,
         "start": 461084,
         "text": "free,"
        },
        {
         "confidence": 0.99383,
         "end": 461718,
         "speaker": null,
         "start": 461516,
         "text": "but"
        },
        {
         "confidence": 1,
         "end": 461862,
         "speaker": null,
         "start": 461744,
         "text": "I"
        },
        {
         "confidence": 0.9929,
         "end": 462018,
         "speaker": null,
         "start": 461876,
         "text": "have"
        },
        {
         "confidence": 0.99868,
         "end": 462234,
         "speaker": null,
         "start": 462044,
         "text": "also"
        },
        {
         "confidence": 0.99825,
         "end": 462658,
         "speaker": null,
         "start": 462272,
         "text": "included"
        },
        {
         "confidence": 0.99892,
         "end": 462822,
         "speaker": null,
         "start": 462694,
         "text": "my"
        },
        {
         "confidence": 0.99956,
         "end": 463138,
         "speaker": null,
         "start": 462836,
         "text": "discount"
        },
        {
         "confidence": 0.99969,
         "end": 463374,
         "speaker": null,
         "start": 463174,
         "text": "link"
        },
        {
         "confidence": 0.99611,
         "end": 463542,
         "speaker": null,
         "start": 463412,
         "text": "for"
        },
        {
         "confidence": 1,
         "end": 463698,
         "speaker": null,
         "start": 463556,
         "text": "the"
        },
        {
         "confidence": 0.99986,
         "end": 463914,
         "speaker": null,
         "start": 463724,
         "text": "course"
        },
        {
         "confidence": 0.99644,
         "end": 464082,
         "speaker": null,
         "start": 463952,
         "text": "on"
        },
        {
         "confidence": 0.98,
         "end": 464718,
         "speaker": null,
         "start": 464096,
         "text": "365"
        },
        {
         "confidence": 0.9978,
         "end": 464934,
         "speaker": null,
         "start": 464744,
         "text": "Data"
        },
        {
         "confidence": 0.56158,
         "end": 465418,
         "speaker": null,
         "start": 464972,
         "text": "Science."
        },
        {
         "confidence": 0.84031,
         "end": 465774,
         "speaker": null,
         "start": 465514,
         "text": "So"
        },
        {
         "confidence": 0.9985,
         "end": 465942,
         "speaker": null,
         "start": 465812,
         "text": "if"
        },
        {
         "confidence": 0.95487,
         "end": 466102,
         "speaker": null,
         "start": 465956,
         "text": "you're"
        },
        {
         "confidence": 1,
         "end": 466314,
         "speaker": null,
         "start": 466126,
         "text": "looking"
        },
        {
         "confidence": 0.99971,
         "end": 466482,
         "speaker": null,
         "start": 466352,
         "text": "for"
        },
        {
         "confidence": 0.83,
         "end": 466602,
         "speaker": null,
         "start": 466496,
         "text": "a"
        },
        {
         "confidence": 0.58748,
         "end": 466930,
         "speaker": null,
         "start": 466616,
         "text": "resource"
        },
        {
         "confidence": 0.98421,
         "end": 467178,
         "speaker": null,
         "start": 466990,
         "text": "just"
        },
        {
         "confidence": 1,
         "end": 467322,
         "speaker": null,
         "start": 467204,
         "text": "to"
        },
        {
         "confidence": 0.99974,
         "end": 467478,
         "speaker": null,
         "start": 467336,
         "text": "take"
        },
        {
         "confidence": 1,
         "end": 467658,
         "speaker": null,
         "start": 467504,
         "text": "you"
        },
        {
         "confidence": 0.99,
         "end": 468018,
         "speaker": null,
         "start": 467684,
         "text": "past"
        },
        {
         "confidence": 0.99,
         "end": 468426,
         "speaker": null,
         "start": 468104,
         "text": "the"
        },
        {
         "confidence": 0.99,
         "end": 468678,
         "speaker": null,
         "start": 468488,
         "text": "more"
        },
        {
         "confidence": 0.98072,
         "end": 468958,
         "speaker": null,
         "start": 468704,
         "text": "basic"
        },
        {
         "confidence": 0.99848,
         "end": 469390,
         "speaker": null,
         "start": 468994,
         "text": "coding"
        },
        {
         "confidence": 1,
         "end": 469674,
         "speaker": null,
         "start": 469450,
         "text": "and"
        },
        {
         "confidence": 1,
         "end": 469878,
         "speaker": null,
         "start": 469712,
         "text": "more"
        },
        {
         "confidence": 0.99793,
         "end": 470094,
         "speaker": null,
         "start": 469904,
         "text": "towards"
        },
        {
         "confidence": 0.98919,
         "end": 470518,
         "speaker": null,
         "start": 470132,
         "text": "tangible"
        },
        {
         "confidence": 0.99269,
         "end": 470754,
         "speaker": null,
         "start": 470554,
         "text": "data"
        },
        {
         "confidence": 0.89521,
         "end": 471022,
         "speaker": null,
         "start": 470792,
         "text": "science"
        },
        {
         "confidence": 0.98988,
         "end": 471394,
         "speaker": null,
         "start": 471046,
         "text": "skills,"
        },
        {
         "confidence": 1,
         "end": 471582,
         "speaker": null,
         "start": 471442,
         "text": "I"
        },
        {
         "confidence": 0.99214,
         "end": 471738,
         "speaker": null,
         "start": 471596,
         "text": "would"
        },
        {
         "confidence": 0.99994,
         "end": 472026,
         "speaker": null,
         "start": 471764,
         "text": "recommend"
        },
        {
         "confidence": 0.99708,
         "end": 472342,
         "speaker": null,
         "start": 472088,
         "text": "checking"
        },
        {
         "confidence": 0.99003,
         "end": 472518,
         "speaker": null,
         "start": 472366,
         "text": "that"
        },
        {
         "confidence": 0.99962,
         "end": 472770,
         "speaker": null,
         "start": 472544,
         "text": "out."
        },
        {
         "confidence": 1,
         "end": 472998,
         "speaker": null,
         "start": 472820,
         "text": "One"
        },
        {
         "confidence": 0.63878,
         "end": 473178,
         "speaker": null,
         "start": 473024,
         "text": "thing"
        },
        {
         "confidence": 0.98723,
         "end": 473322,
         "speaker": null,
         "start": 473204,
         "text": "that"
        },
        {
         "confidence": 1,
         "end": 473442,
         "speaker": null,
         "start": 473336,
         "text": "I"
        },
        {
         "confidence": 0.99678,
         "end": 473706,
         "speaker": null,
         "start": 473456,
         "text": "love"
        },
        {
         "confidence": 0.99973,
         "end": 474030,
         "speaker": null,
         "start": 473768,
         "text": "about"
        },
        {
         "confidence": 0.99925,
         "end": 474258,
         "speaker": null,
         "start": 474080,
         "text": "many"
        },
        {
         "confidence": 1,
         "end": 474402,
         "speaker": null,
         "start": 474284,
         "text": "of"
        },
        {
         "confidence": 1,
         "end": 474522,
         "speaker": null,
         "start": 474416,
         "text": "the"
        },
        {
         "confidence": 0.99739,
         "end": 474802,
         "speaker": null,
         "start": 474536,
         "text": "courses"
        },
        {
         "confidence": 0.96061,
         "end": 474942,
         "speaker": null,
         "start": 474826,
         "text": "that"
        },
        {
         "confidence": 0.92644,
         "end": 475102,
         "speaker": null,
         "start": 474956,
         "text": "I've"
        },
        {
         "confidence": 0.99927,
         "end": 475618,
         "speaker": null,
         "start": 475126,
         "text": "linked"
        },
        {
         "confidence": 0.99928,
         "end": 475974,
         "speaker": null,
         "start": 475714,
         "text": "is"
        },
        {
         "confidence": 0.98428,
         "end": 476142,
         "speaker": null,
         "start": 476012,
         "text": "that"
        },
        {
         "confidence": 0.99734,
         "end": 476298,
         "speaker": null,
         "start": 476156,
         "text": "they"
        },
        {
         "confidence": 0.91593,
         "end": 476478,
         "speaker": null,
         "start": 476324,
         "text": "have"
        },
        {
         "confidence": 0.99806,
         "end": 476658,
         "speaker": null,
         "start": 476504,
         "text": "these"
        },
        {
         "confidence": 0.99893,
         "end": 476838,
         "speaker": null,
         "start": 476684,
         "text": "little"
        },
        {
         "confidence": 0.94515,
         "end": 477118,
         "speaker": null,
         "start": 476864,
         "text": "mini"
        },
        {
         "confidence": 0.89917,
         "end": 477538,
         "speaker": null,
         "start": 477154,
         "text": "projects"
        },
        {
         "confidence": 0.92918,
         "end": 477862,
         "speaker": null,
         "start": 477574,
         "text": "baked"
        },
        {
         "confidence": 0.9951,
         "end": 478038,
         "speaker": null,
         "start": 477886,
         "text": "into"
        },
        {
         "confidence": 0.99,
         "end": 478182,
         "speaker": null,
         "start": 478064,
         "text": "the"
        },
        {
         "confidence": 0.82633,
         "end": 478738,
         "speaker": null,
         "start": 478196,
         "text": "coursework."
        },
        {
         "confidence": 0.99,
         "end": 479022,
         "speaker": null,
         "start": 478834,
         "text": "I"
        },
        {
         "confidence": 0.99886,
         "end": 479214,
         "speaker": null,
         "start": 479036,
         "text": "think"
        },
        {
         "confidence": 0.99982,
         "end": 479526,
         "speaker": null,
         "start": 479252,
         "text": "project"
        },
        {
         "confidence": 0.94323,
         "end": 479886,
         "speaker": null,
         "start": 479588,
         "text": "based"
        },
        {
         "confidence": 0.85772,
         "end": 480174,
         "speaker": null,
         "start": 479948,
         "text": "learning"
        },
        {
         "confidence": 0.99443,
         "end": 480342,
         "speaker": null,
         "start": 480212,
         "text": "is"
        },
        {
         "confidence": 1,
         "end": 480534,
         "speaker": null,
         "start": 480356,
         "text": "the"
        },
        {
         "confidence": 0.99904,
         "end": 480810,
         "speaker": null,
         "start": 480572,
         "text": "single"
        },
        {
         "confidence": 0.99948,
         "end": 481074,
         "speaker": null,
         "start": 480860,
         "text": "most"
        },
        {
         "confidence": 0.99952,
         "end": 481498,
         "speaker": null,
         "start": 481112,
         "text": "effective"
        },
        {
         "confidence": 0.99947,
         "end": 481842,
         "speaker": null,
         "start": 481534,
         "text": "way"
        },
        {
         "confidence": 1,
         "end": 482082,
         "speaker": null,
         "start": 481916,
         "text": "to"
        },
        {
         "confidence": 0.99988,
         "end": 482274,
         "speaker": null,
         "start": 482096,
         "text": "learn"
        },
        {
         "confidence": 0.98909,
         "end": 482710,
         "speaker": null,
         "start": 482312,
         "text": "technical"
        },
        {
         "confidence": 0.89673,
         "end": 483358,
         "speaker": null,
         "start": 482770,
         "text": "concepts."
        },
        {
         "confidence": 0.99974,
         "end": 483786,
         "speaker": null,
         "start": 483454,
         "text": "After"
        },
        {
         "confidence": 1,
         "end": 484146,
         "speaker": null,
         "start": 483848,
         "text": "first"
        },
        {
         "confidence": 0.99825,
         "end": 484542,
         "speaker": null,
         "start": 484208,
         "text": "getting"
        },
        {
         "confidence": 1,
         "end": 484890,
         "speaker": null,
         "start": 484616,
         "text": "a"
        },
        {
         "confidence": 0.99855,
         "end": 485278,
         "speaker": null,
         "start": 484940,
         "text": "basic"
        },
        {
         "confidence": 0.79937,
         "end": 486058,
         "speaker": null,
         "start": 485314,
         "text": "foundation,"
        },
        {
         "confidence": 1,
         "end": 486534,
         "speaker": null,
         "start": 486214,
         "text": "I"
        },
        {
         "confidence": 0.99974,
         "end": 486898,
         "speaker": null,
         "start": 486572,
         "text": "highly"
        },
        {
         "confidence": 0.58756,
         "end": 487222,
         "speaker": null,
         "start": 486934,
         "text": "encourage"
        },
        {
         "confidence": 1,
         "end": 487362,
         "speaker": null,
         "start": 487246,
         "text": "you"
        },
        {
         "confidence": 0.52,
         "end": 487518,
         "speaker": null,
         "start": 487376,
         "text": "to"
        },
        {
         "confidence": 0.99912,
         "end": 487698,
         "speaker": null,
         "start": 487544,
         "text": "think"
        },
        {
         "confidence": 0.99926,
         "end": 488166,
         "speaker": null,
         "start": 487724,
         "text": "about"
        },
        {
         "confidence": 0.9999,
         "end": 488538,
         "speaker": null,
         "start": 488288,
         "text": "how"
        },
        {
         "confidence": 1,
         "end": 488682,
         "speaker": null,
         "start": 488564,
         "text": "you"
        },
        {
         "confidence": 0.99843,
         "end": 488838,
         "speaker": null,
         "start": 488696,
         "text": "can"
        },
        {
         "confidence": 0.99943,
         "end": 489054,
         "speaker": null,
         "start": 488864,
         "text": "use"
        },
        {
         "confidence": 0.99988,
         "end": 489330,
         "speaker": null,
         "start": 489092,
         "text": "code"
        },
        {
         "confidence": 1,
         "end": 489522,
         "speaker": null,
         "start": 489380,
         "text": "to"
        },
        {
         "confidence": 1,
         "end": 489714,
         "speaker": null,
         "start": 489536,
         "text": "build"
        },
        {
         "confidence": 0.99992,
         "end": 490134,
         "speaker": null,
         "start": 489752,
         "text": "things"
        },
        {
         "confidence": 0.99958,
         "end": 490458,
         "speaker": null,
         "start": 490232,
         "text": "that"
        },
        {
         "confidence": 0.99161,
         "end": 490638,
         "speaker": null,
         "start": 490484,
         "text": "would"
        },
        {
         "confidence": 0.99978,
         "end": 490818,
         "speaker": null,
         "start": 490664,
         "text": "be"
        },
        {
         "confidence": 0.991,
         "end": 491194,
         "speaker": null,
         "start": 490844,
         "text": "useful"
        },
        {
         "confidence": 1,
         "end": 491418,
         "speaker": null,
         "start": 491242,
         "text": "to"
        },
        {
         "confidence": 1,
         "end": 491742,
         "speaker": null,
         "start": 491444,
         "text": "you."
        },
        {
         "confidence": 0.76299,
         "end": 492018,
         "speaker": null,
         "start": 491816,
         "text": "So"
        },
        {
         "confidence": 0.98439,
         "end": 492198,
         "speaker": null,
         "start": 492044,
         "text": "for"
        },
        {
         "confidence": 0.99961,
         "end": 492378,
         "speaker": null,
         "start": 492224,
         "text": "my"
        },
        {
         "confidence": 0.99768,
         "end": 492630,
         "speaker": null,
         "start": 492404,
         "text": "friend,"
        },
        {
         "confidence": 1,
         "end": 492858,
         "speaker": null,
         "start": 492680,
         "text": "the"
        },
        {
         "confidence": 1,
         "end": 493074,
         "speaker": null,
         "start": 492884,
         "text": "first"
        },
        {
         "confidence": 0.99874,
         "end": 493386,
         "speaker": null,
         "start": 493112,
         "text": "project"
        },
        {
         "confidence": 0.98454,
         "end": 493642,
         "speaker": null,
         "start": 493448,
         "text": "I'm"
        },
        {
         "confidence": 0.99746,
         "end": 493818,
         "speaker": null,
         "start": 493666,
         "text": "having"
        },
        {
         "confidence": 0.74147,
         "end": 493998,
         "speaker": null,
         "start": 493844,
         "text": "him"
        },
        {
         "confidence": 0.99938,
         "end": 494358,
         "speaker": null,
         "start": 494024,
         "text": "do"
        },
        {
         "confidence": 0.99854,
         "end": 494694,
         "speaker": null,
         "start": 494444,
         "text": "is"
        },
        {
         "confidence": 0.9997,
         "end": 495006,
         "speaker": null,
         "start": 494732,
         "text": "create"
        },
        {
         "confidence": 0.88,
         "end": 495222,
         "speaker": null,
         "start": 495068,
         "text": "a"
        },
        {
         "confidence": 0.55746,
         "end": 495682,
         "speaker": null,
         "start": 495236,
         "text": "jujitsu"
        },
        {
         "confidence": 0.96065,
         "end": 495958,
         "speaker": null,
         "start": 495706,
         "text": "drill"
        },
        {
         "confidence": 0.84335,
         "end": 496654,
         "speaker": null,
         "start": 495994,
         "text": "randomizer"
        },
        {
         "confidence": 0.99884,
         "end": 496914,
         "speaker": null,
         "start": 496702,
         "text": "using"
        },
        {
         "confidence": 0.99252,
         "end": 497554,
         "speaker": null,
         "start": 496952,
         "text": "Python."
        },
        {
         "confidence": 0.74967,
         "end": 497862,
         "speaker": null,
         "start": 497662,
         "text": "So"
        },
        {
         "confidence": 0.85947,
         "end": 498018,
         "speaker": null,
         "start": 497876,
         "text": "for"
        },
        {
         "confidence": 0.99903,
         "end": 498270,
         "speaker": null,
         "start": 498044,
         "text": "training"
        },
        {
         "confidence": 0.99864,
         "end": 498642,
         "speaker": null,
         "start": 498320,
         "text": "anything,"
        },
        {
         "confidence": 0.90167,
         "end": 498922,
         "speaker": null,
         "start": 498716,
         "text": "it's"
        },
        {
         "confidence": 0.99962,
         "end": 499170,
         "speaker": null,
         "start": 498946,
         "text": "important"
        },
        {
         "confidence": 1,
         "end": 499362,
         "speaker": null,
         "start": 499220,
         "text": "to"
        },
        {
         "confidence": 0.62876,
         "end": 499762,
         "speaker": null,
         "start": 499376,
         "text": "reinforce"
        },
        {
         "confidence": 0.96,
         "end": 499938,
         "speaker": null,
         "start": 499786,
         "text": "your"
        },
        {
         "confidence": 0.99851,
         "end": 500446,
         "speaker": null,
         "start": 499964,
         "text": "skills."
        },
        {
         "confidence": 0.99603,
         "end": 500718,
         "speaker": null,
         "start": 500518,
         "text": "But"
        },
        {
         "confidence": 1,
         "end": 500862,
         "speaker": null,
         "start": 500744,
         "text": "it"
        },
        {
         "confidence": 0.99918,
         "end": 500982,
         "speaker": null,
         "start": 500876,
         "text": "can"
        },
        {
         "confidence": 0.99653,
         "end": 501138,
         "speaker": null,
         "start": 500996,
         "text": "get"
        },
        {
         "confidence": 0.50079,
         "end": 501574,
         "speaker": null,
         "start": 501164,
         "text": "boring"
        },
        {
         "confidence": 0.99822,
         "end": 501834,
         "speaker": null,
         "start": 501622,
         "text": "working"
        },
        {
         "confidence": 0.99416,
         "end": 502074,
         "speaker": null,
         "start": 501872,
         "text": "on"
        },
        {
         "confidence": 1,
         "end": 502242,
         "speaker": null,
         "start": 502112,
         "text": "the"
        },
        {
         "confidence": 0.99925,
         "end": 502434,
         "speaker": null,
         "start": 502256,
         "text": "same"
        },
        {
         "confidence": 0.81698,
         "end": 502798,
         "speaker": null,
         "start": 502472,
         "text": "basic"
        },
        {
         "confidence": 0.99468,
         "end": 503158,
         "speaker": null,
         "start": 502834,
         "text": "drills"
        },
        {
         "confidence": 0.9996,
         "end": 503358,
         "speaker": null,
         "start": 503194,
         "text": "every"
        },
        {
         "confidence": 0.86,
         "end": 503610,
         "speaker": null,
         "start": 503384,
         "text": "day."
        },
        {
         "confidence": 0.98602,
         "end": 503902,
         "speaker": null,
         "start": 503660,
         "text": "I'm"
        },
        {
         "confidence": 0.99941,
         "end": 504078,
         "speaker": null,
         "start": 503926,
         "text": "having"
        },
        {
         "confidence": 0.11,
         "end": 504222,
         "speaker": null,
         "start": 504104,
         "text": "to"
        },
        {
         "confidence": 0.99902,
         "end": 504378,
         "speaker": null,
         "start": 504236,
         "text": "make"
        },
        {
         "confidence": 1,
         "end": 504522,
         "speaker": null,
         "start": 504404,
         "text": "a"
        },
        {
         "confidence": 0.99988,
         "end": 504894,
         "speaker": null,
         "start": 504536,
         "text": "program"
        },
        {
         "confidence": 0.99845,
         "end": 505218,
         "speaker": null,
         "start": 504992,
         "text": "that"
        },
        {
         "confidence": 0.99814,
         "end": 505714,
         "speaker": null,
         "start": 505244,
         "text": "essentially"
        },
        {
         "confidence": 0.90784,
         "end": 506278,
         "speaker": null,
         "start": 505822,
         "text": "randomly"
        },
        {
         "confidence": 0.93366,
         "end": 506698,
         "speaker": null,
         "start": 506314,
         "text": "selects"
        },
        {
         "confidence": 1,
         "end": 506862,
         "speaker": null,
         "start": 506734,
         "text": "two"
        },
        {
         "confidence": 0.98,
         "end": 506982,
         "speaker": null,
         "start": 506876,
         "text": "to"
        },
        {
         "confidence": 0.76,
         "end": 507174,
         "speaker": null,
         "start": 506996,
         "text": "three"
        },
        {
         "confidence": 0.58808,
         "end": 507682,
         "speaker": null,
         "start": 507212,
         "text": "drills"
        },
        {
         "confidence": 0.9915,
         "end": 507978,
         "speaker": null,
         "start": 507766,
         "text": "that"
        },
        {
         "confidence": 0.99963,
         "end": 508122,
         "speaker": null,
         "start": 508004,
         "text": "we"
        },
        {
         "confidence": 0.99967,
         "end": 508278,
         "speaker": null,
         "start": 508136,
         "text": "should"
        },
        {
         "confidence": 0.99973,
         "end": 508422,
         "speaker": null,
         "start": 508304,
         "text": "work"
        },
        {
         "confidence": 0.99811,
         "end": 508578,
         "speaker": null,
         "start": 508436,
         "text": "on"
        },
        {
         "confidence": 0.99961,
         "end": 508794,
         "speaker": null,
         "start": 508604,
         "text": "during"
        },
        {
         "confidence": 0.99831,
         "end": 508962,
         "speaker": null,
         "start": 508832,
         "text": "our"
        },
        {
         "confidence": 0.99738,
         "end": 509422,
         "speaker": null,
         "start": 508976,
         "text": "sessions"
        },
        {
         "confidence": 0.99957,
         "end": 509718,
         "speaker": null,
         "start": 509506,
         "text": "from"
        },
        {
         "confidence": 1,
         "end": 509862,
         "speaker": null,
         "start": 509744,
         "text": "a"
        },
        {
         "confidence": 0.99827,
         "end": 510238,
         "speaker": null,
         "start": 509876,
         "text": "larger"
        },
        {
         "confidence": 0.99969,
         "end": 510618,
         "speaker": null,
         "start": 510274,
         "text": "list."
        },
        {
         "confidence": 0.99551,
         "end": 510918,
         "speaker": null,
         "start": 510704,
         "text": "This"
        },
        {
         "confidence": 0.99199,
         "end": 511062,
         "speaker": null,
         "start": 510944,
         "text": "is"
        },
        {
         "confidence": 1,
         "end": 511182,
         "speaker": null,
         "start": 511076,
         "text": "a"
        },
        {
         "confidence": 0.99943,
         "end": 511374,
         "speaker": null,
         "start": 511196,
         "text": "simple"
        },
        {
         "confidence": 0.64476,
         "end": 511722,
         "speaker": null,
         "start": 511412,
         "text": "project,"
        },
        {
         "confidence": 0.99639,
         "end": 511962,
         "speaker": null,
         "start": 511796,
         "text": "but"
        },
        {
         "confidence": 0.93537,
         "end": 512122,
         "speaker": null,
         "start": 511976,
         "text": "it's"
        },
        {
         "confidence": 0.99976,
         "end": 512298,
         "speaker": null,
         "start": 512146,
         "text": "something"
        },
        {
         "confidence": 0.47118,
         "end": 512578,
         "speaker": null,
         "start": 512324,
         "text": "that's"
        },
        {
         "confidence": 0.99947,
         "end": 512998,
         "speaker": null,
         "start": 512614,
         "text": "directly"
        },
        {
         "confidence": 0.9999,
         "end": 513418,
         "speaker": null,
         "start": 513034,
         "text": "relevant"
        },
        {
         "confidence": 0.99,
         "end": 513618,
         "speaker": null,
         "start": 513454,
         "text": "and"
        },
        {
         "confidence": 0.99901,
         "end": 513934,
         "speaker": null,
         "start": 513644,
         "text": "useful"
        },
        {
         "confidence": 1,
         "end": 514158,
         "speaker": null,
         "start": 513982,
         "text": "to"
        },
        {
         "confidence": 0.99592,
         "end": 514338,
         "speaker": null,
         "start": 514184,
         "text": "our"
        },
        {
         "confidence": 0.99959,
         "end": 514518,
         "speaker": null,
         "start": 514364,
         "text": "work"
        },
        {
         "confidence": 0.62,
         "end": 514698,
         "speaker": null,
         "start": 514544,
         "text": "and"
        },
        {
         "confidence": 0.97972,
         "end": 514842,
         "speaker": null,
         "start": 514724,
         "text": "our"
        },
        {
         "confidence": 0.63237,
         "end": 515302,
         "speaker": null,
         "start": 514856,
         "text": "jujitsu"
        },
        {
         "confidence": 0.99902,
         "end": 515586,
         "speaker": null,
         "start": 515326,
         "text": "training."
        },
        {
         "confidence": 0.99757,
         "end": 515838,
         "speaker": null,
         "start": 515648,
         "text": "With"
        },
        {
         "confidence": 0.9987,
         "end": 515982,
         "speaker": null,
         "start": 515864,
         "text": "that"
        },
        {
         "confidence": 0.99707,
         "end": 516138,
         "speaker": null,
         "start": 515996,
         "text": "in"
        },
        {
         "confidence": 0.99986,
         "end": 516390,
         "speaker": null,
         "start": 516164,
         "text": "mind,"
        },
        {
         "confidence": 0.9506,
         "end": 516682,
         "speaker": null,
         "start": 516440,
         "text": "I'd"
        },
        {
         "confidence": 0.99991,
         "end": 516822,
         "speaker": null,
         "start": 516706,
         "text": "love"
        },
        {
         "confidence": 0.97668,
         "end": 516942,
         "speaker": null,
         "start": 516836,
         "text": "for"
        },
        {
         "confidence": 1,
         "end": 517062,
         "speaker": null,
         "start": 516956,
         "text": "you"
        },
        {
         "confidence": 1,
         "end": 517182,
         "speaker": null,
         "start": 517076,
         "text": "to"
        },
        {
         "confidence": 0.99917,
         "end": 517474,
         "speaker": null,
         "start": 517196,
         "text": "comment"
        },
        {
         "confidence": 0.99261,
         "end": 517734,
         "speaker": null,
         "start": 517522,
         "text": "below"
        },
        {
         "confidence": 0.99853,
         "end": 517902,
         "speaker": null,
         "start": 517772,
         "text": "with"
        },
        {
         "confidence": 0.99,
         "end": 518022,
         "speaker": null,
         "start": 517916,
         "text": "a"
        },
        {
         "confidence": 0.49123,
         "end": 518398,
         "speaker": null,
         "start": 518036,
         "text": "Python"
        },
        {
         "confidence": 0.99806,
         "end": 518814,
         "speaker": null,
         "start": 518434,
         "text": "project"
        },
        {
         "confidence": 0.99729,
         "end": 519102,
         "speaker": null,
         "start": 518912,
         "text": "that"
        },
        {
         "confidence": 0.82038,
         "end": 519322,
         "speaker": null,
         "start": 519116,
         "text": "you'd"
        },
        {
         "confidence": 0.9368,
         "end": 519534,
         "speaker": null,
         "start": 519346,
         "text": "like"
        },
        {
         "confidence": 1,
         "end": 519702,
         "speaker": null,
         "start": 519572,
         "text": "to"
        },
        {
         "confidence": 0.99896,
         "end": 520038,
         "speaker": null,
         "start": 519716,
         "text": "do,"
        },
        {
         "confidence": 0.98,
         "end": 520338,
         "speaker": null,
         "start": 520124,
         "text": "and"
        },
        {
         "confidence": 0.50224,
         "end": 520522,
         "speaker": null,
         "start": 520364,
         "text": "we'll"
        },
        {
         "confidence": 0.99484,
         "end": 520698,
         "speaker": null,
         "start": 520546,
         "text": "all"
        },
        {
         "confidence": 0.99981,
         "end": 520914,
         "speaker": null,
         "start": 520724,
         "text": "hold"
        },
        {
         "confidence": 0.99985,
         "end": 521082,
         "speaker": null,
         "start": 520952,
         "text": "each"
        },
        {
         "confidence": 0.99959,
         "end": 521238,
         "speaker": null,
         "start": 521096,
         "text": "other"
        },
        {
         "confidence": 0.77243,
         "end": 521854,
         "speaker": null,
         "start": 521264,
         "text": "accountable."
        },
        {
         "confidence": 0.87837,
         "end": 522378,
         "speaker": null,
         "start": 521962,
         "text": "Okay?"
        },
        {
         "confidence": 0.88067,
         "end": 522714,
         "speaker": null,
         "start": 522464,
         "text": "So"
        },
        {
         "confidence": 1,
         "end": 522882,
         "speaker": null,
         "start": 522752,
         "text": "now"
        },
        {
         "confidence": 0.99728,
         "end": 523002,
         "speaker": null,
         "start": 522896,
         "text": "that"
        },
        {
         "confidence": 0.57731,
         "end": 523162,
         "speaker": null,
         "start": 523016,
         "text": "you've"
        },
        {
         "confidence": 0.52233,
         "end": 523366,
         "speaker": null,
         "start": 523186,
         "text": "learned"
        },
        {
         "confidence": 1,
         "end": 523482,
         "speaker": null,
         "start": 523378,
         "text": "the"
        },
        {
         "confidence": 0.99795,
         "end": 523738,
         "speaker": null,
         "start": 523496,
         "text": "basics"
        },
        {
         "confidence": 0.99,
         "end": 523902,
         "speaker": null,
         "start": 523774,
         "text": "of"
        },
        {
         "confidence": 0.80377,
         "end": 524362,
         "speaker": null,
         "start": 523916,
         "text": "Python,"
        },
        {
         "confidence": 0.96,
         "end": 524658,
         "speaker": null,
         "start": 524446,
         "text": "now"
        },
        {
         "confidence": 0.99677,
         "end": 525162,
         "speaker": null,
         "start": 524684,
         "text": "what?"
        },
        {
         "confidence": 0.9629,
         "end": 525522,
         "speaker": null,
         "start": 525296,
         "text": "If"
        },
        {
         "confidence": 0.90302,
         "end": 525682,
         "speaker": null,
         "start": 525536,
         "text": "you're"
        },
        {
         "confidence": 0.91053,
         "end": 526002,
         "speaker": null,
         "start": 525706,
         "text": "interested"
        },
        {
         "confidence": 0.9979,
         "end": 526278,
         "speaker": null,
         "start": 526076,
         "text": "in"
        },
        {
         "confidence": 0.99943,
         "end": 526494,
         "speaker": null,
         "start": 526304,
         "text": "learning"
        },
        {
         "confidence": 1,
         "end": 526698,
         "speaker": null,
         "start": 526532,
         "text": "more"
        },
        {
         "confidence": 0.99965,
         "end": 526914,
         "speaker": null,
         "start": 526724,
         "text": "about"
        },
        {
         "confidence": 0.99786,
         "end": 527262,
         "speaker": null,
         "start": 526952,
         "text": "data,"
        },
        {
         "confidence": 1,
         "end": 527646,
         "speaker": null,
         "start": 527336,
         "text": "I"
        },
        {
         "confidence": 0.99913,
         "end": 527998,
         "speaker": null,
         "start": 527708,
         "text": "highly"
        },
        {
         "confidence": 0.54412,
         "end": 528378,
         "speaker": null,
         "start": 528034,
         "text": "recommend"
        },
        {
         "confidence": 0.98756,
         "end": 528642,
         "speaker": null,
         "start": 528464,
         "text": "that"
        },
        {
         "confidence": 0.64,
         "end": 528798,
         "speaker": null,
         "start": 528656,
         "text": "you"
        },
        {
         "confidence": 0.99919,
         "end": 528978,
         "speaker": null,
         "start": 528824,
         "text": "do"
        },
        {
         "confidence": 0.75,
         "end": 529122,
         "speaker": null,
         "start": 529004,
         "text": "a"
        },
        {
         "confidence": 0.47861,
         "end": 529750,
         "speaker": null,
         "start": 529136,
         "text": "datarelated"
        },
        {
         "confidence": 0.99953,
         "end": 530358,
         "speaker": null,
         "start": 529810,
         "text": "project."
        },
        {
         "confidence": 0.99,
         "end": 530814,
         "speaker": null,
         "start": 530504,
         "text": "The"
        },
        {
         "confidence": 0.99846,
         "end": 531090,
         "speaker": null,
         "start": 530852,
         "text": "single"
        },
        {
         "confidence": 0.99906,
         "end": 531318,
         "speaker": null,
         "start": 531140,
         "text": "best"
        },
        {
         "confidence": 1,
         "end": 531534,
         "speaker": null,
         "start": 531344,
         "text": "place"
        },
        {
         "confidence": 0.99666,
         "end": 531702,
         "speaker": null,
         "start": 531572,
         "text": "for"
        },
        {
         "confidence": 0.99782,
         "end": 531894,
         "speaker": null,
         "start": 531716,
         "text": "this"
        },
        {
         "confidence": 0.99676,
         "end": 532098,
         "speaker": null,
         "start": 531932,
         "text": "is"
        },
        {
         "confidence": 0.7,
         "end": 532902,
         "speaker": null,
         "start": 532124,
         "text": "Kaggle.com,"
        },
        {
         "confidence": 0.99816,
         "end": 533142,
         "speaker": null,
         "start": 532976,
         "text": "which"
        },
        {
         "confidence": 0.85047,
         "end": 533302,
         "speaker": null,
         "start": 533156,
         "text": "I've"
        },
        {
         "confidence": 0.99985,
         "end": 533550,
         "speaker": null,
         "start": 533326,
         "text": "mentioned"
        },
        {
         "confidence": 0.99997,
         "end": 534210,
         "speaker": null,
         "start": 533600,
         "text": "before."
        },
        {
         "confidence": 0.99874,
         "end": 534678,
         "speaker": null,
         "start": 534380,
         "text": "If"
        },
        {
         "confidence": 0.86286,
         "end": 534862,
         "speaker": null,
         "start": 534704,
         "text": "that's"
        },
        {
         "confidence": 0.99,
         "end": 534966,
         "speaker": null,
         "start": 534886,
         "text": "a"
        },
        {
         "confidence": 0.98412,
         "end": 535098,
         "speaker": null,
         "start": 534968,
         "text": "bit"
        },
        {
         "confidence": 0.99512,
         "end": 535278,
         "speaker": null,
         "start": 535124,
         "text": "too"
        },
        {
         "confidence": 0.99877,
         "end": 535846,
         "speaker": null,
         "start": 535304,
         "text": "intimidating,"
        },
        {
         "confidence": 1,
         "end": 536082,
         "speaker": null,
         "start": 535918,
         "text": "you"
        },
        {
         "confidence": 0.99861,
         "end": 536238,
         "speaker": null,
         "start": 536096,
         "text": "can"
        },
        {
         "confidence": 0.99995,
         "end": 536490,
         "speaker": null,
         "start": 536264,
         "text": "follow"
        },
        {
         "confidence": 0.99974,
         "end": 536754,
         "speaker": null,
         "start": 536540,
         "text": "along"
        },
        {
         "confidence": 0.72082,
         "end": 536958,
         "speaker": null,
         "start": 536792,
         "text": "on"
        },
        {
         "confidence": 0.99,
         "end": 537066,
         "speaker": null,
         "start": 536984,
         "text": "one"
        },
        {
         "confidence": 1,
         "end": 537126,
         "speaker": null,
         "start": 537068,
         "text": "of"
        },
        {
         "confidence": 0.98,
         "end": 537222,
         "speaker": null,
         "start": 537128,
         "text": "the"
        },
        {
         "confidence": 0.99502,
         "end": 537562,
         "speaker": null,
         "start": 537236,
         "text": "projects"
        },
        {
         "confidence": 0.94413,
         "end": 537702,
         "speaker": null,
         "start": 537586,
         "text": "that"
        },
        {
         "confidence": 0.67842,
         "end": 537922,
         "speaker": null,
         "start": 537716,
         "text": "I've"
        },
        {
         "confidence": 0.99951,
         "end": 538206,
         "speaker": null,
         "start": 537946,
         "text": "done"
        },
        {
         "confidence": 0.61296,
         "end": 538494,
         "speaker": null,
         "start": 538268,
         "text": "or"
        },
        {
         "confidence": 1,
         "end": 538662,
         "speaker": null,
         "start": 538532,
         "text": "one"
        },
        {
         "confidence": 1,
         "end": 538746,
         "speaker": null,
         "start": 538676,
         "text": "of"
        },
        {
         "confidence": 0.98,
         "end": 538878,
         "speaker": null,
         "start": 538748,
         "text": "the"
        },
        {
         "confidence": 0.9708,
         "end": 539266,
         "speaker": null,
         "start": 538904,
         "text": "thousands"
        },
        {
         "confidence": 1,
         "end": 539418,
         "speaker": null,
         "start": 539278,
         "text": "of"
        },
        {
         "confidence": 0.99653,
         "end": 539782,
         "speaker": null,
         "start": 539444,
         "text": "projects"
        },
        {
         "confidence": 0.99362,
         "end": 539994,
         "speaker": null,
         "start": 539806,
         "text": "that"
        },
        {
         "confidence": 0.99751,
         "end": 540198,
         "speaker": null,
         "start": 540032,
         "text": "other"
        },
        {
         "confidence": 0.99981,
         "end": 540414,
         "speaker": null,
         "start": 540224,
         "text": "people"
        },
        {
         "confidence": 0.99105,
         "end": 540618,
         "speaker": null,
         "start": 540452,
         "text": "have"
        },
        {
         "confidence": 0.99987,
         "end": 540834,
         "speaker": null,
         "start": 540644,
         "text": "worked"
        },
        {
         "confidence": 0.99771,
         "end": 541038,
         "speaker": null,
         "start": 540872,
         "text": "on"
        },
        {
         "confidence": 0.91073,
         "end": 541182,
         "speaker": null,
         "start": 541064,
         "text": "on"
        },
        {
         "confidence": 0.99,
         "end": 541302,
         "speaker": null,
         "start": 541196,
         "text": "the"
        },
        {
         "confidence": 0.87,
         "end": 541582,
         "speaker": null,
         "start": 541316,
         "text": "Kaggle"
        },
        {
         "confidence": 0.99939,
         "end": 542010,
         "speaker": null,
         "start": 541606,
         "text": "platform."
        },
        {
         "confidence": 0.83247,
         "end": 542974,
         "speaker": null,
         "start": 542120,
         "text": "Realistically,"
        },
        {
         "confidence": 0.99937,
         "end": 543390,
         "speaker": null,
         "start": 543082,
         "text": "many"
        },
        {
         "confidence": 0.99982,
         "end": 543690,
         "speaker": null,
         "start": 543440,
         "text": "people"
        },
        {
         "confidence": 0.99119,
         "end": 543922,
         "speaker": null,
         "start": 543740,
         "text": "lose"
        },
        {
         "confidence": 0.52419,
         "end": 544294,
         "speaker": null,
         "start": 543946,
         "text": "steam"
        },
        {
         "confidence": 1,
         "end": 544518,
         "speaker": null,
         "start": 544342,
         "text": "at"
        },
        {
         "confidence": 0.98646,
         "end": 544698,
         "speaker": null,
         "start": 544544,
         "text": "this"
        },
        {
         "confidence": 0.97287,
         "end": 545166,
         "speaker": null,
         "start": 544724,
         "text": "step."
        },
        {
         "confidence": 0.99938,
         "end": 545538,
         "speaker": null,
         "start": 545288,
         "text": "They"
        },
        {
         "confidence": 0.99847,
         "end": 545754,
         "speaker": null,
         "start": 545564,
         "text": "go"
        },
        {
         "confidence": 0.99934,
         "end": 545958,
         "speaker": null,
         "start": 545792,
         "text": "through"
        },
        {
         "confidence": 0.99,
         "end": 546102,
         "speaker": null,
         "start": 545984,
         "text": "and"
        },
        {
         "confidence": 0.99935,
         "end": 546222,
         "speaker": null,
         "start": 546116,
         "text": "see"
        },
        {
         "confidence": 1,
         "end": 546378,
         "speaker": null,
         "start": 546236,
         "text": "the"
        },
        {
         "confidence": 0.99829,
         "end": 546558,
         "speaker": null,
         "start": 546404,
         "text": "great"
        },
        {
         "confidence": 0.99873,
         "end": 546774,
         "speaker": null,
         "start": 546584,
         "text": "work"
        },
        {
         "confidence": 0.98627,
         "end": 546978,
         "speaker": null,
         "start": 546812,
         "text": "that"
        },
        {
         "confidence": 0.9976,
         "end": 547158,
         "speaker": null,
         "start": 547004,
         "text": "other"
        },
        {
         "confidence": 0.99995,
         "end": 547338,
         "speaker": null,
         "start": 547184,
         "text": "people"
        },
        {
         "confidence": 0.66996,
         "end": 547518,
         "speaker": null,
         "start": 547364,
         "text": "have"
        },
        {
         "confidence": 0.99715,
         "end": 547770,
         "speaker": null,
         "start": 547544,
         "text": "done,"
        },
        {
         "confidence": 0.99,
         "end": 547998,
         "speaker": null,
         "start": 547820,
         "text": "and"
        },
        {
         "confidence": 0.99574,
         "end": 548142,
         "speaker": null,
         "start": 548024,
         "text": "they"
        },
        {
         "confidence": 0.99827,
         "end": 548262,
         "speaker": null,
         "start": 548156,
         "text": "get"
        },
        {
         "confidence": 0.99329,
         "end": 548830,
         "speaker": null,
         "start": 548276,
         "text": "discouraged"
        },
        {
         "confidence": 0.98018,
         "end": 549150,
         "speaker": null,
         "start": 548890,
         "text": "again."
        },
        {
         "confidence": 0.99964,
         "end": 549598,
         "speaker": null,
         "start": 549200,
         "text": "Honestly,"
        },
        {
         "confidence": 0.63,
         "end": 549834,
         "speaker": null,
         "start": 549634,
         "text": "I"
        },
        {
         "confidence": 0.99949,
         "end": 550146,
         "speaker": null,
         "start": 549872,
         "text": "remember"
        },
        {
         "confidence": 0.99121,
         "end": 550462,
         "speaker": null,
         "start": 550208,
         "text": "feeling"
        },
        {
         "confidence": 0.99735,
         "end": 550638,
         "speaker": null,
         "start": 550486,
         "text": "this"
        },
        {
         "confidence": 0.99305,
         "end": 550890,
         "speaker": null,
         "start": 550664,
         "text": "too."
        },
        {
         "confidence": 0.99872,
         "end": 551082,
         "speaker": null,
         "start": 550940,
         "text": "What"
        },
        {
         "confidence": 1,
         "end": 551238,
         "speaker": null,
         "start": 551096,
         "text": "I"
        },
        {
         "confidence": 0.99997,
         "end": 551562,
         "speaker": null,
         "start": 551264,
         "text": "recommend"
        },
        {
         "confidence": 0.99888,
         "end": 551946,
         "speaker": null,
         "start": 551636,
         "text": "doing"
        },
        {
         "confidence": 0.99818,
         "end": 552198,
         "speaker": null,
         "start": 552008,
         "text": "is"
        },
        {
         "confidence": 0.99968,
         "end": 552414,
         "speaker": null,
         "start": 552224,
         "text": "going"
        },
        {
         "confidence": 0.99972,
         "end": 552618,
         "speaker": null,
         "start": 552452,
         "text": "through"
        },
        {
         "confidence": 0.99924,
         "end": 552762,
         "speaker": null,
         "start": 552644,
         "text": "some"
        },
        {
         "confidence": 0.99,
         "end": 552846,
         "speaker": null,
         "start": 552776,
         "text": "of"
        },
        {
         "confidence": 0.99,
         "end": 552978,
         "speaker": null,
         "start": 552848,
         "text": "the"
        },
        {
         "confidence": 0.9911,
         "end": 553258,
         "speaker": null,
         "start": 553004,
         "text": "basic"
        },
        {
         "confidence": 0.97633,
         "end": 553798,
         "speaker": null,
         "start": 553294,
         "text": "notebooks,"
        },
        {
         "confidence": 0.99743,
         "end": 553998,
         "speaker": null,
         "start": 553834,
         "text": "like"
        },
        {
         "confidence": 1,
         "end": 554142,
         "speaker": null,
         "start": 554024,
         "text": "the"
        },
        {
         "confidence": 0.79376,
         "end": 554578,
         "speaker": null,
         "start": 554156,
         "text": "Titanic"
        },
        {
         "confidence": 0.99962,
         "end": 554814,
         "speaker": null,
         "start": 554614,
         "text": "data"
        },
        {
         "confidence": 0.80175,
         "end": 555162,
         "speaker": null,
         "start": 554852,
         "text": "set,"
        },
        {
         "confidence": 0.98,
         "end": 555438,
         "speaker": null,
         "start": 555236,
         "text": "and"
        },
        {
         "confidence": 0.98766,
         "end": 555690,
         "speaker": null,
         "start": 555464,
         "text": "just"
        },
        {
         "confidence": 0.61613,
         "end": 556042,
         "speaker": null,
         "start": 555740,
         "text": "copying"
        },
        {
         "confidence": 0.98,
         "end": 556218,
         "speaker": null,
         "start": 556066,
         "text": "the"
        },
        {
         "confidence": 0.99958,
         "end": 556686,
         "speaker": null,
         "start": 556244,
         "text": "code,"
        },
        {
         "confidence": 0.99791,
         "end": 557130,
         "speaker": null,
         "start": 556808,
         "text": "running"
        },
        {
         "confidence": 0.99,
         "end": 557322,
         "speaker": null,
         "start": 557180,
         "text": "it"
        },
        {
         "confidence": 0.99589,
         "end": 557442,
         "speaker": null,
         "start": 557336,
         "text": "on"
        },
        {
         "confidence": 1,
         "end": 557562,
         "speaker": null,
         "start": 557456,
         "text": "your"
        },
        {
         "confidence": 0.99675,
         "end": 557718,
         "speaker": null,
         "start": 557576,
         "text": "own"
        },
        {
         "confidence": 0.9999,
         "end": 558186,
         "speaker": null,
         "start": 557744,
         "text": "computer,"
        },
        {
         "confidence": 1,
         "end": 558594,
         "speaker": null,
         "start": 558308,
         "text": "line"
        },
        {
         "confidence": 0.56988,
         "end": 558834,
         "speaker": null,
         "start": 558632,
         "text": "by"
        },
        {
         "confidence": 0.99,
         "end": 559398,
         "speaker": null,
         "start": 558872,
         "text": "line."
        },
        {
         "confidence": 0.99992,
         "end": 559854,
         "speaker": null,
         "start": 559544,
         "text": "Many"
        },
        {
         "confidence": 0.99975,
         "end": 560094,
         "speaker": null,
         "start": 559892,
         "text": "people"
        },
        {
         "confidence": 0.99977,
         "end": 560298,
         "speaker": null,
         "start": 560132,
         "text": "think"
        },
        {
         "confidence": 0.88948,
         "end": 560442,
         "speaker": null,
         "start": 560324,
         "text": "that"
        },
        {
         "confidence": 0.99737,
         "end": 560562,
         "speaker": null,
         "start": 560456,
         "text": "this"
        },
        {
         "confidence": 0.99468,
         "end": 560718,
         "speaker": null,
         "start": 560576,
         "text": "is"
        },
        {
         "confidence": 0.94576,
         "end": 561250,
         "speaker": null,
         "start": 560744,
         "text": "cheating,"
        },
        {
         "confidence": 0.99838,
         "end": 561618,
         "speaker": null,
         "start": 561370,
         "text": "but"
        },
        {
         "confidence": 0.97969,
         "end": 561802,
         "speaker": null,
         "start": 561644,
         "text": "it's"
        },
        {
         "confidence": 0.99565,
         "end": 562086,
         "speaker": null,
         "start": 561826,
         "text": "actually"
        },
        {
         "confidence": 0.99,
         "end": 562338,
         "speaker": null,
         "start": 562148,
         "text": "a"
        },
        {
         "confidence": 0.99977,
         "end": 562590,
         "speaker": null,
         "start": 562364,
         "text": "great"
        },
        {
         "confidence": 0.99922,
         "end": 562782,
         "speaker": null,
         "start": 562640,
         "text": "way"
        },
        {
         "confidence": 1,
         "end": 562902,
         "speaker": null,
         "start": 562796,
         "text": "to"
        },
        {
         "confidence": 0.99991,
         "end": 563202,
         "speaker": null,
         "start": 562916,
         "text": "learn."
        },
        {
         "confidence": 0.99821,
         "end": 563514,
         "speaker": null,
         "start": 563276,
         "text": "Even"
        },
        {
         "confidence": 1,
         "end": 563826,
         "speaker": null,
         "start": 563552,
         "text": "better"
        },
        {
         "confidence": 0.99967,
         "end": 564042,
         "speaker": null,
         "start": 563888,
         "text": "when"
        },
        {
         "confidence": 1,
         "end": 564162,
         "speaker": null,
         "start": 564056,
         "text": "you"
        },
        {
         "confidence": 0.99932,
         "end": 564318,
         "speaker": null,
         "start": 564176,
         "text": "run"
        },
        {
         "confidence": 1,
         "end": 564606,
         "speaker": null,
         "start": 564344,
         "text": "it,"
        },
        {
         "confidence": 0.99266,
         "end": 564858,
         "speaker": null,
         "start": 564668,
         "text": "make"
        },
        {
         "confidence": 0.99686,
         "end": 565074,
         "speaker": null,
         "start": 564884,
         "text": "some"
        },
        {
         "confidence": 0.99974,
         "end": 565350,
         "speaker": null,
         "start": 565112,
         "text": "changes"
        },
        {
         "confidence": 1,
         "end": 565506,
         "speaker": null,
         "start": 565400,
         "text": "to"
        },
        {
         "confidence": 0.61,
         "end": 565638,
         "speaker": null,
         "start": 565508,
         "text": "the"
        },
        {
         "confidence": 0.99983,
         "end": 565890,
         "speaker": null,
         "start": 565664,
         "text": "code"
        },
        {
         "confidence": 1,
         "end": 566082,
         "speaker": null,
         "start": 565940,
         "text": "and"
        },
        {
         "confidence": 0.9995,
         "end": 566238,
         "speaker": null,
         "start": 566096,
         "text": "see"
        },
        {
         "confidence": 0.99992,
         "end": 566418,
         "speaker": null,
         "start": 566264,
         "text": "what"
        },
        {
         "confidence": 0.99947,
         "end": 566958,
         "speaker": null,
         "start": 566444,
         "text": "happens."
        },
        {
         "confidence": 0.99938,
         "end": 567414,
         "speaker": null,
         "start": 567104,
         "text": "Maybe"
        },
        {
         "confidence": 0.9,
         "end": 567582,
         "speaker": null,
         "start": 567452,
         "text": "you"
        },
        {
         "confidence": 0.9986,
         "end": 567738,
         "speaker": null,
         "start": 567596,
         "text": "should"
        },
        {
         "confidence": 0.99951,
         "end": 567954,
         "speaker": null,
         "start": 567764,
         "text": "try"
        },
        {
         "confidence": 0.97412,
         "end": 568498,
         "speaker": null,
         "start": 567992,
         "text": "changing,"
        },
        {
         "confidence": 0.64041,
         "end": 568818,
         "speaker": null,
         "start": 568594,
         "text": "like"
        },
        {
         "confidence": 0.99,
         "end": 568962,
         "speaker": null,
         "start": 568844,
         "text": "the"
        },
        {
         "confidence": 0.51455,
         "end": 569362,
         "speaker": null,
         "start": 568976,
         "text": "colors"
        },
        {
         "confidence": 0.9971,
         "end": 569538,
         "speaker": null,
         "start": 569386,
         "text": "on"
        },
        {
         "confidence": 0.99,
         "end": 569646,
         "speaker": null,
         "start": 569564,
         "text": "a"
        },
        {
         "confidence": 0.99977,
         "end": 569986,
         "speaker": null,
         "start": 569648,
         "text": "graph"
        },
        {
         "confidence": 0.99733,
         "end": 570258,
         "speaker": null,
         "start": 570058,
         "text": "from"
        },
        {
         "confidence": 0.99776,
         "end": 570442,
         "speaker": null,
         "start": 570284,
         "text": "blue"
        },
        {
         "confidence": 0.98,
         "end": 570618,
         "speaker": null,
         "start": 570466,
         "text": "to"
        },
        {
         "confidence": 0.99408,
         "end": 570942,
         "speaker": null,
         "start": 570644,
         "text": "red,"
        },
        {
         "confidence": 0.99636,
         "end": 571398,
         "speaker": null,
         "start": 571016,
         "text": "or"
        },
        {
         "confidence": 0.99578,
         "end": 571698,
         "speaker": null,
         "start": 571484,
         "text": "try"
        },
        {
         "confidence": 0.99,
         "end": 571842,
         "speaker": null,
         "start": 571724,
         "text": "to"
        },
        {
         "confidence": 0.99906,
         "end": 572034,
         "speaker": null,
         "start": 571856,
         "text": "make"
        },
        {
         "confidence": 1,
         "end": 572166,
         "speaker": null,
         "start": 572072,
         "text": "a"
        },
        {
         "confidence": 0.61,
         "end": 572370,
         "speaker": null,
         "start": 572168,
         "text": "line"
        },
        {
         "confidence": 0.41498,
         "end": 572722,
         "speaker": null,
         "start": 572420,
         "text": "thicker"
        },
        {
         "confidence": 0.99618,
         "end": 572862,
         "speaker": null,
         "start": 572746,
         "text": "on"
        },
        {
         "confidence": 1,
         "end": 572982,
         "speaker": null,
         "start": 572876,
         "text": "one"
        },
        {
         "confidence": 1,
         "end": 573066,
         "speaker": null,
         "start": 572996,
         "text": "of"
        },
        {
         "confidence": 1,
         "end": 573162,
         "speaker": null,
         "start": 573068,
         "text": "the"
        },
        {
         "confidence": 0.99459,
         "end": 573514,
         "speaker": null,
         "start": 573176,
         "text": "graphs."
        },
        {
         "confidence": 0.93544,
         "end": 573810,
         "speaker": null,
         "start": 573562,
         "text": "Just"
        },
        {
         "confidence": 0.99938,
         "end": 574110,
         "speaker": null,
         "start": 573860,
         "text": "simple"
        },
        {
         "confidence": 0.99943,
         "end": 574338,
         "speaker": null,
         "start": 574160,
         "text": "things"
        },
        {
         "confidence": 0.9992,
         "end": 574482,
         "speaker": null,
         "start": 574364,
         "text": "like"
        },
        {
         "confidence": 0.99711,
         "end": 574746,
         "speaker": null,
         "start": 574496,
         "text": "that"
        },
        {
         "confidence": 0.99834,
         "end": 574998,
         "speaker": null,
         "start": 574808,
         "text": "help"
        },
        {
         "confidence": 1,
         "end": 575142,
         "speaker": null,
         "start": 575024,
         "text": "you"
        },
        {
         "confidence": 0.99179,
         "end": 575458,
         "speaker": null,
         "start": 575156,
         "text": "iterate"
        },
        {
         "confidence": 1,
         "end": 575622,
         "speaker": null,
         "start": 575494,
         "text": "and"
        },
        {
         "confidence": 0.99737,
         "end": 575974,
         "speaker": null,
         "start": 575636,
         "text": "improve."
        },
        {
         "confidence": 0.83223,
         "end": 576198,
         "speaker": null,
         "start": 576022,
         "text": "So"
        },
        {
         "confidence": 0.99988,
         "end": 576450,
         "speaker": null,
         "start": 576224,
         "text": "remember"
        },
        {
         "confidence": 0.99821,
         "end": 576642,
         "speaker": null,
         "start": 576500,
         "text": "when"
        },
        {
         "confidence": 0.99912,
         "end": 576762,
         "speaker": null,
         "start": 576656,
         "text": "we"
        },
        {
         "confidence": 0.99706,
         "end": 576882,
         "speaker": null,
         "start": 576776,
         "text": "talked"
        },
        {
         "confidence": 0.77834,
         "end": 577038,
         "speaker": null,
         "start": 576896,
         "text": "about"
        },
        {
         "confidence": 0.02845,
         "end": 577558,
         "speaker": null,
         "start": 577064,
         "text": "IDs"
        },
        {
         "confidence": 0.99808,
         "end": 577990,
         "speaker": null,
         "start": 577594,
         "text": "earlier"
        },
        {
         "confidence": 0.99,
         "end": 578202,
         "speaker": null,
         "start": 578050,
         "text": "and"
        },
        {
         "confidence": 0.50315,
         "end": 578386,
         "speaker": null,
         "start": 578216,
         "text": "I'd"
        },
        {
         "confidence": 0.67249,
         "end": 578610,
         "speaker": null,
         "start": 578398,
         "text": "mentioned"
        },
        {
         "confidence": 2e-05,
         "end": 579022,
         "speaker": null,
         "start": 578660,
         "text": "Jupiter's"
        },
        {
         "confidence": 0.83542,
         "end": 579430,
         "speaker": null,
         "start": 579046,
         "text": "notebook?"
        },
        {
         "confidence": 0.51,
         "end": 579862,
         "speaker": null,
         "start": 579490,
         "text": "Kaggle"
        },
        {
         "confidence": 0.70205,
         "end": 580138,
         "speaker": null,
         "start": 579886,
         "text": "uses"
        },
        {
         "confidence": 0.99962,
         "end": 580410,
         "speaker": null,
         "start": 580174,
         "text": "something"
        },
        {
         "confidence": 0.99993,
         "end": 580746,
         "speaker": null,
         "start": 580460,
         "text": "similar"
        },
        {
         "confidence": 1,
         "end": 580962,
         "speaker": null,
         "start": 580808,
         "text": "to"
        },
        {
         "confidence": 0.9991,
         "end": 581154,
         "speaker": null,
         "start": 580976,
         "text": "that"
        },
        {
         "confidence": 0.55538,
         "end": 581358,
         "speaker": null,
         "start": 581192,
         "text": "that"
        },
        {
         "confidence": 0.92448,
         "end": 581566,
         "speaker": null,
         "start": 581384,
         "text": "lets"
        },
        {
         "confidence": 1,
         "end": 581718,
         "speaker": null,
         "start": 581578,
         "text": "you"
        },
        {
         "confidence": 0.99863,
         "end": 582006,
         "speaker": null,
         "start": 581744,
         "text": "work"
        },
        {
         "confidence": 1,
         "end": 582474,
         "speaker": null,
         "start": 582068,
         "text": "online."
        },
        {
         "confidence": 0.99875,
         "end": 582798,
         "speaker": null,
         "start": 582572,
         "text": "This"
        },
        {
         "confidence": 0.99731,
         "end": 582978,
         "speaker": null,
         "start": 582824,
         "text": "is"
        },
        {
         "confidence": 0.99981,
         "end": 583194,
         "speaker": null,
         "start": 583004,
         "text": "great"
        },
        {
         "confidence": 0.98,
         "end": 583434,
         "speaker": null,
         "start": 583232,
         "text": "and"
        },
        {
         "confidence": 0.99979,
         "end": 583674,
         "speaker": null,
         "start": 583472,
         "text": "free"
        },
        {
         "confidence": 0.9734,
         "end": 584062,
         "speaker": null,
         "start": 583712,
         "text": "compute"
        },
        {
         "confidence": 0.99944,
         "end": 584346,
         "speaker": null,
         "start": 584086,
         "text": "power"
        },
        {
         "confidence": 0.99908,
         "end": 584562,
         "speaker": null,
         "start": 584408,
         "text": "if"
        },
        {
         "confidence": 1,
         "end": 584646,
         "speaker": null,
         "start": 584576,
         "text": "you"
        },
        {
         "confidence": 0.99843,
         "end": 584778,
         "speaker": null,
         "start": 584648,
         "text": "have"
        },
        {
         "confidence": 0.99984,
         "end": 585094,
         "speaker": null,
         "start": 584804,
         "text": "limited"
        },
        {
         "confidence": 0.78306,
         "end": 585622,
         "speaker": null,
         "start": 585142,
         "text": "resources"
        },
        {
         "confidence": 1,
         "end": 585762,
         "speaker": null,
         "start": 585646,
         "text": "at"
        },
        {
         "confidence": 0.99995,
         "end": 585990,
         "speaker": null,
         "start": 585776,
         "text": "home."
        },
        {
         "confidence": 0.73623,
         "end": 586182,
         "speaker": null,
         "start": 586040,
         "text": "So"
        },
        {
         "confidence": 0.99933,
         "end": 586266,
         "speaker": null,
         "start": 586196,
         "text": "if"
        },
        {
         "confidence": 0.89,
         "end": 586362,
         "speaker": null,
         "start": 586268,
         "text": "you"
        },
        {
         "confidence": 0.92713,
         "end": 586482,
         "speaker": null,
         "start": 586376,
         "text": "want"
        },
        {
         "confidence": 1,
         "end": 586602,
         "speaker": null,
         "start": 586496,
         "text": "to"
        },
        {
         "confidence": 0.9998,
         "end": 586758,
         "speaker": null,
         "start": 586616,
         "text": "work"
        },
        {
         "confidence": 0.99893,
         "end": 586938,
         "speaker": null,
         "start": 586784,
         "text": "with"
        },
        {
         "confidence": 0.99951,
         "end": 587190,
         "speaker": null,
         "start": 586964,
         "text": "data"
        },
        {
         "confidence": 0.99963,
         "end": 587382,
         "speaker": null,
         "start": 587240,
         "text": "on"
        },
        {
         "confidence": 1,
         "end": 587610,
         "speaker": null,
         "start": 587396,
         "text": "your"
        },
        {
         "confidence": 0.99977,
         "end": 588082,
         "speaker": null,
         "start": 587660,
         "text": "laptop"
        },
        {
         "confidence": 0.99133,
         "end": 588258,
         "speaker": null,
         "start": 588106,
         "text": "or"
        },
        {
         "confidence": 0.43863,
         "end": 588850,
         "speaker": null,
         "start": 588284,
         "text": "desktop,"
        },
        {
         "confidence": 1,
         "end": 589218,
         "speaker": null,
         "start": 588970,
         "text": "I"
        },
        {
         "confidence": 0.99913,
         "end": 589542,
         "speaker": null,
         "start": 589244,
         "text": "recommend"
        },
        {
         "confidence": 0.98534,
         "end": 590062,
         "speaker": null,
         "start": 589616,
         "text": "downloading"
        },
        {
         "confidence": 0.99032,
         "end": 590674,
         "speaker": null,
         "start": 590086,
         "text": "Anaconda."
        },
        {
         "confidence": 0.97564,
         "end": 591262,
         "speaker": null,
         "start": 590722,
         "text": "Anaconda"
        },
        {
         "confidence": 0.99807,
         "end": 591402,
         "speaker": null,
         "start": 591286,
         "text": "is"
        },
        {
         "confidence": 0.99,
         "end": 591522,
         "speaker": null,
         "start": 591416,
         "text": "a"
        },
        {
         "confidence": 0.98094,
         "end": 591814,
         "speaker": null,
         "start": 591536,
         "text": "software"
        },
        {
         "confidence": 0.99585,
         "end": 592174,
         "speaker": null,
         "start": 591862,
         "text": "package"
        },
        {
         "confidence": 0.99882,
         "end": 592398,
         "speaker": null,
         "start": 592222,
         "text": "that"
        },
        {
         "confidence": 0.99596,
         "end": 592702,
         "speaker": null,
         "start": 592424,
         "text": "lumps"
        },
        {
         "confidence": 0.99913,
         "end": 592986,
         "speaker": null,
         "start": 592726,
         "text": "together"
        },
        {
         "confidence": 0.99972,
         "end": 593202,
         "speaker": null,
         "start": 593048,
         "text": "all"
        },
        {
         "confidence": 0.97,
         "end": 593286,
         "speaker": null,
         "start": 593216,
         "text": "of"
        },
        {
         "confidence": 0.93,
         "end": 593418,
         "speaker": null,
         "start": 593288,
         "text": "the"
        },
        {
         "confidence": 0.99983,
         "end": 593782,
         "speaker": null,
         "start": 593444,
         "text": "relevant"
        },
        {
         "confidence": 0.4227,
         "end": 594178,
         "speaker": null,
         "start": 593806,
         "text": "Python"
        },
        {
         "confidence": 0.98926,
         "end": 594910,
         "speaker": null,
         "start": 594214,
         "text": "libraries"
        },
        {
         "confidence": 1,
         "end": 595350,
         "speaker": null,
         "start": 595030,
         "text": "and"
        },
        {
         "confidence": 0.02065,
         "end": 596038,
         "speaker": null,
         "start": 595400,
         "text": "ideas"
        },
        {
         "confidence": 0.99957,
         "end": 596238,
         "speaker": null,
         "start": 596074,
         "text": "for"
        },
        {
         "confidence": 0.99982,
         "end": 596454,
         "speaker": null,
         "start": 596264,
         "text": "data"
        },
        {
         "confidence": 0.87344,
         "end": 596854,
         "speaker": null,
         "start": 596492,
         "text": "science"
        },
        {
         "confidence": 0.65548,
         "end": 597078,
         "speaker": null,
         "start": 596902,
         "text": "in"
        },
        {
         "confidence": 1,
         "end": 597258,
         "speaker": null,
         "start": 597104,
         "text": "one"
        },
        {
         "confidence": 0.72562,
         "end": 597690,
         "speaker": null,
         "start": 597284,
         "text": "go."
        },
        {
         "confidence": 0.84541,
         "end": 598002,
         "speaker": null,
         "start": 597800,
         "text": "So"
        },
        {
         "confidence": 1,
         "end": 598122,
         "speaker": null,
         "start": 598016,
         "text": "you"
        },
        {
         "confidence": 0.99852,
         "end": 598242,
         "speaker": null,
         "start": 598136,
         "text": "can"
        },
        {
         "confidence": 0.99981,
         "end": 598398,
         "speaker": null,
         "start": 598256,
         "text": "check"
        },
        {
         "confidence": 0.98814,
         "end": 598542,
         "speaker": null,
         "start": 598424,
         "text": "out"
        },
        {
         "confidence": 0.99938,
         "end": 598698,
         "speaker": null,
         "start": 598556,
         "text": "my"
        },
        {
         "confidence": 0.99928,
         "end": 598986,
         "speaker": null,
         "start": 598724,
         "text": "video"
        },
        {
         "confidence": 0.9959,
         "end": 599238,
         "speaker": null,
         "start": 599048,
         "text": "for"
        },
        {
         "confidence": 0.99978,
         "end": 599454,
         "speaker": null,
         "start": 599264,
         "text": "how"
        },
        {
         "confidence": 1,
         "end": 599622,
         "speaker": null,
         "start": 599492,
         "text": "to"
        },
        {
         "confidence": 0.93998,
         "end": 599922,
         "speaker": null,
         "start": 599636,
         "text": "install"
        },
        {
         "confidence": 0.98,
         "end": 600234,
         "speaker": null,
         "start": 599996,
         "text": "it,"
        },
        {
         "confidence": 0.99746,
         "end": 600402,
         "speaker": null,
         "start": 600272,
         "text": "which"
        },
        {
         "confidence": 0.59709,
         "end": 600562,
         "speaker": null,
         "start": 600416,
         "text": "I've"
        },
        {
         "confidence": 0.99509,
         "end": 600766,
         "speaker": null,
         "start": 600586,
         "text": "linked"
        },
        {
         "confidence": 0.55816,
         "end": 601054,
         "speaker": null,
         "start": 600778,
         "text": "above"
        },
        {
         "confidence": 0.99,
         "end": 601278,
         "speaker": null,
         "start": 601102,
         "text": "and"
        },
        {
         "confidence": 0.99193,
         "end": 601422,
         "speaker": null,
         "start": 601304,
         "text": "in"
        },
        {
         "confidence": 1,
         "end": 601542,
         "speaker": null,
         "start": 601436,
         "text": "the"
        },
        {
         "confidence": 0.99612,
         "end": 602134,
         "speaker": null,
         "start": 601556,
         "text": "description."
        },
        {
         "confidence": 0.99824,
         "end": 602622,
         "speaker": null,
         "start": 602242,
         "text": "Finally,"
        },
        {
         "confidence": 0.82,
         "end": 602898,
         "speaker": null,
         "start": 602696,
         "text": "I"
        },
        {
         "confidence": 0.99741,
         "end": 603114,
         "speaker": null,
         "start": 602924,
         "text": "have"
        },
        {
         "confidence": 1,
         "end": 603354,
         "speaker": null,
         "start": 603152,
         "text": "three"
        },
        {
         "confidence": 0.9894,
         "end": 603670,
         "speaker": null,
         "start": 603392,
         "text": "tips"
        },
        {
         "confidence": 1,
         "end": 603918,
         "speaker": null,
         "start": 603730,
         "text": "to"
        },
        {
         "confidence": 0.99982,
         "end": 604098,
         "speaker": null,
         "start": 603944,
         "text": "send"
        },
        {
         "confidence": 0.99,
         "end": 604242,
         "speaker": null,
         "start": 604124,
         "text": "you"
        },
        {
         "confidence": 0.99477,
         "end": 604326,
         "speaker": null,
         "start": 604256,
         "text": "on"
        },
        {
         "confidence": 0.5,
         "end": 604458,
         "speaker": null,
         "start": 604328,
         "text": "your"
        },
        {
         "confidence": 0.99887,
         "end": 604782,
         "speaker": null,
         "start": 604484,
         "text": "way."
        },
        {
         "confidence": 0.99879,
         "end": 605058,
         "speaker": null,
         "start": 604856,
         "text": "These"
        },
        {
         "confidence": 0.99883,
         "end": 605274,
         "speaker": null,
         "start": 605084,
         "text": "are"
        },
        {
         "confidence": 0.99946,
         "end": 605622,
         "speaker": null,
         "start": 605312,
         "text": "probably"
        },
        {
         "confidence": 1,
         "end": 606042,
         "speaker": null,
         "start": 605696,
         "text": "the"
        },
        {
         "confidence": 0.99992,
         "end": 606390,
         "speaker": null,
         "start": 606116,
         "text": "most"
        },
        {
         "confidence": 0.99994,
         "end": 606762,
         "speaker": null,
         "start": 606440,
         "text": "important"
        },
        {
         "confidence": 0.99835,
         "end": 607182,
         "speaker": null,
         "start": 606836,
         "text": "things"
        },
        {
         "confidence": 0.89381,
         "end": 607494,
         "speaker": null,
         "start": 607256,
         "text": "that"
        },
        {
         "confidence": 1,
         "end": 607662,
         "speaker": null,
         "start": 607532,
         "text": "a"
        },
        {
         "confidence": 1,
         "end": 607818,
         "speaker": null,
         "start": 607676,
         "text": "new"
        },
        {
         "confidence": 0.9484,
         "end": 608158,
         "speaker": null,
         "start": 607844,
         "text": "coder"
        },
        {
         "confidence": 0.99701,
         "end": 608358,
         "speaker": null,
         "start": 608194,
         "text": "can"
        },
        {
         "confidence": 0.99969,
         "end": 608610,
         "speaker": null,
         "start": 608384,
         "text": "learn."
        },
        {
         "confidence": 0.72833,
         "end": 608838,
         "speaker": null,
         "start": 608660,
         "text": "So"
        },
        {
         "confidence": 1,
         "end": 608982,
         "speaker": null,
         "start": 608864,
         "text": "the"
        },
        {
         "confidence": 1,
         "end": 609174,
         "speaker": null,
         "start": 608996,
         "text": "first"
        },
        {
         "confidence": 1,
         "end": 609378,
         "speaker": null,
         "start": 609212,
         "text": "one"
        },
        {
         "confidence": 0.58354,
         "end": 609558,
         "speaker": null,
         "start": 609404,
         "text": "is"
        },
        {
         "confidence": 0.99,
         "end": 609738,
         "speaker": null,
         "start": 609584,
         "text": "to"
        },
        {
         "confidence": 0.99927,
         "end": 609918,
         "speaker": null,
         "start": 609764,
         "text": "use"
        },
        {
         "confidence": 0.99988,
         "end": 610170,
         "speaker": null,
         "start": 609944,
         "text": "Google"
        },
        {
         "confidence": 0.99,
         "end": 610362,
         "speaker": null,
         "start": 610220,
         "text": "and"
        },
        {
         "confidence": 0.72797,
         "end": 610558,
         "speaker": null,
         "start": 610376,
         "text": "stack"
        },
        {
         "confidence": 0.96074,
         "end": 611350,
         "speaker": null,
         "start": 610594,
         "text": "overflow."
        },
        {
         "confidence": 0.99995,
         "end": 611718,
         "speaker": null,
         "start": 611470,
         "text": "If"
        },
        {
         "confidence": 1,
         "end": 611898,
         "speaker": null,
         "start": 611744,
         "text": "you"
        },
        {
         "confidence": 0.99882,
         "end": 612078,
         "speaker": null,
         "start": 611924,
         "text": "have"
        },
        {
         "confidence": 1,
         "end": 612222,
         "speaker": null,
         "start": 612104,
         "text": "a"
        },
        {
         "confidence": 0.99977,
         "end": 612594,
         "speaker": null,
         "start": 612236,
         "text": "question,"
        },
        {
         "confidence": 0.66637,
         "end": 613018,
         "speaker": null,
         "start": 612692,
         "text": "it's"
        },
        {
         "confidence": 0.99976,
         "end": 613290,
         "speaker": null,
         "start": 613054,
         "text": "almost"
        },
        {
         "confidence": 0.81439,
         "end": 613990,
         "speaker": null,
         "start": 613340,
         "text": "guaranteed"
        },
        {
         "confidence": 0.98865,
         "end": 614274,
         "speaker": null,
         "start": 614050,
         "text": "that"
        },
        {
         "confidence": 0.65552,
         "end": 614550,
         "speaker": null,
         "start": 614312,
         "text": "someone"
        },
        {
         "confidence": 0.81024,
         "end": 614814,
         "speaker": null,
         "start": 614600,
         "text": "has"
        },
        {
         "confidence": 0.99949,
         "end": 615054,
         "speaker": null,
         "start": 614852,
         "text": "asked"
        },
        {
         "confidence": 0.47,
         "end": 615222,
         "speaker": null,
         "start": 615092,
         "text": "it"
        },
        {
         "confidence": 0.99966,
         "end": 615522,
         "speaker": null,
         "start": 615236,
         "text": "before"
        },
        {
         "confidence": 0.99893,
         "end": 615762,
         "speaker": null,
         "start": 615596,
         "text": "on"
        },
        {
         "confidence": 0.99,
         "end": 615882,
         "speaker": null,
         "start": 615776,
         "text": "the"
        },
        {
         "confidence": 0.79386,
         "end": 616522,
         "speaker": null,
         "start": 615896,
         "text": "Internet,"
        },
        {
         "confidence": 0.99957,
         "end": 617046,
         "speaker": null,
         "start": 616666,
         "text": "getting"
        },
        {
         "confidence": 0.99945,
         "end": 617334,
         "speaker": null,
         "start": 617108,
         "text": "good"
        },
        {
         "confidence": 1,
         "end": 617538,
         "speaker": null,
         "start": 617372,
         "text": "at"
        },
        {
         "confidence": 0.99983,
         "end": 617878,
         "speaker": null,
         "start": 617564,
         "text": "finding"
        },
        {
         "confidence": 0.97906,
         "end": 618298,
         "speaker": null,
         "start": 617914,
         "text": "answers"
        },
        {
         "confidence": 0.99962,
         "end": 618462,
         "speaker": null,
         "start": 618334,
         "text": "on"
        },
        {
         "confidence": 0.99,
         "end": 618618,
         "speaker": null,
         "start": 618476,
         "text": "your"
        },
        {
         "confidence": 0.99951,
         "end": 618942,
         "speaker": null,
         "start": 618644,
         "text": "own"
        },
        {
         "confidence": 0.98816,
         "end": 619294,
         "speaker": null,
         "start": 619016,
         "text": "via"
        },
        {
         "confidence": 0.99985,
         "end": 619806,
         "speaker": null,
         "start": 619342,
         "text": "search"
        },
        {
         "confidence": 0.99908,
         "end": 620142,
         "speaker": null,
         "start": 619928,
         "text": "might"
        },
        {
         "confidence": 0.98774,
         "end": 620298,
         "speaker": null,
         "start": 620156,
         "text": "be"
        },
        {
         "confidence": 1,
         "end": 620478,
         "speaker": null,
         "start": 620324,
         "text": "the"
        },
        {
         "confidence": 0.99856,
         "end": 620730,
         "speaker": null,
         "start": 620504,
         "text": "single"
        },
        {
         "confidence": 0.99964,
         "end": 620994,
         "speaker": null,
         "start": 620780,
         "text": "most"
        },
        {
         "confidence": 0.68113,
         "end": 621306,
         "speaker": null,
         "start": 621032,
         "text": "important"
        },
        {
         "confidence": 0.98421,
         "end": 621694,
         "speaker": null,
         "start": 621368,
         "text": "skill"
        },
        {
         "confidence": 1,
         "end": 621918,
         "speaker": null,
         "start": 621742,
         "text": "of"
        },
        {
         "confidence": 0.98,
         "end": 622026,
         "speaker": null,
         "start": 621944,
         "text": "a"
        },
        {
         "confidence": 0.99945,
         "end": 622194,
         "speaker": null,
         "start": 622028,
         "text": "data"
        },
        {
         "confidence": 0.99785,
         "end": 622618,
         "speaker": null,
         "start": 622232,
         "text": "scientist"
        },
        {
         "confidence": 0.9981,
         "end": 622818,
         "speaker": null,
         "start": 622654,
         "text": "or"
        },
        {
         "confidence": 0.99947,
         "end": 623098,
         "speaker": null,
         "start": 622844,
         "text": "software"
        },
        {
         "confidence": 0.75204,
         "end": 623494,
         "speaker": null,
         "start": 623134,
         "text": "engineer"
        },
        {
         "confidence": 0.99563,
         "end": 623682,
         "speaker": null,
         "start": 623542,
         "text": "that"
        },
        {
         "confidence": 0.99712,
         "end": 623838,
         "speaker": null,
         "start": 623696,
         "text": "they"
        },
        {
         "confidence": 0.99694,
         "end": 624090,
         "speaker": null,
         "start": 623864,
         "text": "use"
        },
        {
         "confidence": 0.99987,
         "end": 624354,
         "speaker": null,
         "start": 624140,
         "text": "every"
        },
        {
         "confidence": 0.99823,
         "end": 624594,
         "speaker": null,
         "start": 624392,
         "text": "single"
        },
        {
         "confidence": 0.76,
         "end": 624906,
         "speaker": null,
         "start": 624632,
         "text": "day."
        },
        {
         "confidence": 0.99,
         "end": 625122,
         "speaker": null,
         "start": 624968,
         "text": "The"
        },
        {
         "confidence": 0.67,
         "end": 625350,
         "speaker": null,
         "start": 625136,
         "text": "second"
        },
        {
         "confidence": 0.99919,
         "end": 625542,
         "speaker": null,
         "start": 625400,
         "text": "is"
        },
        {
         "confidence": 0.64,
         "end": 625698,
         "speaker": null,
         "start": 625556,
         "text": "to"
        },
        {
         "confidence": 0.99946,
         "end": 625914,
         "speaker": null,
         "start": 625724,
         "text": "use"
        },
        {
         "confidence": 0.96957,
         "end": 626314,
         "speaker": null,
         "start": 625952,
         "text": "errors"
        },
        {
         "confidence": 0.48756,
         "end": 626538,
         "speaker": null,
         "start": 626362,
         "text": "so"
        },
        {
         "confidence": 0.99,
         "end": 626682,
         "speaker": null,
         "start": 626564,
         "text": "your"
        },
        {
         "confidence": 0.99515,
         "end": 626838,
         "speaker": null,
         "start": 626696,
         "text": "code"
        },
        {
         "confidence": 0.98122,
         "end": 626982,
         "speaker": null,
         "start": 626864,
         "text": "will"
        },
        {
         "confidence": 0.99778,
         "end": 627138,
         "speaker": null,
         "start": 626996,
         "text": "not"
        },
        {
         "confidence": 0.68817,
         "end": 627426,
         "speaker": null,
         "start": 627164,
         "text": "run."
        },
        {
         "confidence": 1,
         "end": 627642,
         "speaker": null,
         "start": 627488,
         "text": "It"
        },
        {
         "confidence": 0.18289,
         "end": 627762,
         "speaker": null,
         "start": 627656,
         "text": "will"
        },
        {
         "confidence": 0.99475,
         "end": 628026,
         "speaker": null,
         "start": 627776,
         "text": "break,"
        },
        {
         "confidence": 0.99,
         "end": 628242,
         "speaker": null,
         "start": 628088,
         "text": "and"
        },
        {
         "confidence": 0.97578,
         "end": 628366,
         "speaker": null,
         "start": 628256,
         "text": "you'll"
        },
        {
         "confidence": 0.91189,
         "end": 628518,
         "speaker": null,
         "start": 628378,
         "text": "be"
        },
        {
         "confidence": 0.99642,
         "end": 629158,
         "speaker": null,
         "start": 628544,
         "text": "sad."
        },
        {
         "confidence": 0.96755,
         "end": 629602,
         "speaker": null,
         "start": 629314,
         "text": "Don't"
        },
        {
         "confidence": 0.98857,
         "end": 629778,
         "speaker": null,
         "start": 629626,
         "text": "just"
        },
        {
         "confidence": 0.90103,
         "end": 630022,
         "speaker": null,
         "start": 629804,
         "text": "wallow"
        },
        {
         "confidence": 0.58794,
         "end": 630126,
         "speaker": null,
         "start": 630046,
         "text": "in"
        },
        {
         "confidence": 0.06,
         "end": 630222,
         "speaker": null,
         "start": 630128,
         "text": "your"
        },
        {
         "confidence": 0.99847,
         "end": 630414,
         "speaker": null,
         "start": 630236,
         "text": "self"
        },
        {
         "confidence": 0.99403,
         "end": 630838,
         "speaker": null,
         "start": 630452,
         "text": "pity."
        },
        {
         "confidence": 0.9975,
         "end": 631158,
         "speaker": null,
         "start": 630934,
         "text": "Read"
        },
        {
         "confidence": 0.99,
         "end": 631302,
         "speaker": null,
         "start": 631184,
         "text": "the"
        },
        {
         "confidence": 0.97092,
         "end": 631498,
         "speaker": null,
         "start": 631316,
         "text": "error"
        },
        {
         "confidence": 0.99282,
         "end": 632050,
         "speaker": null,
         "start": 631534,
         "text": "messages."
        },
        {
         "confidence": 0.59801,
         "end": 632338,
         "speaker": null,
         "start": 632110,
         "text": "They'll"
        },
        {
         "confidence": 0.99998,
         "end": 632538,
         "speaker": null,
         "start": 632374,
         "text": "tell"
        },
        {
         "confidence": 1,
         "end": 632718,
         "speaker": null,
         "start": 632564,
         "text": "you"
        },
        {
         "confidence": 0.99987,
         "end": 632970,
         "speaker": null,
         "start": 632744,
         "text": "something"
        },
        {
         "confidence": 0.99988,
         "end": 633198,
         "speaker": null,
         "start": 633020,
         "text": "about"
        },
        {
         "confidence": 0.97553,
         "end": 633442,
         "speaker": null,
         "start": 633224,
         "text": "what's"
        },
        {
         "confidence": 0.99999,
         "end": 633834,
         "speaker": null,
         "start": 633466,
         "text": "wrong."
        },
        {
         "confidence": 0.99826,
         "end": 634230,
         "speaker": null,
         "start": 633932,
         "text": "Also,"
        },
        {
         "confidence": 0.99762,
         "end": 634494,
         "speaker": null,
         "start": 634280,
         "text": "Google"
        },
        {
         "confidence": 0.96,
         "end": 634662,
         "speaker": null,
         "start": 634532,
         "text": "the"
        },
        {
         "confidence": 0.68786,
         "end": 635086,
         "speaker": null,
         "start": 634676,
         "text": "errors,"
        },
        {
         "confidence": 0.96,
         "end": 635358,
         "speaker": null,
         "start": 635158,
         "text": "and"
        },
        {
         "confidence": 0.77458,
         "end": 635538,
         "speaker": null,
         "start": 635384,
         "text": "this"
        },
        {
         "confidence": 0.87452,
         "end": 635682,
         "speaker": null,
         "start": 635564,
         "text": "will"
        },
        {
         "confidence": 1,
         "end": 635838,
         "speaker": null,
         "start": 635696,
         "text": "save"
        },
        {
         "confidence": 1,
         "end": 635946,
         "speaker": null,
         "start": 635864,
         "text": "you"
        },
        {
         "confidence": 0.88,
         "end": 636042,
         "speaker": null,
         "start": 635948,
         "text": "a"
        },
        {
         "confidence": 0.99991,
         "end": 636126,
         "speaker": null,
         "start": 636056,
         "text": "lot"
        },
        {
         "confidence": 0.95,
         "end": 636258,
         "speaker": null,
         "start": 636128,
         "text": "of"
        },
        {
         "confidence": 0.99942,
         "end": 636438,
         "speaker": null,
         "start": 636284,
         "text": "time"
        },
        {
         "confidence": 0.99,
         "end": 636582,
         "speaker": null,
         "start": 636464,
         "text": "and"
        },
        {
         "confidence": 0.91702,
         "end": 637054,
         "speaker": null,
         "start": 636596,
         "text": "headache."
        },
        {
         "confidence": 0.99862,
         "end": 637386,
         "speaker": null,
         "start": 637102,
         "text": "Finally,"
        },
        {
         "confidence": 0.57,
         "end": 637638,
         "speaker": null,
         "start": 637448,
         "text": "the"
        },
        {
         "confidence": 1,
         "end": 637818,
         "speaker": null,
         "start": 637664,
         "text": "third"
        },
        {
         "confidence": 0.9967,
         "end": 638034,
         "speaker": null,
         "start": 637844,
         "text": "thing"
        },
        {
         "confidence": 0.99838,
         "end": 638202,
         "speaker": null,
         "start": 638072,
         "text": "is"
        },
        {
         "confidence": 0.97,
         "end": 638322,
         "speaker": null,
         "start": 638216,
         "text": "to"
        },
        {
         "confidence": 0.99858,
         "end": 638442,
         "speaker": null,
         "start": 638336,
         "text": "take"
        },
        {
         "confidence": 1,
         "end": 638598,
         "speaker": null,
         "start": 638456,
         "text": "it"
        },
        {
         "confidence": 0.99803,
         "end": 638778,
         "speaker": null,
         "start": 638624,
         "text": "easy"
        },
        {
         "confidence": 0.99807,
         "end": 638922,
         "speaker": null,
         "start": 638804,
         "text": "on"
        },
        {
         "confidence": 1,
         "end": 639402,
         "speaker": null,
         "start": 638936,
         "text": "yourself."
        },
        {
         "confidence": 1,
         "end": 639762,
         "speaker": null,
         "start": 639536,
         "text": "The"
        },
        {
         "confidence": 1,
         "end": 639918,
         "speaker": null,
         "start": 639776,
         "text": "only"
        },
        {
         "confidence": 0.99985,
         "end": 640134,
         "speaker": null,
         "start": 639944,
         "text": "people"
        },
        {
         "confidence": 0.99729,
         "end": 640338,
         "speaker": null,
         "start": 640172,
         "text": "that"
        },
        {
         "confidence": 0.76134,
         "end": 640558,
         "speaker": null,
         "start": 640364,
         "text": "can't"
        },
        {
         "confidence": 0.99835,
         "end": 640866,
         "speaker": null,
         "start": 640594,
         "text": "code"
        },
        {
         "confidence": 0.99281,
         "end": 641082,
         "speaker": null,
         "start": 640928,
         "text": "are"
        },
        {
         "confidence": 0.99,
         "end": 641202,
         "speaker": null,
         "start": 641096,
         "text": "the"
        },
        {
         "confidence": 1,
         "end": 641394,
         "speaker": null,
         "start": 641216,
         "text": "ones"
        },
        {
         "confidence": 0.99077,
         "end": 641562,
         "speaker": null,
         "start": 641432,
         "text": "that"
        },
        {
         "confidence": 0.99935,
         "end": 641790,
         "speaker": null,
         "start": 641576,
         "text": "never"
        },
        {
         "confidence": 0.18752,
         "end": 642090,
         "speaker": null,
         "start": 641840,
         "text": "tried"
        },
        {
         "confidence": 0.58388,
         "end": 642318,
         "speaker": null,
         "start": 642140,
         "text": "or"
        },
        {
         "confidence": 0.98,
         "end": 642462,
         "speaker": null,
         "start": 642344,
         "text": "the"
        },
        {
         "confidence": 1,
         "end": 642618,
         "speaker": null,
         "start": 642476,
         "text": "ones"
        },
        {
         "confidence": 0.99013,
         "end": 642762,
         "speaker": null,
         "start": 642644,
         "text": "that"
        },
        {
         "confidence": 0.54094,
         "end": 642982,
         "speaker": null,
         "start": 642776,
         "text": "quit"
        },
        {
         "confidence": 0.98833,
         "end": 643122,
         "speaker": null,
         "start": 643006,
         "text": "too"
        },
        {
         "confidence": 0.98677,
         "end": 643746,
         "speaker": null,
         "start": 643136,
         "text": "early."
        },
        {
         "confidence": 0.99787,
         "end": 644202,
         "speaker": null,
         "start": 643928,
         "text": "Thank"
        },
        {
         "confidence": 0.7,
         "end": 644322,
         "speaker": null,
         "start": 644216,
         "text": "you"
        },
        {
         "confidence": 0.57976,
         "end": 644478,
         "speaker": null,
         "start": 644336,
         "text": "all"
        },
        {
         "confidence": 0.99218,
         "end": 644622,
         "speaker": null,
         "start": 644504,
         "text": "so"
        },
        {
         "confidence": 0.99938,
         "end": 644742,
         "speaker": null,
         "start": 644636,
         "text": "much"
        },
        {
         "confidence": 0.99731,
         "end": 644862,
         "speaker": null,
         "start": 644756,
         "text": "for"
        },
        {
         "confidence": 0.99834,
         "end": 645198,
         "speaker": null,
         "start": 644876,
         "text": "watching,"
        },
        {
         "confidence": 0.9,
         "end": 645498,
         "speaker": null,
         "start": 645284,
         "text": "and"
        },
        {
         "confidence": 0.99769,
         "end": 645642,
         "speaker": null,
         "start": 645524,
         "text": "good"
        },
        {
         "confidence": 0.94689,
         "end": 645862,
         "speaker": null,
         "start": 645656,
         "text": "luck"
        },
        {
         "confidence": 0.99687,
         "end": 646002,
         "speaker": null,
         "start": 645886,
         "text": "on"
        },
        {
         "confidence": 1,
         "end": 646158,
         "speaker": null,
         "start": 646016,
         "text": "your"
        },
        {
         "confidence": 0.99898,
         "end": 646374,
         "speaker": null,
         "start": 646184,
         "text": "data"
        },
        {
         "confidence": 0.99847,
         "end": 646714,
         "speaker": null,
         "start": 646412,
         "text": "science"
        },
        {
         "confidence": 1,
         "end": 646902,
         "speaker": null,
         "start": 646762,
         "text": "and"
        },
        {
         "confidence": 0.67974,
         "end": 647242,
         "speaker": null,
         "start": 646916,
         "text": "coding"
        },
        {
         "confidence": 0.759,
         "end": 647470,
         "speaker": null,
         "start": 647266,
         "text": "journey."
        }
       ]
      },
      "text/plain": [
       "<IPython.core.display.JSON object>"
      ]
     },
     "execution_count": 36,
     "metadata": {
      "application/json": {
       "expanded": false,
       "root": "root"
      }
     },
     "output_type": "execute_result"
    }
   ],
   "source": [
    "JSON(response.json())"
   ]
  },
  {
   "cell_type": "code",
   "execution_count": 42,
   "id": "7fdcfc50-ff4f-4e48-936c-e97b0931ed34",
   "metadata": {
    "tags": []
   },
   "outputs": [],
   "source": [
    "with open('speech_data.pkl', 'wb') as f:\n",
    "    pickle.dump(response.json().copy(), f)\n",
    "        \n",
    "with open('speech_data.pkl', 'rb') as f:\n",
    "    data = pickle.load(f)\n",
    "    "
   ]
  },
  {
   "cell_type": "markdown",
   "id": "6e91ccb7-66cd-4ccd-a151-54b0bde8478e",
   "metadata": {},
   "source": [
    "## Building dashboard"
   ]
  },
  {
   "cell_type": "markdown",
   "id": "e3caadb9-860d-48c4-a643-05579b4ef5c8",
   "metadata": {},
   "source": [
    "### 0) Download transcript widget"
   ]
  },
  {
   "cell_type": "code",
   "execution_count": 101,
   "id": "8edb2e8e-a101-4759-a8c0-930494bdf9f5",
   "metadata": {},
   "outputs": [
    {
     "data": {
      "text/plain": [
       "0"
      ]
     },
     "execution_count": 101,
     "metadata": {},
     "output_type": "execute_result"
    }
   ],
   "source": [
    "buffer = StringIO()\n",
    "buffer.write(data[\"text\"])\n",
    "buffer.seek(0)"
   ]
  },
  {
   "cell_type": "code",
   "execution_count": 106,
   "id": "95ad701d-2b34-499b-bad6-b013562d9f6b",
   "metadata": {},
   "outputs": [
    {
     "data": {},
     "metadata": {},
     "output_type": "display_data"
    },
    {
     "data": {
      "application/vnd.holoviews_exec.v0+json": "",
      "text/html": [
       "<div id='3901'>\n",
       "  <div class=\"bk-root\" id=\"4d99085c-fefa-49a2-87d9-93e0eaa5e2b1\" data-root-id=\"3901\"></div>\n",
       "</div>\n",
       "<script type=\"application/javascript\">(function(root) {\n",
       "  function embed_document(root) {\n",
       "    var docs_json = {\"95eeb7d2-93c2-43b9-b1a2-8d0316f1e902\":{\"defs\":[{\"extends\":null,\"module\":null,\"name\":\"ReactiveHTML1\",\"overrides\":[],\"properties\":[]},{\"extends\":null,\"module\":null,\"name\":\"FlexBox1\",\"overrides\":[],\"properties\":[{\"default\":\"flex-start\",\"kind\":null,\"name\":\"align_content\"},{\"default\":\"flex-start\",\"kind\":null,\"name\":\"align_items\"},{\"default\":\"row\",\"kind\":null,\"name\":\"flex_direction\"},{\"default\":\"wrap\",\"kind\":null,\"name\":\"flex_wrap\"},{\"default\":\"flex-start\",\"kind\":null,\"name\":\"justify_content\"}]},{\"extends\":null,\"module\":null,\"name\":\"GridStack1\",\"overrides\":[],\"properties\":[{\"default\":\"warn\",\"kind\":null,\"name\":\"mode\"},{\"default\":null,\"kind\":null,\"name\":\"ncols\"},{\"default\":null,\"kind\":null,\"name\":\"nrows\"},{\"default\":true,\"kind\":null,\"name\":\"allow_resize\"},{\"default\":true,\"kind\":null,\"name\":\"allow_drag\"},{\"default\":[],\"kind\":null,\"name\":\"state\"}]},{\"extends\":null,\"module\":null,\"name\":\"click1\",\"overrides\":[],\"properties\":[{\"default\":\"\",\"kind\":null,\"name\":\"terminal_output\"},{\"default\":\"\",\"kind\":null,\"name\":\"debug_name\"},{\"default\":0,\"kind\":null,\"name\":\"clears\"}]},{\"extends\":null,\"module\":null,\"name\":\"NotificationAreaBase1\",\"overrides\":[],\"properties\":[{\"default\":\"bottom-right\",\"kind\":null,\"name\":\"position\"},{\"default\":0,\"kind\":null,\"name\":\"_clear\"}]},{\"extends\":null,\"module\":null,\"name\":\"NotificationArea1\",\"overrides\":[],\"properties\":[{\"default\":[],\"kind\":null,\"name\":\"notifications\"},{\"default\":\"bottom-right\",\"kind\":null,\"name\":\"position\"},{\"default\":0,\"kind\":null,\"name\":\"_clear\"},{\"default\":[{\"background\":\"#ffc107\",\"icon\":{\"className\":\"fas fa-exclamation-triangle\",\"color\":\"white\",\"tagName\":\"i\"},\"type\":\"warning\"},{\"background\":\"#007bff\",\"icon\":{\"className\":\"fas fa-info-circle\",\"color\":\"white\",\"tagName\":\"i\"},\"type\":\"info\"}],\"kind\":null,\"name\":\"types\"}]},{\"extends\":null,\"module\":null,\"name\":\"Notification\",\"overrides\":[],\"properties\":[{\"default\":null,\"kind\":null,\"name\":\"background\"},{\"default\":3000,\"kind\":null,\"name\":\"duration\"},{\"default\":null,\"kind\":null,\"name\":\"icon\"},{\"default\":\"\",\"kind\":null,\"name\":\"message\"},{\"default\":null,\"kind\":null,\"name\":\"notification_type\"},{\"default\":false,\"kind\":null,\"name\":\"_destroyed\"}]},{\"extends\":null,\"module\":null,\"name\":\"TemplateActions1\",\"overrides\":[],\"properties\":[{\"default\":0,\"kind\":null,\"name\":\"open_modal\"},{\"default\":0,\"kind\":null,\"name\":\"close_modal\"}]},{\"extends\":null,\"module\":null,\"name\":\"MaterialTemplateActions1\",\"overrides\":[],\"properties\":[{\"default\":0,\"kind\":null,\"name\":\"open_modal\"},{\"default\":0,\"kind\":null,\"name\":\"close_modal\"}]}],\"roots\":{\"references\":[{\"attributes\":{\"auto\":true,\"filename\":\"transcript.txt\",\"label\":\"Download transcript.txt\",\"margin\":[5,10,5,10]},\"id\":\"3901\",\"type\":\"panel.models.widgets.FileDownload\"},{\"attributes\":{\"client_comm_id\":\"2dd006e7eb8342b8aadefda5f3771285\",\"comm_id\":\"2ef1e26da9ff4ec9b384f6762f6ca2b1\",\"plot_id\":\"3901\"},\"id\":\"3902\",\"type\":\"panel.models.comm_manager.CommManager\"}],\"root_ids\":[\"3901\",\"3902\"]},\"title\":\"Bokeh Application\",\"version\":\"2.4.3\"}};\n",
       "    var render_items = [{\"docid\":\"95eeb7d2-93c2-43b9-b1a2-8d0316f1e902\",\"root_ids\":[\"3901\"],\"roots\":{\"3901\":\"4d99085c-fefa-49a2-87d9-93e0eaa5e2b1\"}}];\n",
       "    root.Bokeh.embed.embed_items_notebook(docs_json, render_items);\n",
       "  }\n",
       "  if (root.Bokeh !== undefined && root.Bokeh.Panel !== undefined) {\n",
       "    embed_document(root);\n",
       "  } else {\n",
       "    var attempts = 0;\n",
       "    var timer = setInterval(function(root) {\n",
       "      if (root.Bokeh !== undefined && root.Bokeh.Panel !== undefined) {\n",
       "        clearInterval(timer);\n",
       "        embed_document(root);\n",
       "      } else if (document.readyState == \"complete\") {\n",
       "        attempts++;\n",
       "        if (attempts > 200) {\n",
       "          clearInterval(timer);\n",
       "          console.log(\"Bokeh: ERROR: Unable to run BokehJS code because BokehJS library is missing\");\n",
       "        }\n",
       "      }\n",
       "    }, 25, root)\n",
       "  }\n",
       "})(window);</script>"
      ],
      "text/plain": [
       "FileDownload(file=<_io.StringIO o..., filename='transcript.txt', label='Download transcript.txt')"
      ]
     },
     "execution_count": 106,
     "metadata": {
      "application/vnd.holoviews_exec.v0+json": {
       "id": "3901"
      }
     },
     "output_type": "execute_result"
    }
   ],
   "source": [
    "transcript_download = pn.widgets.FileDownload(file=buffer, filename=\"transcript.txt\")\n",
    "transcript_download"
   ]
  },
  {
   "cell_type": "markdown",
   "id": "2aded343-dfd5-40c1-b7b8-95f696445888",
   "metadata": {},
   "source": [
    "### 00) Audio play"
   ]
  },
  {
   "cell_type": "code",
   "execution_count": 39,
   "id": "9b62fcb5-2f51-4909-a2f5-6426b685e289",
   "metadata": {},
   "outputs": [
    {
     "data": {},
     "metadata": {},
     "output_type": "display_data"
    },
    {
     "data": {
      "application/vnd.holoviews_exec.v0+json": "",
      "text/html": [
       "<div id='1015'>\n",
       "  <div class=\"bk-root\" id=\"1ddb3252-85df-44d1-bc21-86c2eb9f6b34\" data-root-id=\"1015\"></div>\n",
       "</div>\n",
       "<script type=\"application/javascript\">(function(root) {\n",
       "  function embed_document(root) {\n",
       "    var docs_json = {\"e81e6582-bc6c-4df4-a8bb-41b1cca0b4ae\":{\"defs\":[{\"extends\":null,\"module\":null,\"name\":\"ReactiveHTML1\",\"overrides\":[],\"properties\":[]},{\"extends\":null,\"module\":null,\"name\":\"FlexBox1\",\"overrides\":[],\"properties\":[{\"default\":\"flex-start\",\"kind\":null,\"name\":\"align_content\"},{\"default\":\"flex-start\",\"kind\":null,\"name\":\"align_items\"},{\"default\":\"row\",\"kind\":null,\"name\":\"flex_direction\"},{\"default\":\"wrap\",\"kind\":null,\"name\":\"flex_wrap\"},{\"default\":\"flex-start\",\"kind\":null,\"name\":\"justify_content\"}]},{\"extends\":null,\"module\":null,\"name\":\"GridStack1\",\"overrides\":[],\"properties\":[{\"default\":\"warn\",\"kind\":null,\"name\":\"mode\"},{\"default\":null,\"kind\":null,\"name\":\"ncols\"},{\"default\":null,\"kind\":null,\"name\":\"nrows\"},{\"default\":true,\"kind\":null,\"name\":\"allow_resize\"},{\"default\":true,\"kind\":null,\"name\":\"allow_drag\"},{\"default\":[],\"kind\":null,\"name\":\"state\"}]},{\"extends\":null,\"module\":null,\"name\":\"click1\",\"overrides\":[],\"properties\":[{\"default\":\"\",\"kind\":null,\"name\":\"terminal_output\"},{\"default\":\"\",\"kind\":null,\"name\":\"debug_name\"},{\"default\":0,\"kind\":null,\"name\":\"clears\"}]},{\"extends\":null,\"module\":null,\"name\":\"NotificationAreaBase1\",\"overrides\":[],\"properties\":[{\"default\":\"bottom-right\",\"kind\":null,\"name\":\"position\"},{\"default\":0,\"kind\":null,\"name\":\"_clear\"}]},{\"extends\":null,\"module\":null,\"name\":\"NotificationArea1\",\"overrides\":[],\"properties\":[{\"default\":[],\"kind\":null,\"name\":\"notifications\"},{\"default\":\"bottom-right\",\"kind\":null,\"name\":\"position\"},{\"default\":0,\"kind\":null,\"name\":\"_clear\"},{\"default\":[{\"background\":\"#ffc107\",\"icon\":{\"className\":\"fas fa-exclamation-triangle\",\"color\":\"white\",\"tagName\":\"i\"},\"type\":\"warning\"},{\"background\":\"#007bff\",\"icon\":{\"className\":\"fas fa-info-circle\",\"color\":\"white\",\"tagName\":\"i\"},\"type\":\"info\"}],\"kind\":null,\"name\":\"types\"}]},{\"extends\":null,\"module\":null,\"name\":\"Notification\",\"overrides\":[],\"properties\":[{\"default\":null,\"kind\":null,\"name\":\"background\"},{\"default\":3000,\"kind\":null,\"name\":\"duration\"},{\"default\":null,\"kind\":null,\"name\":\"icon\"},{\"default\":\"\",\"kind\":null,\"name\":\"message\"},{\"default\":null,\"kind\":null,\"name\":\"notification_type\"},{\"default\":false,\"kind\":null,\"name\":\"_destroyed\"}]},{\"extends\":null,\"module\":null,\"name\":\"TemplateActions1\",\"overrides\":[],\"properties\":[{\"default\":0,\"kind\":null,\"name\":\"open_modal\"},{\"default\":0,\"kind\":null,\"name\":\"close_modal\"}]},{\"extends\":null,\"module\":null,\"name\":\"MaterialTemplateActions1\",\"overrides\":[],\"properties\":[{\"default\":0,\"kind\":null,\"name\":\"open_modal\"},{\"default\":0,\"kind\":null,\"name\":\"close_modal\"}]}],\"roots\":{\"references\":[{\"attributes\":{\"client_comm_id\":\"aa399340ae7b442ba3959ae6d1f85ce7\",\"comm_id\":\"fa98c2f492524842b02c60c55a4e393a\",\"plot_id\":\"1015\"},\"id\":\"1016\",\"type\":\"panel.models.comm_manager.CommManager\"},{\"attributes\":{\"margin\":[5,5,5,5],\"paused\":true,\"time\":360,\"value\":\"https://github.com/thu-vu92/audio_analyzer_assemblyai/blob/main/How_I_Would_Learn_to_Code.mp3?raw=true\"},\"id\":\"1015\",\"type\":\"panel.models.widgets.Audio\"}],\"root_ids\":[\"1015\",\"1016\"]},\"title\":\"Bokeh Application\",\"version\":\"2.4.3\"}};\n",
       "    var render_items = [{\"docid\":\"e81e6582-bc6c-4df4-a8bb-41b1cca0b4ae\",\"root_ids\":[\"1015\"],\"roots\":{\"1015\":\"1ddb3252-85df-44d1-bc21-86c2eb9f6b34\"}}];\n",
       "    root.Bokeh.embed.embed_items_notebook(docs_json, render_items);\n",
       "  }\n",
       "  if (root.Bokeh !== undefined && root.Bokeh.Panel !== undefined) {\n",
       "    embed_document(root);\n",
       "  } else {\n",
       "    var attempts = 0;\n",
       "    var timer = setInterval(function(root) {\n",
       "      if (root.Bokeh !== undefined && root.Bokeh.Panel !== undefined) {\n",
       "        clearInterval(timer);\n",
       "        embed_document(root);\n",
       "      } else if (document.readyState == \"complete\") {\n",
       "        attempts++;\n",
       "        if (attempts > 200) {\n",
       "          clearInterval(timer);\n",
       "          console.log(\"Bokeh: ERROR: Unable to run BokehJS code because BokehJS library is missing\");\n",
       "        }\n",
       "      }\n",
       "    }, 25, root)\n",
       "  }\n",
       "})(window);</script>"
      ],
      "text/plain": [
       "Audio(str, time=360)"
      ]
     },
     "execution_count": 39,
     "metadata": {
      "application/vnd.holoviews_exec.v0+json": {
       "id": "1015"
      }
     },
     "output_type": "execute_result"
    }
   ],
   "source": [
    "audio_play = pn.pane.Audio(audio_url, name='Audio', time = 360)\n",
    "\n",
    "audio_play"
   ]
  },
  {
   "cell_type": "markdown",
   "id": "b1b7b341-2747-4adc-87c9-a04948e17b60",
   "metadata": {},
   "source": [
    "### 1) Sentiment"
   ]
  },
  {
   "cell_type": "code",
   "execution_count": 43,
   "id": "25552e1a-4a70-480b-82fc-b36256082805",
   "metadata": {},
   "outputs": [],
   "source": [
    "sentiment = data[\"sentiment_analysis_results\"]"
   ]
  },
  {
   "cell_type": "code",
   "execution_count": 44,
   "id": "d7e0cca2-3849-40f5-96e9-3dc179dde0df",
   "metadata": {},
   "outputs": [
    {
     "data": {
      "text/html": [
       "<div>\n",
       "<style scoped>\n",
       "    .dataframe tbody tr th:only-of-type {\n",
       "        vertical-align: middle;\n",
       "    }\n",
       "\n",
       "    .dataframe tbody tr th {\n",
       "        vertical-align: top;\n",
       "    }\n",
       "\n",
       "    .dataframe thead th {\n",
       "        text-align: right;\n",
       "    }\n",
       "</style>\n",
       "<table border=\"1\" class=\"dataframe\">\n",
       "  <thead>\n",
       "    <tr style=\"text-align: right;\">\n",
       "      <th></th>\n",
       "      <th>text</th>\n",
       "      <th>start</th>\n",
       "      <th>end</th>\n",
       "      <th>sentiment</th>\n",
       "      <th>confidence</th>\n",
       "      <th>speaker</th>\n",
       "    </tr>\n",
       "  </thead>\n",
       "  <tbody>\n",
       "    <tr>\n",
       "      <th>0</th>\n",
       "      <td>I recently got an amazing opportunity.</td>\n",
       "      <td>250</td>\n",
       "      <td>2094</td>\n",
       "      <td>POSITIVE</td>\n",
       "      <td>0.985436</td>\n",
       "      <td>None</td>\n",
       "    </tr>\n",
       "    <tr>\n",
       "      <th>1</th>\n",
       "      <td>I've been learning jujitsu, and a friend offer...</td>\n",
       "      <td>2252</td>\n",
       "      <td>7278</td>\n",
       "      <td>POSITIVE</td>\n",
       "      <td>0.567717</td>\n",
       "      <td>None</td>\n",
       "    </tr>\n",
       "    <tr>\n",
       "      <th>2</th>\n",
       "      <td>At this point in my life where I'm trying to i...</td>\n",
       "      <td>7424</td>\n",
       "      <td>13290</td>\n",
       "      <td>POSITIVE</td>\n",
       "      <td>0.955794</td>\n",
       "      <td>None</td>\n",
       "    </tr>\n",
       "    <tr>\n",
       "      <th>3</th>\n",
       "      <td>In my personal opinion, I was all for until I ...</td>\n",
       "      <td>13340</td>\n",
       "      <td>22698</td>\n",
       "      <td>NEGATIVE</td>\n",
       "      <td>0.689610</td>\n",
       "      <td>None</td>\n",
       "    </tr>\n",
       "    <tr>\n",
       "      <th>4</th>\n",
       "      <td>After all, it's been almost ten years since I ...</td>\n",
       "      <td>22844</td>\n",
       "      <td>26250</td>\n",
       "      <td>NEUTRAL</td>\n",
       "      <td>0.613529</td>\n",
       "      <td>None</td>\n",
       "    </tr>\n",
       "  </tbody>\n",
       "</table>\n",
       "</div>"
      ],
      "text/plain": [
       "                                                text  start    end sentiment  \\\n",
       "0             I recently got an amazing opportunity.    250   2094  POSITIVE   \n",
       "1  I've been learning jujitsu, and a friend offer...   2252   7278  POSITIVE   \n",
       "2  At this point in my life where I'm trying to i...   7424  13290  POSITIVE   \n",
       "3  In my personal opinion, I was all for until I ...  13340  22698  NEGATIVE   \n",
       "4  After all, it's been almost ten years since I ...  22844  26250   NEUTRAL   \n",
       "\n",
       "   confidence speaker  \n",
       "0    0.985436    None  \n",
       "1    0.567717    None  \n",
       "2    0.955794    None  \n",
       "3    0.689610    None  \n",
       "4    0.613529    None  "
      ]
     },
     "execution_count": 44,
     "metadata": {},
     "output_type": "execute_result"
    }
   ],
   "source": [
    "sentiment_df = pd.DataFrame(sentiment)\n",
    "sentiment_df.head()"
   ]
  },
  {
   "cell_type": "code",
   "execution_count": 46,
   "id": "f03dfe63-762a-4911-8217-990dd4bd5d4f",
   "metadata": {},
   "outputs": [
    {
     "data": {
      "text/plain": [
       "NEUTRAL     81\n",
       "POSITIVE    53\n",
       "NEGATIVE    16\n",
       "Name: sentiment, dtype: int64"
      ]
     },
     "execution_count": 46,
     "metadata": {},
     "output_type": "execute_result"
    }
   ],
   "source": [
    "sentiment_df_grouped = sentiment_df['sentiment'].value_counts()\n",
    "sentiment_df_grouped"
   ]
  },
  {
   "cell_type": "code",
   "execution_count": 47,
   "id": "af92d561-35aa-4c65-b0eb-71179c3b813d",
   "metadata": {},
   "outputs": [
    {
     "data": {
      "text/plain": [
       ":Bars   [index]   (sentiment)"
      ]
     },
     "execution_count": 47,
     "metadata": {},
     "output_type": "execute_result"
    }
   ],
   "source": [
    "sentiment_plot = sentiment_df_grouped.hvplot(title = \"Sentences by Sentiment Category\", kind=\"bar\")\n",
    "sentiment_plot"
   ]
  },
  {
   "cell_type": "code",
   "execution_count": 104,
   "id": "dd9bcb1e-714a-4d37-a488-66a5a5094c05",
   "metadata": {},
   "outputs": [
    {
     "data": {},
     "metadata": {},
     "output_type": "display_data"
    },
    {
     "data": {},
     "metadata": {},
     "output_type": "display_data"
    },
    {
     "data": {
      "application/vnd.holoviews_exec.v0+json": "",
      "text/html": [
       "<div id='3644'>\n",
       "  <div class=\"bk-root\" id=\"f612bb52-68c6-4af7-9bae-a5f1c07cd902\" data-root-id=\"3644\"></div>\n",
       "</div>\n",
       "<script type=\"application/javascript\">(function(root) {\n",
       "  function embed_document(root) {\n",
       "    var docs_json = {\"49a81549-9de0-4352-8dc0-2a763d3b2656\":{\"defs\":[{\"extends\":null,\"module\":null,\"name\":\"ReactiveHTML1\",\"overrides\":[],\"properties\":[]},{\"extends\":null,\"module\":null,\"name\":\"FlexBox1\",\"overrides\":[],\"properties\":[{\"default\":\"flex-start\",\"kind\":null,\"name\":\"align_content\"},{\"default\":\"flex-start\",\"kind\":null,\"name\":\"align_items\"},{\"default\":\"row\",\"kind\":null,\"name\":\"flex_direction\"},{\"default\":\"wrap\",\"kind\":null,\"name\":\"flex_wrap\"},{\"default\":\"flex-start\",\"kind\":null,\"name\":\"justify_content\"}]},{\"extends\":null,\"module\":null,\"name\":\"GridStack1\",\"overrides\":[],\"properties\":[{\"default\":\"warn\",\"kind\":null,\"name\":\"mode\"},{\"default\":null,\"kind\":null,\"name\":\"ncols\"},{\"default\":null,\"kind\":null,\"name\":\"nrows\"},{\"default\":true,\"kind\":null,\"name\":\"allow_resize\"},{\"default\":true,\"kind\":null,\"name\":\"allow_drag\"},{\"default\":[],\"kind\":null,\"name\":\"state\"}]},{\"extends\":null,\"module\":null,\"name\":\"click1\",\"overrides\":[],\"properties\":[{\"default\":\"\",\"kind\":null,\"name\":\"terminal_output\"},{\"default\":\"\",\"kind\":null,\"name\":\"debug_name\"},{\"default\":0,\"kind\":null,\"name\":\"clears\"}]},{\"extends\":null,\"module\":null,\"name\":\"NotificationAreaBase1\",\"overrides\":[],\"properties\":[{\"default\":\"bottom-right\",\"kind\":null,\"name\":\"position\"},{\"default\":0,\"kind\":null,\"name\":\"_clear\"}]},{\"extends\":null,\"module\":null,\"name\":\"NotificationArea1\",\"overrides\":[],\"properties\":[{\"default\":[],\"kind\":null,\"name\":\"notifications\"},{\"default\":\"bottom-right\",\"kind\":null,\"name\":\"position\"},{\"default\":0,\"kind\":null,\"name\":\"_clear\"},{\"default\":[{\"background\":\"#ffc107\",\"icon\":{\"className\":\"fas fa-exclamation-triangle\",\"color\":\"white\",\"tagName\":\"i\"},\"type\":\"warning\"},{\"background\":\"#007bff\",\"icon\":{\"className\":\"fas fa-info-circle\",\"color\":\"white\",\"tagName\":\"i\"},\"type\":\"info\"}],\"kind\":null,\"name\":\"types\"}]},{\"extends\":null,\"module\":null,\"name\":\"Notification\",\"overrides\":[],\"properties\":[{\"default\":null,\"kind\":null,\"name\":\"background\"},{\"default\":3000,\"kind\":null,\"name\":\"duration\"},{\"default\":null,\"kind\":null,\"name\":\"icon\"},{\"default\":\"\",\"kind\":null,\"name\":\"message\"},{\"default\":null,\"kind\":null,\"name\":\"notification_type\"},{\"default\":false,\"kind\":null,\"name\":\"_destroyed\"}]},{\"extends\":null,\"module\":null,\"name\":\"TemplateActions1\",\"overrides\":[],\"properties\":[{\"default\":0,\"kind\":null,\"name\":\"open_modal\"},{\"default\":0,\"kind\":null,\"name\":\"close_modal\"}]},{\"extends\":null,\"module\":null,\"name\":\"MaterialTemplateActions1\",\"overrides\":[],\"properties\":[{\"default\":0,\"kind\":null,\"name\":\"open_modal\"},{\"default\":0,\"kind\":null,\"name\":\"close_modal\"}]}],\"roots\":{\"references\":[{\"attributes\":{\"data\":{\"index\":[0,1,2,9,10,11,12,14,17,19,22,24,25,27,28,37,38,60,61,65,70,71,75,81,82,83,85,86,89,90,91,93,96,98,105,106,107,108,109,110,111,116,117,120,121,127,128,130,133,138,140,146,149],\"sentiment\":[\"POSITIVE\",\"POSITIVE\",\"POSITIVE\",\"POSITIVE\",\"POSITIVE\",\"POSITIVE\",\"POSITIVE\",\"POSITIVE\",\"POSITIVE\",\"POSITIVE\",\"POSITIVE\",\"POSITIVE\",\"POSITIVE\",\"POSITIVE\",\"POSITIVE\",\"POSITIVE\",\"POSITIVE\",\"POSITIVE\",\"POSITIVE\",\"POSITIVE\",\"POSITIVE\",\"POSITIVE\",\"POSITIVE\",\"POSITIVE\",\"POSITIVE\",\"POSITIVE\",\"POSITIVE\",\"POSITIVE\",\"POSITIVE\",\"POSITIVE\",\"POSITIVE\",\"POSITIVE\",\"POSITIVE\",\"POSITIVE\",\"POSITIVE\",\"POSITIVE\",\"POSITIVE\",\"POSITIVE\",\"POSITIVE\",\"POSITIVE\",\"POSITIVE\",\"POSITIVE\",\"POSITIVE\",\"POSITIVE\",\"POSITIVE\",\"POSITIVE\",\"POSITIVE\",\"POSITIVE\",\"POSITIVE\",\"POSITIVE\",\"POSITIVE\",\"POSITIVE\",\"POSITIVE\"],\"text\":[\"I recently got an amazing opportunity.\",\"I've been learning jujitsu, and a friend offered to coach me in exchange for teaching him how to code.\",\"At this point in my life where I'm trying to improve my jiu jitsu as quickly as possible, this was an incredible trade for me.\",\"There have been plenty of other great videos similar to this about how to start coding, and I've linked many of them in the description.\",\"Again, those are great, but I think this is a bit different because it's more focused on coding for data and it uses a very specific real world case study.\",\"At the end, I also highlight the three most important things a new programmer should know.\",\"So you definitely want to stick around for that.\",\"I know if you're working with data, you generally have two good choices.\",\"In industry, Python is a far more common language.\",\"On Kaggle, my favorite platform for data science learning and projects, we can see that around 84.2% of respondents use Python, while only 25% use R.\",\"We can see here from 2020 to 2021, Python has gained an adoption.\",\"I recommended my friend to start learning Python first.\",\"That language is more popular, and it's continuing to grow.\",\"It's just to say that I think Python is growing and will be a more valuable skill to have for the job market in general.\",\"I also personally find it a bit more intuitive and flexible than our.\",\"I just now got excited about teaching the functional part of programming, and I completely forgot about the basics of setting up your environment for success.\",\"The next thing I did was give my friend some of my favorite resources on choosing an environment and getting the right version of Python on his computer.\",\"So in the video, they show you how to set up the PyCharm environment and get comfortable using that.\",\"I think PyCharm is solid, and if you get familiar with that, you can easily pick up the SCode, a Jupiter notebook, or Spider pretty quickly.\",\"Surprisingly, I think this might be one of the simplest parts of this entire process.\",\"They're designed to be as easy to use as possible while creating good results.\",\"So if you change your perspective to look at them as intuitive, coding becomes significantly more fun and stressfree.\",\"All the resources that I've linked in the description cover these topics, but I'm going to give you a very, very high level overview here.\",\"These are very handy in your first few projects.\",\"If held, statements are probably the most important one.\",\"But you can definitely find use cases for the others, especially if you're working with data.\",\"So one thing computers are really great at is doing a simple task over and over again.\",\"You'd be surprised at how useful these can be for your programming future.\",\"Functions allow you to encapsulate code and reuse it.\",\"If you really think about it, good coding is about making as many reusable bits as possible, and these functions are where that really begins.\",\"At this point, you have a pretty good understanding of the key building blocks of Python.\",\"I recommend taking a deeper dive into Lists, Dictionaries, as well as Tuples.\",\"So the most important ones for data are Pandas, NumPy, ScikitLearn, and Matplotlib, and these give you additional tools to analyze, visualize and manipulate data.\",\"So if you have an understanding of how the more basic data structures work in Python, you should be able to pick these up relatively quickly.\",\"It is something you should absolutely explore on your own after you've learned these other concepts.\",\"Well, in the description, I've linked a few great resources for learning all of the concepts, including the exact one from Free Code Camp that I gave my friend.\",\"Most of them are completely free, but I have also included my discount link for the course on 365 Data Science.\",\"So if you're looking for a resource just to take you past the more basic coding and more towards tangible data science skills, I would recommend checking that out.\",\"One thing that I love about many of the courses that I've linked is that they have these little mini projects baked into the coursework.\",\"I think project based learning is the single most effective way to learn technical concepts.\",\"After first getting a basic foundation, I highly encourage you to think about how you can use code to build things that would be useful to you.\",\"This is a simple project, but it's something that's directly relevant and useful to our work and our jujitsu training.\",\"With that in mind, I'd love for you to comment below with a Python project that you'd like to do, and we'll all hold each other accountable.\",\"If you're interested in learning more about data, I highly recommend that you do a datarelated project.\",\"The single best place for this is Kaggle.com, which I've mentioned before.\",\"Many people think that this is cheating, but it's actually a great way to learn.\",\"Even better when you run it, make some changes to the code and see what happens.\",\"Just simple things like that help you iterate and improve.\",\"This is great and free compute power if you have limited resources at home.\",\"These are probably the most important things that a new coder can learn.\",\"If you have a question, it's almost guaranteed that someone has asked it before on the Internet, getting good at finding answers on your own via search might be the single most important skill of a data scientist or software engineer that they use every single day.\",\"Also, Google the errors, and this will save you a lot of time and headache.\",\"Thank you all so much for watching, and good luck on your data science and coding journey.\"]},\"selected\":{\"id\":\"3704\"},\"selection_policy\":{\"id\":\"3779\"}},\"id\":\"3703\",\"type\":\"ColumnDataSource\"},{\"attributes\":{},\"id\":\"3691\",\"type\":\"AllLabels\"},{\"attributes\":{\"editor\":{\"id\":\"3712\"},\"field\":\"text\",\"formatter\":{\"id\":\"3711\"},\"title\":\"text\",\"width\":0},\"id\":\"3713\",\"type\":\"TableColumn\"},{\"attributes\":{\"data\":{\"index\":[3,36,41,50,54,62,66,67,101,114,123,141,142,143,144,148],\"sentiment\":[\"NEGATIVE\",\"NEGATIVE\",\"NEGATIVE\",\"NEGATIVE\",\"NEGATIVE\",\"NEGATIVE\",\"NEGATIVE\",\"NEGATIVE\",\"NEGATIVE\",\"NEGATIVE\",\"NEGATIVE\",\"NEGATIVE\",\"NEGATIVE\",\"NEGATIVE\",\"NEGATIVE\",\"NEGATIVE\"],\"text\":[\"In my personal opinion, I was all for until I had to think about how I'd actually go about teaching someone how to code starting from nothing, I quickly realized that this was going to be a lot harder than I thought.\",\"I didn't even know where to start with getting Python on my own computer.\",\"Does he even know what IDE stands for?\",\"In theory, technically, Microsoft Word would be considered an idea, but I definitely don't recommend using it as such unless you're jump ate.\",\"As I mentioned, this is something that I was totally confused about when I started.\",\"Truthfully, I don't think that the idea that you start with really matters that much.\",\"You see, there's a common misconception that coding is trying to trick you.\",\"There's this conspiracy that learning to code is supposed to be really hard and very scary.\",\"If you're watching this and you're a software engineer, you probably think I left something important out.\",\"But it can get boring working on the same basic drills every day.\",\"Realistically, many people lose steam at this step.\",\"The second is to use errors so your code will not run.\",\"It will break, and you'll be sad.\",\"Don't just wallow in your self pity.\",\"Read the error messages.\",\"The only people that can't code are the ones that never tried or the ones that quit too early.\"]},\"selected\":{\"id\":\"3727\"},\"selection_policy\":{\"id\":\"3781\"}},\"id\":\"3726\",\"type\":\"ColumnDataSource\"},{\"attributes\":{\"indices\":[]},\"id\":\"3704\",\"type\":\"Selection\"},{\"attributes\":{},\"id\":\"3758\",\"type\":\"StringEditor\"},{\"attributes\":{\"child\":{\"id\":\"3648\"},\"name\":\"Sentiment overview\",\"title\":\"Sentiment overview\"},\"id\":\"3702\",\"type\":\"Panel\"},{\"attributes\":{\"margin\":[0,0,0,0],\"tabs\":[{\"id\":\"3702\"},{\"id\":\"3725\"},{\"id\":\"3748\"},{\"id\":\"3771\"}]},\"id\":\"3644\",\"type\":\"panel.models.tabs.Tabs\"},{\"attributes\":{\"autosize_mode\":\"fit_columns\",\"columns\":[{\"id\":\"3708\"},{\"id\":\"3713\"},{\"id\":\"3718\"}],\"editable\":true,\"height\":300,\"index_position\":null,\"margin\":[5,10,5,10],\"name\":\"\",\"row_height\":40,\"sizing_mode\":\"fixed\",\"source\":{\"id\":\"3703\"},\"view\":{\"id\":\"3723\"},\"width\":700},\"id\":\"3721\",\"type\":\"DataTable\"},{\"attributes\":{\"editor\":{\"id\":\"3758\"},\"field\":\"text\",\"formatter\":{\"id\":\"3757\"},\"title\":\"text\",\"width\":0},\"id\":\"3759\",\"type\":\"TableColumn\"},{\"attributes\":{},\"id\":\"3753\",\"type\":\"CellEditor\"},{\"attributes\":{\"editor\":{\"id\":\"3740\"},\"field\":\"sentiment\",\"formatter\":{\"id\":\"3739\"},\"title\":\"sentiment\",\"width\":0},\"id\":\"3741\",\"type\":\"TableColumn\"},{\"attributes\":{\"editor\":{\"id\":\"3763\"},\"field\":\"sentiment\",\"formatter\":{\"id\":\"3762\"},\"title\":\"sentiment\",\"width\":0},\"id\":\"3764\",\"type\":\"TableColumn\"},{\"attributes\":{\"overlay\":{\"id\":\"3669\"}},\"id\":\"3667\",\"type\":\"BoxZoomTool\"},{\"attributes\":{\"fill_alpha\":{\"value\":0.2},\"fill_color\":{\"value\":\"#30a2da\"},\"hatch_alpha\":{\"value\":0.2},\"hatch_color\":{\"value\":\"#30a2da\"},\"line_alpha\":{\"value\":0.2},\"top\":{\"field\":\"sentiment\"},\"width\":{\"value\":0.8},\"x\":{\"field\":\"index\"}},\"id\":\"3682\",\"type\":\"VBar\"},{\"attributes\":{\"editor\":{\"id\":\"3735\"},\"field\":\"text\",\"formatter\":{\"id\":\"3734\"},\"title\":\"text\",\"width\":0},\"id\":\"3736\",\"type\":\"TableColumn\"},{\"attributes\":{},\"id\":\"3655\",\"type\":\"LinearScale\"},{\"attributes\":{},\"id\":\"3716\",\"type\":\"StringFormatter\"},{\"attributes\":{\"axis_label\":\"\",\"coordinates\":null,\"formatter\":{\"id\":\"3690\"},\"group\":null,\"major_label_policy\":{\"id\":\"3691\"},\"ticker\":{\"id\":\"3661\"}},\"id\":\"3660\",\"type\":\"LinearAxis\"},{\"attributes\":{},\"id\":\"3688\",\"type\":\"AllLabels\"},{\"attributes\":{},\"id\":\"3717\",\"type\":\"StringEditor\"},{\"attributes\":{\"editor\":{\"id\":\"3717\"},\"field\":\"sentiment\",\"formatter\":{\"id\":\"3716\"},\"title\":\"sentiment\",\"width\":0},\"id\":\"3718\",\"type\":\"TableColumn\"},{\"attributes\":{\"child\":{\"id\":\"3767\"},\"name\":\"\",\"title\":\"Neutral\"},\"id\":\"3771\",\"type\":\"Panel\"},{\"attributes\":{},\"id\":\"3730\",\"type\":\"CellEditor\"},{\"attributes\":{},\"id\":\"3666\",\"type\":\"WheelZoomTool\"},{\"attributes\":{},\"id\":\"3783\",\"type\":\"UnionRenderers\"},{\"attributes\":{},\"id\":\"3690\",\"type\":\"BasicTickFormatter\"},{\"attributes\":{},\"id\":\"3711\",\"type\":\"StringFormatter\"},{\"attributes\":{},\"id\":\"3763\",\"type\":\"StringEditor\"},{\"attributes\":{},\"id\":\"3712\",\"type\":\"StringEditor\"},{\"attributes\":{\"source\":{\"id\":\"3749\"}},\"id\":\"3769\",\"type\":\"CDSView\"},{\"attributes\":{\"autosize_mode\":\"fit_columns\",\"columns\":[{\"id\":\"3754\"},{\"id\":\"3759\"},{\"id\":\"3764\"}],\"editable\":true,\"height\":300,\"index_position\":null,\"margin\":[5,10,5,10],\"name\":\"\",\"row_height\":40,\"sizing_mode\":\"fixed\",\"source\":{\"id\":\"3749\"},\"view\":{\"id\":\"3769\"},\"width\":700},\"id\":\"3767\",\"type\":\"DataTable\"},{\"attributes\":{},\"id\":\"3707\",\"type\":\"CellEditor\"},{\"attributes\":{},\"id\":\"3734\",\"type\":\"StringFormatter\"},{\"attributes\":{\"indices\":[]},\"id\":\"3750\",\"type\":\"Selection\"},{\"attributes\":{\"coordinates\":null,\"group\":null,\"text\":\"Sentences by Sentiment Category\",\"text_color\":\"black\",\"text_font_size\":\"12pt\"},\"id\":\"3649\",\"type\":\"Title\"},{\"attributes\":{\"child\":{\"id\":\"3744\"},\"name\":\"\",\"title\":\"Negative\"},\"id\":\"3748\",\"type\":\"Panel\"},{\"attributes\":{\"source\":{\"id\":\"3677\"}},\"id\":\"3684\",\"type\":\"CDSView\"},{\"attributes\":{\"axis\":{\"id\":\"3660\"},\"coordinates\":null,\"dimension\":1,\"grid_line_color\":null,\"group\":null,\"ticker\":null},\"id\":\"3663\",\"type\":\"Grid\"},{\"attributes\":{\"bottom_units\":\"screen\",\"coordinates\":null,\"fill_alpha\":0.5,\"fill_color\":\"lightgrey\",\"group\":null,\"left_units\":\"screen\",\"level\":\"overlay\",\"line_alpha\":1.0,\"line_color\":\"black\",\"line_dash\":[4,4],\"line_width\":2,\"right_units\":\"screen\",\"syncable\":false,\"top_units\":\"screen\"},\"id\":\"3669\",\"type\":\"BoxAnnotation\"},{\"attributes\":{\"below\":[{\"id\":\"3657\"}],\"center\":[{\"id\":\"3659\"},{\"id\":\"3663\"}],\"height\":300,\"left\":[{\"id\":\"3660\"}],\"margin\":[5,5,5,5],\"min_border_bottom\":10,\"min_border_left\":10,\"min_border_right\":10,\"min_border_top\":10,\"renderers\":[{\"id\":\"3683\"}],\"sizing_mode\":\"fixed\",\"title\":{\"id\":\"3649\"},\"toolbar\":{\"id\":\"3670\"},\"width\":700,\"x_range\":{\"id\":\"3645\"},\"x_scale\":{\"id\":\"3653\"},\"y_range\":{\"id\":\"3646\"},\"y_scale\":{\"id\":\"3655\"}},\"id\":\"3648\",\"subtype\":\"Figure\",\"type\":\"Plot\"},{\"attributes\":{},\"id\":\"3668\",\"type\":\"ResetTool\"},{\"attributes\":{\"indices\":[]},\"id\":\"3727\",\"type\":\"Selection\"},{\"attributes\":{\"text_align\":\"left\"},\"id\":\"3751\",\"type\":\"NumberFormatter\"},{\"attributes\":{\"coordinates\":null,\"data_source\":{\"id\":\"3677\"},\"glyph\":{\"id\":\"3680\"},\"group\":null,\"hover_glyph\":null,\"muted_glyph\":{\"id\":\"3682\"},\"nonselection_glyph\":{\"id\":\"3681\"},\"selection_glyph\":{\"id\":\"3685\"},\"view\":{\"id\":\"3684\"}},\"id\":\"3683\",\"type\":\"GlyphRenderer\"},{\"attributes\":{},\"id\":\"3687\",\"type\":\"CategoricalTickFormatter\"},{\"attributes\":{\"tools\":[{\"id\":\"3647\"},{\"id\":\"3664\"},{\"id\":\"3665\"},{\"id\":\"3666\"},{\"id\":\"3667\"},{\"id\":\"3668\"}]},\"id\":\"3670\",\"type\":\"Toolbar\"},{\"attributes\":{\"fill_alpha\":{\"value\":0.1},\"fill_color\":{\"value\":\"#30a2da\"},\"hatch_alpha\":{\"value\":0.1},\"hatch_color\":{\"value\":\"#30a2da\"},\"line_alpha\":{\"value\":0.1},\"top\":{\"field\":\"sentiment\"},\"width\":{\"value\":0.8},\"x\":{\"field\":\"index\"}},\"id\":\"3681\",\"type\":\"VBar\"},{\"attributes\":{},\"id\":\"3740\",\"type\":\"StringEditor\"},{\"attributes\":{\"editor\":{\"id\":\"3753\"},\"field\":\"index\",\"formatter\":{\"id\":\"3751\"},\"title\":\"index\",\"width\":0},\"id\":\"3754\",\"type\":\"TableColumn\"},{\"attributes\":{},\"id\":\"3779\",\"type\":\"UnionRenderers\"},{\"attributes\":{\"client_comm_id\":\"0572914caed84014a6ebd1310f8edc73\",\"comm_id\":\"842c3cc48c95468197bd1dde81ee114b\",\"plot_id\":\"3644\"},\"id\":\"3820\",\"type\":\"panel.models.comm_manager.CommManager\"},{\"attributes\":{\"fill_color\":{\"value\":\"#30a2da\"},\"hatch_color\":{\"value\":\"#30a2da\"},\"top\":{\"field\":\"sentiment\"},\"width\":{\"value\":0.8},\"x\":{\"field\":\"index\"}},\"id\":\"3680\",\"type\":\"VBar\"},{\"attributes\":{\"editor\":{\"id\":\"3730\"},\"field\":\"index\",\"formatter\":{\"id\":\"3728\"},\"title\":\"index\",\"width\":0},\"id\":\"3731\",\"type\":\"TableColumn\"},{\"attributes\":{},\"id\":\"3739\",\"type\":\"StringFormatter\"},{\"attributes\":{\"data\":{\"index\":[\"NEUTRAL\",\"POSITIVE\",\"NEGATIVE\"],\"sentiment\":[81,53,16]},\"selected\":{\"id\":\"3678\"},\"selection_policy\":{\"id\":\"3699\"}},\"id\":\"3677\",\"type\":\"ColumnDataSource\"},{\"attributes\":{\"text_align\":\"left\"},\"id\":\"3705\",\"type\":\"NumberFormatter\"},{\"attributes\":{\"editor\":{\"id\":\"3707\"},\"field\":\"index\",\"formatter\":{\"id\":\"3705\"},\"title\":\"index\",\"width\":0},\"id\":\"3708\",\"type\":\"TableColumn\"},{\"attributes\":{},\"id\":\"3661\",\"type\":\"BasicTicker\"},{\"attributes\":{\"axis_label\":\"\",\"coordinates\":null,\"formatter\":{\"id\":\"3687\"},\"group\":null,\"major_label_policy\":{\"id\":\"3688\"},\"ticker\":{\"id\":\"3658\"}},\"id\":\"3657\",\"type\":\"CategoricalAxis\"},{\"attributes\":{},\"id\":\"3665\",\"type\":\"PanTool\"},{\"attributes\":{\"text_align\":\"left\"},\"id\":\"3728\",\"type\":\"NumberFormatter\"},{\"attributes\":{},\"id\":\"3658\",\"type\":\"CategoricalTicker\"},{\"attributes\":{},\"id\":\"3678\",\"type\":\"Selection\"},{\"attributes\":{\"factors\":[\"NEUTRAL\",\"POSITIVE\",\"NEGATIVE\"],\"tags\":[[[\"index\",\"index\",null]]]},\"id\":\"3645\",\"type\":\"FactorRange\"},{\"attributes\":{\"source\":{\"id\":\"3726\"}},\"id\":\"3746\",\"type\":\"CDSView\"},{\"attributes\":{},\"id\":\"3781\",\"type\":\"UnionRenderers\"},{\"attributes\":{\"source\":{\"id\":\"3703\"}},\"id\":\"3723\",\"type\":\"CDSView\"},{\"attributes\":{\"child\":{\"id\":\"3721\"},\"name\":\"\",\"title\":\"Positive\"},\"id\":\"3725\",\"type\":\"Panel\"},{\"attributes\":{},\"id\":\"3699\",\"type\":\"UnionRenderers\"},{\"attributes\":{},\"id\":\"3653\",\"type\":\"CategoricalScale\"},{\"attributes\":{\"callback\":null,\"renderers\":[{\"id\":\"3683\"}],\"tags\":[\"hv_created\"],\"tooltips\":[[\"index\",\"@{index}\"],[\"sentiment\",\"@{sentiment}\"]]},\"id\":\"3647\",\"type\":\"HoverTool\"},{\"attributes\":{},\"id\":\"3664\",\"type\":\"SaveTool\"},{\"attributes\":{\"axis\":{\"id\":\"3657\"},\"coordinates\":null,\"grid_line_color\":null,\"group\":null,\"ticker\":null},\"id\":\"3659\",\"type\":\"Grid\"},{\"attributes\":{},\"id\":\"3735\",\"type\":\"StringEditor\"},{\"attributes\":{},\"id\":\"3762\",\"type\":\"StringFormatter\"},{\"attributes\":{},\"id\":\"3757\",\"type\":\"StringFormatter\"},{\"attributes\":{\"end\":87.5,\"reset_end\":87.5,\"reset_start\":0.0,\"tags\":[[[\"sentiment\",\"sentiment\",null]]]},\"id\":\"3646\",\"type\":\"Range1d\"},{\"attributes\":{\"data\":{\"index\":[4,5,6,7,8,13,15,16,18,20,21,23,26,29,30,31,32,33,34,35,39,40,42,43,44,45,46,47,48,49,51,52,53,55,56,57,58,59,63,64,68,69,72,73,74,76,77,78,79,80,84,87,88,92,94,95,97,99,100,102,103,104,112,113,115,118,119,122,124,125,126,129,131,132,134,135,136,137,139,145,147],\"sentiment\":[\"NEUTRAL\",\"NEUTRAL\",\"NEUTRAL\",\"NEUTRAL\",\"NEUTRAL\",\"NEUTRAL\",\"NEUTRAL\",\"NEUTRAL\",\"NEUTRAL\",\"NEUTRAL\",\"NEUTRAL\",\"NEUTRAL\",\"NEUTRAL\",\"NEUTRAL\",\"NEUTRAL\",\"NEUTRAL\",\"NEUTRAL\",\"NEUTRAL\",\"NEUTRAL\",\"NEUTRAL\",\"NEUTRAL\",\"NEUTRAL\",\"NEUTRAL\",\"NEUTRAL\",\"NEUTRAL\",\"NEUTRAL\",\"NEUTRAL\",\"NEUTRAL\",\"NEUTRAL\",\"NEUTRAL\",\"NEUTRAL\",\"NEUTRAL\",\"NEUTRAL\",\"NEUTRAL\",\"NEUTRAL\",\"NEUTRAL\",\"NEUTRAL\",\"NEUTRAL\",\"NEUTRAL\",\"NEUTRAL\",\"NEUTRAL\",\"NEUTRAL\",\"NEUTRAL\",\"NEUTRAL\",\"NEUTRAL\",\"NEUTRAL\",\"NEUTRAL\",\"NEUTRAL\",\"NEUTRAL\",\"NEUTRAL\",\"NEUTRAL\",\"NEUTRAL\",\"NEUTRAL\",\"NEUTRAL\",\"NEUTRAL\",\"NEUTRAL\",\"NEUTRAL\",\"NEUTRAL\",\"NEUTRAL\",\"NEUTRAL\",\"NEUTRAL\",\"NEUTRAL\",\"NEUTRAL\",\"NEUTRAL\",\"NEUTRAL\",\"NEUTRAL\",\"NEUTRAL\",\"NEUTRAL\",\"NEUTRAL\",\"NEUTRAL\",\"NEUTRAL\",\"NEUTRAL\",\"NEUTRAL\",\"NEUTRAL\",\"NEUTRAL\",\"NEUTRAL\",\"NEUTRAL\",\"NEUTRAL\",\"NEUTRAL\",\"NEUTRAL\",\"NEUTRAL\"],\"text\":[\"After all, it's been almost ten years since I wrote my very first line of code.\",\"That's a pretty long time.\",\"Now, this video is about the very specific and detailed plan that I wrote for my friend to teach me the basics of coding for data science.\",\"Since I did all the work for him, I figured I might as well share the details with you as well.\",\"Here.\",\"Let's start with the language that we should start learning.\",\"They would either start with Python or R.\",\"Let's quickly compare the two languages data Science Style when looking at the Stack Overflow developer survey, we find that about 48% of respondents use Python, while only about 5% user.\",\"Let's now look more specifically a data scientist, not just all Stack Overflow users who come from a variety of backgrounds.\",\"Since these add up to more than 100%, we can assume that some data scientists are using both languages.\",\"Finally, let's look at these two languages over time.\",\"While our usage has seen some attrition, to me, this is a no brainer.\",\"This isn't to say R is bad.\",\"Now that we've chosen our language as Python, what coding skills should my friend learn first?\",\"Should he focus on variables?\",\"Logic functions?\",\"Algorithms?\",\"Classes?\",\"My mind was absolutely spinning when I first addressed this.\",\"It took me a second, but I had this weird chaotic flashback to my first days of learning programming myself.\",\"Honestly, I was a bit torn on this too.\",\"So, for example, what IDE should have used?\",\"For those who don't know and who are new, ID stands for Integrated Development Environment.\",\"So this is essentially just a text editor you use to write your code.\",\"If you were writing an essay, you could choose to use Microsoft Word.\",\"You could use Google Docs, you could use Notepad, or maybe even just straight up pen and paper.\",\"Just like there are these different mediums for you to write your last minute paper.\",\"Data scientists and software engineers need places to write their code.\",\"These places are called IDs.\",\"And just like Microsoft Word has spell track and formatting to make sure that you don't make grammatical errors, many ideas help you to make sure that you have proper syntax in your code.\",\"This is a list of the most commonly used Ides in the data domain.\",\"And as you can see, common Ides for Python are vs, code, jupyter, notebook, PyCharm, and Spider.\",\"Before anything else, I wanted to give him a decent understanding about how the development environments work before we picked one.\",\"When I learned to code, I was using Python and I was using an IDE called Idle.\",\"So Idle is great for learning, but I've literally never once touched it since, and I don't use it on any data projects in any of my work.\",\"I wanted to make sure that my friend was using something that would be representative of what he might see in the real world, what people actually use.\",\"For this specific friend, I recommended that he started learning the basics with this video from Precocamp.\",\"I've linked it and all other resources in the description.\",\"What's more important is that you're using one that people who actually write Python code into production are using.\",\"Okay, now on to the coding basics.\",\"I would argue that it's almost the opposite.\",\"Coding languages, particularly Python.\",\"This isn't to say that you won't get stuck.\",\"It's just to say that when you do get stuck, there's almost always a logical reason for it and a logical solution to resolve your problems.\",\"Keeping with this theme of simplicity, at the most basic level, beginner coding can be broken down into seven concepts.\",\"The first one we start with is data types.\",\"So in Python, you can work with numbers, you can work with text, you can work with Booleans, you can work with lists or a host of different data structures.\",\"It's important to get a good understanding or a fundamental understanding of these first.\",\"Next, I think it makes sense to get familiar with how variables work.\",\"This can vary by language, so you need to make sure you know how to assign and change variables in Python, specifically, after variables, you should look into how logical operators work.\",\"The fourth thing you need to understand is how loops work.\",\"After that, you should learn about functions.\",\"So this sets the foundation for almost everything you do on your programming journey.\",\"You should now learn a bit more about how some of the basic data structures work.\",\"This will set the foundation for much of your data work later on.\",\"Finally, you should start learning to work with libraries.\",\"Pandas and Numpire also introduced some new data structures, like arrays, series, and data frames.\",\"And that's it.\",\"With those seven things, you have the basics of coding that you'll need for starting to work with data.\",\"What I've purposely omitted from this list is an explanation of classes.\",\"So classes are the foundation of object oriented programming, and object oriented programming is a programming model that organizes code around objects rather than functions or logic.\",\"Object oriented programming is incredibly powerful, but honestly, it isn't very relevant for the beginner stages of working with data.\",\"So for my friend, the first project I'm having him do is create a jujitsu drill randomizer using Python.\",\"So for training anything, it's important to reinforce your skills.\",\"I'm having to make a program that essentially randomly selects two to three drills that we should work on during our sessions from a larger list.\",\"Okay?\",\"So now that you've learned the basics of Python, now what?\",\"If that's a bit too intimidating, you can follow along on one of the projects that I've done or one of the thousands of projects that other people have worked on on the Kaggle platform.\",\"They go through and see the great work that other people have done, and they get discouraged again.\",\"Honestly, I remember feeling this too.\",\"What I recommend doing is going through some of the basic notebooks, like the Titanic data set, and just copying the code, running it on your own computer, line by line.\",\"Maybe you should try changing, like the colors on a graph from blue to red, or try to make a line thicker on one of the graphs.\",\"So remember when we talked about IDs earlier and I'd mentioned Jupiter's notebook?\",\"Kaggle uses something similar to that that lets you work online.\",\"So if you want to work with data on your laptop or desktop, I recommend downloading Anaconda.\",\"Anaconda is a software package that lumps together all of the relevant Python libraries and ideas for data science in one go.\",\"So you can check out my video for how to install it, which I've linked above and in the description.\",\"Finally, I have three tips to send you on your way.\",\"So the first one is to use Google and stack overflow.\",\"They'll tell you something about what's wrong.\",\"Finally, the third thing is to take it easy on yourself.\"]},\"selected\":{\"id\":\"3750\"},\"selection_policy\":{\"id\":\"3783\"}},\"id\":\"3749\",\"type\":\"ColumnDataSource\"},{\"attributes\":{\"autosize_mode\":\"fit_columns\",\"columns\":[{\"id\":\"3731\"},{\"id\":\"3736\"},{\"id\":\"3741\"}],\"editable\":true,\"height\":300,\"index_position\":null,\"margin\":[5,10,5,10],\"name\":\"\",\"row_height\":40,\"sizing_mode\":\"fixed\",\"source\":{\"id\":\"3726\"},\"view\":{\"id\":\"3746\"},\"width\":700},\"id\":\"3744\",\"type\":\"DataTable\"},{\"attributes\":{\"bottom\":{\"value\":0},\"fill_alpha\":{\"value\":1.0},\"fill_color\":{\"value\":\"#30a2da\"},\"hatch_alpha\":{\"value\":1.0},\"hatch_color\":{\"value\":\"#30a2da\"},\"hatch_scale\":{\"value\":12.0},\"hatch_weight\":{\"value\":1.0},\"line_alpha\":{\"value\":1.0},\"line_cap\":{\"value\":\"butt\"},\"line_color\":{\"value\":\"black\"},\"line_dash\":{\"value\":[]},\"line_dash_offset\":{\"value\":0},\"line_join\":{\"value\":\"bevel\"},\"line_width\":{\"value\":1},\"top\":{\"field\":\"sentiment\"},\"width\":{\"value\":0.8},\"x\":{\"field\":\"index\"}},\"id\":\"3685\",\"type\":\"VBar\"}],\"root_ids\":[\"3644\",\"3820\"]},\"title\":\"Bokeh Application\",\"version\":\"2.4.3\"}};\n",
       "    var render_items = [{\"docid\":\"49a81549-9de0-4352-8dc0-2a763d3b2656\",\"root_ids\":[\"3644\"],\"roots\":{\"3644\":\"f612bb52-68c6-4af7-9bae-a5f1c07cd902\"}}];\n",
       "    root.Bokeh.embed.embed_items_notebook(docs_json, render_items);\n",
       "  }\n",
       "  if (root.Bokeh !== undefined && root.Bokeh.Panel !== undefined) {\n",
       "    embed_document(root);\n",
       "  } else {\n",
       "    var attempts = 0;\n",
       "    var timer = setInterval(function(root) {\n",
       "      if (root.Bokeh !== undefined && root.Bokeh.Panel !== undefined) {\n",
       "        clearInterval(timer);\n",
       "        embed_document(root);\n",
       "      } else if (document.readyState == \"complete\") {\n",
       "        attempts++;\n",
       "        if (attempts > 200) {\n",
       "          clearInterval(timer);\n",
       "          console.log(\"Bokeh: ERROR: Unable to run BokehJS code because BokehJS library is missing\");\n",
       "        }\n",
       "      }\n",
       "    }, 25, root)\n",
       "  }\n",
       "})(window);</script>"
      ],
      "text/plain": [
       "Tabs\n",
       "    [0] HoloViews(Bars, name='Sentiment overview')\n",
       "    [1] DataFrame(autosize_mode='fit_columns', height=300, sizing_mode='fixed', value=                          ..., width=700)\n",
       "    [2] DataFrame(autosize_mode='fit_columns', height=300, sizing_mode='fixed', value=                          ..., width=700)\n",
       "    [3] DataFrame(autosize_mode='fit_columns', height=300, sizing_mode='fixed', value=                          ..., width=700)"
      ]
     },
     "execution_count": 104,
     "metadata": {
      "application/vnd.holoviews_exec.v0+json": {
       "id": "3644"
      }
     },
     "output_type": "execute_result"
    }
   ],
   "source": [
    "positive_df = sentiment_df[sentiment_df[\"sentiment\"] == \"POSITIVE\"][[\"text\", \"sentiment\"]]\n",
    "negative_df = sentiment_df[sentiment_df[\"sentiment\"] == \"NEGATIVE\"][[\"text\", \"sentiment\"]]\n",
    "neutral_df = sentiment_df[sentiment_df[\"sentiment\"] == \"NEUTRAL\"][[\"text\", \"sentiment\"]]\n",
    "\n",
    "sentiment_tabs = pn.Tabs(('Sentiment overview', sentiment_plot), \n",
    "                       ('Positive', pn.widgets.DataFrame(positive_df, autosize_mode='fit_columns', width=700, height=300)),\n",
    "                       ('Negative', pn.widgets.DataFrame(negative_df, autosize_mode='fit_columns', width=700, height=300)),\n",
    "                       ('Neutral', pn.widgets.DataFrame(neutral_df, autosize_mode='fit_columns', width=700, height=300))\n",
    "                        )\n",
    "sentiment_tabs"
   ]
  },
  {
   "cell_type": "markdown",
   "id": "12a36df1-5cf8-42a5-b9fb-e3f5a4da5b84",
   "metadata": {},
   "source": [
    "### 2) Word cloud"
   ]
  },
  {
   "cell_type": "code",
   "execution_count": 56,
   "id": "1e17e404-ef1d-430e-bb3d-1967bc0287d2",
   "metadata": {},
   "outputs": [],
   "source": [
    "stopwords = set(STOPWORDS)"
   ]
  },
  {
   "cell_type": "code",
   "execution_count": 57,
   "id": "7b39a611-069a-4332-936f-bfaa5c83426d",
   "metadata": {},
   "outputs": [],
   "source": [
    "transcript = data[\"text\"]"
   ]
  },
  {
   "cell_type": "code",
   "execution_count": 58,
   "id": "b3b71f06-9d5a-4333-acb7-da4a38c60bdc",
   "metadata": {
    "tags": []
   },
   "outputs": [],
   "source": [
    "transcript_lower = [item.lower() for item in str(transcript).split()]"
   ]
  },
  {
   "cell_type": "code",
   "execution_count": 59,
   "id": "4ade51be-f500-4989-b86d-dcc69f9437b8",
   "metadata": {},
   "outputs": [],
   "source": [
    "all_words = ' '.join(transcript_lower) "
   ]
  },
  {
   "cell_type": "code",
   "execution_count": 60,
   "id": "dc5349c9-00c3-40d9-a6ea-d96795fbf04d",
   "metadata": {
    "collapsed": true,
    "jupyter": {
     "outputs_hidden": true
    },
    "tags": []
   },
   "outputs": [
    {
     "data": {
      "text/plain": [
       "\"i recently got an amazing opportunity. i've been learning jujitsu, and a friend offered to coach me in exchange for teaching him how to code. at this point in my life where i'm trying to improve my jiu jitsu as quickly as possible, this was an incredible trade for me. in my personal opinion, i was all for until i had to think about how i'd actually go about teaching someone how to code starting from nothing, i quickly realized that this was going to be a lot harder than i thought. after all, it's been almost ten years since i wrote my very first line of code. that's a pretty long time. now, this video is about the very specific and detailed plan that i wrote for my friend to teach me the basics of coding for data science. since i did all the work for him, i figured i might as well share the details with you as well. here. there have been plenty of other great videos similar to this about how to start coding, and i've linked many of them in the description. again, those are great, but i think this is a bit different because it's more focused on coding for data and it uses a very specific real world case study. at the end, i also highlight the three most important things a new programmer should know. so you definitely want to stick around for that. let's start with the language that we should start learning. i know if you're working with data, you generally have two good choices. they would either start with python or r. let's quickly compare the two languages data science style when looking at the stack overflow developer survey, we find that about 48% of respondents use python, while only about 5% user. in industry, python is a far more common language. let's now look more specifically a data scientist, not just all stack overflow users who come from a variety of backgrounds. on kaggle, my favorite platform for data science learning and projects, we can see that around 84.2% of respondents use python, while only 25% use r. since these add up to more than 100%, we can assume that some data scientists are using both languages. finally, let's look at these two languages over time. we can see here from 2020 to 2021, python has gained an adoption. while our usage has seen some attrition, to me, this is a no brainer. i recommended my friend to start learning python first. that language is more popular, and it's continuing to grow. this isn't to say r is bad. it's just to say that i think python is growing and will be a more valuable skill to have for the job market in general. i also personally find it a bit more intuitive and flexible than our. now that we've chosen our language as python, what coding skills should my friend learn first? should he focus on variables? logic functions? algorithms? classes? my mind was absolutely spinning when i first addressed this. it took me a second, but i had this weird chaotic flashback to my first days of learning programming myself. i didn't even know where to start with getting python on my own computer. i just now got excited about teaching the functional part of programming, and i completely forgot about the basics of setting up your environment for success. the next thing i did was give my friend some of my favorite resources on choosing an environment and getting the right version of python on his computer. honestly, i was a bit torn on this too. so, for example, what ide should have used? does he even know what ide stands for? for those who don't know and who are new, id stands for integrated development environment. so this is essentially just a text editor you use to write your code. if you were writing an essay, you could choose to use microsoft word. you could use google docs, you could use notepad, or maybe even just straight up pen and paper. just like there are these different mediums for you to write your last minute paper. data scientists and software engineers need places to write their code. these places are called ids. and just like microsoft word has spell track and formatting to make sure that you don't make grammatical errors, many ideas help you to make sure that you have proper syntax in your code. in theory, technically, microsoft word would be considered an idea, but i definitely don't recommend using it as such unless you're jump ate. this is a list of the most commonly used ides in the data domain. and as you can see, common ides for python are vs, code, jupyter, notebook, pycharm, and spider. before anything else, i wanted to give him a decent understanding about how the development environments work before we picked one. as i mentioned, this is something that i was totally confused about when i started. when i learned to code, i was using python and i was using an ide called idle. so idle is great for learning, but i've literally never once touched it since, and i don't use it on any data projects in any of my work. i wanted to make sure that my friend was using something that would be representative of what he might see in the real world, what people actually use. for this specific friend, i recommended that he started learning the basics with this video from precocamp. i've linked it and all other resources in the description. so in the video, they show you how to set up the pycharm environment and get comfortable using that. i think pycharm is solid, and if you get familiar with that, you can easily pick up the scode, a jupiter notebook, or spider pretty quickly. truthfully, i don't think that the idea that you start with really matters that much. what's more important is that you're using one that people who actually write python code into production are using. okay, now on to the coding basics. surprisingly, i think this might be one of the simplest parts of this entire process. you see, there's a common misconception that coding is trying to trick you. there's this conspiracy that learning to code is supposed to be really hard and very scary. i would argue that it's almost the opposite. coding languages, particularly python. they're designed to be as easy to use as possible while creating good results. so if you change your perspective to look at them as intuitive, coding becomes significantly more fun and stressfree. this isn't to say that you won't get stuck. it's just to say that when you do get stuck, there's almost always a logical reason for it and a logical solution to resolve your problems. keeping with this theme of simplicity, at the most basic level, beginner coding can be broken down into seven concepts. all the resources that i've linked in the description cover these topics, but i'm going to give you a very, very high level overview here. the first one we start with is data types. so in python, you can work with numbers, you can work with text, you can work with booleans, you can work with lists or a host of different data structures. it's important to get a good understanding or a fundamental understanding of these first. next, i think it makes sense to get familiar with how variables work. this can vary by language, so you need to make sure you know how to assign and change variables in python, specifically, after variables, you should look into how logical operators work. these are very handy in your first few projects. if held, statements are probably the most important one. but you can definitely find use cases for the others, especially if you're working with data. the fourth thing you need to understand is how loops work. so one thing computers are really great at is doing a simple task over and over again. you'd be surprised at how useful these can be for your programming future. after that, you should learn about functions. so this sets the foundation for almost everything you do on your programming journey. functions allow you to encapsulate code and reuse it. if you really think about it, good coding is about making as many reusable bits as possible, and these functions are where that really begins. at this point, you have a pretty good understanding of the key building blocks of python. you should now learn a bit more about how some of the basic data structures work. i recommend taking a deeper dive into lists, dictionaries, as well as tuples. this will set the foundation for much of your data work later on. finally, you should start learning to work with libraries. so the most important ones for data are pandas, numpy, scikitlearn, and matplotlib, and these give you additional tools to analyze, visualize and manipulate data. pandas and numpire also introduced some new data structures, like arrays, series, and data frames. so if you have an understanding of how the more basic data structures work in python, you should be able to pick these up relatively quickly. and that's it. with those seven things, you have the basics of coding that you'll need for starting to work with data. if you're watching this and you're a software engineer, you probably think i left something important out. what i've purposely omitted from this list is an explanation of classes. so classes are the foundation of object oriented programming, and object oriented programming is a programming model that organizes code around objects rather than functions or logic. object oriented programming is incredibly powerful, but honestly, it isn't very relevant for the beginner stages of working with data. it is something you should absolutely explore on your own after you've learned these other concepts. well, in the description, i've linked a few great resources for learning all of the concepts, including the exact one from free code camp that i gave my friend. most of them are completely free, but i have also included my discount link for the course on 365 data science. so if you're looking for a resource just to take you past the more basic coding and more towards tangible data science skills, i would recommend checking that out. one thing that i love about many of the courses that i've linked is that they have these little mini projects baked into the coursework. i think project based learning is the single most effective way to learn technical concepts. after first getting a basic foundation, i highly encourage you to think about how you can use code to build things that would be useful to you. so for my friend, the first project i'm having him do is create a jujitsu drill randomizer using python. so for training anything, it's important to reinforce your skills. but it can get boring working on the same basic drills every day. i'm having to make a program that essentially randomly selects two to three drills that we should work on during our sessions from a larger list. this is a simple project, but it's something that's directly relevant and useful to our work and our jujitsu training. with that in mind, i'd love for you to comment below with a python project that you'd like to do, and we'll all hold each other accountable. okay? so now that you've learned the basics of python, now what? if you're interested in learning more about data, i highly recommend that you do a datarelated project. the single best place for this is kaggle.com, which i've mentioned before. if that's a bit too intimidating, you can follow along on one of the projects that i've done or one of the thousands of projects that other people have worked on on the kaggle platform. realistically, many people lose steam at this step. they go through and see the great work that other people have done, and they get discouraged again. honestly, i remember feeling this too. what i recommend doing is going through some of the basic notebooks, like the titanic data set, and just copying the code, running it on your own computer, line by line. many people think that this is cheating, but it's actually a great way to learn. even better when you run it, make some changes to the code and see what happens. maybe you should try changing, like the colors on a graph from blue to red, or try to make a line thicker on one of the graphs. just simple things like that help you iterate and improve. so remember when we talked about ids earlier and i'd mentioned jupiter's notebook? kaggle uses something similar to that that lets you work online. this is great and free compute power if you have limited resources at home. so if you want to work with data on your laptop or desktop, i recommend downloading anaconda. anaconda is a software package that lumps together all of the relevant python libraries and ideas for data science in one go. so you can check out my video for how to install it, which i've linked above and in the description. finally, i have three tips to send you on your way. these are probably the most important things that a new coder can learn. so the first one is to use google and stack overflow. if you have a question, it's almost guaranteed that someone has asked it before on the internet, getting good at finding answers on your own via search might be the single most important skill of a data scientist or software engineer that they use every single day. the second is to use errors so your code will not run. it will break, and you'll be sad. don't just wallow in your self pity. read the error messages. they'll tell you something about what's wrong. also, google the errors, and this will save you a lot of time and headache. finally, the third thing is to take it easy on yourself. the only people that can't code are the ones that never tried or the ones that quit too early. thank you all so much for watching, and good luck on your data science and coding journey.\""
      ]
     },
     "execution_count": 60,
     "metadata": {},
     "output_type": "execute_result"
    }
   ],
   "source": [
    "all_words"
   ]
  },
  {
   "cell_type": "code",
   "execution_count": 61,
   "id": "11a9f44e-7d00-4dc4-b555-362b2f2948dc",
   "metadata": {},
   "outputs": [
    {
     "name": "stdout",
     "output_type": "stream",
     "text": [
      "wordcloud\n"
     ]
    }
   ],
   "source": [
    "print(\"wordcloud\")\n",
    "\n",
    "class Controller(param.Parameterized):\n",
    "    word_slider = param.Integer(30, bounds=(5, 50), step=5)\n",
    "\n",
    "controller = Controller()\n",
    "\n",
    "@pn.depends(controller.param.word_slider, watch=True)\n",
    "def update_wordcloud(num_words):\n",
    "    wordcloud = WordCloud(background_color='black', stopwords = stopwords, max_words = num_words,\n",
    "                          colormap='viridis', collocations=False).generate(all_words)\n",
    "\n",
    "    wordcloud_plot = px.imshow(wordcloud) \n",
    "    # Remove labels on axes\n",
    "    wordcloud_plot.update_xaxes(showticklabels=False)\n",
    "    wordcloud_plot.update_yaxes(showticklabels=False)\n",
    "    \n",
    "    return wordcloud_plot"
   ]
  },
  {
   "cell_type": "code",
   "execution_count": 87,
   "id": "0f3840d7-d283-46c9-8107-fac069a5af0d",
   "metadata": {},
   "outputs": [
    {
     "data": {
      "application/vnd.plotly.v1+json": {
       "config": {
        "plotlyServerURL": "https://plot.ly"
       },
       "data": [
        {
         "hovertemplate": "x: %{x}<br>y: %{y}<br>color: [%{z[0]}, %{z[1]}, %{z[2]}]<extra></extra>",
         "name": "0",
         "source": "data:image/png;base64,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",
         "type": "image",
         "xaxis": "x",
         "yaxis": "y"
        }
       ],
       "layout": {
        "autosize": true,
        "margin": {
         "t": 60
        },
        "template": {
         "data": {
          "bar": [
           {
            "error_x": {
             "color": "#2a3f5f"
            },
            "error_y": {
             "color": "#2a3f5f"
            },
            "marker": {
             "line": {
              "color": "#E5ECF6",
              "width": 0.5
             },
             "pattern": {
              "fillmode": "overlay",
              "size": 10,
              "solidity": 0.2
             }
            },
            "type": "bar"
           }
          ],
          "barpolar": [
           {
            "marker": {
             "line": {
              "color": "#E5ECF6",
              "width": 0.5
             },
             "pattern": {
              "fillmode": "overlay",
              "size": 10,
              "solidity": 0.2
             }
            },
            "type": "barpolar"
           }
          ],
          "carpet": [
           {
            "aaxis": {
             "endlinecolor": "#2a3f5f",
             "gridcolor": "white",
             "linecolor": "white",
             "minorgridcolor": "white",
             "startlinecolor": "#2a3f5f"
            },
            "baxis": {
             "endlinecolor": "#2a3f5f",
             "gridcolor": "white",
             "linecolor": "white",
             "minorgridcolor": "white",
             "startlinecolor": "#2a3f5f"
            },
            "type": "carpet"
           }
          ],
          "choropleth": [
           {
            "colorbar": {
             "outlinewidth": 0,
             "ticks": ""
            },
            "type": "choropleth"
           }
          ],
          "contour": [
           {
            "colorbar": {
             "outlinewidth": 0,
             "ticks": ""
            },
            "colorscale": [
             [
              0,
              "#0d0887"
             ],
             [
              0.1111111111111111,
              "#46039f"
             ],
             [
              0.2222222222222222,
              "#7201a8"
             ],
             [
              0.3333333333333333,
              "#9c179e"
             ],
             [
              0.4444444444444444,
              "#bd3786"
             ],
             [
              0.5555555555555556,
              "#d8576b"
             ],
             [
              0.6666666666666666,
              "#ed7953"
             ],
             [
              0.7777777777777778,
              "#fb9f3a"
             ],
             [
              0.8888888888888888,
              "#fdca26"
             ],
             [
              1,
              "#f0f921"
             ]
            ],
            "type": "contour"
           }
          ],
          "contourcarpet": [
           {
            "colorbar": {
             "outlinewidth": 0,
             "ticks": ""
            },
            "type": "contourcarpet"
           }
          ],
          "heatmap": [
           {
            "colorbar": {
             "outlinewidth": 0,
             "ticks": ""
            },
            "colorscale": [
             [
              0,
              "#0d0887"
             ],
             [
              0.1111111111111111,
              "#46039f"
             ],
             [
              0.2222222222222222,
              "#7201a8"
             ],
             [
              0.3333333333333333,
              "#9c179e"
             ],
             [
              0.4444444444444444,
              "#bd3786"
             ],
             [
              0.5555555555555556,
              "#d8576b"
             ],
             [
              0.6666666666666666,
              "#ed7953"
             ],
             [
              0.7777777777777778,
              "#fb9f3a"
             ],
             [
              0.8888888888888888,
              "#fdca26"
             ],
             [
              1,
              "#f0f921"
             ]
            ],
            "type": "heatmap"
           }
          ],
          "heatmapgl": [
           {
            "colorbar": {
             "outlinewidth": 0,
             "ticks": ""
            },
            "colorscale": [
             [
              0,
              "#0d0887"
             ],
             [
              0.1111111111111111,
              "#46039f"
             ],
             [
              0.2222222222222222,
              "#7201a8"
             ],
             [
              0.3333333333333333,
              "#9c179e"
             ],
             [
              0.4444444444444444,
              "#bd3786"
             ],
             [
              0.5555555555555556,
              "#d8576b"
             ],
             [
              0.6666666666666666,
              "#ed7953"
             ],
             [
              0.7777777777777778,
              "#fb9f3a"
             ],
             [
              0.8888888888888888,
              "#fdca26"
             ],
             [
              1,
              "#f0f921"
             ]
            ],
            "type": "heatmapgl"
           }
          ],
          "histogram": [
           {
            "marker": {
             "pattern": {
              "fillmode": "overlay",
              "size": 10,
              "solidity": 0.2
             }
            },
            "type": "histogram"
           }
          ],
          "histogram2d": [
           {
            "colorbar": {
             "outlinewidth": 0,
             "ticks": ""
            },
            "colorscale": [
             [
              0,
              "#0d0887"
             ],
             [
              0.1111111111111111,
              "#46039f"
             ],
             [
              0.2222222222222222,
              "#7201a8"
             ],
             [
              0.3333333333333333,
              "#9c179e"
             ],
             [
              0.4444444444444444,
              "#bd3786"
             ],
             [
              0.5555555555555556,
              "#d8576b"
             ],
             [
              0.6666666666666666,
              "#ed7953"
             ],
             [
              0.7777777777777778,
              "#fb9f3a"
             ],
             [
              0.8888888888888888,
              "#fdca26"
             ],
             [
              1,
              "#f0f921"
             ]
            ],
            "type": "histogram2d"
           }
          ],
          "histogram2dcontour": [
           {
            "colorbar": {
             "outlinewidth": 0,
             "ticks": ""
            },
            "colorscale": [
             [
              0,
              "#0d0887"
             ],
             [
              0.1111111111111111,
              "#46039f"
             ],
             [
              0.2222222222222222,
              "#7201a8"
             ],
             [
              0.3333333333333333,
              "#9c179e"
             ],
             [
              0.4444444444444444,
              "#bd3786"
             ],
             [
              0.5555555555555556,
              "#d8576b"
             ],
             [
              0.6666666666666666,
              "#ed7953"
             ],
             [
              0.7777777777777778,
              "#fb9f3a"
             ],
             [
              0.8888888888888888,
              "#fdca26"
             ],
             [
              1,
              "#f0f921"
             ]
            ],
            "type": "histogram2dcontour"
           }
          ],
          "mesh3d": [
           {
            "colorbar": {
             "outlinewidth": 0,
             "ticks": ""
            },
            "type": "mesh3d"
           }
          ],
          "parcoords": [
           {
            "line": {
             "colorbar": {
              "outlinewidth": 0,
              "ticks": ""
             }
            },
            "type": "parcoords"
           }
          ],
          "pie": [
           {
            "automargin": true,
            "type": "pie"
           }
          ],
          "scatter": [
           {
            "fillpattern": {
             "fillmode": "overlay",
             "size": 10,
             "solidity": 0.2
            },
            "type": "scatter"
           }
          ],
          "scatter3d": [
           {
            "line": {
             "colorbar": {
              "outlinewidth": 0,
              "ticks": ""
             }
            },
            "marker": {
             "colorbar": {
              "outlinewidth": 0,
              "ticks": ""
             }
            },
            "type": "scatter3d"
           }
          ],
          "scattercarpet": [
           {
            "marker": {
             "colorbar": {
              "outlinewidth": 0,
              "ticks": ""
             }
            },
            "type": "scattercarpet"
           }
          ],
          "scattergeo": [
           {
            "marker": {
             "colorbar": {
              "outlinewidth": 0,
              "ticks": ""
             }
            },
            "type": "scattergeo"
           }
          ],
          "scattergl": [
           {
            "marker": {
             "colorbar": {
              "outlinewidth": 0,
              "ticks": ""
             }
            },
            "type": "scattergl"
           }
          ],
          "scattermapbox": [
           {
            "marker": {
             "colorbar": {
              "outlinewidth": 0,
              "ticks": ""
             }
            },
            "type": "scattermapbox"
           }
          ],
          "scatterpolar": [
           {
            "marker": {
             "colorbar": {
              "outlinewidth": 0,
              "ticks": ""
             }
            },
            "type": "scatterpolar"
           }
          ],
          "scatterpolargl": [
           {
            "marker": {
             "colorbar": {
              "outlinewidth": 0,
              "ticks": ""
             }
            },
            "type": "scatterpolargl"
           }
          ],
          "scatterternary": [
           {
            "marker": {
             "colorbar": {
              "outlinewidth": 0,
              "ticks": ""
             }
            },
            "type": "scatterternary"
           }
          ],
          "surface": [
           {
            "colorbar": {
             "outlinewidth": 0,
             "ticks": ""
            },
            "colorscale": [
             [
              0,
              "#0d0887"
             ],
             [
              0.1111111111111111,
              "#46039f"
             ],
             [
              0.2222222222222222,
              "#7201a8"
             ],
             [
              0.3333333333333333,
              "#9c179e"
             ],
             [
              0.4444444444444444,
              "#bd3786"
             ],
             [
              0.5555555555555556,
              "#d8576b"
             ],
             [
              0.6666666666666666,
              "#ed7953"
             ],
             [
              0.7777777777777778,
              "#fb9f3a"
             ],
             [
              0.8888888888888888,
              "#fdca26"
             ],
             [
              1,
              "#f0f921"
             ]
            ],
            "type": "surface"
           }
          ],
          "table": [
           {
            "cells": {
             "fill": {
              "color": "#EBF0F8"
             },
             "line": {
              "color": "white"
             }
            },
            "header": {
             "fill": {
              "color": "#C8D4E3"
             },
             "line": {
              "color": "white"
             }
            },
            "type": "table"
           }
          ]
         },
         "layout": {
          "annotationdefaults": {
           "arrowcolor": "#2a3f5f",
           "arrowhead": 0,
           "arrowwidth": 1
          },
          "autotypenumbers": "strict",
          "coloraxis": {
           "colorbar": {
            "outlinewidth": 0,
            "ticks": ""
           }
          },
          "colorscale": {
           "diverging": [
            [
             0,
             "#8e0152"
            ],
            [
             0.1,
             "#c51b7d"
            ],
            [
             0.2,
             "#de77ae"
            ],
            [
             0.3,
             "#f1b6da"
            ],
            [
             0.4,
             "#fde0ef"
            ],
            [
             0.5,
             "#f7f7f7"
            ],
            [
             0.6,
             "#e6f5d0"
            ],
            [
             0.7,
             "#b8e186"
            ],
            [
             0.8,
             "#7fbc41"
            ],
            [
             0.9,
             "#4d9221"
            ],
            [
             1,
             "#276419"
            ]
           ],
           "sequential": [
            [
             0,
             "#0d0887"
            ],
            [
             0.1111111111111111,
             "#46039f"
            ],
            [
             0.2222222222222222,
             "#7201a8"
            ],
            [
             0.3333333333333333,
             "#9c179e"
            ],
            [
             0.4444444444444444,
             "#bd3786"
            ],
            [
             0.5555555555555556,
             "#d8576b"
            ],
            [
             0.6666666666666666,
             "#ed7953"
            ],
            [
             0.7777777777777778,
             "#fb9f3a"
            ],
            [
             0.8888888888888888,
             "#fdca26"
            ],
            [
             1,
             "#f0f921"
            ]
           ],
           "sequentialminus": [
            [
             0,
             "#0d0887"
            ],
            [
             0.1111111111111111,
             "#46039f"
            ],
            [
             0.2222222222222222,
             "#7201a8"
            ],
            [
             0.3333333333333333,
             "#9c179e"
            ],
            [
             0.4444444444444444,
             "#bd3786"
            ],
            [
             0.5555555555555556,
             "#d8576b"
            ],
            [
             0.6666666666666666,
             "#ed7953"
            ],
            [
             0.7777777777777778,
             "#fb9f3a"
            ],
            [
             0.8888888888888888,
             "#fdca26"
            ],
            [
             1,
             "#f0f921"
            ]
           ]
          },
          "colorway": [
           "#636efa",
           "#EF553B",
           "#00cc96",
           "#ab63fa",
           "#FFA15A",
           "#19d3f3",
           "#FF6692",
           "#B6E880",
           "#FF97FF",
           "#FECB52"
          ],
          "font": {
           "color": "#2a3f5f"
          },
          "geo": {
           "bgcolor": "white",
           "lakecolor": "white",
           "landcolor": "#E5ECF6",
           "showlakes": true,
           "showland": true,
           "subunitcolor": "white"
          },
          "hoverlabel": {
           "align": "left"
          },
          "hovermode": "closest",
          "mapbox": {
           "style": "light"
          },
          "paper_bgcolor": "white",
          "plot_bgcolor": "#E5ECF6",
          "polar": {
           "angularaxis": {
            "gridcolor": "white",
            "linecolor": "white",
            "ticks": ""
           },
           "bgcolor": "#E5ECF6",
           "radialaxis": {
            "gridcolor": "white",
            "linecolor": "white",
            "ticks": ""
           }
          },
          "scene": {
           "xaxis": {
            "backgroundcolor": "#E5ECF6",
            "gridcolor": "white",
            "gridwidth": 2,
            "linecolor": "white",
            "showbackground": true,
            "ticks": "",
            "zerolinecolor": "white"
           },
           "yaxis": {
            "backgroundcolor": "#E5ECF6",
            "gridcolor": "white",
            "gridwidth": 2,
            "linecolor": "white",
            "showbackground": true,
            "ticks": "",
            "zerolinecolor": "white"
           },
           "zaxis": {
            "backgroundcolor": "#E5ECF6",
            "gridcolor": "white",
            "gridwidth": 2,
            "linecolor": "white",
            "showbackground": true,
            "ticks": "",
            "zerolinecolor": "white"
           }
          },
          "shapedefaults": {
           "line": {
            "color": "#2a3f5f"
           }
          },
          "ternary": {
           "aaxis": {
            "gridcolor": "white",
            "linecolor": "white",
            "ticks": ""
           },
           "baxis": {
            "gridcolor": "white",
            "linecolor": "white",
            "ticks": ""
           },
           "bgcolor": "#E5ECF6",
           "caxis": {
            "gridcolor": "white",
            "linecolor": "white",
            "ticks": ""
           }
          },
          "title": {
           "x": 0.05
          },
          "xaxis": {
           "automargin": true,
           "gridcolor": "white",
           "linecolor": "white",
           "ticks": "",
           "title": {
            "standoff": 15
           },
           "zerolinecolor": "white",
           "zerolinewidth": 2
          },
          "yaxis": {
           "automargin": true,
           "gridcolor": "white",
           "linecolor": "white",
           "ticks": "",
           "title": {
            "standoff": 15
           },
           "zerolinecolor": "white",
           "zerolinewidth": 2
          }
         }
        },
        "xaxis": {
         "anchor": "y",
         "autorange": true,
         "domain": [
          0.32272360999194194,
          0.6772763900080581
         ],
         "range": [
          -0.5,
          399.5
         ],
         "showticklabels": false
        },
        "yaxis": {
         "anchor": "x",
         "autorange": true,
         "domain": [
          0,
          1
         ],
         "range": [
          199.5,
          -0.5
         ],
         "showticklabels": false
        }
       }
      },
      "image/png": "[encoded data removed]",
      "text/html": [
       "<div>                            <div id=\"7335bde9-31c6-417f-8f80-12eadd1e4ec1\" class=\"plotly-graph-div\" style=\"height:525px; width:100%;\"></div>            <script type=\"text/javascript\">                require([\"plotly\"], function(Plotly) {                    window.PLOTLYENV=window.PLOTLYENV || {};                                    if (document.getElementById(\"7335bde9-31c6-417f-8f80-12eadd1e4ec1\")) {                    Plotly.newPlot(                        \"7335bde9-31c6-417f-8f80-12eadd1e4ec1\",                        [{\"name\":\"0\",\"source\":\"data:image/png;base64,iVBORw0KGgoAAAANSUhEUgAAAZAAAADICAIAAABJdyC1AAB83klEQVR4Xu2dZXwj19WHz6CYLZmZ1+vd9TIzZsPMDTRpkzalQClt07TN2yZp2qRpw8y0G9xsliHLzPaa2ZZtMWvg/SB5NBpLsuy11/aunp8/zJx7R/JImv+ce+65ZwASJEiQYIyACA0JhoF7t19HygkA+O53u6q/axQ290GiEa3+14KkIk3Lgc51D+5gKEbYI0GCixJUaEgwCihckZ1SnoSLsJy5aelTDMLmBAkuVhKCNdphaVZoSpDgYiUhWKORs+sbO050Ux6q6pv61sNGYXOCBBcruNCQYBTgsXg/vWOD0JogwUVPQrASJBgZpBUT9Hffzu2aPllr376L154gAokhYYIECcYMCcFKkCDBmOHCGRLqCtT5SzLTpxiU6XKxSoSRmN/ldxhd5npbx4nuhp2tlka78JheEBQpWJqVuyA9uUwn0YlRDHX1eLoqTXXbWqq/a4wnDUqiFZdfW5gzP12ZLifEmLPL3X68+8yXdS37OwCA9tEAhPAYHmK16IebrxFaAQDglYWfeu0+oZWHPFl6x7orAeDMV3WbH9sLAKoM+bgr87Nnp8mTpaSc8Nr9pjpr4+62U2tqvLZYLwUAEq247Kr8zBkp2lyVSEmieNRbWpw5ZQkSDCEXgmDJDNKFv5maOz9DkAYrUpAiBanLVxcszZrxowmvLVtDeaiwHgAAkFKetORPMzW5Sr5RmSZTpsnyF2dOu3v8lr/sazsSa6oub1Hmkj/OEClJzqJMlyvT5cWrcqq+bdjy+D6PzSfRinlHDAvaXBUAjL+2cO6vJuMijLNLNKL0KYb0KYbJt5V++8j3rYc6Q8eEU7wqZ+HvphPSC+FXkeCCZMz/NA1lusv+vYAvByzDeh1+2kuLVSKMDDoIZ79riKhWufPTV/5jLkYGL2+PxWttdbA0q0iTyZIkAKDOVlzxv8UbHt1Vu7k57Mhecualr/zHXBQLiqXb5LE0OzACVWcrSBlRvCqHlOA+pz/8ICE+u2/tvZslGpFYRYrVIm2eqmhljrBTf2hylYUrshf+dlpg19ricHa5cDGuy1cHPgexWrT6X/M/uvlba4sj7EgAAMhblLnsL7MDot9Ta6nZ2OTodJFSIrVCn784E0ERAKC89J7nj1mb7bZWh7U5qseaIMEwMbYFS5YkWf3MfE6tGna2Hv/wbNvRroA2ISiizlSkT0vOX5x5am1t2JEAAKDKVCz72+yAWpkbbTv+cbDlQCfLBBM1U8qT5j00JXm8DiPR5X+d/XHTdz3VFv7hACBSkkv+OCOgVh6Ld+vf9tdtawm8AoohBcuy5j8yNXdhhuCovjA0y3d8UsqTBiFYpIxY/tfZAFCzsWn3f47aWoOqREqJqfeMn3x7aaDPtHvKN/1pD/9AAMBIdP7DUwJqVfl1/eY/7+U+h2MfVmVMT7n8+UUohuAizNHhbNjZyj82QYLzRtQIxZhgzi8rAn4QAGz7vwNf/2J70952zpNiGdbcaDv5afUX928xnuoJHdbL/IenkFICAGytjs/u2ti8r4O7SgGg40T32ns3tR/rBgCMxJY+NpNr4ph0S0lALlmG/foX22u3NHOvwNDs2fWNXz6wjf+aww2CIqe/qF3/m+85tQIAn8u/+9kjVd82BHYLlmZy/iBHxrQUebIUAPxuaseTBwX/c8v+jsqv6gLbxZfk8JsSJIgILkIxYujlZehf8byhSJUVLs8ObJ/8tPrkp9Xh7f2gzVNlz04LbO985rDH4g1vBwCgvPS2v+0PbOtLtFkzU8OaESi5NDewWb2hqeNEd1grAAAYT/WcPY+Raa/N9/0/DwutAABw4qOzgQ1cjGtyVeGNkFKeFNjoON4dcQDbvK8jsKEv0Ya3JEgQgd8fvPSeD+YLrTzkevHv9q++5h9ThA0xGcOClTMvPRBYYRn24OunhM39kbsgGKR3mzwNO6KOcXpqLZwSFSzL4jepsxSKFFlgu3pDVFWq3dQkNA0bNZubIsoNAHRVmbltqU44AyBWiwIbLpMnvCWIqydoF6lCcwsJEgwaZ48XF6Hp5WphQ0zGsGClVegDG11nTI5OV3hj/6RO7PUpTnTHHrW1H+0KbKRVhBVO0BeHfI3OkxHcqwDdfSJfw0fHsaj/Bu2jaX8wPwOXCGOXXOYE2acpQKA8DgD4nRHmLhIkGCgsw/rdtDxJeO+MTeRf55hAmSYPbHSdDfkO8aNIDTpHlv5mu7gELmV68JAAMkMwfEZ5ac4B6Yu93Sk0DRtWXugqAr2yLIxgAZhqrYGN5PIkFEOYPiUiUicFbw99Zx5GCaKcLMmE8aLcbEKfhMpkCIYyHi9lMvkaW9ynTrtPVbI0LTzm3EAwTDKhTFpeRmakYxo1KiJZiqLtDqq7x9vQ5Dlb46muBab/JL6LEwRFMAJF+oRTYzOGBYvLe/Ja+0mGjIhIETzcZ488huLwOoKvj+IoKSO4MRcp45yOWK/AMizlpfmJUcNHtPFgv9Rta/HafCIlKdWJp949fv/LJ/itmlzl+GsKAttV6+r5TQEQHM/8598QLHiOnc+96DlbE94liHzOTN1N13K7tM3e8rs/89rDSP75feLC/MC26aM19p27w9uDSMaVqC+/hMwIRiQ5UKmElKaTGenyOTNoq82yboNj9z5ghVocA4TAs/7198A27XC0/OYxrklSXqa99gpcFxbRQ0gS12lxnVZcXKhascRb19DxzPP8DueOYsFc7XVXhvZZ1vTRGvv3wmnf0U/+bD1GorZOt7AhJmNYsAIBLABgB/ITjEB/Eo8gkXtw9n7fnvEzcF4Ei6X6/V8iQ3mo3c8dXfTodACY/qPylPKkms1NDqOLkOApE5LKri4ITKe27O+oWt8gOBYAWIryt3dykkFmpEUTLFFeDn8XUypwnZbqMfGNHHwN8jZFyINDcFx7w9XyWdOFDX3AVErdTdfKpkzqev0dxjEYnxeTyxGCYP1+AFBftkq1YomwRx+8tRHE/VxQLJyrvfbK0D7L9rz3sWPvgZBlRClbkabJCI1CZFpy7t2FvPZeENCkSydclgEA9XujBjEiMoYFi1tlwvlKA8Jj9QYm8kXyfg7nwjcMzfJdGM7zIqLEfTjGRO74qbU1Eo1o+o/KURzNmp2aNTt8ShSgbmvzpj/ujSbPvqZmTl+INOGxHOJwwQIAUU5WRMHCdVpUEhx0szTtb20PbweEIAz3/5BzweJBXFSQ+uADHf/+H221CdviANeo/cauONUKAFwnTwtN54Bi4TzttVeE9hmm++0PnAePhCwjzfhV6SVLQl+9XC9e8otSXrsQl9m37YUqoTUmY+BCiobD6DKM0wKArlAtbIsDa4sjqUgDAOpshbAtHK6DvS0sQuTqDnqzhASXaERuc4TECAAQq0WcMzjKOfj6KZGSrLitFAB8Tj8hwSkP7ehydRzvrvyqPsaaHgDwNbXA7BmBbTJdODoLgCnkuD4418Ehys1xHjoqMEL4i/hb21lKGOzX3XK9QK28dQ2OfQc9Z2toqw1oGlMqyMx0acVE2ZRJgAbnl3B9kuH+ezqeerbvC/YLplGTmemcWrFer/t0ledsDdVjYpwuwDFcrSIz08UlRWR6GuN2e+ujzh0PFOWieZprQmrF0nT3G++6joaN3Eecj355IKVYlT9bnz/bkDsjifYxlrYIs2EsC167v+W4efdbtbaOi2ZI2H60K29hBgAYSnVitShiIlUM2g4b8xdnAkBKlDAzR9qk4ORgW+90YQB+ooBhnK5xVxuvMURAFscEc35ZUXFrKcuwmx7bW/XNwIYz/CEbkZIMKNo33hwaD7IsbbNjKiUAkLlhySIcsceDsimTZFMruF2Wpk0ffubYE0yaC0CZLZTZ4jp+yrZ1p/6uW/EkXcBOpqeqL7/EvOZLfud4EBfkKRbODWzbt39v/XYT7Qi7h3kBnIeOAnyDJ+nIjPS+n8DgUC6er7n6cm6X9VNdr73lPnmG12V0wEJHpbWj0rrrjZrf7r3E3Ox68dptwj7nxhhOa2jc1RYYnmAkOvm2WJ5nRGq3NAdESqwWxVg9o8tXJ48P/tDrtoRdNpZGu7PXySpakc1v4pO3IOqLjypSJiRV3FoKAMc/OjtQtYJwJwghcMIQnFXkI8rLDWz4jd3uM8GxAJmRjuARbpxERjq37WsM++RRsVh7w9V8S8/bHwjUio+vqbnzPy/xh4HKRfME0bR4UK1ahkokwLLdb31g+uRzgVrxobp7XEePC62DQrl4QZha+fzGF18bjWrFh4XOs4MZdPfLGBYsU521odepqbi9lMt6jxNHp6u6N34895eTpZGqKWAktvD3wYCuucFWH76GjmVY7sIuWpVjKAvqGh9lunzclXlC66iEy/sfXOICS9P+tlCYiYwUxuI0wtfcwmkQgmFkVgRN53tYvqYWXgvIZk5FpVJu13n4aMRBJR+qx2T67IvQPoKoli0O7Q4E6/pNzgOHhNZzJ5KLr1yyQHP1Zdwu4/F2/vdlT1U1r8sopbMqIVh92Pn0IZ/DDwAIiqx4Ys7yv81OnaTnl3CS6sQ5c9Pm/LLi0n8vCB3Wy/f/OuzscgOAIlV2zevLsman8oNNhnHaq15aEsgvZWh2y+MR4s1H3q0MxP4RFLns2YV5C3klbhDImp161UtLcDHe98BRCO0PpilV3FaaPiWZS9qIHy9PVoh0oWAhBM4Jk6+51ctzmkQ5wpsNKpHg2uBQmvX7fe3BhUEAAAiimDcntAtg+Wo9fzcarsPHfC2hYbtkfCk3SIwfymyxfLtRaB0KWF9wDodDuXSh5iqeWrndxudfGvKZx2Fi5yvVnz96RGg9ZyK44mMIa7P920d2rnp6HiklAIGilTlFK3MYmvVavQzNknKCm7/jEiP5uM3ebx7ccfl/FopVIlWm4vL/LPJYvdYWB0OxylSpzBC8h7MMu+2J/YFV0ALcJs/Wv+1f8X9zEBSRaESX/HO+y+SxNtsRFFFnKcQqEQCc/rxWppdkz4kchwYAWZJEm68SKUhSTpAygpQT6qxQca6Z909wmTw+J+V3+r0On8/h76mxxMhTHTQ1G5um3j0eF2GaXOVVL4fPgrHgc/sdHa72o12n1tQYz0SY1IPAwG3urMA22UewyKxMLlHL19zib21jaTpgEfUJY4W5Vy1t/GAQmZZCJIfGm77GZqorwlcTEefBI6FXRhDZtMnWAaqPfceuoYpMCWA8YUFY5dJFmitXc7uMw9n5/Mu+lqhryEYbtk73QHOs4mFsCxYANO/r+OT27xb/YUbqxOCPGMWQvtXyGDryj8x4qufTOzcsfWxWyoQkABCrRAGV4bC3O7f934FoAXUAqNnUhGDIot9ND2Q/SLVi/ujy5Gc1O/5xYPbPKmIIVsHy7HkPThZaeym/vkhg2fHkweO9K5mHEEuTfcvj+5b9ZVaEOU0ESCmhzVNp81Tjrsw/+PqpfS9ECNDwB25En4lCcX4wgAUAvpZWlqb9rW1kViYAiHJzuKYAYYIVHsASdB5Q6oD75Gm+CgwijOU5XSk0DRGMJ3QTUi5bpLki9H/Sdnvncy/5+W7mxcqYFywAMNfbPrtrY+okff6izLQKvTxFJlKQCAo+F+XocPbUWFsPdtaGx8v5WBrtn965IWdeeuGyrJSJeqlOjCDgMnm7q0wNO9uqvq2nfZHFjqP6u8bWg53l1xflzEtXpsrwQInkY92n1ta0HTYCgKk+gn83qlBnK+Y9OCV7dhogACy4zR7K27uQBQGMxMQqUaAoDYIi03443tJk7xuY97V3sH4/QhAAgGvUqETMuEMXIacOVI+JcbkBwNvYHBAsTK3C1CraEvqU+BF3wRQhmRs2fuybnxUDf6eR9VMIEfzZi3KzAUHiz31nfT5f23CpBtsrWMrFC8LUymLtfO5FvzFshvqi5UIQrADtR7u4VcqDoGFn67nUpXP1ePa9cDyi3wEApz+vPf15hAqCAY69X3ns/cHftx2druenvC+0RuKFWR8KTQAAoMtXX/3aUpGCpH307v8cq/yqrm8VeQRF9CWaeQ9NDQT1Km4t6StYwDC+ljZRr6AQaamhgAuCcJ6RrznoiPkam2FesF2Uk82fVosRcRfMP/o7Y2WHCWFZv7GLG66iYjGuUVMmc3inqNBWW/zqNlAC4i6bWqG56lLOSPWYOv/zEtUdoZrbKEeTISXEmLHGLmzoxVCoFCtwY7Xd09/aOD5xBd1FuDxVXVaSumxC5pVTc26akXf7jLzbC5MXCvslGJvM//WUwGqBnf88fOz9yr5qBQAswxpPm7b+bV9gN6lIE7E8G19c+JmfRLIBlQVjgr7m4I2BH6TnZA4AEAwjUpID24zH6+80ck0AgEol/F16gOtsmPBcBP5sY78w7qEPynAwHo+4qEB3243ALQVjWeP/Xh2LagUAk67Mum/touUPlwkbepl2Q86db82dfK1wviU2/XhYWllWnn6OTh6KPnD4qAg5rEpJigiXB7YtrhY/PfSx4QRDCykj0icH1SHiwmY+ttaQOuBinPYLpc3HG77x4+78aBHXx9/RyXq9iEgE4YJFpCbzw/MCp0YgWKxX+D/EhgnvL3i12LDUENd74INrNfp77uBOHAAAQdSXX9L16lvD59YNH7kzkgCguy7s9sCnZpdx6g05hfMMu9+IvOw0IlEFC0Px0tSV6ZoJwoaYaKSZJanLAtvVndvrunaFtycYdYjVokAqBkMxflc/q1W4VUq0j47oiIVlNvBSsfg57t6GpuA2w3ibWgLLa8jMDATDAhVg+K4ZXwEDoCRv7SfLDnSFTWD1MgcqDptjGUH0P/wBKhFOFkknjldftsry5TqBffSjSpUAQNPhqO5hV60dAPiLpeMhglcPADgqmp57+0DVCgDaLadYNhiiHsThCc4/HrM3kCaG4qihVCts5oGgyMz7gt9py4HIkaOA0xTYJlKCS5qA50D52zv5kXhutR1C4FzqFn+G0dcYFsACwfQ/gnAR9DhBybD8MkEywQgSWKgEAJTZwrerli+WTZ/Ct4wJZBoRANg6o46xHN1eAJBpebefOIggWAiCTMy6SilJETbEgY92WVzBX5iU1MhFSeHtCUYdPpe/7WgwSLTsb7P1xcF0TT4IimRMT7n61aU589IBAFg48k6UpSEsyyVnohJJ4CJExSIuUu6tb+jtCgDgawgKFgCIsjIDG/yxZN9VhIJAUmBEGT+C/owrQmRjxGAY28atbY//XZAdprv5ukFkYIwsgfK23HP2+hIheyYOItydMrVTkuSh1SQ042uznOpx1Nk9XRTtWVT6i1DXSPQ4GzSyYB6gVp7j8Mab1JdgpPj+X0eueW0ZRqCabOUN768y1Vl7aixemw9BEUKKy5OlSUUafuL73heORfOwAMDb1CLqTbkiUpJpq43MzOACyd66Bq4n8DwsACCzM+H7PQBAJAddM8bl6htyZpxhEoPJ5QOqb4UpgjHWAIEEi9GAr7Wt5+0Pfa1tAGBZtwFP1ssmTwo0ITiuv/eOjiefjX9Cc8SxGT1JufLUUlXdnshz98lFSgCwdw3MwxUKFoYS+fo53K7J2XC8+UsvFTVy1herK5RjqZKEbpUJRi3GUz1f3L9l6Z9nKdNkABBIEBV2AgAAc6Nt93NH67cJh2l8+FEnIsXgqarmLxX0hAsWbXdQPaZA3c5AN1QswtTBdxckNASNbe2cIAIAkZrs74iqnkJQFOdlRTAer2D8NYI4du8LqBUAAMv2vPMhrtWKcoL3fkwuN/z4ro5nnh89Y9jYNB3qScqVz7wtL5pgTb85FwCaj5qEDTEROmx6RQGJB8Ngdo/xcOMnA1IrAHB6Q7dEKRkrJpJg9NB22Pje1V9999tdVesaAu4VQ7O0n/HafdYWR+OutkNvnl5zz6b3r/0mtlqBQLCSDQBAZgYFi3Y4+i6j4ZwsMjUFIXDcEIp88dcbhozhkhet9lZEiBQDfxrO19g0aifgWD/V9dIbfD0l0lKT7rg1lPQwujn4cQMAFM5LvuxPE8WKsLghIcGWP1xWtiINAA5/FnKx40HoYfEHg9Wd22hmADldAdx+K8syCIICgISMfKNOMAqh/Uz1hsYYzyuLE7+xm/F4ULEYAIKuU2Ywbd0XqaCdt6ExWNkKRYm0VIJX4a/vFCGAsO6wpHyc5ev1fEsMpOPH8XeHsMDecEDb7cYXXkv51U+5qUzJ+FLNVZea13wV3nE00n7Guuft2lm350++Nrv80ozmIyZru5tlWGWKJHOSViTHAeDoF82NB4VD/tgIPSxl7yCOYnzdjrrwxnihmeCEN44ObAogwYUAy3KpobhOixA4p0GC8WAAX31vlgMAmZrCL0ka0cOiTGa+ZpHpaVyWaT8giHRKBd/gPHyUvzsK8be1d7/5Lt8NVC5eEE8N+9HAxn+e3vnyWYZmCTGWN0tfcXXW5GuzC+YaRHKcZdgDH9R/9dgx4TH9IfSwRL3jQYeni0tQGCgU48cxMQCgSJgryJHy8/vsO3Y7j8T6d1GpRD5tCq7V0Da788hxyjSwsW6CEcTX1BzIrsJ1WiI1hStPLBjNBfC1tHLr+4jUZEweDIrTdjt/dSEf27adel4YS335JV0vv8Frj4xs8kT+/KPnbI1/2BYGDiHuk2fMa7/i1/DT3ngN1d3jqY662GuUwDLslv9UHvq0cfyq9IyJWrlOhCDgsvhaT1pOftva0zCwWFMAoWARmCSwcS5J6hgafFmaiRwgFBfk+1ranEeOISiKKRWM28P0Ju8EwBTy1Id/gWvUgV316pXd73wQW+ASjB645CmEICQlRYFtlqYjDvFYmvY1twSm7YnUFLQ37aBvBhaH69hJf6eRm0yUTiiTz5wW++ExuE7Lv+YBwLZlO393NGPbsgM36BW9pXsQDNP/8AftTz3bdwp1FGJtd+96fQC57LERCpaf8ZCYFHiiM1AQBMHRYMKuj446ZywuyE/+8d2S0mJAUWBZT02d6ZO1XJ021bLFuEZNmS3uE6dwg15SUpR0642e2nraZgt/mQSjEX7ylHTyxMBGwJPi7Hy8DY0BwSLT00LuWCR1C8Iw3W99kPrQA1xn3c3XISRh37knYhCdzEzX33Ubl5kJAM4Dh0Z7leFwTB+vJfRJ4uLCwC4qkxruu7vj6ef4WbgXA8IYlo8KprRIiEHGyxXiZO6BfR5/VH0hM9IkZaXBHxyCiAvzU37xE67IpKS0GACML77W88nazv++bNuxCyEJxRgZuiegunu4hEyyt1CMty5qhNvbG8bCVEouTyqiO8bha2q2fPNdaB9FtddfnfLQA4p5swmDHhGJAEUxtUoyvjTpthtTH/45PzRGmS2mj9eGjh0TMEzXq2/7O0MpAkSyIemu2znJvkgQulFOr0ku0gOAhFSLCWUMxYmGXlHAbZudsX5zzqPHrd9tpnpMmEqpXDhPMWemasXSng8+AQBcq2UZhnO4rBu3KOfPERcXwnebwl4iwWjF19zKuQMBIgawAvDz3UPG6EPCANbvNmMqlWL+bM4iys4SZQcTl6JB2+3G518ei44J43YbX3wt9aGfcXUvJKVF2muuMH0y1sT3HBAKVre9NllZHNjO1k2r6tgc3t4PGEpkaUPrnnqcYTPQfPxd3d1vvhdY7Mq43T0ffkpmpnPxDoQkGI+Hc+9pi5UyW/iFcROMcryNzULBCl+Uw4cyW2iLlcsXDVrsdl6XyJg+XkOZzZrLVsXpaPiaW7teeXMM5YsLoLq6u1550/DAj7hsMsWCOf7OTvuO3eEdRwsojpavTi9ZnKrPl0uUpNvme/7SLYEmXbYcQaGn0ckyEUbx0RB+zV32am5yMFs3TSMNLu+Kk3Fpq7i8U6e3x+KMepP0NTYH1CpkaWjiRxkED26grdYBlS5KMLIIBnQBSeJbBHjDnayIOe4RsW3c2v7ks/0+SIZ2OMxrv2p/aiytbomIp6bO9MGnfIv22isF94ZRgiZD+qOP51/514qSxSm6bLlUQ0pVoTynK/9W8ZMvF+dM0/GO6B+hh+WlnE2mg9m66QCAIOiUnBtOtX3bbjkl6NYXHCXHpV+Sqgol5tV17WajPC6G8Xj6VtJAJGJgWAAIKwnEwbJIfHfREUdTUJGz9Da+pePwpvb96/iWCx7X0RONP31IaI1O16tvC01x42tp7fzPS0RaqmzyRFF+bqBYIIIgjMdL9Zh8zS3u01Xuk6cHWogGAFg/NaCzGBCuI8cH9+KOvQdiT4mOBkgZftvLszSZMpZhm4+aTc3OSVeEeT9nNrVlTNSULk2r3ydc/BADoWABQK1xV6qqLOAoYSg5IeOKnKSZbeYTJmeD0ytMhkIRXCVN1csLMrQVBBbSIIurpd16ktcxDF9ru7i4kExL9fU+yQ7XqKXlZQiBy6dN8ff0AAAqFnEFkgAAlcsFqQ8JEvDxt7VbeA9GTDCyzLotX5Mp66q1f/DAfnOzEwAEgtV02AQAmROD82xxEkGw/LT7UOPH03NvwXrz1JXiZGWqMJlYJ89dXPorvkhxeCnH0abP2EgTzAEce/aL83NTH/q569gJqqcHVShkFRNRsdhTU5d0+03B0BXLikuK3KfOAAChTyL0SYJRQ4IECUYtpctSAeCrx44F1Kov9i4PACgMEQQkBhEECwBs7vbDjZ9MzLoqkJMVEQwlMIiQyO72WQ43feLtTY+IiGPfAXFBrnzm9OAiMgAAcB0/1fX625qrLlPMmuE8chQQVP+Dm22bt9Mul3LBXABwnTgdeokECRKMYrSZMsrLNB8Tjsk4nCYfAEhUETQkBpEFCwBMzsbd1a+WZ1wWsaB7NLrstSdavvRHzxfl6H7vY8fBI9IJ43GVinY43KfOuE6eBpY1ffq56dPPAYBISZZNKldfujLQ39/Vbd+xi/8KCRIkGM2wbLQgNgBAYP2zxz6wwGJUwQIAL+U42PCBVpaVrZuuVxQECjBEhGXZHmd9Xdeu2IlXAjxV1TEmd/wdne1PP6dcNB9Tq3xt7bZNW/lPmkww3MgM2bKUbABgaLr7VOJWkWBgmFuchkKloUAR7UlfWRVaADBWDyzTM5ZgBTA5m0zOJgwl1dJ0tTRdTCgJTIyjIprx+2m3l3JaXa0mVxNFD31E3Nfe0f3+x0JrgvNC8uSlqpwyAGAoX0KwEgyUqq0dhkLlikfGv//TfX0fRUyIsfk/KgKAM5sGNk/Sv2AFoBlfj6O+xxE1ETTBhQSCovK0fKE1QYK42fN23ZTrcvJm6X/86cIDH9S3nDADACCgzZall2nm/rDAUKg0NzsPrwmuyoqTeAVr+EAIHEEjJV4BJPIYRgqpIQsjBzZ9kyABH7fV9979e2/538ykXPmq35UHjBIV+cDXSwLbji7PBz/bT3nDssf7ZcQEi0hJ1ly6UlxU2DeDlKPhgcGk1SU4dxQZweVZCRIMmraTlheu3rrgx8XlqzMCIfYAPhd14puWbf+rCjzpa0CMjGARBn3qQz/jKh8lGG0oM4KLOhMkOBcc3d5v/np83RMnDAUKeZIIQRFnj7ez2s5QwqhWnIyMYKlWLEVFItput67f5G1uYcfIg0AuElBCJDVkC60JEgwWlmE7z9o6zwrtg2BkBEtcVAAAxlffilFyJMFIoUgrGCvLNhNcbIzM7xJTyBmXK6FWoxNFZmI8mGCUMmQeFoKg8T+0gnF7WP+AHyA2goi1qerccnlqnkhtwMVSBMUZv9fntHh62mzNVZb6E4w/NKplmYFNfEQDI8Xy1DxJUoYkKU2k0uMiCSYKvjXt99Bet8didPe0ubqaHa3VLBPvhx8bXCxTZpYIrcPPiJxsgjFHBMFSiA1SUmu0n41HgFLVZZmaCpU0DUVwP+22uNpazUc7bVXCfuH4Gpsk40owhSKeIm0ji9SQlT7zUnlagcCOiSQSkUSiTdUUTsn0e7tO7uo4vDEgW7TvnDLycbFMnT9JnVsuT8uPmPCBiSSYSAJyjUSXpsmfBACU22GqPtx5ZDPlHtjniSCoSK2X6NJ6/9IJGa8kGQAAoDhZ8eNnBMZoHH/j97S3/4VZHOfzZBNcAEQQrCztlAxthY9ytpiPNfUcjPbkZxTBJ2VdpVeEKocRmESvyNcr8jttVcebv2DYqKuErJu2ScaVaK++rOvtDyI+NWB0gKROXZ4yZXm/z9pFCVFyxWJNQUX9xrdcxibaEyxnPlAkujR9+TxN4RQUi/C9xACXyA0T5uuKp7bsWms6e0jYHAlN/iTDpEVibepA32uoOJ8nm2C4mX1HfvGi1Kqt7bvfDD587KdfLQ7vEgvaz1haXSfXt51Y1xJj+SH0FSwEQVNU4wCAxGV5+tld9ppogjU+fTVfrfgkK4snZF5xtOkzYUMvnpra7vc+SrrlBtygd+zZ72trZz3evsrF1XQfARAke9FN2qKpQnt0SIWm8PL76759zWMJPSkgfhAUK7j0x7gk+AiGQYCJpNmLb0EwoufMXmFbH8S6NKl+YOVkh5DzfLIJhpuFPykhxFhamYoTLF3OwL5cQ6GyaGFK4TzDmt8cFrbxEAqWSpKGY8H0KLfPYnG1hLcHMSgKU9VlQiuPZGVxmnp8m+WksAEAANJ/9xBu0AOCiLIyRVlRL5sRTBxNn3lpDLWifR7G78HEcoF3gOJk3qq7q7/4L98YJyxDd53alTp1hbCBg2Vpn5v2eTFSjJHiaH5f5vxrPeZOZ8eoXkR1MZwshpE6daFOU6iUp5OEnCCkNO3z+R0ud3e3+Wy3qdLr639IK5cmz6x4ILBdVfdVc/u+wDaGkUmakuSkMqkkSUQqcEzkpzw+v8Nqb+4xV3eZzsQTz+mLQpaSpCnRqvPFIhVJyBAE81Mur89mtjb0WGpMllph5fJeDn3SWLok9czmsIWBdqNn//txfTW4GM2q0OXOSCpfnVG1rfPU+lZhj16EgqWVhRJwooWiEECKU4P59QDAskyT6ZDZ2SwmlNm6aRJSFbAXGBZEEywiNUVoGk3IU/MNExcJrQD2lrM9Z/Zam85wIXZcLFNkFGvyJ6pyg4sPUJwsuOy+0DEDofvk98mTFqF4qO61u6fN1nTGZWx2dbf47Gbu54LipCw5W1s0VVM4WRD6QRA0bcYl/Yqmq6u5pzL46xegLZyC8ISYZRjT2XgL8rJ01DiAgPN5sucZFMEyUmfkZCwgieDzDYJ2XELgEplEr9eWMrmrm9v3NrRs91PxhvykkuCDYw26stKCKwg8rFYdSchIQiaXJqcnT3V7zWeq15qsdfwOsZHLUgqzV+g0wjGTiFSKSKVSnpGdPtfh7Khp3NhtjiAL3z158rsnhRe7ucX1/WtRy7H0ZeVvxs+4Ja/iqqwBCJZCHPxQAKDbEfmEk1UlUlLL7R5rXstJW5vlxOyCu8WEEgAkpEojzTS7IhScaXro90LTqAFB0cx5VwuMDE217Pys7xVOeZzmmsPmmsOK9MLsxTcTMhUADHoVHuVx9lTu14+f67V2dZ/ea6k76rObhZ0AAIChfPbWantrtfHEjrwVd5KK0NcBAPLUfFlyjrOzgW8UYK0/Ya0/IbQCAIAqZzweJlhU07aPeO1Dw/k82fMJScgmjbtNKc8QNoSDonh2+twU/YQjp992OOMKfcikegAoyF6ekzFf2BaORKSpKLvjdPWa9q6jwrZIpCdPLcm/PEb9qAByWcqkcbc1tu6sadgQq9JVLz5XvHevADtfrp5xS15qadDjiYhQsKSi0K/B4oqsc9m6adx2u/U03xHz0+4a487x6asDu3pFQUTBGs2rmpPGzRFrUwXGpq0fmmtiDa3trdU1X71QeOUDuDjspjpQjEe3WBtO2luqo/neAtzdrbXrXim++hcoEbbOSZlZPHqu4WhceCcrIpVTJ9wjEYXVKfd4LQ6X0e934ZhILFYrZCkAwRGuiFROK7/nyOl3LLYG/iERkUn0qYZJfLVyubud7m6KcmOYSCFLkYhDFy+CoKUFV9icbU6XkTNGJCdjfkH2cr7F73fZnG1+vxMASEKmkKcTuIRrzU6fh6JEVd3XoQOi4HUOTLCcJq/PRcWuQSoULDEeDJW5fVaa8YU3AgDIRElqaejuUWvcyWsEADDaqtj0SxBAINxfGysklYUezBmg58ze2GoVwGMxNm79IH/VD4UNA8HnsPgcFqE1Jh5zp/HEzpTJS/lGeVoBwHd8yyjkAjtZBEHLi6/nq1WPpbqmYYPdGRbZIQlZdvrczLTZKIIBAIaJJpTcuPfo8z6fg9+tLyJSUVZ4bWC7s/t4bdMWlzvseTMqRWZpwZVyafDxCyhK5GUuPFEVq6KcVl1QkL2M27Xam2sbN/YZSyJ6bXFh7iqpWBfYz0ydaXO0thuPhHcTMlAPCwBwEvV7YqUxCp1A7sETHipyJcB0zQRuu8dR7/T28BoBAPy0x+2zBLZlouAZDhRUIsG1YZ7/+UGalCHWhD1ug2XojkMb+ZYY2BpPj8itvuf0HoFFpNILLBcMo/Zks9PnqpU53G5T264jp94SqBUA+PzO6obvjp56i2aCudMkIS8rvCa8VyzO1n97oupjgVoBgNXefPD4K26PibMYdOPxSI+JCYBjovFF13LuXkfXsYMnXumjVgDAdpkq9x99ge+sFWQvR9FYrlD7aUtXbf+zCnxEchzFUbc1Vkq5ULBQJOhzRawgigCSqgpNDjabIkss94D7GB9WbFTLFmf8+XdC6/CjKZoisFjqT/gckWMrEek5I4xznQd8DrPAVcHFUZ8eMtYZnSeLonhW2hxu12ytP1v/La9diMlaV92wntvVqQtViixee1Q6u080te0SWnuhaE9t0yZuF0FQlSLqLHxa8lSSCI6oXJ6e09VrYswtUrTndM3n3K6IVKQlTw419+HlG3bseSuY4hAnKcUq6K9oslCwaDY4DIwYgdPKc8SEIrDtpz1d9shTANytA+/11wZKjCJZw4o8NU9gsTUO7FE91gH2Hyp89jBXF8Fw/gTcBcYoPNkU/UT+nCBfjKLR2r7f5QmdSE76PF5jNNiahg1CWzhdpkq+7shlYSMGDgSQrLRZ3G5Dyw6GjTUWAwCrvYnvZOk1Q7yEy9TsfO++vRv+GesKEqoS51hFfMBXhmYit91uPRXtDAMBrHNhRAQLQdG+4XZbc6XAEhvKbffahMPk80DfBTGRH6B9QTAKT1anDiUEuNzdNkfkCSs+LLAdxqPcrlZTgCD9nIXZ1uj29uPv07SP3wfnxcv5yGXJYpG6d4/t6oklExxWe2gOTa3MjujWDBq70VPzvbG7LtZAUvh+Ll/wVKUiLRKerSfC5QZlMbfbaj7OawyDSz2l2VjD0Rig4hEQLLE6WZAISrkdlLufUGhfPD1tQtPwc1GtBx6FJ6vhRa8ihYEiY7bWc9sYSqgU/SRDWKwNQlMkKMrDbXMXowB+uM3jtcaZDub1hy4HDCMFuWDnAeEsod1jDOSO4iipkWabnA1cU65+ZmBeAwBs7nabWxhN5BD1TjUGxoaGu2+XlJc5Dx7pfvfDgD39dw9xnSOC60Yg4i4ItwOA19olsMSDN0o+UYILFQKXkmRoJUqceVUAYA/vqZClWGyxHm/ucHUKTZEIf+h65OGOQp7GbYtF6qVz/sprjBeSkPl4EhYDFEMkKhIA3FYfQ8eVxRIRoWB12Wu4NKvilMUH6t+lGB8A6OS5WdqpXLeGnv3ctgAMJSSkOrAd0GNxSRGCYdKJ4+HdYJ/RmemO9Yndem2hCZf4oVyxooYDBRfLJEnpYrWBVGgJqRITSVBSjOIEihEoTiAYgeIEiuH83PSxyxg9WYII++XEeQ0DAEV7GIZC0eDpEHg/SXw+v1NoGixD4hxhWKyJQgBAcXTSFZmTrsxMH69GcRQAGIppO2099kXzkc+b+j7+q1+EX7zJ2ejx2wORdaUkZU7hj0zOBhKX6eS5XGTK6TV1WKOOeBXikJ/i9lsAoOv1dyQlRe7Ks5wdAPwdnbatO/gWPspF84kUob8z3PTNUOdXuYofyusSmgaOLCVXkz9JmVUySubsh5WxfrIEHvbLoejgzFU8ULSX5AQrXPj6Qkeaux8c/FzQcyCy+xZAphPd+Nz0jAlhabQojmZM0GRM0Ey5LvuDB/bbOuIainIIBYtlmVrjzrL0SwK7YkKRpg6ukuOo6tgc7nOGwX+0vcPTDQDuM1XuM6Fs+AC+jk777qgZAJJxpSMgWEQfwaIG8/uIfz1dRNT5E1OnLO8b/r8guTBOVnA1xLqI+xAeKY56WQWIkXYwUFDeqkyvz9ZjjjzjH5sYHh+Ko7f8b0bqOLXfTZ9c39p8xOTo9gIC8iRRVoW2bEV6SonqlhdmvnzD9gH5WULBAoAW89EkRV6yMvKcZYv5WLRshgBJ8lBmgMnZxGsJg3FEPVUAYDwD090hASWEU+MMNZhJg0FXHMUl8pzFtygyQzMbFzAX0sn6qTCfGosS544Iv7Pff/5+9n5/6H/2eC2na9byGoeAKddlp45Tmxqdb9+z29oedl5H1jRte6Hq9pdnGwoUU6/P2fduvHMUEFGwAOB485elaZ4MzSS+kWWZhu591cZtfKMAKalRS9MD237aE606jevocU9trP+ScYemOc4bfeXpfMZKSLmm8IqfCFb2ctBet7unzWPu9Np7aI+L8jhon4fx+xi/l6F8tN+bt/xOeXqB8LDRygV2svyLHwBEZDBXsV8IXMJNZEEf4RtWfLz3InuTK4eQ8kvSAWDdE8cFahXA2ub++i/Hbn919viV6UMgWAxLnWpd19C9L1lZEoigO73dHdYzXAp7NNJ5iVqt5mPRio4aX3tbaArHc7YGISL/b8NH39LGg0tHHMRRKIbnrbq77wXMUP6eM3vMtUednY3CgUc48ayeHyVceCdL0R63x8StPZbL4p1TEvQUTBoOK/wUUIlYQxBSgeyeI/p8BUOzdXuF64c4Gg70MBSjzw/NrsZDLFFwenvquqIuAohIrfH7uq7dgW1msElYAOA6ccp14pTQOsz0FSwsvCpAnPQN3veLYdIiiS40zRzA3lrdsOndC69y+QV5smZbAydYWlUoKhIbDa8nw1A2R+QRyXBgstRCdmhXpy7s6DoW2j9nCBFGeWmWiXprYRmW8jG4qJ9cWQGo0HBuMCxFM77AX4zA/OiE9gl9V0KuFljiARMNbP4FwXB9+XyB0dFWU/vNy/FfwBGf4DAKuVBPtst0htuWiLXxLAxEAEnVh0YkZms9w0QekQwHdkcbvz5EVtpsXuMQYO/ykFJcYYh681YmS0gpbjcKvYTYDLFgjWk8ZmFWnlhtEFjigVTohKaYKNIKhFW0WLZx64cDCt4LX2G0cqGebHdPJb98QlHuyn5nCzNSZ/ArWDVGX9I8HLDANrZ9z+0q5en8pYXnTv2+bgCYf2+RsKGX+T8uAoDa3aGRaTyMvGAhBI6KRBH/hF2HGY+pQ3DZEDLVQN0lAJDoBjZJLzUI78aOtlqffWA5q4RUKTSNSi7Uk2WBrWveyu2qFFnFeat57UK0qryCnBXcrs3RYrLU8NrPBy3t+/h15QtzVmWkzuC1R0Uq1qUaKoTWcPa8U8sy7NQbcq7+++TkImVIvRFILVVd+9SUKddm0z5m1xu1/KP6JVYMa1ghUpI1l64UFxXGWOd8nh9CwTK0x9wpCK8oM4rNtUf5ltigGD5Qv4xUhGXWAYCrK7TENB7E2pRBCOuIcAGfbEfXsSRNUUrvKC8zdaZMoq9p3CBYCE0Q0uy0OVlpc7gEd5r2nqz6hN/n/EAz/uOVH0wpvzswU4kgaEneZSlJE5radputdYLVhSJSIZMma1S5OnWBUp5utbfELuDXVWNf98SJ1b+fUL46o3x1hs9FOU0+BAGZVkRIMABgGfbzR4+Ym2OlN/VlZASLMOhTH/rZ+feh+sXRXicUrOxxAxIsZVbpQJMh+j6Yz+8JBRfiQZlVKjSdA4LE14GeTmxG28kOLWdqv5CIddwaZq06f7r6Po/X4nB1+v0uDCPFIrVCnsYvZ8Kw9MnqT/l1Zs4nVnvT6eo1ZYXXcHUX1MpstTIbgPX6HIE0CwwjSVyGYQOe+z74UYO13b3ikTJdtpyU4qQ09NV3nLF++/cTTYcH5lnDSAmWasVSVCSi7Xbr+k3e5hbWM5iE8uHAXHNYP34u36LOm9i292t/3MsDNYWThab+oPoUS8EGkhiBYrhhwgKh9RygvK7A0zQCIAiKS+SDqFoRkdF2skMLTfsOnXytvOh6vS6kqmKRmlfIJQw/5T5e+T6/ZsP5p6PrmMdrnVB8I3/9NgAiIhXxJ5RFo3pHZ/XOzvRyTUa5RqohAcDR7Wk+au6otAq7xsfICJa4qAAAjK++5a1rELaNKM6OBq+1W6RK4iwoTqRMWda88zNer6hI9ZnqvAlCa3/01QLxQKJgKVNXDm1Mh3LZIXytjDwl1xLlETsDZbSd7JDDMP5jle+n6ifmZy+NplMAwLJMm/FwXdPmeJ5OONxYbA17jjyXlT4nM3VGv1WCWZbpMVc3t+8VNkSDhdbj5tbjZqF9UAgFS9TfevGB4qUijFExhZxxuUabWgXoObM3bealfEtS2Wx7W42ltp8sFUwkyVp4Q79zQ33pG8RRZhTjYhnlifDRCdCVzEiuWCy0nhtOY5MiI2xyJ2n83KESrNF2ssMD2951tLPnpE5dkKQpVioyRYScICQU7fP7nU53d4+luttU6fEO0ssYDvyUq7ZxY2PLDq26QKvOV8ozSEJGEFIUQWna76fcLk+P09VlsdWbrfVxFs8aDoSCtbDk5wLLOfLdySeEJgDG7WH9g08rHVaMJ3boSmfynSwAJHvRzShOmqoO8IxhiFT6nKW39s2HjAdHWy3L0PzcIpQQZcy7pmHjOxA9pRtBsbQZqw0TFwobzhlHWw2EP5ZGkV6YXLGk88hmvnFwjLaTHT4YhuoyVXaZKoUNA8Hh6ty061GhtT8OHH9RaIoPivYae04Ze4YgZzulREV56e56oUN9jggF6/zga2ySjCvBFAraPvL+sACWplq+X5O/+l6+EcWJ7EU3aQun9JzZa2uu5HLiUZyUp+WrcsbrSqZzF6HH3Nm3FmAMGMpnqjqgK53JN2ryJ+FiWduer1zdLXw7ABAytSZ/gn7CQpKX1+o0NsoMvMzlc8DeWu21dgkqvaTNWC1LzjEe3+7sbOBH5REExSUyXKokZWpMJDGdPcg7KAKj7WQTDBML7y8uXpSy/cWqbf+tEradAyMjWNZN2yTjSrRXX9b19gexV42NCLbmyu5Tu5LK5gjsioyiwFiJ9nlonxsXSQVP9AQAv9NW/eX/Sm94ZEDJjR2HNmgKJwsWISrSC4uv/ZXPbnab2mmvC0ExXCQlVUkipY7fDQC6Tn7feXjT+NsfE9gHCct2HNqYvfhmgVmVU6bKKWMZmvI4GcqPYhhKiDFSxI2CfXZzv4IFo+1kEwwPaWVqAGjYP8Szn8MlWF7K6fR2O7zdAED2qS9K2+3mL9dpLr8EN+gde/b72tpZj7evcvnaz99aUAEtu9biErk6L5hTIwAjxREXDFIeZ+03L1Fuu6urWZlZImyOjs9hadj0bt6KOyG8jj4AkApN39wlPt2nd7fsWgss6zF1iLXCj3pwmM4eVKQXaounCRsAEBQ7x7D3aDvZc0EuNuQmz9XIMklCzrKMn3LZ3R3HGj+LuMhGRMinF96FIOiB6jfcvlEUwBoOAnOCxpp4p9fjRChYx5s/F1iigaIEjpIkLpOL9WpJGtkbrWdZ5lDjhz2OBq5nWvQK7qKsTFFWptDay3lOHOXDMkzDxnfSZpoMExfGGUf3mDvr1r8eKAPv7moZkGABgLXhZMPm97IWXNfXa4sGy9Bt+9YZj20N7Npazg7hNdy0/WMAiKhZ585oO9nBoZAkzyi8O5D/GXiClJhU0Yw/oloBgFKSFqh9opKmX/CC5bb65UkiaiDF+eJBKFjt0WsfxwBBEK0spzB5gUqShiDo5Owbjjd/0Wk7p3DjiMOyTOueryz1J9NnXipLyRU286C9buOJHcYjm5ne4I6rSxiLiQdzzWFXV3P6rMtU2WV9vY9wWFtTZdver92mds5kb6kyTJjP63NOsAzduPUDa9PplCnLJfFWBBX6yDEYVSc7OPKS56Eo7vXbj9Z/bHO1scBiKElGr5Vuc7e5fRaWZc1O4VTpeWZS7vUd5pMdlsFc7HHSfNRUujTVkK9oGaKEhgCxfygDAwGkJG15lnYKADAsfaD+XYurFQAGndHOeEdLQqkkKV2dWy5LyRWrDZhYhqAo4/f5HWZXd5u9pdJSd4KhBlDGu19EKr0qd7w8JU+sScbFMpQUsQzD+L1+h8Vj7XJ2NFgbTg50/d25IE/NU6QXSpOzRcokTCTBSAkAy1B+yuP0u2w+a7fH0unqanEZm/qW6OmX0Xay8bOg7FciQl7dvqW+83th2yhGIUmZVXxvdfvm+s5hXG6dMUFz51tzTm9s/+yRQ8K2c2AoBSvAjLzb1dIMAHB4u3dXvzLaaq2NUQpyiardOYHt4tkNNfWjNClkcOh12OdvpU0sE2393nX1Xe1+/9j4zSyb+AcEQY43fDqsrsqQk2OYXZS2dLgFCwAmXJpx+Z8nHfiwfut/q3yuyMPkgSIcEp47NcadU3NuAgC5KEmvKDDGLACfIAEA3HClYuYUMQBcslS2YLZk03aXsMfoA0WwwPMjmKF7MMT5IUmZLzQNAwVzDRiJ1u42zrw9f/K12W2nLC6zL2I9v08fHoALNvSCZXI20owPQ0kAMCiLh1awpBpy8Y8LC+fpVckSQMBl8bWetL7/84N9JhgHxpKfFM25I++Lx44f+6ZN2Hbeuez342fclP39m3Xrnz4jbLsIoKhz+y6HEwSQirwbRYRSTCi45/pNyr2e3+dgzdsm3owTABSlLcsxzOJbdle+6PBErgNVnn1Vqqb8cN373bYalSwjxzBLLc0kcImfctlcbTUd2+1u4dS5SpqemTRNI88U4QoA8FJ2t8/aY6vttJ5xeYNDaTGhzE2eq5AkKyTJgWuzMHVJYeoS/utsOv5EtOmCQXDLC6FUO1KK50xL4jWGMcKCxbKMw9ujkqQCgEoaOfNbc/lqqqfHvmuvsAEAABAMUy6c5+vodJ8Ku2JRDLn79ZnJhQqGZnsanT4XJdOJRDL8HNUKAIoXGEgJlj9LPxoE6yLkw7X2m65STBgnWvONY8eeEVv20T8IiAglAHj8do/frpAkA4DbZ6F4jwsMPHiYj8XZ1GaSkbhERCgUkrhmNkWEIlVTPj7rCq6IgohQ6FXFZ9uFiw0ydJPHZQZXktGMH0UwCamRkBqtPEdEKCpb1weaCFyqlmUCgMtrlomTUATz+h0+wbK5c7+QeJz4ZjDzTv0y9IIFAH46+JuTEJETdlTLFnlqaqMJFkvT6ktX+lrbBYKVNyMpuVDhc9MvXP99V2/KP4oNQRiuartRly07s7VT2JDgvNBtoudcOsITZ/HAsuyeqpe43eWT/ggAVa0bjNZYE+JGa5XRWgUAElI9b9zPhM2RMKiKdYr8TsuZxu59TrcRRXG52KCR5zg93fxuOEqWpK8EgMauvfWdu3yUEwGEJOQaeXayqqS5J5TEa3d3cP/5nNKfyES6pu59wxrDWvObw0LTUDAsgsWV+0ERIrwlXmiHk9ALU5yTcmUA0HTUzKkVADD0ENwWNv/37Ob/nhVaEyQYIfTKosauvVWtG4L7jM/kaBCMNAFAItIEssBq2rfRjA8AWGC9fnuH+WSH+aSg84XBsJRIlpCqwEbgQxwMFIWIxQIbKcEAwOsYsmH2GGVIPfcEoxGa8dW0bxNa++D2WQPPgs7STxe2XaAMvYclJTVSMlhanxsbDghULMbUKtbnAwBViuSav01UJouVBlGgYmHZspS/ngxVy37l9j2NvLqFv9m+lPIyTy/fIlESi+8vLFmUotCLvA6qvdK6/unKjrNhCwV++tm8lOLQoHXDvyt3vBq1wnTBrKRZt+ZmTlCLFITT5K3b37PztdrO6rDF25p0yYPfLT6zueP9Xxyaem3W1Guz9LkyBEN6GpxHvmzd8049Ez5LQoix+XfnT7gkTZUq8dj81bu7Nv/nLOULqyvfF2aMzUolGDBWV1s8N3uK9jR27c0xzC5MXZymndjSfajdfEIYmbqwGHrBKkpZxG3beVMhmFKJyUJJwAhJ9l1jCACoXK5auhDBcW99Y8DitvndNn9ntT0pR5ZcqLAZPc3HLFx/l1n4vSoMYnmS6J63Z2kypN11ju56vzZLVjBb77GfEPTc9Va9Pk8u1ZCFc5JUKRJBK58VvyqZd1c+y4Ld6LFW2zUZkkmXppevSP3410dPbQilXwfQ5ysu+8P46ddnO82+rnqnKkWcUqxc9bAypVjx2e+Ocd0IEXbXazMzJ6pZFrpq7TTFTliVVjzfUL0rLE7RF6+PBYCK8aK7b1EtnidJT8FZFlo7qI3bXK+8az1VJfxABIhFyNIF0lWLZRXlorxsQq1E/RTY7ExVrW/PAfc7n9gra/p5BQCQiJHrLldcukxWPo5M0eMyKer2MCYLU1PnO3Tcu2mna+v3Ljq68CZpsc5TkR/epyuutdgGJsnlpaKrV8sXzJLkZhM6DSoiEYeLbWmjqmp8ew56vtnoPFvX/xmNKuJ/BPTZtk0urzk/ZYFMpCtOX16UtrTbVt3Yta/v+PHCYCgFC0fJktTlycrQGjqTs4nbVq9Yopgfqn8gysqMscYQAGzbdgCAtcP9wS+Ds55z78hb+VBp8zELZ4kIhiM/eGF6R6Xtldv2OHq8AICL0IJZekufR2Yf+TI4kXHD0xXlK6MK1qTL0ufdlW9udX300JGWExYAQFFk7l15y39Rcu3/TWw9abG0hb1yUo5MmyX98vGTBz5pZFlAEJh9e96qh0srLs/4/o06zilb+OOCzIlqR7f3zXv3B1w/qYa8/h+TJq6OPLXK4XYzf3pI9/tfaLFQUSkoKSBLCsj77lD99V+mvzwTOS9cRCJ//a3urptVamVYKIAgQCrBUgySBbMkj/xU+/T/zL/9WyzRXDxP+uZzyekpYT8euQyVy9CsdHzxPOnDP9F0GOnx8xvM1oFJz0BJT8H/+3fDpctlgrU9aiWiVpLjS8hrLpU/9rA2tbzO5R5LA+kBpVu39BxqMx1NVpemays0ihy9qlivKjZaK080rqWZEU4wRlAkf7a+aEFKcpFCoiRZALfF11ltO7uto25vd8S0rNgIBStVNU5g6RcEwUhcqhSn6JWFOBqqGUIzVLslFPmzbNzia2sXlxRJCgtQnqvVF3+n0bJ+k+v44KuIISh89PARLh5PeZnKbYOcAURQZMlPiwBg7R+OB9QKABiG3fFqbdE8Q84U7fTrszf8WzhJdODjpv0fBz1EloVdb9VNvjIjuVCRO10XECwMR6Zfnw0A3z59hhuousy+T3977OHNSzA81tTnT+5S//FBLQC4PWxljc/hZDLT8JxMAgBwHHnsYR2GIY89FaGsh9fHLpor5dSKYaCmwWfsplEEKcwj9DoMAFAUHvmpxmpn/v5cZNWbMVm87r00ggj+hy3tVFML5adYtRItzCOlkqC9qtYXQ60sNmbxNS1JWkynwZK02Lgi8qarFcJO/TFtkvjLd9IMSSHZZhiw2GiPh9VpMREZ/E8+/Nw+ttRqEDAs3W4+2W4+KSHV2fqZmUnTDKqSorRlZ1rWCbueR3Q58muenJJaGoxoc2RP1U2/KbftpOWz3xwyNQ5sACsUrAmZVwosg6ahZ5+PDnm2tMVq37XXvmsvgmFZ/3zC29BkfOFVXvcgrN/PnnOQ5uBnzUMyewgAKUUKTbrUY/fXHxBKQPNxS84UbdYkjcAOAMe+ahVYOqvtyYUKuS64rDK5SClRESzDntkclgfo6PG2HDdnTw4GASPy50d0Ljf74J+63v7Y5vEGT3PGZPGr/0oeV0QCwO9/oV23ybn/SIRlfU//z/zy04aPPnesWefYvtvFXckIAisXy175pyE1GQeA3zyg+d8bFps9whfxt9/qAmq177Dnh7/sPH02NNpCECgvFa1YJL3hSsXL71hDx/SBotjtu0Nu6cwp4oEKVmoyvvbNVE6tvtno/M9rll373YEzQlEozCUXzpFcs1r+6rtDXOFkNOP2WSpb13spR2Hq4hRNWWTBCs7axLopnjsynejON+fIdCIA6K6zt52yOs1eBEFkWjKtTK3LkaeNV9/5xpwXr9vu7BnAkmGhYA0VXfbaWuMOoRUAAFia9rd3AMsM39pmft7DOZJcoAAAsYL4y4nIz8UM1P0R0Pcf8Hto4GWNaTOlAGDt9PjcwkiPqdkVW7AA4Ob72r/6LuzWtO+wZ+m1LYc3ZacYMBSFx3+tW3mjUDQB4JMv7es2OfsqEcvCt5ud19/TvvPLTABQyNF5MyXfbBTe/RAE5swIjp3ve8TIVysAYFk4ftp7/LT3qf+a+fbh4Kk/JgW0FQDu/7XxpbfD9JFhoKrWV1XrE9gvEgIJ7oGM9r5QjBcAAoVuho8FPyqS6UR2o+fThw81HRbe7LOn6q75xxSFQbzgR0XrnhAGl2Mw9GkNDEvXd+050vQxG3363dcyvAnllFd4QQ4akQIHAJ+LajxijvjXXhnhBu519pN7EUjR8PdRKwDoK2EC9h7yCNQqQGcX/Y/ng+O4JfOkmWkR7kY0DX3VimP3AQ+nQcX5EX7uGIaQvYNBbsx1/snOwK+/IuiRvfiW9eJUJQBI104an3WlQVUiIuQBC4pgOkVeYepiADDZ68N692J1tgBAmmZCkrIgkDKJIAj3CkNF0YIUAPjiD0f6qhUANB7s+fzRI9DbLX4i/KYHB0V7bJ4Ok7OpxXTUSwn9CwHWDZtR+QAqCI8gPhcNANYOzyu37Ra2nQMBVcJFvLB5L7ion7vI130cH45PvnT863E9AKAozJspeX9NWNZFPNQ1+APjSo06wr9BUezps75Ah2ce119xe1uPuR95HQ5WL5MHJhxoGv7v2cixtlFCkrIgWT0OR0U4JuKKXE7Iudrnd1KMl6K9JkdDm+lY+EHxgqFEmnZCmnYCADAMxbA0jgVjDh6/rbL127DevTQY96RqyglcOjnvZoalGZbGUIJhqM3H/0/Y9RyQ60W0j6nd0yVs6KVubxflZeT64D8cJ0LB2lb5rMDSLyzL+hlPIIEtTvxd3dAVax5q9GCssQOANktGSrB+fZ/4Mbe4AECVKiZEmN8b9rLqmAkWAHCyMupQur2TammnMlJxAKgoFw1CsHy9pV3wKGuennnR/OozyQAwa6q4em/OK+9aX3nXep7L3cybEUwqPnzC09LejzM7sqik6enaSQKjXGyA3rRoBEEHLVgdltMELtHKc6UiHYFLMISkaI/T091lq27q3s9f4cjH47ftPftqfsoCrSJXhMsRQNxei80VIYBwLrgtPpGCiDXbyQIA67EN7OsTClbExwhezLSdsZlb3Zp0yZSrM/e81yBsHiwdZ+1um1+iJEoXJx//NjRAFiuIrIoIUXw+bTEv0fomf0CwUg3CL5dDqUBXLJJOnSguLST1SZhOg0kliESCSsRIvwO9Nz6wFeaSj/xUgyCgUqIP3a958D7N7oPutz+yf/SF3e4YwH1r0GRnBpd8HTsV+Zo8P2w4+rjQ1Ifaju21HduF1uicaFx7onGt0BoFH+Ws7dhRC5GDxTFw+ywnm74QWoeUur3dEy7LSMqVR3vSV3KxEhdhZzYJ0xhjE8HtT8CHZdgN/6oEgOW/Kpl0WTqChq7n5ELFsp8XKwzCJUTxQPuZA580AcCqh0uTC4PhGKmavOGpCkIcYZzIx+mKcdsCR69kqMKTrQKkGLAXnzJ0nsr78KXUh+7XrF4mm14hzs8hUpNxtRLtV60C/O6J7rmXNW/9PjgFjCAwZ5rkpacNrcdyn/ubPis9qlAOFVp18CMymc+HPiYYBNteqPI5qRWPjI8Y4iBl+Krflvs99PYXzgrbYjLsv61RS+mSlLQSpViBi2R4IDVhwiVpuiyZ10F5HP7GI+baPcFB64n1bepU8fJfllz7f5NW/6bM1OwkZbgqWRxYKnR4bQv/ZeNn6wvV+TN06ePVP10z31hjR3FElyVzmX0736ibd2eesDeP2AXQ0V5J7TvnMa6IXP9ROpfwabMzu/a7z1T7Ooy02Uo7XazTxfzhV9qpE/uX4L2HPEuva60YL7rnNtWNVyoC4iiToj+5S33Xzao/PdnzzxeGcaIQ7b0EBEudEowezM3OTx85dMO/pz3w9ZJTG9qM1XaP3Y9iiFRNJhcpxy1Pk6rJ754+pcmUJuXJBT/pyi1huT58Ll7BmnxFRuniZL4lpUiZUqQMbB/4uIkTLADY+UZdzZ7uWbfk5E7XJRcpKR9j7fS0V9pOb+qwtIVyzQaE30O/dufe+T8sKF+VmpQjc9v8R79q3fRclS5bFluw5LIItywOuTz45VvDZwMxDD56JTWgVoE0rjc/tHERK46f3KkWWGJw5KT3/l8bf/XHritWyX90u2rBLAkASMTIk39MStJisdPlzwWzlQYgAEDT62olGG38evcqsYIAAGWKZNbt+cJmAABY8XCZ0AQAAH8u/1Jo6iXmzTrBqIFf0/3au9vXroscFwCAlqO5gQSlp/9n/vVfQpKxYpF03fvpge2b7+v46PPI8fjtX2TMnS4BgCef72eBTl9mThG//M/ksmISABgGyuY1xrmIb+YU8a6vMwPb8awlXPNG6hUr5QCw64B7/uWD9HATDCt/OnG50BQ3MQTr4vWwxi6TxouiCVZGKs6lUx45GRaQnjYpONCzO5hPv4qsVgCQnx2MZw+CvYc8y65rObUzR6NCURRWLpHGKVgDZdd+T0Cwpk4UJ2mxbtOQzd4mGCpiiM65EGtwkWB0csXKqClsXDolTYOg1jA3kHQ4mWh1FOZOl3B6Nzg6u+gDvUuCNKrhGq99u9kZiNCJSOTB+/qZVE1wIZEQrLFHeano9uuDsTY+KQbs4Z8Er96N251tHWHZDx3G4G5qMh5Y5yxALkOfe0IvtIajUqJ4zIXZJIGUFAZT5Jvbhis56/RZ37ebg/k3D92v4WQ6wQVPQrDGJC8/bXjwPo1MGvr6pleIN36SEVgMzDDwx38I10Ns3hlyuF562qCQh331s6aKv/8qY2KZqO/cIp+l86VNh3P/9bh+2QJp39h/eanoi7fTAmkNPj/bdyniEPLLP3ZZbQwAoCi8/0LKu/9NmTtdwtWQAIAUA3bJUtlTf0r68u1+yvUkGEPEulsmGD1wQfcz1b616xy/+7kWALw+9vRZn93BZKbhuVmh2NNjT/VELInFxaoBoNtE7zng6eiilHK0YoKoKI8EgOOnvW9/bH/6sSSIEnS/5lL5x6+kBrZZFhpb/J1dtNvNSiRIbhbBr/Ty4J+6/v2yhdvlk5qMl5WQKgWqUqJKOapSYkV5xI1XBb2k/71hMXbTNjtjczBWG2NzMCfPeDuMEQaxSxdIP301la+8FMWaLAxFsSolyqn5qSrfhIWNXJ8EY5pzClgkOP98v8/9h7/30DT87udaEYlUjA9biuX3s4//0/RElOV1d/ys84u3sfkzJQCQpMUuWxEWC9uy03XDvR3JeiwgWBGx2BiahsA6PgSBnEwiUIeLj9XG/Pov3a+8axXYOa6/XP7M41HHnvf3yav42e+7/vu6RWAEgE3bXbMuaX7pn4Y504KLmXAc4YtmgPP2oMNfP6q8897QR/rifxz/firq5MZFCylCGHrwX0pCsMYY3+9zA8BjT/Ws+cZx722qJfODJZJb2qmN21wvvW09Ux11Ys5mZ5Ze23LjlYqbr1ZUlIu1atTtYY3d9L7Dns++dnz5nYNlwWylzVZGoxIO9wJs3uEqmFF/1SXyOdMlhXlEeiouk6IkgThdjLGbPlXp27Dd+dHnDpMlgkM0HJyp9s2/vGXudMmVl8jmzpBkphEaNYoiYHcyza3UyUrf1l2utd9EnlFNMCKsPTNu13rbE/c3Cxt6eWdvcdUR11/vi9whMSTsh7mTfiERawPbRtPpY2c/DG9PkCBIwsOKh2/qymIL1ksbC0RS9I45kZfsJDysBBcvuiRUpUIBwNhJOxyDHKQkGFqcdiY5M0IttgCRPf8ECS4G/vm8Zt1W/bqt+sXL+18+meD8oNAIo5B8EoKV4CJFLEYmTxXOGCQYQRAEVt6kScsm2xqjxmETQ8IEFylTppNkfOV0EpwjS69V3/4rA7c7baH87d1FvPYgMiUmlqIAsOlTi7Ctl4RgJbhImTNvYMV5EwyaqqPuPRvtFXPl6bkkAJBiVJcSeWxHUew375g+f12Y9syREKwEFymz50WN7CYYWpprvC/8qR0AkjOIV7YWnj7geucZo7ATgNfDttZ73c5YtToSgpXgYkSrQ4tLEwGs801ni7+l1mez0KcODrKKXGTHLEGCC5tZc0WxC7cmGCbqzkR4vm/8JDysBANDJEJWrBYvWCwaV0Ykp2AiMeJysa3N1PGj/k3feb7f7j3n53YPO2IxsnjZsAew+MvIMQzmLRQtWiouKycyMjG5AqX8rMXCdBmZI4d8e3f5tm/xRKv5Ew8YDvPmi+YuEI2fQGRm4wolgqGIw8G0NNMnj/t3bvNu2+yhYj26ZACc47msfbVbqoiVuBCbxF2mHy7OTPe/Pqm69kZpYPv9t12PPxpcGHjNDdJf/Uah00V1zOtqqb/+wbb7+34eZvOrXyvu/UlwGTYAbNvi/fEdkdc/xubRPytvvTOUXL7pO89P74lQSz5Jj5aWESWlREkZXjKOyMnFA8shB8TbrzufeMwmtPIQZLo/83f7y/9zAMDyS8S/flSZnhHrLZsa6ef+af/687ASZvGA43DrHbIf3idP0kf9UgCgp5t56XnHe2876fhki38uX3/ufuhnlsD2sJ5LPAylhyURqbWqPK0yTybRE7iUIKQogtK030+73V6zy91jdbSY7Y1uz8B+mmKRWq8uTtIUSkQakpBhKOmjnF6f3epoMZrOWOyNA3okIgeK4knqohTdeLk0WUQoEBTz+uxur7nLdKbTdMrnD5ZGYdjoN4uYoAimUebqtSUqeTpJyElcRjN+n9/p8nR3W6q7zJVe39hYt1E+kQAADIe//1N92VX9PDMxLx9/7T3tf56x/+/ZWCv4Pn7fdc/9oUcPzFsgSk7BOjsG9lFjGKy6LOz/WfuJ8CLRG9DPv9PHUNjhw+FgEAQe/bPyljuiFlzkyMrGnn5OXTGZeOLPthjuiYCcPPzf/1OXjOs/GKdLQn/3mPLyqyW/uM/c0hz3GwBA7w9guM8lToZGsJSytLyMRXpNsbABAMcxHBdLRBqtMi8jeRoAOFzGU7Wf2Zz9P49MRCoLs5alJk0QeIJiUiUmVSp5RlbKTJenp7JhXY+lmt+hX3SqgnF5l4tFar5RKtZKxVqdKr8oe2Vty5bG9t0sy1DUYIbcKbrxhdkrxKSKb0RRnMAlMkmSXlNSnL2quXNfXev2wb3++aS4FCcI5ImnVf2qVQAEgZ89qEBReP5fUTWrpZne8713dm9iAYbBlddKXno+av+IzJor0iWFlKinh9m+RfhhkiQyImoFAA4H+5s/xnWFc9xyh8xsZp//V1x3sokVxCtva5VRlqlHZPwE4uMvk+6+1XTm1ABqK2bl4AoF8tNfKYbvXOLnXAULQdDi7FWZKTOEDdGRiDWuOJwsvaakvPA6DO3n7iEV6yaX3NbWdfR03edxulq56fMLMpcKrTxQFC/MWq5TFxypfNdHDWw6A0OJCUU3JKkj5MXxQVE8O3WOQVt2+MxbLk/UrJPRAEkif3sqpFYeN7t9q3fXDm9nB22zsroktLAYv+wqSV5+2G/pJ79QHDvi37kt6tjwo/dcnGABwDU3SF/+ryN2+UABl14ZJqBfrXX3DdOwLES8yaNo2NPSGCbCU9EERHydGCxeJl65OrTip6WZ3vSd58RRf3c3TflBp0crppCXXyXhay4A3Pcz+bbNnpPH+xGUrBy8r1p1tNMb13uOHvZ3d9EMAwYDVlqGL79EkpUdGsFpdehr72qvv7w7fj8LQeCRR5XX3RQMEcC5nUtuidhho7sGW432nGJYOCaaWHSTVpUnbAjCMiyDIsLhblvXkVO1/TzbNk0/aVzelQgSdv4U7fX6bDTjIwm5iFQi4f98l7nqePVHDNPnNxtORvL00txLBUY/5fJ4bQiCiEgFgYe+GKPpDEV70vQVvbv9xLBwTDSp5FaNIptvZFna7bX6KReOicQiFYaGpf/4KdfBU6873BHSUkYQfgyLz7bN3j//3treJvytIwjccY/swd8ocZ5qNdZTly7t9vd5klgAHIftB5L57s/tN/Ts3xN1TYYAsRjZdThZ1vtMMwC4YkV31Zl4L4MX39QuXBySy0d+YflyjXA4OVAEMSwOp4N95h+2D95x9Z2OEEuQ3z8WpgUAsO4r969+YuFbBKAovPeZrmJK6Ifk9bL//ZfjtZcdfUNUCALX3SR9+PdKhSL0WR064Lvtup6+/w/H8J3LX97KnjxP/vg9Tfs2D8b5OicPqyz/KoFa+fzOtq7DPdY6h6vDT7lZlkFRQirWKqQpOlW+Tl1IErJW4yH+IX1RyTMEamU0nW5q32OxN7EQ/PWThMygHZefsYgkgrFbvaa4JGf16bovuKP6IhXrinNW8S1mW31N8xaLPVSRUiFNyUiZnmGYAoAYtKW8vv1Tln8VX62c7q66lm3dlrMUHXQ0UATTqPLyMxap5BkBC4FLy4uu33fiJYaJ92IbKbZs9DzwI3PfSwIAWBbeeNlpt7F/fTI0Cs7OxW+/W/rai5ELJVMUrP3Y9cP7QqH3a2+Qxi9Yi5aK+Gp1+qQ/frU6n3jc7L0/MB06EPm8PG72D7+2qlTo8ktCvtiKVRK1xmaJ/lDru34k56sVTcHPfmTeviWyM8uy8PH7rtMn/W9/pJPKgp/YlGnkD38sD8wJxM+QnEveOLHHxRz5fmBvzTGAAbCArJRZBu04vqWxfff3R/9V3bTRZK31+Z2BARrD+B2uzvbuYydr1+w4/NSh029Y7E38owRgKDm+4BpOrVhgT9WuOXb2Q7O9kVMrAPD5nS2dB3Yde46vNemGKbElpiRnNd/jazUePnT6Tf4rAIDd1XGm7sujVR/EOcDkSE2ayP9AOk2n9p54oaPnBKdWAMCwdI+l+sCpV9u7j3FGucRQkLmY2x2dOB3sHx6xRlQrjk8/dH23LiyKdNNtEe7SHB9/4OYPxJZfIuZ7AbERBNTW9Am3jxKe+LMt2hXOIQhOYzhMqogaCRGLkXvvD/tU//2UPZpacZw87v/dQxa+5b6fyZXKgV3+Q3IuMgXW3ujzeSP73f0ysP+YA8dE+ZmL+Jaqhm/PNq6n6Vjnw7KMyVYvtIaTmTJdKtZxuzVNm9q6joaaw6Eoz5HK99ze0Ex2Sc5qpM8gNIBClqJTF3C7dldHZf1XfBHk02WurG3ZIrRGB0XxouyV3K7N2X6y+tNo41OWZU7XfeF0hyqmZximEXhcIe2R4uP3XT09/Sv4f/9t52tQRiY2iecLCGhqoPbxXCqxGBGEpaKhVKHzFoYGdH4/O0yT6OdI1Rn/px/2HwPtaKf37gpTnAkVUT+0S6+U8ENX7a30W69F9mEFrP/Gc/hg6NOWSJFrbozr0w4wVOdiMlJozAcvxWaQgpVmmIxjIcfPaDrd1LGH1z5IEATNTJ7O7bo8PY3tu3ntEaBoz9nG77hdEalM1pXx2kOkJk3k79a1bI2dstDYvodLbuiXFN14kgjd9842rIv94gxDNbTt4HYxjEzTT+a1jzo2fCucgIvI2Urq9Mmwodkll8UqNfXJ+2HXQMTAWV9WrhbzH5CzdaM3xgBqBPn0Q3ffWE9Ejh4O+9BS0yLfdAHghlvCPqIP33P5fJFvun155/Ww3/Otd8jiT/cfqnPZu9GWmUeqkwYZjBqkYGUYpnHbLLBVjet5jYNHp8rnpxq0dB5gY172AYymMx6fjdvNSo48ZZmsDQmZn3J1mSp5jRFgGH+XuZ8+HPwPxOHqNIcPMyPSaTrNH3Xq1Pm8xtGF28UeOxLLd+YjGJ4EsniiseFbj9kU+hDKyol4lvhdFu6Irfmk/zv/iCAYIMegrTXsd65QRhYSuRwpKw/7fDbGdyMJsH2r18sbi6VnYIK53RgM1bm8/1xXR4v/vj+nYljkc4zNYASLJGQySRK3a7LUeLyWUPM5oFHm8Hc7Taf5u9FhjbyeSnk6jgkXXhC4lC+FPZbaaINBPt3xpXdhGKmUp3O73ZazvMao0LTP6QmNCtXyLMGs6OihtoaK8+4KAEcPh0lbcQkR4zbu97Offxo2mru2v3FKSio2dUZolNHTzezc3k8EZ0ToMjLGzv5vtwHs9rDPV6GI/EuYUEGivJbuLqauNnLYISIuJ3v8aJj7UzE16tiTzxCei8NKP3J9fWoW+eyXeZfdrp00R1Y2Vdr3j38In3j1lY9akcXf7Yrvqo4HlTyT2/b5HfHroNXRwm0jCKqSZ/RYa3ntoJSl8ndtzjb+bjSc7i6hKRIqWQZfa6yOVl5jLNwes1xiCGxjGCkmle64T/l8Uj+Qq6KxIeyXLZUhmVlYU2PUn/tH77v4M+iXXyV56m/2GMOc1VeI+Qr4xWfu2FMBI0V11QBmLZnwj4evSnwmTQ5zr2qrB3zmdTXUNJ7cT55KfBorUSfIEJ7LGzuLtMl44PnhP34s7KrkszrvlNAEAIPzsBTSsLexx3fxx4NClsJtO1xGXks/OMM7K2Rp/F0AkPJcQgCIM1fT7TXH44gp5WFv5/aa+LsxoOgwN5ufAjaqsFji9q8AWpopQRJmkj5qRAYAGuqoA/tCTplKjS5dESvsNVbGgx3tUTV60AjiQfV1gxEs/m5mVlwuyxCeCylCHBba0k3F/hMe1ktc/64Aggj7xcR58fcLgqD8QL7XP4C8MkFnkhBe+QTvlQHA548rDYRhKJr29R1gCuCH2wFgZvn9/N34GbUThXZb/6rNQVPgcbMSacgLkveXrPDx+y7+bf/aGyXrvoo861dQiPOXzp087q85G/XHPbK4nAP40OIk8IwfDpt1ADeSADZb2CFKVT9fTYAhPJdbplcJTQNhMB4WjoVdV/w8o3OBr1YAEDtDQoDgf+jrqmDhohP/i8eTzyn4QAYNig7m/nEe8LgH9nt1h/eX9eYrRuO7bzxWnhM3a64oLT2yUyZMv/p4lLpXAOByDexDiwelOuyCHcRbCKRHFf6C0RjEGw0Tcf27AvgeB8sy0bKNBgqGhcX/6DiUgoNhKOCN3QQvBQAYFjb4j//F4+mJ4/24YGOefgRHiCACJZb0c7zPx37+WcilQhC4+nrhLSfA6itCguXzsV9/Ee/U1fkn/mmK+JGIwz5Jr2fAOiI4hMt9j81wnMvgGMwtna9QCIIiCBZP8kG/0OFeUr/LnvmgKMG/qihK6PQJVHVofRnBi8dO5Y+Bn4o8DhpxxOHXSb8I+rvjuD9/8r7rB3eHRtbXXC/537N2wXVSMYXMyAx5Xls2egcxJhrTOMPrnfd7J+iL4BCnvf+vZlQxmOvWH17AAMdEAsvgoCgPAMvpjmAQFxs83KWiaOGVL5AwwQrkGMTT0+8PO/2jVe+NWukZHAMVLH4ACwDscVwVNdXU4YO+yb2z7Knp2Ky5ol07wr41QR78aB4PDhOC2Y84/SM+Ull4FCw8pHWeIUgkWspLtLU7gxEswdyWWKQaEsFigfVTbi78JCaV4e2xEIV39oUrCPT5nwVh8hjgeKwZqwCC0ycJ2QUmWPxlxv0iEiEiUVh/hyOuq+Lj91ycYAHANTdI+IKF4bDq0tB30WVkBHJ2MWCzhkegBlIMK4BKHfbVCF7w/DBptuzmXxiKJkiI6M+FHMq0Bkd4dpKyTw7BoLE52rhtudTAa+kHLpspgN3Vzt8FAGf4VKZUElquGAOSkPctj9MXu6uTvyuT6Pm7FwDRQuARyeRVXwpg7IxLsNZ/4+Hf8JeuEPNX586eK9LyatF88ZlroAWqLgAa68OCD7lx56lzCFLbm5uGJgAdP0UTJY+/lV02VRpNrZqqvRs+NgutvQxGsCy2Rv6uVjVka0r4hRMIXMoVU+8XrloLAACw/DzSAPbwAqeCVLJoxCmalvBKEurwelgXANk5Qg2KQVZ22CVhszHt4Ws1ouHxsF/xilKRJLKKtw5x9eVh48G+1ZAvBo6EL9MrKBywYOWHHyJY93ceuOpuHYYhh3c6fnZ57Q0VlQzNfvJi981Tq+5fWfP+s10Uxe7+zvbsb0KOi4DBCJbba+bXIzdoSvqmEQyOHmsdf5e/+i8mYYWrbM6OvnWHfX6Hl7feMEldEM/Ul2CpUDT8lNvu7OB2U3TjR+0im8GRnonHX/hlyrSwqF/V6QHcwz8KXwt9xTVBkcJxWMLLJj12xF8bngB5kXDquJ8/A6vRDuzpinI5IljaKVhHdR4onSz1eZgnf95Se9LjsNKBtY1WE9V41vves8YXH2u/8af6OSujhoMGeV21dh3mtlEUH6pyTlZHM7/We0bytHim85J1ZfwYVkvnfl5jCP56Q5KQJ6kLeY0RQeJWTGjp3Mdti0glV6T0wgDDYOaceOdA5i4IEyzB4rXYnK2kjvHu+RVTyOQUDABmzhHxFXPtOWe3+8MTLwbxEJ0Rwe9n93wfJjHLVvYfY+VYsDisykWXkTn/abfqJLy1wWe3BJ1ur5uR8RYbrv/QbOqkLr8jasRmkILV3LGPP5efkTwt/ms7Nk28ejISkTo3bR6vMQI4Ji7MWsbt+il3e/dxXnsIgT0/c0lsPyglaXz80aj2rmN8D644exV/ffgFwEpewDsG4ycIyy1Ey1mPBt/JQhBYulIMAEuW85ZAeNl1Xwo96IEiyIfQaGP9EkYV773l5O9ef7Mk/uSG2+8Km2v66D3n+U+wYlngR68cFlqfFvrBsAw0VntyS6PeHQf5Pfn8jvACWEh54XXZqXOiFc/jwDBSUKdUQEf3cbOtgdvNy1iYYZgaag4Hx8QVJbdIRBrOUt20IVpuutXRwn9lpSy1JPdSQWF4DoUspSTnUqE1OgxLVzV8y+1iGDmt7IfxRPcwlEzVTxIUbh6FrLpUkl/Qv7d738/k/N36WurUichfRzTWfeXmp0EsWCQCAH65vk3fhcXmB0dPd9grTJgU5hWOZnZu8zbwlhAakrEf/jjsM4/GJZdJJvLWTlMUfPTeuTqqg6C7w5+cQaK9tWVa630lFVKc5/fhBEKQUXUpakO/1DRv5mdIIghalL1izsQHctPnK+Xp3DobFMEkIo1OXZCbPn9yyW0Lp/x6fMHV3FF9YYE9WbuGl4WAlOZdPqn4Fo0yhy8uBC5NN0yZPekBfoS7y1wZu2B8ZcM3/BJUGYapU8bdoVZk8+NZEpEmP3Px9LJ7Aiv7aCbeQX6n6VRTe0jECVw6pfQHU0p/kKavkIi1vWNbBENJqVin1xTnpi+YUnrHwqm/GZ9/9eiP06MoPP0fdez8hutvlvJdIQB47+0BXxIed1j50KnTybx8nJ8vOiThdkGwefEyUWDsOfphWXjqiVAEGQDu/7l82ap+/N9x4wl+uX0AePdNZ5fxXHV/EJw55CJIpGJu0Nc7sc+pUGM//H1KYLRTUiEZN1Xa0RT1ouv/nhkNlmWOV380ueR2uTSZM0rE2oLMpYGHaLEsA8D29bn6lQCP13K06v1Jxbdwa4D0mmK9pjj41BzaRxIyEakUDOgs9qaTtWv4lr44XJ3VTRuLsldwFo0yd1rZ3YGn5gCwJCEXkQqutb37mMdryU1fwFlic7ZpA0FI+aVNtap8zs9iGApFsXiC/aOT0jLi7Y90v3vIGvFxD3feI3vwt2Gx0ppq6oN3wsYvcfLRe66bbgtO40hlyNXXh+YHO9rp3TuHIP3q4H6fz8eSvWMTkkSee1Fz7x0m/pLGUcvmDZ41H7u41UsoCs88r37xP46Xnnf0fdAZAFxzg/TXf1Dws0xra6h//SNM9c4b36+zLblaPXWB/NB2BwBsWWu95ReGy27XLr5KZemmU7MIFEO2f2UVHtbL4AULALw++/5Tr5QXXKvXlAjbAGJHiGJjtjUcOv36pJJbRURIPnBMhEcJKnVbzh4/+1E86/4a23cRuFigQQQu7TvR2WWuOl37ua7/2HwIlqVP1nzmdHflZyzue/rxTCCMTo4f9U+YRABAWTmx5pukPbu8Wzd7W5soq5VVa9DCIvzyaySCKXaWhb/+oZ+HVkSj8rT/xDE/N591w62hyMuXa+It1Bsbm5X5/FP39TeHvvSJk4lvt+o/+9h1+IDfZKIBQCJGlGpUp0P1BiwtHfvqc/foSVX922O2iZNJbpBOEMgDv1LceKtsw7eeI4d83UaaoiBJj5aWESsuEefkhX01Hjf78M8s/NKj55MD2+yP39u0f0tQLq0m6qlftDz8bIZMgckUGAAc3eVc80p32DE8zvUSomnf0ar3k9RFeRkLw5OhIsMwlNF0RmiNhM3Zvvvoc3kZi7JSZvR10zg8Xkt104aOnpPChujUNG+2OlpKcy8T5MdzMAxV37q9vnUHGymlq1/qW3cYTafzMxYn68r69adoxtfZc7ql84CwYTTx98dtv3xEMW0mCQAYDnMXiOYuiBoWDfCvf9j37u7HlY7BJx+4yicGhzD8+cEhfDrOf//tWLJCzH8wolaH3nOfHO7jdeLR7wNjzidOB3vnTaa3PtTyc0f1BvSWH0hv+YHw1svH7WJ/co9ZUHf/fMIysG9TmHO3b7P97vnVk+bIJDK04ay38nCsMMK5ClaAbsvZbstZhTRFq8rXqnLFIjWJSwlcwgLQtM9Pudwes8NttNgbTdZ6wSqZGFC092zj+oa27w2akiRNsVSsExFyFMV9lNPnc1gdzV3mKpOtYRBLr7vMVSZrXZKmOFlXJpcki0g5hpJ+yu1wG3ssNW1dR7iCWT6/Y+PeP4Yf3T9Od/fx6o/FjSqdukCnKpBJkghCSuJSlmUp2uujnC53t8NtNFsbLI6moSp3MXwoVci9d5iefUEzf1E/OgUADAP/ftI+0GfeCfj6C/evH1UKQmZHDvn48eZzpLODfuAe84tvagb6tKtRgrGTvuHKnif/rV64pP8vJUBDHfXLn1gG9Jz684PVRMUYBvIZGsEKYHd12F0dje27hA0xMcy/JGn2Ur6lY+Ma06HvuV2f39FiPNhiPMjrMgTQjL+z52TnQFyzgeLxWVuNh2LPA2Rec7csp7Bz8xfmo/xZ19GFVoe5XeyP7jDdeofsp7+UxyiiVHOW+ssfrfvOwbcK4HKy33wZNmSDIQq38zl80Hf1qu7H/6GaPTfea35UYbMyP77TtPpyyc8elGfnxrqWrRbmjVecb77i9Ay8Is2oop8By3lAWTxBNX4aJpXhUhmp0UMfwbqAQTC89OEnAcBRd6bp41eEzSOH4FH1f3/c9uarwfC5WIKsulQ8f5F4XBluSMZIEeJ2s20t9NHDvo3rPd9v9wrqIw+asnLis2+SuF2Ph507udPhGKJXD6dkHLF8lbhiKpGTgytVqFiMOJ2M1crarExDPVV5ijpz2n/0kG+Y3v3cQRCYMYtctEw8qYLMzMYCDy502JmWZvr0Sf/3O7zbNnljlMkfQ8RS5fODreq4rep4YHvcr5+GPrHqCxiWpuzVp2TZBdbTR4Rtowl+erTHza79xD3kzk6/bPzWM3x6UXnaX3k63oFSxv89iqlV1m83W75cL2yLA8N9d4hLisyffmnfuVfYNljw1JT22x58H+CfP3/W1zjgqOv5hBQhDA0UNcivcuQF6yKn+bPXhKbRR7SiRcMKl9kQ4PxL5HCA4LhkQhkASCaWDaFgjSHWnhm3a73tifubhQ29vLO3uOqI66/3Re5wEbkzCcYQcjnCL8/Q3kbv3T1aUgrOBZai3MdPsV6v88BRYVsCAABw2emCCWGVOfgkPKwEo5ErrpHwy5Z+9pFrSNKv+iXprpsBQbtfe1fYMHQYX3hTaErAw2lnkjOjrpRKeFgJRh0YBvz67hQFH74bKzdnqEBwXDppPKYK5SonOP8oNFGTLmGMelgIjmsmzVaWTBQlpaAESTntrubangPbPR0Rwo2YWKIsrZDnjxMb0nCZAliWcjk8Hc2WE/vt1aeEvQGgN9PCuP2b7j2bcZlCN3OxomAcoVAzFOW39NhrTnV9/x3Xuegnf8IVquoX/ko57UkzFimKJ5BqHYKiPqvZUXu6e+8W2iXMSNJUzE5dcS3f0r13i3Hb13wLxyBeHwDEyem6aQukmfm4XIn0KZ7iMxlrXv67wDh6uO4maVZO6Jf5zZfu7q7z4V+JCnIRIqzURILzCYLAihs1adlkY3XU4f/YEyxSrcu87h6RzsBZCKVaVTZFVTa5c8tXPfu3hboCoARZ8ONHMXHYkJhQqgmlWlFU3rN/W+eWL/lNfHCFSmxIy7rhR7gseMvFcAJLyfA7bOEdAQAkadlJs5aIDWmcRaQziHQGZemk+rf+TYUf4jMZ7WdPYFI5LpWRmqR4JkYH9PqqcZPTLr0ZQVHG6/F0tqCkmNTqERQFAJ+5y2Nsd7c18vuPKrJzcf6aRJqC//7rPK16k5RFWGGW4NxZeq369l+FLthpC+Vv7y7itQeRKTGxFAWATZ9ahG29jDHBQklR1g33kho95bR3bv3K2VhNu10inUE/Z7miqDx58eV+q4lLkgAAxu+zVx3HFSpb5VFXc73fakIIQpqek7L0KlKr101fYDm+z9vdyXuHEOLkjMxr7mZ83vad610tdYzfRyjUstxir7FN2BUg7ZIbEBQ1bvvaeuqw32EjlGrtlLm66QsJhdow/5K2dR/yOzsba5yNNYHtwvv+QKg0/NaIxP/6mFSeuup6BEWtpw61r/+E8fsAQKRLzr7xx7hC5WysbV//ceh1RxnFpcQLr2v4a3E+eMfZ1DjglQzxg8qkqkuWkhlpZEYaKpUAgLgwL/uFp/h9bBu2mteu41sAABgGIXDl0oXSKROIJC2gKNVjdp88Y/tuK+0QLvlWzJ+lvelqviXya/YSyJxoffQJ2uZQLlsgndz/W0RDtWqp+vIVwLKmT760bx2Z9Maqo+49G+0Vc+XpuSQAkGJUlxL5Jk1R7DfvmD5/PewJDHzGmGDppi8kNXqWphs/+B8nNJ7O1uY1b+Tc+oA0I9ew8FLb2RPAS15s+/Zj4BVcZ720o66y5fO38u56CACRZRdFEyxpeo6ns7XhvecZX9BB9VvNrpb68F5BUIJs/eo966lgUrvfaurc8iWp0SsKyxSFZeF9B0P8r6/IL0UJElimfcNnAbUCAG9PZ/feLSnLrlKVTW5f/wn/AxkRklOwxctE7a2008l6vaxYgmTn4HMXiJYuF2O8n2RrC/3Mk8PrXmFymWzyBABgfT4WxxGSYCmacYSNshl3hMVkLMumPPIAmRHyeYkUA5FikE2Z1P6P52hrmM/r7zC6jp3EZDJUISf0OkAjX64CRLnZypWLyfRUzhLjLSKivmKlauUSYJjutz5y7j8sbD5fNNd4X/hTOwAkZxCvbC08fcD1zjNGYScAr4dtrfe6w5+9KGCMCZZ6wnQAsJ4+3FdlzId3STNySU2SODk9PJgV4eL0GNsopx2XKbjhXkQ6t3zBqVVs/BYTpyYcjvpKRWEZJpGhIjHjjfCjj5/4X59QagDAb7cK3tFnMgIASpC4VEZFCnudT1LS0D/9Lbi2ORpeL/urn5oFj1YfcvydXS2//WtgO+nOm2TTJ3vrGzufeSG8VwRUyxYChprXrnMeOExb7bhGpVg4R7l0AaZRqa9Y2fN2mBvrOVvrOVsb2E7/2+9wbf8+NQDobr0u/rcIwvu0NNddrlw8j/X7u15+232yMtQwcnS2+FtqfTYLfergIGdR4lL6UQKhUAeuRndrg7ANwGcOlqQQ60N3pBhQTjsAxLjXsZTf2VQntEbB1RKhJxdaQvFzDeXG//qB88KlikDQigNXqAAAWIaOT4JHFq+XffCnFn5999EGIiJ73vnEtmErbbYCw1A9ZvNnX7uPnwIA6YQh8KlhUG/BBgpiIYj2pquVi+cxbnfnsy+PErUKUHfmnO7cY8nDwuXBWGzqyutSV14X3hgCE4dlSAOALKdIkT9OZEgjlCpMJEFwAsFxBBXOnQmgXE7glSeNjSDsPeTE//r22tMpDI3guH7eSuOObwOjY1wq181YBAD22kqWGr0qEOBsJfXbBy0Dra18nqG6TX0HWe7TZyUTylCZFBWLGc85XZkwqLdgPV5AEN3t18tnTqWtts7/vOpvbRf0GVnWvtotVfRz6cVgLAlWaIUIy0Yc6AXhrSMhlOqMq+6QpGYBAEtTPkuPt6eT9npZyi/PLUZF4lDXvgxkFS87zHmN8b8+Zbd2bvkyZelVSbOWKksrvMY2lBRJ0rJRUuS3mTs2fiY8YCQwdjJfrXXn5uMpqZhMhpAixG5juruYwwd9WzZ6tm8ZshXUw4e3JkI0k7YE7ysISUAfNRkog3gLxuvV3XqdfOZUqrun89lXqO6o0euRovaU8H8eEGNJsIKDOIDmz16310ROoRKQceUPJKlZtNvZvmGNvfpE0GEGAICCe39LxhasMYvp4E6WolJXXkco1aRKE0wfqz7Zs38b7YlrRd6jj1gffSSu+kSDo72VfvjnFqF1TEHbhnc2AAb1FqpLlspnTwMA1udn4p5JHEOMJcHyW02U3YorVJL0nHgEi1TrJGnZAGDcvs525khYG4LEDrePaUitwbDwUr/F1PD+836bRdicYChg6WFMtggwiLdQLp7nb23H9UlEWkrSvbcZn38N4vbNRxwE6X9UEzXkPDoxH9sLAJqK2aQmSdgWgJeEyY34aI9wSkJVNqWf8eBYJmnWEkws6TmwPaFWFxvWbza2PfHvrtfeBYaRlBbpbrpK2GOkKRgvuffRlLScsNWCi65Qvb698Kvqsv98nV82TRiD5jPGBKtn/zZvVzsmluT+4BdJs5ZIUjIJhVqUlCzLKdROnpt944/TV9/Idfb2GAOJSLoZiwi1NmAklGrDwkvTVt0QZ77CWASTyABAlltMKNUjUxpmLIOM5U/MdeI0MIz7+GnTR58DgHzuTOWyhYI+I8u81cor7tJNXRga30xZIH/wmYzkTBJBIW+c+C9vZqdlR138PMJDQmXJRNW4yahIjIkkqEgc8I/081ZqJs2ifV7G62a8nrZ1H3EJkIzP2/jRS5lX3SFJzzEsWA0LVoe9HIDtzFFum6X8XTu+TV5yhSQ1q/DHj9IeN4rjCE4AQNf33yE4kTRzMdf5vCHLLtRMnoOJJKhYjInEhFIFANqK2YqCMsbrpn0exuvp2PwFZR98CMlybI8iv1RRME5R8EfOyNKU32Z21FZ279nERQMT8AkkiOJJ2rgGJ6Mb+449uE6rXL5Qc9UlVHeP68gJYY8RYuJsGQDsXt87dYDA3b9NQRD49MXude+brvph0mW3a6/8oe5/f4g8uTnCgiU2pCuKygVGTCzlpya0f/cp8Ca4KYet/t3/KIsnqMZNlqRmYVIZS1F+h81n7rJXn7KfDftieg5s9xjbdDMWifQpuExBe9yexuqeAzucDWf7vu/5gdTqlcUTBEZUJBbxhqhduzYOWrBQgiTVSX67JZCzxoFgOKnRa6fqFcXl9W88M+K5o6MQb22DYsFsTK3SXneFdf1m2u5ASAJTKlifP5608tGG+fN1mFYtmzop6c6bOs0Wb0PkknjnGV0yYemmujuCl3T5TFl2kaix2vvmU50sC2/8o3P5depJs6M+y3qEBcu4Y51xR9QVVVFhWVvlMVvlMaE9Es7GamdjtdAKYD974vTffyW0AsAA/6uz//2z0NRLxLcwH9ltPrJbYIzBgF4fE0tyb/85qTVYThywHN3jt1uCgVsEwURiSVp2yrKrCYVaUzG7a9cG/oEJAMB1+LhvyTwyO1OxaI5i0RzObl7ztW3jdl7HgSEuLlAsmI1KxKhEgkrEuFoFAPL5syTl4xi3h/F4WLfH9OlXtGWQt6iosGzPWx9hKqW4ME9/350dT/6H6jEL+5x3lBqsvjKU2bD0GjUAfP22KeDRet1MR7M/NfqQcIzFsBLERjN5Lqk1uNsa2775wNXa4LdZKKedctoph83bY7ScOOCoqwSAqFMWFzcsTXf860Xruk3+9k7W72cpmrbZvTX1/rYOYdeBQCTrpRXl4pJCMjsDNyQFFlegYjGRmizKy5aMK5ZOmRhYdz3ksBTV9eKb/g4jplQYfnI3Khn5iSZrDyWWBGVHKkfnrFT6PMz2L0Ni7fcx/GcIJLiQSVt907jfPJN5zd3ChgAImnfXQ+N+84xhwSXCpgQJzgv/+DD3q+pxSSkEAFx/X9I3dWW/fDKd3+HdfcWfnijlW/iM8JAwwdASKH0jzy/RTp1nPXmQSxNFRWJpeq5uxiKxIY2laetJ4TrqBAnOD5s+NY+fLn3yo5z6Su+MJQqaZj99OfRgepkSUyfhTTVRZ/ATgnVBYTqyS1E8QZqRm7L0qpSlVzFeD+P3oQTJJZ0xXk/bug+9PcJaFwkSnB+2fmFdco26fIYsOZNkGXjrKWMzT55mLlMgCFQdESZOciTGihcaCIqpxk9RFk8UGVJxqRxBMcbvo1wOb3eHs6HaevJAnKtzEiQYJjAMmbpQrtHjZw65BNWQV92sKa2QfvmWqeZk4leaIEGCBAkSJEiQIEGCBAkSJEiQIEGCBAkSJEiQIEGCBAkSJBhT/D+xZZ0vMI1hIQAAAABJRU5ErkJggg==\",\"type\":\"image\",\"xaxis\":\"x\",\"yaxis\":\"y\",\"hovertemplate\":\"x: %{x}<br>y: %{y}<br>color: [%{z[0]}, %{z[1]}, %{z[2]}]<extra></extra>\"}],                        {\"template\":{\"data\":{\"histogram2dcontour\":[{\"type\":\"histogram2dcontour\",\"colorbar\":{\"outlinewidth\":0,\"ticks\":\"\"},\"colorscale\":[[0.0,\"#0d0887\"],[0.1111111111111111,\"#46039f\"],[0.2222222222222222,\"#7201a8\"],[0.3333333333333333,\"#9c179e\"],[0.4444444444444444,\"#bd3786\"],[0.5555555555555556,\"#d8576b\"],[0.6666666666666666,\"#ed7953\"],[0.7777777777777778,\"#fb9f3a\"],[0.8888888888888888,\"#fdca26\"],[1.0,\"#f0f921\"]]}],\"choropleth\":[{\"type\":\"choropleth\",\"colorbar\":{\"outlinewidth\":0,\"ticks\":\"\"}}],\"histogram2d\":[{\"type\":\"histogram2d\",\"colorbar\":{\"outlinewidth\":0,\"ticks\":\"\"},\"colorscale\":[[0.0,\"#0d0887\"],[0.1111111111111111,\"#46039f\"],[0.2222222222222222,\"#7201a8\"],[0.3333333333333333,\"#9c179e\"],[0.4444444444444444,\"#bd3786\"],[0.5555555555555556,\"#d8576b\"],[0.6666666666666666,\"#ed7953\"],[0.7777777777777778,\"#fb9f3a\"],[0.8888888888888888,\"#fdca26\"],[1.0,\"#f0f921\"]]}],\"heatmap\":[{\"type\":\"heatmap\",\"colorbar\":{\"outlinewidth\":0,\"ticks\":\"\"},\"colorscale\":[[0.0,\"#0d0887\"],[0.1111111111111111,\"#46039f\"],[0.2222222222222222,\"#7201a8\"],[0.3333333333333333,\"#9c179e\"],[0.4444444444444444,\"#bd3786\"],[0.5555555555555556,\"#d8576b\"],[0.6666666666666666,\"#ed7953\"],[0.7777777777777778,\"#fb9f3a\"],[0.8888888888888888,\"#fdca26\"],[1.0,\"#f0f921\"]]}],\"heatmapgl\":[{\"type\":\"heatmapgl\",\"colorbar\":{\"outlinewidth\":0,\"ticks\":\"\"},\"colorscale\":[[0.0,\"#0d0887\"],[0.1111111111111111,\"#46039f\"],[0.2222222222222222,\"#7201a8\"],[0.3333333333333333,\"#9c179e\"],[0.4444444444444444,\"#bd3786\"],[0.5555555555555556,\"#d8576b\"],[0.6666666666666666,\"#ed7953\"],[0.7777777777777778,\"#fb9f3a\"],[0.8888888888888888,\"#fdca26\"],[1.0,\"#f0f921\"]]}],\"contourcarpet\":[{\"type\":\"contourcarpet\",\"colorbar\":{\"outlinewidth\":0,\"ticks\":\"\"}}],\"contour\":[{\"type\":\"contour\",\"colorbar\":{\"outlinewidth\":0,\"ticks\":\"\"},\"colorscale\":[[0.0,\"#0d0887\"],[0.1111111111111111,\"#46039f\"],[0.2222222222222222,\"#7201a8\"],[0.3333333333333333,\"#9c179e\"],[0.4444444444444444,\"#bd3786\"],[0.5555555555555556,\"#d8576b\"],[0.6666666666666666,\"#ed7953\"],[0.7777777777777778,\"#fb9f3a\"],[0.8888888888888888,\"#fdca26\"],[1.0,\"#f0f921\"]]}],\"surface\":[{\"type\":\"surface\",\"colorbar\":{\"outlinewidth\":0,\"ticks\":\"\"},\"colorscale\":[[0.0,\"#0d0887\"],[0.1111111111111111,\"#46039f\"],[0.2222222222222222,\"#7201a8\"],[0.3333333333333333,\"#9c179e\"],[0.4444444444444444,\"#bd3786\"],[0.5555555555555556,\"#d8576b\"],[0.6666666666666666,\"#ed7953\"],[0.7777777777777778,\"#fb9f3a\"],[0.8888888888888888,\"#fdca26\"],[1.0,\"#f0f921\"]]}],\"mesh3d\":[{\"type\":\"mesh3d\",\"colorbar\":{\"outlinewidth\":0,\"ticks\":\"\"}}],\"scatter\":[{\"fillpattern\":{\"fillmode\":\"overlay\",\"size\":10,\"solidity\":0.2},\"type\":\"scatter\"}],\"parcoords\":[{\"type\":\"parcoords\",\"line\":{\"colorbar\":{\"outlinewidth\":0,\"ticks\":\"\"}}}],\"scatterpolargl\":[{\"type\":\"scatterpolargl\",\"marker\":{\"colorbar\":{\"outlinewidth\":0,\"ticks\":\"\"}}}],\"bar\":[{\"error_x\":{\"color\":\"#2a3f5f\"},\"error_y\":{\"color\":\"#2a3f5f\"},\"marker\":{\"line\":{\"color\":\"#E5ECF6\",\"width\":0.5},\"pattern\":{\"fillmode\":\"overlay\",\"size\":10,\"solidity\":0.2}},\"type\":\"bar\"}],\"scattergeo\":[{\"type\":\"scattergeo\",\"marker\":{\"colorbar\":{\"outlinewidth\":0,\"ticks\":\"\"}}}],\"scatterpolar\":[{\"type\":\"scatterpolar\",\"marker\":{\"colorbar\":{\"outlinewidth\":0,\"ticks\":\"\"}}}],\"histogram\":[{\"marker\":{\"pattern\":{\"fillmode\":\"overlay\",\"size\":10,\"solidity\":0.2}},\"type\":\"histogram\"}],\"scattergl\":[{\"type\":\"scattergl\",\"marker\":{\"colorbar\":{\"outlinewidth\":0,\"ticks\":\"\"}}}],\"scatter3d\":[{\"type\":\"scatter3d\",\"line\":{\"colorbar\":{\"outlinewidth\":0,\"ticks\":\"\"}},\"marker\":{\"colorbar\":{\"outlinewidth\":0,\"ticks\":\"\"}}}],\"scattermapbox\":[{\"type\":\"scattermapbox\",\"marker\":{\"colorbar\":{\"outlinewidth\":0,\"ticks\":\"\"}}}],\"scatterternary\":[{\"type\":\"scatterternary\",\"marker\":{\"colorbar\":{\"outlinewidth\":0,\"ticks\":\"\"}}}],\"scattercarpet\":[{\"type\":\"scattercarpet\",\"marker\":{\"colorbar\":{\"outlinewidth\":0,\"ticks\":\"\"}}}],\"carpet\":[{\"aaxis\":{\"endlinecolor\":\"#2a3f5f\",\"gridcolor\":\"white\",\"linecolor\":\"white\",\"minorgridcolor\":\"white\",\"startlinecolor\":\"#2a3f5f\"},\"baxis\":{\"endlinecolor\":\"#2a3f5f\",\"gridcolor\":\"white\",\"linecolor\":\"white\",\"minorgridcolor\":\"white\",\"startlinecolor\":\"#2a3f5f\"},\"type\":\"carpet\"}],\"table\":[{\"cells\":{\"fill\":{\"color\":\"#EBF0F8\"},\"line\":{\"color\":\"white\"}},\"header\":{\"fill\":{\"color\":\"#C8D4E3\"},\"line\":{\"color\":\"white\"}},\"type\":\"table\"}],\"barpolar\":[{\"marker\":{\"line\":{\"color\":\"#E5ECF6\",\"width\":0.5},\"pattern\":{\"fillmode\":\"overlay\",\"size\":10,\"solidity\":0.2}},\"type\":\"barpolar\"}],\"pie\":[{\"automargin\":true,\"type\":\"pie\"}]},\"layout\":{\"autotypenumbers\":\"strict\",\"colorway\":[\"#636efa\",\"#EF553B\",\"#00cc96\",\"#ab63fa\",\"#FFA15A\",\"#19d3f3\",\"#FF6692\",\"#B6E880\",\"#FF97FF\",\"#FECB52\"],\"font\":{\"color\":\"#2a3f5f\"},\"hovermode\":\"closest\",\"hoverlabel\":{\"align\":\"left\"},\"paper_bgcolor\":\"white\",\"plot_bgcolor\":\"#E5ECF6\",\"polar\":{\"bgcolor\":\"#E5ECF6\",\"angularaxis\":{\"gridcolor\":\"white\",\"linecolor\":\"white\",\"ticks\":\"\"},\"radialaxis\":{\"gridcolor\":\"white\",\"linecolor\":\"white\",\"ticks\":\"\"}},\"ternary\":{\"bgcolor\":\"#E5ECF6\",\"aaxis\":{\"gridcolor\":\"white\",\"linecolor\":\"white\",\"ticks\":\"\"},\"baxis\":{\"gridcolor\":\"white\",\"linecolor\":\"white\",\"ticks\":\"\"},\"caxis\":{\"gridcolor\":\"white\",\"linecolor\":\"white\",\"ticks\":\"\"}},\"coloraxis\":{\"colorbar\":{\"outlinewidth\":0,\"ticks\":\"\"}},\"colorscale\":{\"sequential\":[[0.0,\"#0d0887\"],[0.1111111111111111,\"#46039f\"],[0.2222222222222222,\"#7201a8\"],[0.3333333333333333,\"#9c179e\"],[0.4444444444444444,\"#bd3786\"],[0.5555555555555556,\"#d8576b\"],[0.6666666666666666,\"#ed7953\"],[0.7777777777777778,\"#fb9f3a\"],[0.8888888888888888,\"#fdca26\"],[1.0,\"#f0f921\"]],\"sequentialminus\":[[0.0,\"#0d0887\"],[0.1111111111111111,\"#46039f\"],[0.2222222222222222,\"#7201a8\"],[0.3333333333333333,\"#9c179e\"],[0.4444444444444444,\"#bd3786\"],[0.5555555555555556,\"#d8576b\"],[0.6666666666666666,\"#ed7953\"],[0.7777777777777778,\"#fb9f3a\"],[0.8888888888888888,\"#fdca26\"],[1.0,\"#f0f921\"]],\"diverging\":[[0,\"#8e0152\"],[0.1,\"#c51b7d\"],[0.2,\"#de77ae\"],[0.3,\"#f1b6da\"],[0.4,\"#fde0ef\"],[0.5,\"#f7f7f7\"],[0.6,\"#e6f5d0\"],[0.7,\"#b8e186\"],[0.8,\"#7fbc41\"],[0.9,\"#4d9221\"],[1,\"#276419\"]]},\"xaxis\":{\"gridcolor\":\"white\",\"linecolor\":\"white\",\"ticks\":\"\",\"title\":{\"standoff\":15},\"zerolinecolor\":\"white\",\"automargin\":true,\"zerolinewidth\":2},\"yaxis\":{\"gridcolor\":\"white\",\"linecolor\":\"white\",\"ticks\":\"\",\"title\":{\"standoff\":15},\"zerolinecolor\":\"white\",\"automargin\":true,\"zerolinewidth\":2},\"scene\":{\"xaxis\":{\"backgroundcolor\":\"#E5ECF6\",\"gridcolor\":\"white\",\"linecolor\":\"white\",\"showbackground\":true,\"ticks\":\"\",\"zerolinecolor\":\"white\",\"gridwidth\":2},\"yaxis\":{\"backgroundcolor\":\"#E5ECF6\",\"gridcolor\":\"white\",\"linecolor\":\"white\",\"showbackground\":true,\"ticks\":\"\",\"zerolinecolor\":\"white\",\"gridwidth\":2},\"zaxis\":{\"backgroundcolor\":\"#E5ECF6\",\"gridcolor\":\"white\",\"linecolor\":\"white\",\"showbackground\":true,\"ticks\":\"\",\"zerolinecolor\":\"white\",\"gridwidth\":2}},\"shapedefaults\":{\"line\":{\"color\":\"#2a3f5f\"}},\"annotationdefaults\":{\"arrowcolor\":\"#2a3f5f\",\"arrowhead\":0,\"arrowwidth\":1},\"geo\":{\"bgcolor\":\"white\",\"landcolor\":\"#E5ECF6\",\"subunitcolor\":\"white\",\"showland\":true,\"showlakes\":true,\"lakecolor\":\"white\"},\"title\":{\"x\":0.05},\"mapbox\":{\"style\":\"light\"}}},\"xaxis\":{\"anchor\":\"y\",\"domain\":[0.0,1.0],\"showticklabels\":false},\"yaxis\":{\"anchor\":\"x\",\"domain\":[0.0,1.0],\"showticklabels\":false},\"margin\":{\"t\":60}},                        {\"responsive\": true}                    ).then(function(){\n",
       "                            \n",
       "var gd = document.getElementById('7335bde9-31c6-417f-8f80-12eadd1e4ec1');\n",
       "var x = new MutationObserver(function (mutations, observer) {{\n",
       "        var display = window.getComputedStyle(gd).display;\n",
       "        if (!display || display === 'none') {{\n",
       "            console.log([gd, 'removed!']);\n",
       "            Plotly.purge(gd);\n",
       "            observer.disconnect();\n",
       "        }}\n",
       "}});\n",
       "\n",
       "// Listen for the removal of the full notebook cells\n",
       "var notebookContainer = gd.closest('#notebook-container');\n",
       "if (notebookContainer) {{\n",
       "    x.observe(notebookContainer, {childList: true});\n",
       "}}\n",
       "\n",
       "// Listen for the clearing of the current output cell\n",
       "var outputEl = gd.closest('.output');\n",
       "if (outputEl) {{\n",
       "    x.observe(outputEl, {childList: true});\n",
       "}}\n",
       "\n",
       "                        })                };                });            </script>        </div>"
      ]
     },
     "metadata": {},
     "output_type": "display_data"
    }
   ],
   "source": [
    "wordcloud = WordCloud(background_color='black', stopwords = stopwords, max_words = w_slider.value,\n",
    "                      colormap='viridis', collocations=False).generate(all_words)\n",
    "\n",
    "wordcloud_plot = px.imshow(wordcloud) \n",
    "# Remove labels on axes\n",
    "wordcloud_plot.update_xaxes(showticklabels=False)\n",
    "wordcloud_plot.update_yaxes(showticklabels=False)"
   ]
  },
  {
   "cell_type": "markdown",
   "id": "baa61b76-3328-46de-a073-0f422feb1a36",
   "metadata": {},
   "source": [
    "### 3) Auto highlights"
   ]
  },
  {
   "cell_type": "code",
   "execution_count": 63,
   "id": "9a9c1e0f-786b-4d60-bec0-5960404f9511",
   "metadata": {},
   "outputs": [
    {
     "name": "stdout",
     "output_type": "stream",
     "text": [
      "highlights\n"
     ]
    }
   ],
   "source": [
    "print(\"highlights\")"
   ]
  },
  {
   "cell_type": "code",
   "execution_count": 90,
   "id": "6b8304c7-edd2-456d-b33a-987c85e6f164",
   "metadata": {
    "tags": []
   },
   "outputs": [
    {
     "data": {
      "text/html": [
       "<div>\n",
       "<style scoped>\n",
       "    .dataframe tbody tr th:only-of-type {\n",
       "        vertical-align: middle;\n",
       "    }\n",
       "\n",
       "    .dataframe tbody tr th {\n",
       "        vertical-align: top;\n",
       "    }\n",
       "\n",
       "    .dataframe thead th {\n",
       "        text-align: right;\n",
       "    }\n",
       "</style>\n",
       "<table border=\"1\" class=\"dataframe\">\n",
       "  <thead>\n",
       "    <tr style=\"text-align: right;\">\n",
       "      <th></th>\n",
       "      <th>count</th>\n",
       "      <th>rank</th>\n",
       "      <th>text</th>\n",
       "      <th>timestamps</th>\n",
       "    </tr>\n",
       "  </thead>\n",
       "  <tbody>\n",
       "    <tr>\n",
       "      <th>0</th>\n",
       "      <td>1</td>\n",
       "      <td>0.07</td>\n",
       "      <td>Python code</td>\n",
       "      <td>[{'start': 270164, 'end': 270870}]</td>\n",
       "    </tr>\n",
       "    <tr>\n",
       "      <th>1</th>\n",
       "      <td>7</td>\n",
       "      <td>0.06</td>\n",
       "      <td>data science</td>\n",
       "      <td>[{'start': 33404, 'end': 33934}, {'start': 679...</td>\n",
       "    </tr>\n",
       "    <tr>\n",
       "      <th>2</th>\n",
       "      <td>1</td>\n",
       "      <td>0.06</td>\n",
       "      <td>data science learning</td>\n",
       "      <td>[{'start': 88916, 'end': 89730}]</td>\n",
       "    </tr>\n",
       "    <tr>\n",
       "      <th>3</th>\n",
       "      <td>1</td>\n",
       "      <td>0.06</td>\n",
       "      <td>tangible data science skills</td>\n",
       "      <td>[{'start': 470132, 'end': 471394}]</td>\n",
       "    </tr>\n",
       "    <tr>\n",
       "      <th>4</th>\n",
       "      <td>1</td>\n",
       "      <td>0.05</td>\n",
       "      <td>different data structures</td>\n",
       "      <td>[{'start': 329504, 'end': 330478}]</td>\n",
       "    </tr>\n",
       "    <tr>\n",
       "      <th>5</th>\n",
       "      <td>1</td>\n",
       "      <td>0.05</td>\n",
       "      <td>other great videos</td>\n",
       "      <td>[{'start': 38756, 'end': 39522}]</td>\n",
       "    </tr>\n",
       "    <tr>\n",
       "      <th>6</th>\n",
       "      <td>1</td>\n",
       "      <td>0.05</td>\n",
       "      <td>data types</td>\n",
       "      <td>[{'start': 323264, 'end': 323986}]</td>\n",
       "    </tr>\n",
       "    <tr>\n",
       "      <th>7</th>\n",
       "      <td>1</td>\n",
       "      <td>0.05</td>\n",
       "      <td>data frames</td>\n",
       "      <td>[{'start': 412388, 'end': 412930}]</td>\n",
       "    </tr>\n",
       "    <tr>\n",
       "      <th>8</th>\n",
       "      <td>2</td>\n",
       "      <td>0.05</td>\n",
       "      <td>Data scientists</td>\n",
       "      <td>[{'start': 100412, 'end': 101146}, {'start': 1...</td>\n",
       "    </tr>\n",
       "    <tr>\n",
       "      <th>9</th>\n",
       "      <td>2</td>\n",
       "      <td>0.05</td>\n",
       "      <td>other people</td>\n",
       "      <td>[{'start': 540032, 'end': 540414}, {'start': 5...</td>\n",
       "    </tr>\n",
       "    <tr>\n",
       "      <th>10</th>\n",
       "      <td>2</td>\n",
       "      <td>0.05</td>\n",
       "      <td>many people</td>\n",
       "      <td>[{'start': 543082, 'end': 543690}, {'start': 5...</td>\n",
       "    </tr>\n",
       "    <tr>\n",
       "      <th>11</th>\n",
       "      <td>1</td>\n",
       "      <td>0.05</td>\n",
       "      <td>good coding</td>\n",
       "      <td>[{'start': 378884, 'end': 379474}]</td>\n",
       "    </tr>\n",
       "    <tr>\n",
       "      <th>12</th>\n",
       "      <td>1</td>\n",
       "      <td>0.05</td>\n",
       "      <td>Coding languages</td>\n",
       "      <td>[{'start': 290554, 'end': 291358}]</td>\n",
       "    </tr>\n",
       "    <tr>\n",
       "      <th>13</th>\n",
       "      <td>3</td>\n",
       "      <td>0.04</td>\n",
       "      <td>object oriented programming</td>\n",
       "      <td>[{'start': 433352, 'end': 434782}, {'start': 4...</td>\n",
       "    </tr>\n",
       "    <tr>\n",
       "      <th>14</th>\n",
       "      <td>6</td>\n",
       "      <td>0.04</td>\n",
       "      <td>projects</td>\n",
       "      <td>[{'start': 89984, 'end': 90562}, {'start': 237...</td>\n",
       "    </tr>\n",
       "  </tbody>\n",
       "</table>\n",
       "</div>"
      ],
      "text/plain": [
       "    count  rank                          text  \\\n",
       "0       1  0.07                   Python code   \n",
       "1       7  0.06                  data science   \n",
       "2       1  0.06         data science learning   \n",
       "3       1  0.06  tangible data science skills   \n",
       "4       1  0.05     different data structures   \n",
       "5       1  0.05            other great videos   \n",
       "6       1  0.05                    data types   \n",
       "7       1  0.05                   data frames   \n",
       "8       2  0.05               Data scientists   \n",
       "9       2  0.05                  other people   \n",
       "10      2  0.05                   many people   \n",
       "11      1  0.05                   good coding   \n",
       "12      1  0.05              Coding languages   \n",
       "13      3  0.04   object oriented programming   \n",
       "14      6  0.04                      projects   \n",
       "\n",
       "                                           timestamps  \n",
       "0                  [{'start': 270164, 'end': 270870}]  \n",
       "1   [{'start': 33404, 'end': 33934}, {'start': 679...  \n",
       "2                    [{'start': 88916, 'end': 89730}]  \n",
       "3                  [{'start': 470132, 'end': 471394}]  \n",
       "4                  [{'start': 329504, 'end': 330478}]  \n",
       "5                    [{'start': 38756, 'end': 39522}]  \n",
       "6                  [{'start': 323264, 'end': 323986}]  \n",
       "7                  [{'start': 412388, 'end': 412930}]  \n",
       "8   [{'start': 100412, 'end': 101146}, {'start': 1...  \n",
       "9   [{'start': 540032, 'end': 540414}, {'start': 5...  \n",
       "10  [{'start': 543082, 'end': 543690}, {'start': 5...  \n",
       "11                 [{'start': 378884, 'end': 379474}]  \n",
       "12                 [{'start': 290554, 'end': 291358}]  \n",
       "13  [{'start': 433352, 'end': 434782}, {'start': 4...  \n",
       "14  [{'start': 89984, 'end': 90562}, {'start': 237...  "
      ]
     },
     "execution_count": 90,
     "metadata": {},
     "output_type": "execute_result"
    }
   ],
   "source": [
    "highlights = data[\"auto_highlights_result\"][\"results\"]\n",
    "highlights_df = pd.DataFrame(highlights)\n",
    "highlights_df"
   ]
  },
  {
   "cell_type": "code",
   "execution_count": 91,
   "id": "7469f77b-8d03-472e-8bfd-ad266494904f",
   "metadata": {
    "tags": []
   },
   "outputs": [
    {
     "data": {
      "text/html": [
       "<div>\n",
       "<style scoped>\n",
       "    .dataframe tbody tr th:only-of-type {\n",
       "        vertical-align: middle;\n",
       "    }\n",
       "\n",
       "    .dataframe tbody tr th {\n",
       "        vertical-align: top;\n",
       "    }\n",
       "\n",
       "    .dataframe thead th {\n",
       "        text-align: right;\n",
       "    }\n",
       "</style>\n",
       "<table border=\"1\" class=\"dataframe\">\n",
       "  <thead>\n",
       "    <tr style=\"text-align: right;\">\n",
       "      <th></th>\n",
       "      <th>count</th>\n",
       "      <th>rank</th>\n",
       "      <th>text</th>\n",
       "    </tr>\n",
       "  </thead>\n",
       "  <tbody>\n",
       "    <tr>\n",
       "      <th>0</th>\n",
       "      <td>1</td>\n",
       "      <td>0.05</td>\n",
       "      <td>different data structures, \\nother great video...</td>\n",
       "    </tr>\n",
       "    <tr>\n",
       "      <th>1</th>\n",
       "      <td>1</td>\n",
       "      <td>0.06</td>\n",
       "      <td>data science learning, \\ntangible data science...</td>\n",
       "    </tr>\n",
       "    <tr>\n",
       "      <th>2</th>\n",
       "      <td>1</td>\n",
       "      <td>0.07</td>\n",
       "      <td>Python code</td>\n",
       "    </tr>\n",
       "    <tr>\n",
       "      <th>3</th>\n",
       "      <td>2</td>\n",
       "      <td>0.05</td>\n",
       "      <td>Data scientists, \\nother people, \\nmany people</td>\n",
       "    </tr>\n",
       "    <tr>\n",
       "      <th>4</th>\n",
       "      <td>3</td>\n",
       "      <td>0.04</td>\n",
       "      <td>object oriented programming</td>\n",
       "    </tr>\n",
       "    <tr>\n",
       "      <th>5</th>\n",
       "      <td>6</td>\n",
       "      <td>0.04</td>\n",
       "      <td>projects</td>\n",
       "    </tr>\n",
       "    <tr>\n",
       "      <th>6</th>\n",
       "      <td>7</td>\n",
       "      <td>0.06</td>\n",
       "      <td>data science</td>\n",
       "    </tr>\n",
       "  </tbody>\n",
       "</table>\n",
       "</div>"
      ],
      "text/plain": [
       "   count  rank                                               text\n",
       "0      1  0.05  different data structures, \\nother great video...\n",
       "1      1  0.06  data science learning, \\ntangible data science...\n",
       "2      1  0.07                                        Python code\n",
       "3      2  0.05     Data scientists, \\nother people, \\nmany people\n",
       "4      3  0.04                        object oriented programming\n",
       "5      6  0.04                                           projects\n",
       "6      7  0.06                                       data science"
      ]
     },
     "execution_count": 91,
     "metadata": {},
     "output_type": "execute_result"
    }
   ],
   "source": [
    "highlights_df_grouped = highlights_df.groupby([\"count\", \"rank\"])['text'].apply(\", \\n\".join).reset_index()\n",
    "highlights_df_grouped"
   ]
  },
  {
   "cell_type": "code",
   "execution_count": 92,
   "id": "ea106a2d-b762-4a74-9fc2-19425ebfa6c5",
   "metadata": {
    "tags": []
   },
   "outputs": [
    {
     "data": {
      "text/plain": [
       ":Overlay\n",
       "   .Points.I :Points   [count,rank]   (index,text)\n",
       "   .Labels.I :Labels   [count,rank]   (text)"
      ]
     },
     "execution_count": 92,
     "metadata": {},
     "output_type": "execute_result"
    }
   ],
   "source": [
    "highlights_plot = highlights_df_grouped.hvplot.points(x=\"count\", y=\"rank\", padding=0.4, hover_cols='all', width=1300, height = 600, size = 50, title = \"Automatic Highlighted Words\") *\\\n",
    "highlights_df_grouped.hvplot.labels(x=\"count\", y=\"rank\", text=\"text\", text_baseline='top', hover=False).opts(fontscale=1.5)\n",
    "highlights_plot"
   ]
  },
  {
   "cell_type": "markdown",
   "id": "e0a84004-0c66-42e0-895d-2f79081917e0",
   "metadata": {},
   "source": [
    "### 4) Auto chapter"
   ]
  },
  {
   "cell_type": "code",
   "execution_count": 73,
   "id": "5d161b16-cfcc-4c6d-acff-18bc4a18d756",
   "metadata": {},
   "outputs": [],
   "source": [
    "chapters = data[\"chapters\"]"
   ]
  },
  {
   "cell_type": "code",
   "execution_count": 74,
   "id": "3cff29aa-c3cd-4491-a865-5dbf407e28b4",
   "metadata": {
    "collapsed": true,
    "jupyter": {
     "outputs_hidden": true
    },
    "tags": []
   },
   "outputs": [
    {
     "data": {
      "text/plain": [
       "[{'summary': \"A friend offered to coach me in exchange for teaching him how to code. It's been almost ten years since I wrote my first line of code. This video is about the detailed plan that I wrote for him to teach me the basics of coding for data science.\",\n",
       "  'headline': 'A friend offered to coach me in exchange for teaching him how to code.',\n",
       "  'gist': 'How to start coding from nothing.',\n",
       "  'start': 250,\n",
       "  'end': 57666},\n",
       " {'summary': \"Python is more popular than R. For data scientists, it's more intuitive and flexible than R. It will be a more valuable skill to have for the job market in general and for the data science industry in particular. It is growing and will be more popular from 2020 to 2021.\",\n",
       "  'headline': 'Python is growing and will be more popular from 2020 to 2021.',\n",
       "  'gist': 'Python vs r for data scientists.',\n",
       "  'start': 57728,\n",
       "  'end': 128946},\n",
       " {'summary': 'After choosing Python as a programming language, the first thing to do is to choose the right environment for his friend to learn Python on. The most common ides for Python are Vs, code, jupyter, notebook, PyCharm and Spider. The video from Precocamp shows how to set up the PyCharm environment.',\n",
       "  'headline': 'After choosing python as a programming language, the first thing to do is to choose the right environment for his friend to learn. Python on.',\n",
       "  'gist': 'What coding skills should my friend learn first.',\n",
       "  'start': 129008,\n",
       "  'end': 272382},\n",
       " {'summary': \"There's a common misconception that learning to code is supposed to be really hard and scary. Coding languages, particularly Python, are designed to be as easy to use as possible while creating good results. At the most basic level, beginner coding can be broken down into seven concepts: data, types, variables, functions, lists, dictionaries, tuples, loops and libraries. This is a simple project, but it's relevant and useful to our work and our jujitsu training.\",\n",
       "  'headline': 'Coding languages, particularly Python, are designed to be as easy to use as possible while creating good results.',\n",
       "  'gist': 'Coding basics.',\n",
       "  'start': 272516,\n",
       "  'end': 522378},\n",
       " {'summary': 'After learning the basics of Python, you should do a datarelated project on Kagglecom to learn more about data. Anaconda is a software package that lumps together all the relevant Python libraries and ideas for data science in one go. Google and Stack overflow are the most important tools to learn Python.',\n",
       "  'headline': 'Anaconda is a software package that lumps together all the relevant Python libraries and ideas for data science.',\n",
       "  'gist': 'Now what to do.',\n",
       "  'start': 522464,\n",
       "  'end': 647470}]"
      ]
     },
     "execution_count": 74,
     "metadata": {},
     "output_type": "execute_result"
    }
   ],
   "source": [
    "chapters"
   ]
  },
  {
   "cell_type": "code",
   "execution_count": 75,
   "id": "3f15156c-a26e-419c-b84f-00d07276ddaf",
   "metadata": {},
   "outputs": [],
   "source": [
    "chapter = pn.widgets.StaticText(value=chapters[0][\"summary\"], width=1000, height_policy = \"fit\")"
   ]
  },
  {
   "cell_type": "code",
   "execution_count": 76,
   "id": "ea8e669f-7bb0-4e1d-876f-16ee03ed9704",
   "metadata": {},
   "outputs": [
    {
     "data": {},
     "metadata": {},
     "output_type": "display_data"
    },
    {
     "data": {
      "application/vnd.holoviews_exec.v0+json": "",
      "text/html": [
       "<div id='1798'>\n",
       "  <div class=\"bk-root\" id=\"f51b39fa-dcc7-4572-9470-94748cb6b69f\" data-root-id=\"1798\"></div>\n",
       "</div>\n",
       "<script type=\"application/javascript\">(function(root) {\n",
       "  function embed_document(root) {\n",
       "    var docs_json = {\"6190116f-4d26-4f37-a4d4-33abc39db6c5\":{\"defs\":[{\"extends\":null,\"module\":null,\"name\":\"ReactiveHTML1\",\"overrides\":[],\"properties\":[]},{\"extends\":null,\"module\":null,\"name\":\"FlexBox1\",\"overrides\":[],\"properties\":[{\"default\":\"flex-start\",\"kind\":null,\"name\":\"align_content\"},{\"default\":\"flex-start\",\"kind\":null,\"name\":\"align_items\"},{\"default\":\"row\",\"kind\":null,\"name\":\"flex_direction\"},{\"default\":\"wrap\",\"kind\":null,\"name\":\"flex_wrap\"},{\"default\":\"flex-start\",\"kind\":null,\"name\":\"justify_content\"}]},{\"extends\":null,\"module\":null,\"name\":\"GridStack1\",\"overrides\":[],\"properties\":[{\"default\":\"warn\",\"kind\":null,\"name\":\"mode\"},{\"default\":null,\"kind\":null,\"name\":\"ncols\"},{\"default\":null,\"kind\":null,\"name\":\"nrows\"},{\"default\":true,\"kind\":null,\"name\":\"allow_resize\"},{\"default\":true,\"kind\":null,\"name\":\"allow_drag\"},{\"default\":[],\"kind\":null,\"name\":\"state\"}]},{\"extends\":null,\"module\":null,\"name\":\"click1\",\"overrides\":[],\"properties\":[{\"default\":\"\",\"kind\":null,\"name\":\"terminal_output\"},{\"default\":\"\",\"kind\":null,\"name\":\"debug_name\"},{\"default\":0,\"kind\":null,\"name\":\"clears\"}]},{\"extends\":null,\"module\":null,\"name\":\"NotificationAreaBase1\",\"overrides\":[],\"properties\":[{\"default\":\"bottom-right\",\"kind\":null,\"name\":\"position\"},{\"default\":0,\"kind\":null,\"name\":\"_clear\"}]},{\"extends\":null,\"module\":null,\"name\":\"NotificationArea1\",\"overrides\":[],\"properties\":[{\"default\":[],\"kind\":null,\"name\":\"notifications\"},{\"default\":\"bottom-right\",\"kind\":null,\"name\":\"position\"},{\"default\":0,\"kind\":null,\"name\":\"_clear\"},{\"default\":[{\"background\":\"#ffc107\",\"icon\":{\"className\":\"fas fa-exclamation-triangle\",\"color\":\"white\",\"tagName\":\"i\"},\"type\":\"warning\"},{\"background\":\"#007bff\",\"icon\":{\"className\":\"fas fa-info-circle\",\"color\":\"white\",\"tagName\":\"i\"},\"type\":\"info\"}],\"kind\":null,\"name\":\"types\"}]},{\"extends\":null,\"module\":null,\"name\":\"Notification\",\"overrides\":[],\"properties\":[{\"default\":null,\"kind\":null,\"name\":\"background\"},{\"default\":3000,\"kind\":null,\"name\":\"duration\"},{\"default\":null,\"kind\":null,\"name\":\"icon\"},{\"default\":\"\",\"kind\":null,\"name\":\"message\"},{\"default\":null,\"kind\":null,\"name\":\"notification_type\"},{\"default\":false,\"kind\":null,\"name\":\"_destroyed\"}]},{\"extends\":null,\"module\":null,\"name\":\"TemplateActions1\",\"overrides\":[],\"properties\":[{\"default\":0,\"kind\":null,\"name\":\"open_modal\"},{\"default\":0,\"kind\":null,\"name\":\"close_modal\"}]},{\"extends\":null,\"module\":null,\"name\":\"MaterialTemplateActions1\",\"overrides\":[],\"properties\":[{\"default\":0,\"kind\":null,\"name\":\"open_modal\"},{\"default\":0,\"kind\":null,\"name\":\"close_modal\"}]}],\"roots\":{\"references\":[{\"attributes\":{\"client_comm_id\":\"140235427814423c8e8f03cbf4ed5ac2\",\"comm_id\":\"d51f35a4532645e69c5db48c30e4bc30\",\"plot_id\":\"1798\"},\"id\":\"1799\",\"type\":\"panel.models.comm_manager.CommManager\"},{\"attributes\":{\"height_policy\":\"fit\",\"margin\":[5,10,5,10],\"name\":\"\",\"text\":\"A friend offered to coach me in exchange for teaching him how to code. It's been almost ten years since I wrote my first line of code. This video is about the detailed plan that I wrote for him to teach me the basics of coding for data science.\",\"width\":1000},\"id\":\"1798\",\"type\":\"Div\"}],\"root_ids\":[\"1798\",\"1799\"]},\"title\":\"Bokeh Application\",\"version\":\"2.4.3\"}};\n",
       "    var render_items = [{\"docid\":\"6190116f-4d26-4f37-a4d4-33abc39db6c5\",\"root_ids\":[\"1798\"],\"roots\":{\"1798\":\"f51b39fa-dcc7-4572-9470-94748cb6b69f\"}}];\n",
       "    root.Bokeh.embed.embed_items_notebook(docs_json, render_items);\n",
       "  }\n",
       "  if (root.Bokeh !== undefined && root.Bokeh.Panel !== undefined) {\n",
       "    embed_document(root);\n",
       "  } else {\n",
       "    var attempts = 0;\n",
       "    var timer = setInterval(function(root) {\n",
       "      if (root.Bokeh !== undefined && root.Bokeh.Panel !== undefined) {\n",
       "        clearInterval(timer);\n",
       "        embed_document(root);\n",
       "      } else if (document.readyState == \"complete\") {\n",
       "        attempts++;\n",
       "        if (attempts > 200) {\n",
       "          clearInterval(timer);\n",
       "          console.log(\"Bokeh: ERROR: Unable to run BokehJS code because BokehJS library is missing\");\n",
       "        }\n",
       "      }\n",
       "    }, 25, root)\n",
       "  }\n",
       "})(window);</script>"
      ],
      "text/plain": [
       "StaticText(height_policy='fit', value=\"A friend offered t..., width=1000)"
      ]
     },
     "execution_count": 76,
     "metadata": {
      "application/vnd.holoviews_exec.v0+json": {
       "id": "1798"
      }
     },
     "output_type": "execute_result"
    }
   ],
   "source": [
    "chapter"
   ]
  },
  {
   "cell_type": "code",
   "execution_count": 77,
   "id": "481c2db5-b10d-456b-8f1d-c3f334e3808f",
   "metadata": {},
   "outputs": [
    {
     "data": {},
     "metadata": {},
     "output_type": "display_data"
    },
    {
     "data": {
      "application/vnd.holoviews_exec.v0+json": "",
      "text/html": [
       "<div id='1800'>\n",
       "  <div class=\"bk-root\" id=\"7637a314-ca1f-4b22-91c4-8d24538e4257\" data-root-id=\"1800\"></div>\n",
       "</div>\n",
       "<script type=\"application/javascript\">(function(root) {\n",
       "  function embed_document(root) {\n",
       "    var docs_json = {\"7ebdf2f2-2d9c-4a67-a537-706df1bbb109\":{\"defs\":[{\"extends\":null,\"module\":null,\"name\":\"ReactiveHTML1\",\"overrides\":[],\"properties\":[]},{\"extends\":null,\"module\":null,\"name\":\"FlexBox1\",\"overrides\":[],\"properties\":[{\"default\":\"flex-start\",\"kind\":null,\"name\":\"align_content\"},{\"default\":\"flex-start\",\"kind\":null,\"name\":\"align_items\"},{\"default\":\"row\",\"kind\":null,\"name\":\"flex_direction\"},{\"default\":\"wrap\",\"kind\":null,\"name\":\"flex_wrap\"},{\"default\":\"flex-start\",\"kind\":null,\"name\":\"justify_content\"}]},{\"extends\":null,\"module\":null,\"name\":\"GridStack1\",\"overrides\":[],\"properties\":[{\"default\":\"warn\",\"kind\":null,\"name\":\"mode\"},{\"default\":null,\"kind\":null,\"name\":\"ncols\"},{\"default\":null,\"kind\":null,\"name\":\"nrows\"},{\"default\":true,\"kind\":null,\"name\":\"allow_resize\"},{\"default\":true,\"kind\":null,\"name\":\"allow_drag\"},{\"default\":[],\"kind\":null,\"name\":\"state\"}]},{\"extends\":null,\"module\":null,\"name\":\"click1\",\"overrides\":[],\"properties\":[{\"default\":\"\",\"kind\":null,\"name\":\"terminal_output\"},{\"default\":\"\",\"kind\":null,\"name\":\"debug_name\"},{\"default\":0,\"kind\":null,\"name\":\"clears\"}]},{\"extends\":null,\"module\":null,\"name\":\"NotificationAreaBase1\",\"overrides\":[],\"properties\":[{\"default\":\"bottom-right\",\"kind\":null,\"name\":\"position\"},{\"default\":0,\"kind\":null,\"name\":\"_clear\"}]},{\"extends\":null,\"module\":null,\"name\":\"NotificationArea1\",\"overrides\":[],\"properties\":[{\"default\":[],\"kind\":null,\"name\":\"notifications\"},{\"default\":\"bottom-right\",\"kind\":null,\"name\":\"position\"},{\"default\":0,\"kind\":null,\"name\":\"_clear\"},{\"default\":[{\"background\":\"#ffc107\",\"icon\":{\"className\":\"fas fa-exclamation-triangle\",\"color\":\"white\",\"tagName\":\"i\"},\"type\":\"warning\"},{\"background\":\"#007bff\",\"icon\":{\"className\":\"fas fa-info-circle\",\"color\":\"white\",\"tagName\":\"i\"},\"type\":\"info\"}],\"kind\":null,\"name\":\"types\"}]},{\"extends\":null,\"module\":null,\"name\":\"Notification\",\"overrides\":[],\"properties\":[{\"default\":null,\"kind\":null,\"name\":\"background\"},{\"default\":3000,\"kind\":null,\"name\":\"duration\"},{\"default\":null,\"kind\":null,\"name\":\"icon\"},{\"default\":\"\",\"kind\":null,\"name\":\"message\"},{\"default\":null,\"kind\":null,\"name\":\"notification_type\"},{\"default\":false,\"kind\":null,\"name\":\"_destroyed\"}]},{\"extends\":null,\"module\":null,\"name\":\"TemplateActions1\",\"overrides\":[],\"properties\":[{\"default\":0,\"kind\":null,\"name\":\"open_modal\"},{\"default\":0,\"kind\":null,\"name\":\"close_modal\"}]},{\"extends\":null,\"module\":null,\"name\":\"MaterialTemplateActions1\",\"overrides\":[],\"properties\":[{\"default\":0,\"kind\":null,\"name\":\"open_modal\"},{\"default\":0,\"kind\":null,\"name\":\"close_modal\"}]}],\"roots\":{\"references\":[{\"attributes\":{\"button_type\":\"primary\",\"icon\":null,\"label\":\"0\",\"margin\":[5,10,5,10],\"subscribed_events\":[\"button_click\"]},\"id\":\"1800\",\"type\":\"Button\"},{\"attributes\":{\"client_comm_id\":\"778cbc8207e5483c8c47fe5fc5d84df9\",\"comm_id\":\"79fa077694d347098f52b6655e2d1cb7\",\"plot_id\":\"1800\"},\"id\":\"1801\",\"type\":\"panel.models.comm_manager.CommManager\"}],\"root_ids\":[\"1800\",\"1801\"]},\"title\":\"Bokeh Application\",\"version\":\"2.4.3\"}};\n",
       "    var render_items = [{\"docid\":\"7ebdf2f2-2d9c-4a67-a537-706df1bbb109\",\"root_ids\":[\"1800\"],\"roots\":{\"1800\":\"7637a314-ca1f-4b22-91c4-8d24538e4257\"}}];\n",
       "    root.Bokeh.embed.embed_items_notebook(docs_json, render_items);\n",
       "  }\n",
       "  if (root.Bokeh !== undefined && root.Bokeh.Panel !== undefined) {\n",
       "    embed_document(root);\n",
       "  } else {\n",
       "    var attempts = 0;\n",
       "    var timer = setInterval(function(root) {\n",
       "      if (root.Bokeh !== undefined && root.Bokeh.Panel !== undefined) {\n",
       "        clearInterval(timer);\n",
       "        embed_document(root);\n",
       "      } else if (document.readyState == \"complete\") {\n",
       "        attempts++;\n",
       "        if (attempts > 200) {\n",
       "          clearInterval(timer);\n",
       "          console.log(\"Bokeh: ERROR: Unable to run BokehJS code because BokehJS library is missing\");\n",
       "        }\n",
       "      }\n",
       "    }, 25, root)\n",
       "  }\n",
       "})(window);</script>"
      ],
      "text/plain": [
       "Button(button_type='primary', name='0')"
      ]
     },
     "execution_count": 77,
     "metadata": {
      "application/vnd.holoviews_exec.v0+json": {
       "id": "1800"
      }
     },
     "output_type": "execute_result"
    }
   ],
   "source": [
    "button = pn.widgets.Button(name=str(int(chapters[0][\"start\"]/1000)), button_type='primary')\n",
    "button"
   ]
  },
  {
   "cell_type": "code",
   "execution_count": 78,
   "id": "96fe7ee0-2973-4418-b8a7-1f7667a05337",
   "metadata": {},
   "outputs": [
    {
     "data": {
      "text/plain": [
       "{'summary': \"A friend offered to coach me in exchange for teaching him how to code. It's been almost ten years since I wrote my first line of code. This video is about the detailed plan that I wrote for him to teach me the basics of coding for data science.\",\n",
       " 'headline': 'A friend offered to coach me in exchange for teaching him how to code.',\n",
       " 'gist': 'How to start coding from nothing.',\n",
       " 'start': 250,\n",
       " 'end': 57666}"
      ]
     },
     "execution_count": 78,
     "metadata": {},
     "output_type": "execute_result"
    }
   ],
   "source": [
    "chapters[0]"
   ]
  },
  {
   "cell_type": "code",
   "execution_count": 80,
   "id": "301ba922-d42a-416e-b105-6ecd2d9b8c6e",
   "metadata": {},
   "outputs": [],
   "source": [
    "start_time = 6430\n",
    "chapter_audio = pn.pane.Audio(audio_url, name='Audio', time = round(start_time/1000))"
   ]
  },
  {
   "cell_type": "code",
   "execution_count": 98,
   "id": "e2fa141a-01b3-4dfa-bdf5-90f5af8384cb",
   "metadata": {
    "tags": []
   },
   "outputs": [],
   "source": [
    "# Create a layout for showing chapter summary and the time.\n",
    "chapters_layout = pn.Column(pn.pane.Markdown(\"### Auto Chapter Summary\"))\n",
    "\n",
    "class ButtonAudio():\n",
    "    def __init__(self, start_time):\n",
    "        self.start_time = start_time\n",
    "        self.button = pn.widgets.Button(name=str(round(self.start_time/1000, 2)), button_type='primary', width=60)\n",
    "        self.chapter_audio = pn.pane.Audio(audio_url, name='Audio', time = round(self.start_time/1000))\n",
    "        self.button.on_click(self.move_audio_head)\n",
    "\n",
    "    def move_audio_head(self, event):\n",
    "        # self.chapter_audio = pn.pane.Audio(filename, name='Audio', time = round(self.start_time/1000))\n",
    "        # self.chapter_audio.paused = True\n",
    "        self.chapter_audio.time = self.start_time/1000\n",
    "        # self.button.name = \"heeloo\"\n",
    "\n",
    "for chapter in chapters:\n",
    "    chapter_summary = pn.widgets.StaticText(value=chapter[\"summary\"], width=1000, height_policy = \"fit\")\n",
    "    button_audio = ButtonAudio(chapter[\"start\"])\n",
    "    button = button_audio.button\n",
    "    chapter_audio = button_audio.chapter_audio\n",
    "    chapters_layout.append(pn.Row(pn.Column(button), pn.Column(chapter_audio), pn.Column(chapter_summary)))"
   ]
  },
  {
   "cell_type": "code",
   "execution_count": 99,
   "id": "021b1076-819e-4fe6-b4a6-b4adc5584584",
   "metadata": {},
   "outputs": [
    {
     "data": {},
     "metadata": {},
     "output_type": "display_data"
    },
    {
     "data": {
      "application/vnd.holoviews_exec.v0+json": "",
      "text/html": [
       "<div id='3602'>\n",
       "  <div class=\"bk-root\" id=\"dec58f1b-8b74-464e-9c97-b068bbb3bdd6\" data-root-id=\"3602\"></div>\n",
       "</div>\n",
       "<script type=\"application/javascript\">(function(root) {\n",
       "  function embed_document(root) {\n",
       "    var docs_json = {\"1b73c467-9b7e-4e8d-9bdb-03eff095f23b\":{\"defs\":[{\"extends\":null,\"module\":null,\"name\":\"ReactiveHTML1\",\"overrides\":[],\"properties\":[]},{\"extends\":null,\"module\":null,\"name\":\"FlexBox1\",\"overrides\":[],\"properties\":[{\"default\":\"flex-start\",\"kind\":null,\"name\":\"align_content\"},{\"default\":\"flex-start\",\"kind\":null,\"name\":\"align_items\"},{\"default\":\"row\",\"kind\":null,\"name\":\"flex_direction\"},{\"default\":\"wrap\",\"kind\":null,\"name\":\"flex_wrap\"},{\"default\":\"flex-start\",\"kind\":null,\"name\":\"justify_content\"}]},{\"extends\":null,\"module\":null,\"name\":\"GridStack1\",\"overrides\":[],\"properties\":[{\"default\":\"warn\",\"kind\":null,\"name\":\"mode\"},{\"default\":null,\"kind\":null,\"name\":\"ncols\"},{\"default\":null,\"kind\":null,\"name\":\"nrows\"},{\"default\":true,\"kind\":null,\"name\":\"allow_resize\"},{\"default\":true,\"kind\":null,\"name\":\"allow_drag\"},{\"default\":[],\"kind\":null,\"name\":\"state\"}]},{\"extends\":null,\"module\":null,\"name\":\"click1\",\"overrides\":[],\"properties\":[{\"default\":\"\",\"kind\":null,\"name\":\"terminal_output\"},{\"default\":\"\",\"kind\":null,\"name\":\"debug_name\"},{\"default\":0,\"kind\":null,\"name\":\"clears\"}]},{\"extends\":null,\"module\":null,\"name\":\"NotificationAreaBase1\",\"overrides\":[],\"properties\":[{\"default\":\"bottom-right\",\"kind\":null,\"name\":\"position\"},{\"default\":0,\"kind\":null,\"name\":\"_clear\"}]},{\"extends\":null,\"module\":null,\"name\":\"NotificationArea1\",\"overrides\":[],\"properties\":[{\"default\":[],\"kind\":null,\"name\":\"notifications\"},{\"default\":\"bottom-right\",\"kind\":null,\"name\":\"position\"},{\"default\":0,\"kind\":null,\"name\":\"_clear\"},{\"default\":[{\"background\":\"#ffc107\",\"icon\":{\"className\":\"fas fa-exclamation-triangle\",\"color\":\"white\",\"tagName\":\"i\"},\"type\":\"warning\"},{\"background\":\"#007bff\",\"icon\":{\"className\":\"fas fa-info-circle\",\"color\":\"white\",\"tagName\":\"i\"},\"type\":\"info\"}],\"kind\":null,\"name\":\"types\"}]},{\"extends\":null,\"module\":null,\"name\":\"Notification\",\"overrides\":[],\"properties\":[{\"default\":null,\"kind\":null,\"name\":\"background\"},{\"default\":3000,\"kind\":null,\"name\":\"duration\"},{\"default\":null,\"kind\":null,\"name\":\"icon\"},{\"default\":\"\",\"kind\":null,\"name\":\"message\"},{\"default\":null,\"kind\":null,\"name\":\"notification_type\"},{\"default\":false,\"kind\":null,\"name\":\"_destroyed\"}]},{\"extends\":null,\"module\":null,\"name\":\"TemplateActions1\",\"overrides\":[],\"properties\":[{\"default\":0,\"kind\":null,\"name\":\"open_modal\"},{\"default\":0,\"kind\":null,\"name\":\"close_modal\"}]},{\"extends\":null,\"module\":null,\"name\":\"MaterialTemplateActions1\",\"overrides\":[],\"properties\":[{\"default\":0,\"kind\":null,\"name\":\"open_modal\"},{\"default\":0,\"kind\":null,\"name\":\"close_modal\"}]}],\"roots\":{\"references\":[{\"attributes\":{\"margin\":[5,5,5,5],\"paused\":true,\"time\":522,\"value\":\"https://github.com/thu-vu92/audio_analyzer_assemblyai/blob/main/How_I_Would_Learn_to_Code.mp3?raw=true\"},\"id\":\"3636\",\"type\":\"panel.models.widgets.Audio\"},{\"attributes\":{\"children\":[{\"id\":\"3615\"}],\"margin\":[0,0,0,0],\"name\":\"Column02156\"},\"id\":\"3614\",\"type\":\"Column\"},{\"attributes\":{\"children\":[{\"id\":\"3613\"}],\"margin\":[0,0,0,0],\"name\":\"Column02155\"},\"id\":\"3612\",\"type\":\"Column\"},{\"attributes\":{\"button_type\":\"primary\",\"icon\":null,\"label\":\"522.46\",\"margin\":[5,10,5,10],\"min_width\":60,\"subscribed_events\":[\"button_click\"],\"width\":60},\"id\":\"3634\",\"type\":\"Button\"},{\"attributes\":{\"height_policy\":\"fit\",\"margin\":[5,10,5,10],\"name\":\"\",\"text\":\"Python is more popular than R. For data scientists, it's more intuitive and flexible than R. It will be a more valuable skill to have for the job market in general and for the data science industry in particular. It is growing and will be more popular from 2020 to 2021.\",\"width\":1000},\"id\":\"3617\",\"type\":\"Div\"},{\"attributes\":{\"button_type\":\"primary\",\"icon\":null,\"label\":\"57.73\",\"margin\":[5,10,5,10],\"min_width\":60,\"subscribed_events\":[\"button_click\"],\"width\":60},\"id\":\"3613\",\"type\":\"Button\"},{\"attributes\":{\"height_policy\":\"fit\",\"margin\":[5,10,5,10],\"name\":\"\",\"text\":\"There's a common misconception that learning to code is supposed to be really hard and scary. Coding languages, particularly Python, are designed to be as easy to use as possible while creating good results. At the most basic level, beginner coding can be broken down into seven concepts: data, types, variables, functions, lists, dictionaries, tuples, loops and libraries. This is a simple project, but it's relevant and useful to our work and our jujitsu training.\",\"width\":1000},\"id\":\"3631\",\"type\":\"Div\"},{\"attributes\":{\"children\":[{\"id\":\"3631\"}],\"margin\":[0,0,0,0],\"name\":\"Column02173\"},\"id\":\"3630\",\"type\":\"Column\"},{\"attributes\":{\"children\":[{\"id\":\"3633\"},{\"id\":\"3635\"},{\"id\":\"3637\"}],\"margin\":[0,0,0,0],\"name\":\"Row02182\"},\"id\":\"3632\",\"type\":\"Row\"},{\"attributes\":{\"children\":[{\"id\":\"3619\"},{\"id\":\"3621\"},{\"id\":\"3623\"}],\"margin\":[0,0,0,0],\"name\":\"Row02166\"},\"id\":\"3618\",\"type\":\"Row\"},{\"attributes\":{\"children\":[{\"id\":\"3610\"}],\"margin\":[0,0,0,0],\"name\":\"Column02149\"},\"id\":\"3609\",\"type\":\"Column\"},{\"attributes\":{\"children\":[{\"id\":\"3629\"}],\"margin\":[0,0,0,0],\"name\":\"Column02172\"},\"id\":\"3628\",\"type\":\"Column\"},{\"attributes\":{\"children\":[{\"id\":\"3617\"}],\"margin\":[0,0,0,0],\"name\":\"Column02157\"},\"id\":\"3616\",\"type\":\"Column\"},{\"attributes\":{\"height_policy\":\"fit\",\"margin\":[5,10,5,10],\"name\":\"\",\"text\":\"A friend offered to coach me in exchange for teaching him how to code. It's been almost ten years since I wrote my first line of code. This video is about the detailed plan that I wrote for him to teach me the basics of coding for data science.\",\"width\":1000},\"id\":\"3610\",\"type\":\"Div\"},{\"attributes\":{\"children\":[{\"id\":\"3606\"}],\"margin\":[0,0,0,0],\"name\":\"Column02147\"},\"id\":\"3605\",\"type\":\"Column\"},{\"attributes\":{\"children\":[{\"id\":\"3636\"}],\"margin\":[0,0,0,0],\"name\":\"Column02180\"},\"id\":\"3635\",\"type\":\"Column\"},{\"attributes\":{\"height_policy\":\"fit\",\"margin\":[5,10,5,10],\"name\":\"\",\"text\":\"After choosing Python as a programming language, the first thing to do is to choose the right environment for his friend to learn Python on. The most common ides for Python are Vs, code, jupyter, notebook, PyCharm and Spider. The video from Precocamp shows how to set up the PyCharm environment.\",\"width\":1000},\"id\":\"3624\",\"type\":\"Div\"},{\"attributes\":{\"children\":[{\"id\":\"3638\"}],\"margin\":[0,0,0,0],\"name\":\"Column02181\"},\"id\":\"3637\",\"type\":\"Column\"},{\"attributes\":{\"children\":[{\"id\":\"3620\"}],\"margin\":[0,0,0,0],\"name\":\"Column02163\"},\"id\":\"3619\",\"type\":\"Column\"},{\"attributes\":{\"children\":[{\"id\":\"3612\"},{\"id\":\"3614\"},{\"id\":\"3616\"}],\"margin\":[0,0,0,0],\"name\":\"Row02158\"},\"id\":\"3611\",\"type\":\"Row\"},{\"attributes\":{\"children\":[{\"id\":\"3626\"},{\"id\":\"3628\"},{\"id\":\"3630\"}],\"margin\":[0,0,0,0],\"name\":\"Row02174\"},\"id\":\"3625\",\"type\":\"Row\"},{\"attributes\":{\"height_policy\":\"fit\",\"margin\":[5,10,5,10],\"name\":\"\",\"text\":\"After learning the basics of Python, you should do a datarelated project on Kagglecom to learn more about data. Anaconda is a software package that lumps together all the relevant Python libraries and ideas for data science in one go. Google and Stack overflow are the most important tools to learn Python.\",\"width\":1000},\"id\":\"3638\",\"type\":\"Div\"},{\"attributes\":{\"children\":[{\"id\":\"3627\"}],\"margin\":[0,0,0,0],\"name\":\"Column02171\"},\"id\":\"3626\",\"type\":\"Column\"},{\"attributes\":{\"children\":[{\"id\":\"3603\"},{\"id\":\"3604\"},{\"id\":\"3611\"},{\"id\":\"3618\"},{\"id\":\"3625\"},{\"id\":\"3632\"}],\"margin\":[0,0,0,0],\"name\":\"Column02142\"},\"id\":\"3602\",\"type\":\"Column\"},{\"attributes\":{\"children\":[{\"id\":\"3634\"}],\"margin\":[0,0,0,0],\"name\":\"Column02179\"},\"id\":\"3633\",\"type\":\"Column\"},{\"attributes\":{\"children\":[{\"id\":\"3608\"}],\"margin\":[0,0,0,0],\"name\":\"Column02148\"},\"id\":\"3607\",\"type\":\"Column\"},{\"attributes\":{\"children\":[{\"id\":\"3622\"}],\"margin\":[0,0,0,0],\"name\":\"Column02164\"},\"id\":\"3621\",\"type\":\"Column\"},{\"attributes\":{\"children\":[{\"id\":\"3624\"}],\"margin\":[0,0,0,0],\"name\":\"Column02165\"},\"id\":\"3623\",\"type\":\"Column\"},{\"attributes\":{\"css_classes\":[\"markdown\"],\"margin\":[5,5,5,5],\"name\":\"Markdown02140\",\"text\":\"&lt;h3&gt;Auto Chapter Summary&lt;/h3&gt;\"},\"id\":\"3603\",\"type\":\"panel.models.markup.HTML\"},{\"attributes\":{\"margin\":[5,5,5,5],\"paused\":true,\"time\":129,\"value\":\"https://github.com/thu-vu92/audio_analyzer_assemblyai/blob/main/How_I_Would_Learn_to_Code.mp3?raw=true\"},\"id\":\"3622\",\"type\":\"panel.models.widgets.Audio\"},{\"attributes\":{\"margin\":[5,5,5,5],\"paused\":true,\"time\":58,\"value\":\"https://github.com/thu-vu92/audio_analyzer_assemblyai/blob/main/How_I_Would_Learn_to_Code.mp3?raw=true\"},\"id\":\"3615\",\"type\":\"panel.models.widgets.Audio\"},{\"attributes\":{\"button_type\":\"primary\",\"icon\":null,\"label\":\"129.01\",\"margin\":[5,10,5,10],\"min_width\":60,\"subscribed_events\":[\"button_click\"],\"width\":60},\"id\":\"3620\",\"type\":\"Button\"},{\"attributes\":{\"children\":[{\"id\":\"3605\"},{\"id\":\"3607\"},{\"id\":\"3609\"}],\"margin\":[0,0,0,0],\"name\":\"Row02150\"},\"id\":\"3604\",\"type\":\"Row\"},{\"attributes\":{\"margin\":[5,5,5,5],\"paused\":true,\"value\":\"https://github.com/thu-vu92/audio_analyzer_assemblyai/blob/main/How_I_Would_Learn_to_Code.mp3?raw=true\"},\"id\":\"3608\",\"type\":\"panel.models.widgets.Audio\"},{\"attributes\":{\"margin\":[5,5,5,5],\"paused\":true,\"time\":273,\"value\":\"https://github.com/thu-vu92/audio_analyzer_assemblyai/blob/main/How_I_Would_Learn_to_Code.mp3?raw=true\"},\"id\":\"3629\",\"type\":\"panel.models.widgets.Audio\"},{\"attributes\":{\"button_type\":\"primary\",\"icon\":null,\"label\":\"0.25\",\"margin\":[5,10,5,10],\"min_width\":60,\"subscribed_events\":[\"button_click\"],\"width\":60},\"id\":\"3606\",\"type\":\"Button\"},{\"attributes\":{\"client_comm_id\":\"e6a74b51c9684bb2a485ab03745e9787\",\"comm_id\":\"c4ccf00fa44a458b899924054b7a2c35\",\"plot_id\":\"3602\"},\"id\":\"3639\",\"type\":\"panel.models.comm_manager.CommManager\"},{\"attributes\":{\"button_type\":\"primary\",\"icon\":null,\"label\":\"272.52\",\"margin\":[5,10,5,10],\"min_width\":60,\"subscribed_events\":[\"button_click\"],\"width\":60},\"id\":\"3627\",\"type\":\"Button\"}],\"root_ids\":[\"3602\",\"3639\"]},\"title\":\"Bokeh Application\",\"version\":\"2.4.3\"}};\n",
       "    var render_items = [{\"docid\":\"1b73c467-9b7e-4e8d-9bdb-03eff095f23b\",\"root_ids\":[\"3602\"],\"roots\":{\"3602\":\"dec58f1b-8b74-464e-9c97-b068bbb3bdd6\"}}];\n",
       "    root.Bokeh.embed.embed_items_notebook(docs_json, render_items);\n",
       "  }\n",
       "  if (root.Bokeh !== undefined && root.Bokeh.Panel !== undefined) {\n",
       "    embed_document(root);\n",
       "  } else {\n",
       "    var attempts = 0;\n",
       "    var timer = setInterval(function(root) {\n",
       "      if (root.Bokeh !== undefined && root.Bokeh.Panel !== undefined) {\n",
       "        clearInterval(timer);\n",
       "        embed_document(root);\n",
       "      } else if (document.readyState == \"complete\") {\n",
       "        attempts++;\n",
       "        if (attempts > 200) {\n",
       "          clearInterval(timer);\n",
       "          console.log(\"Bokeh: ERROR: Unable to run BokehJS code because BokehJS library is missing\");\n",
       "        }\n",
       "      }\n",
       "    }, 25, root)\n",
       "  }\n",
       "})(window);</script>"
      ],
      "text/plain": [
       "Column\n",
       "    [0] Markdown(str)\n",
       "    [1] Row\n",
       "        [0] Column\n",
       "            [0] Button(button_type='primary', name='0.25', width=60)\n",
       "        [1] Column\n",
       "            [0] Audio(str)\n",
       "        [2] Column\n",
       "            [0] StaticText(height_policy='fit', value=\"A friend offered t..., width=1000)\n",
       "    [2] Row\n",
       "        [0] Column\n",
       "            [0] Button(button_type='primary', name='57.73', width=60)\n",
       "        [1] Column\n",
       "            [0] Audio(str, time=58)\n",
       "        [2] Column\n",
       "            [0] StaticText(height_policy='fit', value=\"Python is more popular th..., width=1000)\n",
       "    [3] Row\n",
       "        [0] Column\n",
       "            [0] Button(button_type='primary', name='129.01', width=60)\n",
       "        [1] Column\n",
       "            [0] Audio(str, time=129)\n",
       "        [2] Column\n",
       "            [0] StaticText(height_policy='fit', value='After choosing Python as ..., width=1000)\n",
       "    [4] Row\n",
       "        [0] Column\n",
       "            [0] Button(button_type='primary', name='272.52', width=60)\n",
       "        [1] Column\n",
       "            [0] Audio(str, time=273)\n",
       "        [2] Column\n",
       "            [0] StaticText(height_policy='fit', value=\"There's a common misconce..., width=1000)\n",
       "    [5] Row\n",
       "        [0] Column\n",
       "            [0] Button(button_type='primary', name='522.46', width=60)\n",
       "        [1] Column\n",
       "            [0] Audio(str, time=522)\n",
       "        [2] Column\n",
       "            [0] StaticText(height_policy='fit', value='After learning the basics..., width=1000)"
      ]
     },
     "execution_count": 99,
     "metadata": {
      "application/vnd.holoviews_exec.v0+json": {
       "id": "3602"
      }
     },
     "output_type": "execute_result"
    }
   ],
   "source": [
    "chapters_layout"
   ]
  },
  {
   "cell_type": "markdown",
   "id": "c9e0c3d6-1bc0-4a8f-b36b-6075fff21441",
   "metadata": {},
   "source": [
    "## Dashboard"
   ]
  },
  {
   "cell_type": "code",
   "execution_count": 107,
   "id": "78728322-b371-456c-b068-eee02c789053",
   "metadata": {},
   "outputs": [
    {
     "name": "stderr",
     "output_type": "stream",
     "text": [
      "WARNING:param.ParamFunction02233: The function supplied for Panel to display was declared with `watch=True`, which will cause the function to be called twice for any change in a dependent Parameter. `watch` should be False when Panel is responsible for displaying the result of the function call, while `watch=True` should be reserved for functions that work via side-effects, e.g. by modifying internal state of a class or global state in an application's namespace.\n",
      "WARNING:param.Row02240: Setting non-parameter attribute title=WordCloud of Speech Content using a mechanism intended only for parameters\n",
      "WARNING:param.Row02249: Setting non-parameter attribute title=Automatic Highlights using a mechanism intended only for parameters\n"
     ]
    },
    {
     "name": "stdout",
     "output_type": "stream",
     "text": [
      "Launching server at http://localhost:64142\n"
     ]
    },
    {
     "data": {
      "text/plain": [
       "<bokeh.server.server.Server at 0x14c8ab5e0>"
      ]
     },
     "execution_count": 107,
     "metadata": {},
     "output_type": "execute_result"
    }
   ],
   "source": [
    "# Dashboard template\n",
    "template = pn.template.FastListTemplate(\n",
    "    title='Audio Content Explorer', \n",
    "    sidebar=[pn.pane.Markdown(\"# Explore audio content\"), \n",
    "             pn.pane.Markdown(\"#### This app analyzes the content of your audio file, including sentiment, wordcloud, automatic content summary and highlights.\"),\n",
    "             pn.pane.Markdown(\"#### This app analyzes the content of your audio file, including sentiment, wordcloud, automatic content summary and highlights.\"),\n",
    "             pn.pane.Markdown(\"### Download transcript\"),\n",
    "             transcript_download\n",
    "             ],\n",
    "    main=[pn.Row(pn.Column(sentiment_tabs), pn.Column(pn.Row(controller.param.word_slider), \n",
    "                                                      pn.Row(update_wordcloud, title = \"WordCloud of Speech Content\"))\n",
    "                ),\n",
    "          pn.Row(chapters_layout),\n",
    "          pn.Row(highlights_plot, title = \"Automatic Highlights\")],\n",
    "    accent_base_color=\"#88d8b0\",\n",
    "    header_background=\"#88d8b0\",\n",
    ")\n",
    "\n",
    "template.show()"
   ]
  },
  {
   "cell_type": "code",
   "execution_count": null,
   "id": "2bd17df7-1c34-47d9-82e5-9cbe9f43bb50",
   "metadata": {
    "tags": []
   },
   "outputs": [],
   "source": []
  }
 ],
 "metadata": {
  "kernelspec": {
   "display_name": "Python 3 (ipykernel)",
   "language": "python",
   "name": "python3"
  },
  "language_info": {
   "codemirror_mode": {
    "name": "ipython",
    "version": 3
   },
   "file_extension": ".py",
   "mimetype": "text/x-python",
   "name": "python",
   "nbconvert_exporter": "python",
   "pygments_lexer": "ipython3",
   "version": "3.9.10"
  }
 },
 "nbformat": 4,
 "nbformat_minor": 5
}
